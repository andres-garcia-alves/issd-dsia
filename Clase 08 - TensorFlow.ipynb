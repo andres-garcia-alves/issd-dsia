{
  "nbformat": 4,
  "nbformat_minor": 0,
  "metadata": {
    "colab": {
      "provenance": []
    },
    "kernelspec": {
      "name": "python3",
      "display_name": "Python 3"
    },
    "language_info": {
      "name": "python"
    }
  },
  "cells": [
    {
      "cell_type": "markdown",
      "source": [
        "### Ejemplo 01"
      ],
      "metadata": {
        "id": "uCktAxzpPofZ"
      }
    },
    {
      "cell_type": "code",
      "execution_count": 1,
      "metadata": {
        "colab": {
          "base_uri": "https://localhost:8080/"
        },
        "id": "l0KTQi33Pawy",
        "outputId": "ca17a61e-0c32-4f07-f986-54f2008d446d"
      },
      "outputs": [
        {
          "output_type": "stream",
          "name": "stdout",
          "text": [
            "Resultado: 8\n"
          ]
        }
      ],
      "source": [
        "import tensorflow as tf\n",
        "\n",
        "# Crear tensores\n",
        "a = tf.constant(5)\n",
        "b = tf.constant(3)\n",
        "suma = a + b\n",
        "\n",
        "print(\"Resultado:\", suma.numpy())   # Output: 8"
      ]
    },
    {
      "cell_type": "markdown",
      "source": [
        "### Ejemplo 02"
      ],
      "metadata": {
        "id": "Z-wyhP_7Pxei"
      }
    },
    {
      "cell_type": "code",
      "source": [
        "import tensorflow as tf\n",
        "import numpy as np\n",
        "\n",
        "# Datos de ejemplo (X: horas de estudio, y: calificación)\n",
        "X = np.array([1, 2, 3, 4, 5], dtype=float)\n",
        "y = np.array([2, 4, 6, 8, 10], dtype=float)\n",
        "\n",
        "# Modelo secuencial\n",
        "modelo = tf.keras.Sequential([\n",
        "tf.keras.layers.Dense(units=1, input_shape=[1])])\n",
        "\n",
        "# Compilar el modelo\n",
        "modelo.compile(optimizer='sgd', loss='mean_squared_error')\n",
        "\n",
        "# Entrenar\n",
        "modelo.fit(X, y, epochs=100)"
      ],
      "metadata": {
        "collapsed": true,
        "id": "9Cpsshf6Pyl2"
      },
      "execution_count": null,
      "outputs": []
    },
    {
      "cell_type": "code",
      "source": [
        "# Predecir\n",
        "prediccion = modelo.predict(np.array([6]))\n",
        "print(\"Predicción para 6 horas:\", prediccion)   # Debería ser ~12"
      ],
      "metadata": {
        "id": "Q-fqCtlIQ1qQ"
      },
      "execution_count": null,
      "outputs": []
    },
    {
      "cell_type": "markdown",
      "source": [
        "### Ejemplo 03"
      ],
      "metadata": {
        "id": "1A6esWW4P62N"
      }
    },
    {
      "cell_type": "code",
      "source": [
        "import tensorflow as tf\n",
        "\n",
        "mnist = tf.keras.datasets.mnist\n",
        "(X_train, y_train), (X_test, y_test) = mnist.load_data()\n",
        "X_train, X_test = X_train / 255.0, X_test / 255.0   # Normalizar\n",
        "\n",
        "modelo_clasificacion = tf.keras.Sequential([\n",
        "  tf.keras.layers.Flatten(input_shape=(28, 28)),    # Aplanar imagen 28x28\n",
        "  tf.keras.layers.Dense(128, activation='relu'),\n",
        "  tf.keras.layers.Dropout(0.2),                     # Evitar sobreajuste\n",
        "  tf.keras.layers.Dense(10, activation='softmax')   # 10 clases (0-9)\n",
        "])\n",
        "\n",
        "modelo_clasificacion.compile(optimizer='adam', loss='sparse_categorical_crossentropy', metrics=['accuracy'])\n",
        "modelo_clasificacion.fit(X_train, y_train, epochs=5)"
      ],
      "metadata": {
        "id": "-sIxtZ_BP5uO"
      },
      "execution_count": null,
      "outputs": []
    },
    {
      "cell_type": "code",
      "source": [
        "loss, accuracy = modelo_clasificacion.evaluate(X_test, y_test)\n",
        "print(f\"Precisión en test: {accuracy*100:.2f}%\")    # ~98% en MNIST"
      ],
      "metadata": {
        "id": "RQCrmBlsQ5Hx"
      },
      "execution_count": null,
      "outputs": []
    },
    {
      "cell_type": "markdown",
      "source": [
        "### Ejemplo 04"
      ],
      "metadata": {
        "id": "d7nZninIQAgS"
      }
    },
    {
      "cell_type": "code",
      "source": [
        "import tensorflow as tf\n",
        "from sklearn.datasets import fetch_california_housing\n",
        "from sklearn.model_selection import train_test_split\n",
        "\n",
        "# Cargar el dataset de California Housing\n",
        "housing = fetch_california_housing()\n",
        "X, y = housing.data, housing.target\n",
        "\n",
        "# Dividir los datos en conjuntos de entrenamiento y prueba\n",
        "X_train, X_test, y_train, y_test = train_test_split(X, y, test_size=0.2, random_state=42)\n",
        "\n",
        "modelo_regresion = tf.keras.Sequential([\n",
        "  tf.keras.layers.Dense(64, activation='relu', input_shape=[X_train.shape[1]]),\n",
        "  tf.keras.layers.Dense(1)    # Capa de salida para regresión\n",
        "])\n",
        "\n",
        "modelo_regresion.compile(optimizer='adam', loss='mse')\n",
        "\n",
        "# Guardar el mejor modelo durante el entrenamiento\n",
        "checkpoint = tf.keras.callbacks.ModelCheckpoint('mejor_modelo.h5', save_best_only=True, monitor='val_loss')\n",
        "\n",
        "# Entrenar el modelo con validación\n",
        "modelo_regresion.fit(X_train, y_train, epochs=100, validation_split=0.2, callbacks=[checkpoint])"
      ],
      "metadata": {
        "id": "COB7jSzeQCs3"
      },
      "execution_count": null,
      "outputs": []
    },
    {
      "cell_type": "code",
      "source": [
        "# Evaluar el modelo en el conjunto de prueba\n",
        "loss = modelo_regresion.evaluate(X_test, y_test)\n",
        "print(f\"Loss en test: {loss:.4f}\")"
      ],
      "metadata": {
        "colab": {
          "base_uri": "https://localhost:8080/"
        },
        "id": "YVzsn8CaRF-l",
        "outputId": "8d0c9e45-e032-483d-b55f-3507517e5558"
      },
      "execution_count": 7,
      "outputs": [
        {
          "output_type": "stream",
          "name": "stdout",
          "text": [
            "\u001b[1m129/129\u001b[0m \u001b[32m━━━━━━━━━━━━━━━━━━━━\u001b[0m\u001b[37m\u001b[0m \u001b[1m0s\u001b[0m 1ms/step - loss: 0.5864\n",
            "Loss en test: 0.5941\n"
          ]
        }
      ]
    }
  ]
}