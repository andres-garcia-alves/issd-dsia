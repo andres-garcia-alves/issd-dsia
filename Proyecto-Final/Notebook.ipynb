{
  "nbformat": 4,
  "nbformat_minor": 0,
  "metadata": {
    "colab": {
      "provenance": [],
      "collapsed_sections": [
        "FFttqF75OmMY",
        "oM9ObCAgUCWM",
        "XvwKbYIcI2lR",
        "OgppmxMSI6dZ",
        "wAZREy5tI9Jw",
        "NQRd-PBrI_pa",
        "TbEAueIWJF2Y",
        "4la0DEpXJZ2s",
        "gTifgevrIBM3",
        "ifM3BEK6Vbux",
        "CuliC-pFJlzk",
        "JFEh8D0_XDmW",
        "nfnO77-9XBKO",
        "Hd2fQB91W8CT",
        "HvZ55dcH3rDN",
        "hXn4SgF2W-mT",
        "FsMmiHl1JqNT",
        "NoXSsTvwysL0",
        "ygBnUUr1zxHw",
        "1w8CEzZROFQ6",
        "1a-SgS_aOLUh",
        "Wfa0BVLmOWAy",
        "NfrZYX_hOcKl",
        "hhnZuh2WPFcb",
        "uXQ7ZoP6PJ1w",
        "zpzTEH2MaVUl",
        "vrGflOjuPhx_",
        "5HD8yKY1I7-U",
        "OkiAP_UTPwdy",
        "ZD59wbQgLdEu",
        "B1JuKc2xPzpX",
        "16-bBJZEP4WS",
        "ti_hW_XEQhJk",
        "XG_X58AKQmYW",
        "zGVR3If6QwWN",
        "SRZzJeq0RbGv",
        "kaHhc5t4ccqC",
        "sVurSm1coBGS",
        "9IwD-FwAq2WI",
        "JwSm5XjYoGP_"
      ]
    },
    "kernelspec": {
      "name": "python3",
      "display_name": "Python 3"
    },
    "language_info": {
      "name": "python"
    }
  },
  "cells": [
    {
      "cell_type": "markdown",
      "source": [
        "> #### **ISSD - Desarrollo de Sistemas de Inteligencia Artificial**  \n",
        "> Profesor: Sachi, Julio Mariano  \n",
        "> Alumno: Garcia Alves, Andrés\n"
      ],
      "metadata": {
        "id": "1ApZE6SjJ8Qf"
      }
    },
    {
      "cell_type": "markdown",
      "source": [
        "> GitHub: &nbsp;&nbsp;&nbsp;&nbsp;&nbsp;&nbsp; https://github.com/andres-garcia-alves/issd-dsia/tree/main/Proyecto-Final  \n",
        "> Notebook: &nbsp; https://colab.research.google.com/drive/1pd5cmNriSxK3FQSHNF0YwUbl6c4cecE0?usp=sharing  \n",
        "> Deploy: &nbsp;&nbsp;&nbsp;&nbsp;&nbsp;&nbsp; https://issd-dsia-andres-garcia-alves.streamlit.app/\n"
      ],
      "metadata": {
        "id": "FQYj3R3WG_PF"
      }
    },
    {
      "cell_type": "markdown",
      "source": [
        "## ⭐ Proyecto: Agente de Búsqueda Inteligente en Tableros con Costos"
      ],
      "metadata": {
        "id": "kFxBmkb4J32Q"
      }
    },
    {
      "cell_type": "markdown",
      "source": [
        "## 💡 Parte 1 - Introducción"
      ],
      "metadata": {
        "id": "FFttqF75OmMY"
      }
    },
    {
      "cell_type": "markdown",
      "source": [
        "### 💬 1.1. Descripción resumida\n",
        "\n",
        "Busco implementar un mini sistema de GPS. 🧭\n",
        "\n",
        "Para ello, un agente inteligente buscará en un tablero generado de forma aleatoria la ruta óptima.\n",
        "\n",
        "El sistema se compone de 2 bloques principales:\n",
        "- Distintos algoritmos de búsqueda (informada y no-informada)\n",
        "- Una red neuronal que elige el algoritmo de búsqueda más eficiente para un tablero dado.\n",
        "\n",
        "Conecto de esta manera los 2 temas principales de la materia, a saber: algoritmos de búsqueda y machine learning."
      ],
      "metadata": {
        "id": "WAF3DxjoNmg7"
      }
    },
    {
      "cell_type": "markdown",
      "source": [
        "### 🧩 1.2. Descripción general\n",
        "\n",
        "Un agente debe desplazarse desde una celda inicial hasta una celda objetivo en el tablero (una grilla) que se genera aleatoriamente, y de dimensiones variables (ej. 4×4, 5x5, 6×6, 8×8, etc).\n",
        "\n",
        "Cada celda tiene un costo distinto de movimiento (1, 2 o 3). Un costo de 1 viene a ser el costo 'normal' de movimiento, luego los costos mayores a 1 simulan ya sean caminos rurales o embotellamientos de tránsito.\n",
        "El agente debe encontrar la ruta de menor costo total.\n",
        "\n",
        "Se implementaran distintos algoritmos de búsqueda (BFS, UCS, A*, Greedy), y luego una red neuronal aprenderá a predecir cuál de ellos es el más eficiente (por tiempo y/o costo total) según las características del tablero recibido."
      ],
      "metadata": {
        "id": "l-L7x99qLlz2"
      }
    },
    {
      "cell_type": "markdown",
      "source": [
        "### ⚙️ 1.3. Descripción técnica\n",
        "\n",
        "Se dispone de un entorno tipo grilla/laberinto (por ejemplo 4x4, 6x6, etc) donde un agente busca la salida minimizando el costo total de movimiento, con casillas que pueden tener distintos pesos (costos).\n",
        "\n",
        "Se implementan distintos algoritmos de búsqueda informada/no-informada:\n",
        "- BFS (búsqueda a lo ancho)\n",
        "- UCS (Uniform Cost Search)\n",
        "- Greedy Best-First Search\n",
        "- A* (con heurística de distancia Manhattan)\n",
        "\n",
        "Luego, se agrega una red neuronal (en TensorFlow/Keras) para predecir cuál algoritmo de búsqueda conviene aplicar, dadas ciertas características del tablero (dimensión, cantidad y distribución de obstáculos, sus costos, etc).\n",
        "\n",
        "Para entrenar la red neuronal se generá un dataset sintético con tableros de múltiples tamaños y disposiciones aleatorias.  \n",
        "Para ello, se reutilizan los algoritmos de búsqueda disponibles en el sistema, bajo el siguiente esquema:\n",
        "- Generar un tablero de tamaño y disposición aleatoria\n",
        "- Pasar el tablero generado por cada uno de los algoritmos de búsqueda disponibles\n",
        "- Evaluar y guardar métricas de desempeño de cada algoritmo en el tablero actual\n",
        "- Repetir N veces los pasos previos en distintos tableros, hasta generar suficientes datos de entrenamiento.\n",
        "\n",
        "La red neuronal estará resolviendo un problema de clasificación: de los datos guardados, las columnas con las métricas serán los features para el entrenamiento, y la columna que identifica al algoritmo que generó esas métricas el target."
      ],
      "metadata": {
        "id": "nTboeIhzbsEg"
      }
    },
    {
      "cell_type": "markdown",
      "source": [
        "### 🏗️ 1.4. Estructura general del Proyecto\n",
        "\n",
        "📘 Proyecto_Final.ipynb  \n",
        "│  \n",
        "├── 1. Generación de tableros sintéticos  \n",
        "├── 2. Implementación de algoritmos de búsqueda  \n",
        "├── 3. Creación del dataset (features + etiqueta)  \n",
        "├── 4. Análisis exploratorio (EDA)  \n",
        "├── 5. Preprocesamiento de datos  \n",
        "├── 6. Red Neuronal (TensorFlow/Keras)  \n",
        "├── 7. Evaluación y métricas  \n",
        "└── 8. Conclusiones  \n",
        "&nbsp;"
      ],
      "metadata": {
        "id": "Hj-T8czTLsHL"
      }
    },
    {
      "cell_type": "markdown",
      "source": [
        "### 🔍 1.5. Implementación de los algoritmos de búsqueda\n",
        "\n",
        "Se implementan versiones simples de:\n",
        "* BFS (Breadth-First Search) → ignora pesos (ideal para comparar).\n",
        "* Uniform Cost Search (Dijkstra)\n",
        "* Greedy Best-First Search → con heurística de distancia Manhattan.\n",
        "* A* → heurística + costo acumulado.\n",
        "\n",
        "Cada algoritmo retorna las siguiente métricas:\n",
        "* costo_total\n",
        "* nodos_expandidos\n",
        "* tiempo_ejecucion\n",
        "\n",
        "Con estas métricas se evalúan y comparan luego sus rendimientos."
      ],
      "metadata": {
        "id": "ka0oeuZQMEm9"
      }
    },
    {
      "cell_type": "markdown",
      "source": [
        "### 🧮 1.6. Creación del dataset\n",
        "\n",
        "Por cada tablero:\n",
        "* Probarlo en los 4 algoritmos.\n",
        "* Calcular y guardar en una fila:\n",
        "  - tamaño\n",
        "  - costo_promedio\n",
        "  - varianza_costos\n",
        "  - densidad_costo_alto\n",
        "  - mejor_algoritmo"
      ],
      "metadata": {
        "id": "cuUlfYTxMT_i"
      }
    },
    {
      "cell_type": "markdown",
      "source": [
        "### 📈 1.7. Análisis Exploratorio (EDA)\n",
        "\n",
        "Se utiliza Matplotlib y Seaborn para visualizar:\n",
        "* Distribución de tamaños de tablero.\n",
        "* Relación entre costo promedio y algoritmo óptimo.\n",
        "* Frecuencia de cada algoritmo como \"óptimo\"."
      ],
      "metadata": {
        "id": "Hk5dlRBOMuFC"
      }
    },
    {
      "cell_type": "markdown",
      "source": [
        "### 🪚 1.8. Preprocesamiento de datos\n",
        "\n",
        "* Chequeo de duplicados\n",
        "* Chequeo de nulos\n",
        "* Convertir etiquetas (nombre del algoritmo) a numéricas (LabelEncoder).\n",
        "* Normalizar variables numéricas (StandardScaler)"
      ],
      "metadata": {
        "id": "wDHwgR09M3kp"
      }
    },
    {
      "cell_type": "markdown",
      "source": [
        "### 🧠 1.9. Red neuronal en TensorFlow/Keras\n",
        "\n",
        "* Un modelo simple de clasificación multiclase, una por cada algoritmo de búsqueda.\n"
      ],
      "metadata": {
        "id": "7sE8_CUpM971"
      }
    },
    {
      "cell_type": "markdown",
      "source": [
        "### 📝 1.10. Evaluación y métricas\n",
        "\n",
        "Se incluirán:\n",
        "* Exactitud (accuracy)\n",
        "* Matriz de confusión\n",
        "* Reporte de clasificación"
      ],
      "metadata": {
        "id": "l6dX3eiGNF7h"
      }
    },
    {
      "cell_type": "markdown",
      "source": [
        "### 🛠️ 1.11. Bibliotecas utilizadas\n",
        "\n",
        "| Propósito                          | Librería(s)                    |\n",
        "| ---------------------------------- | ------------------------------ |\n",
        "| Generación y manipulación de datos | `numpy`, `pandas`              |\n",
        "| Visualización                      | `matplotlib`, `seaborn`, `PIL` |\n",
        "| Implementación de búsquedas        | `heapq` (para UCS y A*)        |\n",
        "| Red neuronal                       | `tensorflow.keras`, `pickle`   |\n",
        "| Preprocesamiento                   | `sklearn`                      |\n",
        "| Miscelaneas                        | `time`, `random`, `tqdm`, `urllib` |\n",
        "\n",
        "<br/>"
      ],
      "metadata": {
        "id": "tNs1FFPYNafL"
      }
    },
    {
      "cell_type": "markdown",
      "source": [
        "### 🧾 1.12. Estructura del Informe Final\n",
        "\n",
        "| Sección                 | Contenido resumido |\n",
        "| ----------------------- | -------------------|\n",
        "| **Introducción**        | Explicación del problema del agente en el tablero. |\n",
        "|                         | Justificación del interés (búsqueda inteligente, optimización de recursos). |\n",
        "| **Metodología**         | Bibliotecas usadas (`numpy`, `pandas`, `matplotlib`, `tensorflow`, `sklearn`) |\n",
        "|                         | Descripción del proceso de generación de tableros y entrenamiento. |\n",
        "| **Resultados**          | Tablas y gráficos de rendimiento del modelo. |\n",
        "|                         | Ejemplos de tableros y caminos. |\n",
        "| **Análisis conceptual** | Relación entre búsqueda heurística y optimización del modelo neuronal. |\n",
        "| **Conclusión**          | Observaciones y posibles mejoras (ej. tableros más grandes, más algoritmos, etc). |\n",
        "\n",
        "<br/>\n",
        "<br/>"
      ],
      "metadata": {
        "id": "SZfyuA2mNVXx"
      }
    },
    {
      "cell_type": "markdown",
      "source": [
        "## 📊 Parte 2 - Dataset Sintético y Algoritmos de Búsqueda"
      ],
      "metadata": {
        "id": "oM9ObCAgUCWM"
      }
    },
    {
      "cell_type": "markdown",
      "source": [
        "### 📚 2.1. Bibliotecas necesarias"
      ],
      "metadata": {
        "id": "XvwKbYIcI2lR"
      }
    },
    {
      "cell_type": "code",
      "execution_count": 1,
      "metadata": {
        "colab": {
          "base_uri": "https://localhost:8080/"
        },
        "collapsed": true,
        "id": "bEKhewXgISOA",
        "outputId": "63ea6531-ab1b-48b9-9400-55eb416aafb3"
      },
      "outputs": [
        {
          "output_type": "stream",
          "name": "stdout",
          "text": [
            "Requirement already satisfied: numpy in /usr/local/lib/python3.12/dist-packages (2.0.2)\n",
            "Requirement already satisfied: pandas in /usr/local/lib/python3.12/dist-packages (2.2.2)\n",
            "Requirement already satisfied: matplotlib in /usr/local/lib/python3.12/dist-packages (3.10.0)\n",
            "Requirement already satisfied: seaborn in /usr/local/lib/python3.12/dist-packages (0.13.2)\n",
            "Requirement already satisfied: python-dateutil>=2.8.2 in /usr/local/lib/python3.12/dist-packages (from pandas) (2.9.0.post0)\n",
            "Requirement already satisfied: pytz>=2020.1 in /usr/local/lib/python3.12/dist-packages (from pandas) (2025.2)\n",
            "Requirement already satisfied: tzdata>=2022.7 in /usr/local/lib/python3.12/dist-packages (from pandas) (2025.2)\n",
            "Requirement already satisfied: contourpy>=1.0.1 in /usr/local/lib/python3.12/dist-packages (from matplotlib) (1.3.3)\n",
            "Requirement already satisfied: cycler>=0.10 in /usr/local/lib/python3.12/dist-packages (from matplotlib) (0.12.1)\n",
            "Requirement already satisfied: fonttools>=4.22.0 in /usr/local/lib/python3.12/dist-packages (from matplotlib) (4.60.1)\n",
            "Requirement already satisfied: kiwisolver>=1.3.1 in /usr/local/lib/python3.12/dist-packages (from matplotlib) (1.4.9)\n",
            "Requirement already satisfied: packaging>=20.0 in /usr/local/lib/python3.12/dist-packages (from matplotlib) (25.0)\n",
            "Requirement already satisfied: pillow>=8 in /usr/local/lib/python3.12/dist-packages (from matplotlib) (11.3.0)\n",
            "Requirement already satisfied: pyparsing>=2.3.1 in /usr/local/lib/python3.12/dist-packages (from matplotlib) (3.2.5)\n",
            "Requirement already satisfied: six>=1.5 in /usr/local/lib/python3.12/dist-packages (from python-dateutil>=2.8.2->pandas) (1.17.0)\n"
          ]
        }
      ],
      "source": [
        "!pip install numpy pandas matplotlib seaborn"
      ]
    },
    {
      "cell_type": "markdown",
      "source": [
        "### 🧩 2.2. Importaciones y configuración inicial"
      ],
      "metadata": {
        "id": "OgppmxMSI6dZ"
      }
    },
    {
      "cell_type": "code",
      "source": [
        "import numpy as np\n",
        "import pandas as pd\n",
        "import time\n",
        "import random\n",
        "import heapq\n",
        "from collections import deque\n",
        "from tqdm import tqdm  # barra de progreso"
      ],
      "metadata": {
        "id": "tpIz30CtIiVS"
      },
      "execution_count": 2,
      "outputs": []
    },
    {
      "cell_type": "markdown",
      "source": [
        "### 🧱 2.3. Generación de tableros sintéticos"
      ],
      "metadata": {
        "id": "wAZREy5tI9Jw"
      }
    },
    {
      "cell_type": "markdown",
      "source": [
        "Cada tablero tiene:\n",
        "- Tamaño variable (4x4 hasta 8x8).\n",
        "- Celdas con costos 1, 2 o 3.\n",
        "- Inicio (posición: 0,0), Meta (posición: n-1,n-1).\n"
      ],
      "metadata": {
        "id": "pOcUMmwdzcew"
      }
    },
    {
      "cell_type": "code",
      "source": [
        "# Generar un tablero de NxN con costos 1, 2 o 3\n",
        "def generar_tablero(n=6):\n",
        "  tablero = np.random.choice([1, 2, 3], size=(n, n), p=[0.6, 0.3, 0.1])\n",
        "  tablero[0,0] = 0    # costo en la celda de inicio\n",
        "  tablero[-1,-1] = 1  # costo en la celda final\n",
        "  return tablero"
      ],
      "metadata": {
        "id": "P8kVcZprIqBC"
      },
      "execution_count": 3,
      "outputs": []
    },
    {
      "cell_type": "code",
      "source": [
        "tablero = generar_tablero(6)\n",
        "print(tablero)"
      ],
      "metadata": {
        "colab": {
          "base_uri": "https://localhost:8080/"
        },
        "id": "VaGvdgBJIuz1",
        "outputId": "db3f7e58-8bbe-4ded-8494-bc0f3ad03cd6"
      },
      "execution_count": 4,
      "outputs": [
        {
          "output_type": "stream",
          "name": "stdout",
          "text": [
            "[[0 1 1 1 1 3]\n",
            " [2 1 1 1 1 1]\n",
            " [1 1 2 3 2 1]\n",
            " [2 3 1 2 1 3]\n",
            " [1 1 1 2 1 3]\n",
            " [1 3 2 2 3 1]]\n"
          ]
        }
      ]
    },
    {
      "cell_type": "markdown",
      "source": [
        "### 🚶 2.4. Movimiento y Heurística"
      ],
      "metadata": {
        "id": "NQRd-PBrI_pa"
      }
    },
    {
      "cell_type": "code",
      "source": [
        "# Devuelve los vecinos válidos (arriba, abajo, izquierda, derecha)\n",
        "def vecinos(pos, n):\n",
        "    x, y = pos\n",
        "    movs = [(x+1, y), (x-1, y), (x, y+1), (x, y-1)]\n",
        "    return [(nx, ny) for nx, ny in movs if 0 <= nx < n and 0 <= ny < n]"
      ],
      "metadata": {
        "id": "fGxYnU4XIzyt"
      },
      "execution_count": 5,
      "outputs": []
    },
    {
      "cell_type": "code",
      "source": [
        "# Se utiliza la distancia Manhattan para la Heurística\n",
        "def heuristica(a, b):\n",
        "    return abs(a[0] - b[0]) + abs(a[1] - b[1])"
      ],
      "metadata": {
        "id": "ByabnR3nfRuR"
      },
      "execution_count": 6,
      "outputs": []
    },
    {
      "cell_type": "markdown",
      "source": [
        "### 🔍 2.5. Algoritmo BFS (búsqueda en anchura)"
      ],
      "metadata": {
        "id": "TbEAueIWJF2Y"
      }
    },
    {
      "cell_type": "code",
      "source": [
        "# BFS (versión simple que no considera pesos)\n",
        "def busqueda_bfs(tablero):\n",
        "    timespan = time.time()\n",
        "    n = tablero.shape[0]\n",
        "    start, goal = (0, 0), (n-1, n-1)\n",
        "    cola = [(start, [start])]\n",
        "    visitados = set()\n",
        "    nodos_exp = 0\n",
        "\n",
        "    while cola:\n",
        "        actual, camino = cola.pop(0)\n",
        "        if actual in visitados: continue\n",
        "        visitados.add(actual)\n",
        "        nodos_exp += 1\n",
        "\n",
        "        if actual == goal:\n",
        "            costo_total = sum(tablero[x, y] for x, y in camino)\n",
        "            timespan = time.time() - timespan\n",
        "            return costo_total, nodos_exp, timespan, camino\n",
        "\n",
        "        for nx, ny in vecinos(actual, n):\n",
        "            if (nx, ny) not in visitados:\n",
        "                cola.append(((nx, ny), camino + [(nx, ny)]))\n",
        "\n",
        "    timespan = time.time() - timespan\n",
        "    return np.inf, nodos_exp, timespan, []"
      ],
      "metadata": {
        "id": "n062jTEwJE-P"
      },
      "execution_count": 7,
      "outputs": []
    },
    {
      "cell_type": "markdown",
      "source": [
        "### 🔍 2.6. Algoritmo A* (A estrella)"
      ],
      "metadata": {
        "id": "4la0DEpXJZ2s"
      }
    },
    {
      "cell_type": "code",
      "source": [
        "# Búsqueda A estrella\n",
        "def busqueda_a_star(tablero):\n",
        "    timespan = time.time()\n",
        "    n = tablero.shape[0]\n",
        "    start, goal = (0, 0), (n - 1, n - 1)\n",
        "    open_set = [(heuristica(start, goal), 0, start, [start])]\n",
        "    visitados = set()\n",
        "    nodos_exp = 0\n",
        "\n",
        "    while open_set:\n",
        "        _, costo_actual, actual, camino = heapq.heappop(open_set)\n",
        "\n",
        "        if actual in visitados: continue\n",
        "        visitados.add(actual)\n",
        "        nodos_exp += 1\n",
        "\n",
        "        if actual == goal:\n",
        "            timespan = time.time() - timespan\n",
        "            return costo_actual + tablero[goal], nodos_exp, timespan, camino + [goal]\n",
        "\n",
        "        for nx, ny in vecinos(actual, n):\n",
        "            if (nx, ny) not in visitados:\n",
        "                nuevo_costo = costo_actual + tablero[nx, ny]\n",
        "                f = nuevo_costo + heuristica((nx, ny), goal)\n",
        "                heapq.heappush(open_set, (f, nuevo_costo, (nx, ny), camino + [(nx, ny)]))\n",
        "\n",
        "    timespan = time.time() - timespan\n",
        "    return np.inf, nodos_exp, timespan, []"
      ],
      "metadata": {
        "id": "pf61ux_8JdEh"
      },
      "execution_count": 8,
      "outputs": []
    },
    {
      "cell_type": "markdown",
      "source": [
        "### 🔍 2.7. Algoritmos A*, UCS y Greedy"
      ],
      "metadata": {
        "id": "gTifgevrIBM3"
      }
    },
    {
      "cell_type": "code",
      "source": [
        "# Búsqueda genérica con cola de prioridad (UCS / Greedy / A*)\n",
        "def busqueda_generica(tablero, algoritmo=\"A*\"):\n",
        "    timespan = time.time()\n",
        "    n = len(tablero)\n",
        "    start, goal = (0,0), (n-1,n-1)\n",
        "    movimientos = [(0,1),(1,0),(-1,0),(0,-1)]\n",
        "\n",
        "    open_list = []\n",
        "    heapq.heappush(open_list, (0, start, [start]))\n",
        "    cost_so_far = {start: 0}\n",
        "    nodos_exp = 0\n",
        "\n",
        "    while open_list:\n",
        "        prioridad, actual, camino = heapq.heappop(open_list)\n",
        "        nodos_exp += 1\n",
        "\n",
        "        # si se llegó a la meta, devolver el costo, nodos, tiempo y el camino completo\n",
        "        if actual == goal:\n",
        "            timespan = time.time() - timespan\n",
        "            return cost_so_far.get(goal, np.inf), nodos_exp, timespan, camino\n",
        "\n",
        "        for dx, dy in movimientos:\n",
        "            nx, ny = actual[0] + dx, actual[1] + dy\n",
        "            if 0 <= nx < n and 0 <= ny < n:\n",
        "                nuevo = (nx, ny)\n",
        "                nuevo_costo = cost_so_far[actual] + tablero[nx, ny]\n",
        "\n",
        "                # actualizar si se encontró un mejor costo\n",
        "                if nuevo not in cost_so_far or nuevo_costo < cost_so_far[nuevo]:\n",
        "                    cost_so_far[nuevo] = nuevo_costo\n",
        "\n",
        "                    # calcular prioridad según el algoritmo\n",
        "                    if algoritmo == \"UCS\":\n",
        "                        prioridad_nuevo = nuevo_costo\n",
        "                    elif algoritmo == \"Greedy\":\n",
        "                        prioridad_nuevo = heuristica(nuevo, goal)\n",
        "                    elif algoritmo == \"A*\":\n",
        "                        prioridad_nuevo = nuevo_costo + heuristica(nuevo, goal)\n",
        "                    else:\n",
        "                        raise ValueError(f\"Estrategia desconocida: {algoritmo}\")\n",
        "\n",
        "                    # insertar en la heap con el camino actualizado (incluye start)\n",
        "                    heapq.heappush(open_list, (prioridad_nuevo, nuevo, camino + [nuevo]))\n",
        "\n",
        "    timespan = time.time() - timespan\n",
        "    return np.inf, nodos_exp, timespan, []"
      ],
      "metadata": {
        "id": "19UalsiimbuY"
      },
      "execution_count": 9,
      "outputs": []
    },
    {
      "cell_type": "markdown",
      "source": [
        "### ⏱️ 2.8. Pruebas iniciales"
      ],
      "metadata": {
        "id": "ifM3BEK6Vbux"
      }
    },
    {
      "cell_type": "code",
      "source": [
        "tablero = generar_tablero(6)\n",
        "print(\"Tablero:\")\n",
        "print(tablero)\n",
        "print()\n",
        "\n",
        "for alg, func in {\"BFS\": busqueda_bfs, \"A*\": busqueda_a_star}.items():\n",
        "    costo, nodos, tiempo, camino = func(tablero)\n",
        "    print(f\"{alg.ljust(4)}: costo={costo}, nodos={nodos}, tiempo={tiempo:.6f}s, camino={camino}\")"
      ],
      "metadata": {
        "colab": {
          "base_uri": "https://localhost:8080/"
        },
        "id": "oKqEPKJ-JhLY",
        "outputId": "84daeda3-d473-4a0f-8ff0-c82be4a7fd4a"
      },
      "execution_count": 10,
      "outputs": [
        {
          "output_type": "stream",
          "name": "stdout",
          "text": [
            "Tablero:\n",
            "[[0 1 1 1 1 1]\n",
            " [1 1 1 3 1 2]\n",
            " [1 2 1 3 2 1]\n",
            " [2 1 2 2 2 1]\n",
            " [1 1 1 1 2 1]\n",
            " [1 1 1 1 3 1]]\n",
            "\n",
            "BFS : costo=13, nodos=36, tiempo=0.000115s, camino=[(0, 0), (1, 0), (2, 0), (3, 0), (4, 0), (5, 0), (5, 1), (5, 2), (5, 3), (5, 4), (5, 5)]\n",
            "A*  : costo=12, nodos=30, tiempo=0.000120s, camino=[(0, 0), (0, 1), (0, 2), (0, 3), (0, 4), (0, 5), (1, 5), (2, 5), (3, 5), (4, 5), (5, 5), (5, 5)]\n"
          ]
        }
      ]
    },
    {
      "cell_type": "code",
      "source": [
        "tablero = generar_tablero(6)\n",
        "print(\"Tablero:\")\n",
        "print(tablero)\n",
        "print()\n",
        "\n",
        "results_a_star = busqueda_generica(tablero, algoritmo=\"A*\")\n",
        "results_ucs = busqueda_generica(tablero, algoritmo=\"UCS\")\n",
        "results_greedy = busqueda_generica(tablero, algoritmo=\"Greedy\")\n",
        "\n",
        "print(f\"A*     : costo={results_a_star[0]}, nodos={results_a_star[1]}, tiempo={results_a_star[2]:.6f}s, camino={results_a_star[3]}\")\n",
        "print(f\"UCS*   : costo={results_ucs[0]}, nodos={results_ucs[1]}, tiempo={results_ucs[2]:.6f}s, camino={results_ucs[3]}\")\n",
        "print(f\"Greedy : costo={results_greedy[0]}, nodos={results_greedy[1]}, tiempo={results_greedy[2]:.6f}s, camino={results_greedy[3]}\")"
      ],
      "metadata": {
        "colab": {
          "base_uri": "https://localhost:8080/"
        },
        "id": "mKOqfEmuVRW7",
        "outputId": "b157e263-7afe-4233-c9ee-a4f619daaae4"
      },
      "execution_count": 11,
      "outputs": [
        {
          "output_type": "stream",
          "name": "stdout",
          "text": [
            "Tablero:\n",
            "[[0 3 1 1 1 2]\n",
            " [1 1 1 1 1 2]\n",
            " [3 2 1 1 1 1]\n",
            " [1 1 1 3 2 1]\n",
            " [3 2 1 1 1 1]\n",
            " [1 1 3 2 1 1]]\n",
            "\n",
            "A*     : costo=10, nodos=18, tiempo=0.000088s, camino=[(0, 0), (1, 0), (1, 1), (1, 2), (1, 3), (1, 4), (2, 4), (2, 5), (3, 5), (4, 5), (5, 5)]\n",
            "UCS*   : costo=10, nodos=36, tiempo=0.000096s, camino=[(0, 0), (1, 0), (1, 1), (1, 2), (1, 3), (1, 4), (2, 4), (2, 5), (3, 5), (4, 5), (5, 5)]\n",
            "Greedy : costo=14, nodos=11, tiempo=0.000033s, camino=[(0, 0), (0, 1), (0, 2), (0, 3), (0, 4), (0, 5), (1, 5), (2, 5), (3, 5), (4, 5), (5, 5)]\n"
          ]
        }
      ]
    },
    {
      "cell_type": "markdown",
      "source": [
        "### 🛠️ 2.9. Funciones Auxiliares"
      ],
      "metadata": {
        "id": "CuliC-pFJlzk"
      }
    },
    {
      "cell_type": "code",
      "source": [
        "def probar_algoritmos(tablero):\n",
        "    resultados = {\n",
        "        \"BFS\": busqueda_bfs(tablero),\n",
        "        \"A*\": busqueda_generica(tablero, algoritmo=\"A*\"),\n",
        "        \"UCS\": busqueda_generica(tablero, algoritmo=\"UCS\"),\n",
        "        \"Greedy\": busqueda_generica(tablero, algoritmo=\"Greedy\")\n",
        "    }\n",
        "\n",
        "    # Crear una lista de tuplas con los 3 criterios a medir\n",
        "    metricas = {\n",
        "        alg: (res[0], res[1], res[2])  # costo, nodos_expandidos, tiempo\n",
        "        for alg, res in resultados.items()\n",
        "    }\n",
        "\n",
        "    # Seleccionar el mejor algoritmo\n",
        "    # Criterio: primero 'costo', en caso de empate 'nodos expandidos', y en última instancia 'tiempo de computo'\n",
        "    mejor_alg = min(metricas, key=lambda k: metricas[k])\n",
        "\n",
        "    return mejor_alg, resultados"
      ],
      "metadata": {
        "id": "aovbrjYrW4Hb"
      },
      "execution_count": 12,
      "outputs": []
    },
    {
      "cell_type": "markdown",
      "source": [
        "### 🧱 2.10. Generador del dataset sintético"
      ],
      "metadata": {
        "id": "JFEh8D0_XDmW"
      }
    },
    {
      "cell_type": "code",
      "source": [
        "# Genera un dataset con 'n_samples' tableros aleatorios y los resultados\n",
        "# de distintos algoritmos de búsqueda aplicados sobre cada uno de ellos.\n",
        "def generar_dataset(n_samples=500, tamanios=(4,5,6,7,8)):\n",
        "    registros = []\n",
        "\n",
        "    for _ in tqdm(range(n_samples), desc=f\"Generando tableros\"):\n",
        "        n = random.choice(tamanios)\n",
        "        tablero = generar_tablero(n)\n",
        "\n",
        "        # características del tablero\n",
        "        costo_prom = np.mean(tablero)           # promedio\n",
        "        var_costo = np.var(tablero)             # varianza\n",
        "        densidad_cost3 = np.mean(tablero == 3)  # prom de celdas con costo = 3\n",
        "\n",
        "        # evaluar el tablero x separado en todos los algoritmos\n",
        "        mejor_alg, resultados = probar_algoritmos(tablero)\n",
        "\n",
        "        registros.append({\n",
        "            \"tamanio\": n,\n",
        "            \"costo_prom\": costo_prom,\n",
        "            \"var_costo\": var_costo,\n",
        "            \"densidad_cost3\": densidad_cost3,\n",
        "            \"costo_BFS\": resultados[\"BFS\"],\n",
        "            \"costo_A*\": resultados[\"A*\"],\n",
        "            \"costo_UCS\": resultados[\"UCS\"],\n",
        "            \"costo_Greedy\": resultados[\"Greedy\"],\n",
        "            \"mejor_alg\": mejor_alg\n",
        "        })\n",
        "\n",
        "    df = pd.DataFrame(registros)\n",
        "    return df"
      ],
      "metadata": {
        "id": "KyySO7blWhRj"
      },
      "execution_count": 13,
      "outputs": []
    },
    {
      "cell_type": "markdown",
      "source": [
        "### 🚀 2.11. Generar el dataset"
      ],
      "metadata": {
        "id": "nfnO77-9XBKO"
      }
    },
    {
      "cell_type": "code",
      "source": [
        "df = generar_dataset(n_samples=1000, tamanios=(3,4,5,6,7,8,9,10))"
      ],
      "metadata": {
        "colab": {
          "base_uri": "https://localhost:8080/"
        },
        "id": "yiRm5HBxRlQc",
        "outputId": "ff954fa6-907e-47e7-e81d-5ad51112149b"
      },
      "execution_count": 14,
      "outputs": [
        {
          "output_type": "stream",
          "name": "stderr",
          "text": [
            "Generando tableros: 100%|██████████| 1000/1000 [00:00<00:00, 1175.56it/s]\n"
          ]
        }
      ]
    },
    {
      "cell_type": "code",
      "source": [
        "df.sample(5)"
      ],
      "metadata": {
        "colab": {
          "base_uri": "https://localhost:8080/",
          "height": 400
        },
        "id": "s27B2LEoWotu",
        "outputId": "786831a1-de37-48d6-f215-5c5f46266d6f"
      },
      "execution_count": 15,
      "outputs": [
        {
          "output_type": "execute_result",
          "data": {
            "text/plain": [
              "     tamanio  costo_prom  var_costo  densidad_cost3  \\\n",
              "573        9    1.456790   0.519738        0.123457   \n",
              "599        7    1.653061   0.634736        0.183673   \n",
              "481        5    1.320000   0.297600        0.000000   \n",
              "176        3    1.111111   0.543210        0.111111   \n",
              "217        5    1.240000   0.262400        0.000000   \n",
              "\n",
              "                                             costo_BFS  \\\n",
              "573  (21, 81, 0.0002644062042236328, [(0, 0), (1, 0...   \n",
              "599  (22, 49, 0.0001742839813232422, [(0, 0), (1, 0...   \n",
              "481  (9, 25, 8.20159912109375e-05, [(0, 0), (1, 0),...   \n",
              "176  (6, 9, 2.5987625122070312e-05, [(0, 0), (1, 0)...   \n",
              "217  (10, 25, 5.650520324707031e-05, [(0, 0), (1, 0...   \n",
              "\n",
              "                                              costo_A*  \\\n",
              "573  (16, 32, 0.0002110004425048828, [(0, 0), (0, 1...   \n",
              "599  (14, 37, 0.00020313262939453125, [(0, 0), (0, ...   \n",
              "481  (9, 16, 0.0012285709381103516, [(0, 0), (1, 0)...   \n",
              "176  (4, 8, 2.4557113647460938e-05, [(0, 0), (0, 1)...   \n",
              "217  (8, 10, 3.886222839355469e-05, [(0, 0), (0, 1)...   \n",
              "\n",
              "                                             costo_UCS  \\\n",
              "573  (16, 80, 0.0004048347473144531, [(0, 0), (0, 1...   \n",
              "599  (14, 48, 0.00021266937255859375, [(0, 0), (0, ...   \n",
              "481  (9, 25, 0.0001347064971923828, [(0, 0), (1, 0)...   \n",
              "176  (4, 8, 1.621246337890625e-05, [(0, 0), (0, 1),...   \n",
              "217  (8, 25, 5.91278076171875e-05, [(0, 0), (0, 1),...   \n",
              "\n",
              "                                          costo_Greedy mejor_alg  \n",
              "573  (24, 17, 9.107589721679688e-05, [(0, 0), (0, 1...        A*  \n",
              "599  (15, 13, 0.00011396408081054688, [(0, 0), (0, ...        A*  \n",
              "481  (12, 9, 4.220008850097656e-05, [(0, 0), (0, 1)...        A*  \n",
              "176  (4, 5, 1.0728836059570312e-05, [(0, 0), (0, 1)...    Greedy  \n",
              "217  (10, 9, 3.0040740966796875e-05, [(0, 0), (0, 1...        A*  "
            ],
            "text/html": [
              "\n",
              "  <div id=\"df-9c5e9ccb-7000-4a6f-9db4-f5f9880b4fd8\" class=\"colab-df-container\">\n",
              "    <div>\n",
              "<style scoped>\n",
              "    .dataframe tbody tr th:only-of-type {\n",
              "        vertical-align: middle;\n",
              "    }\n",
              "\n",
              "    .dataframe tbody tr th {\n",
              "        vertical-align: top;\n",
              "    }\n",
              "\n",
              "    .dataframe thead th {\n",
              "        text-align: right;\n",
              "    }\n",
              "</style>\n",
              "<table border=\"1\" class=\"dataframe\">\n",
              "  <thead>\n",
              "    <tr style=\"text-align: right;\">\n",
              "      <th></th>\n",
              "      <th>tamanio</th>\n",
              "      <th>costo_prom</th>\n",
              "      <th>var_costo</th>\n",
              "      <th>densidad_cost3</th>\n",
              "      <th>costo_BFS</th>\n",
              "      <th>costo_A*</th>\n",
              "      <th>costo_UCS</th>\n",
              "      <th>costo_Greedy</th>\n",
              "      <th>mejor_alg</th>\n",
              "    </tr>\n",
              "  </thead>\n",
              "  <tbody>\n",
              "    <tr>\n",
              "      <th>573</th>\n",
              "      <td>9</td>\n",
              "      <td>1.456790</td>\n",
              "      <td>0.519738</td>\n",
              "      <td>0.123457</td>\n",
              "      <td>(21, 81, 0.0002644062042236328, [(0, 0), (1, 0...</td>\n",
              "      <td>(16, 32, 0.0002110004425048828, [(0, 0), (0, 1...</td>\n",
              "      <td>(16, 80, 0.0004048347473144531, [(0, 0), (0, 1...</td>\n",
              "      <td>(24, 17, 9.107589721679688e-05, [(0, 0), (0, 1...</td>\n",
              "      <td>A*</td>\n",
              "    </tr>\n",
              "    <tr>\n",
              "      <th>599</th>\n",
              "      <td>7</td>\n",
              "      <td>1.653061</td>\n",
              "      <td>0.634736</td>\n",
              "      <td>0.183673</td>\n",
              "      <td>(22, 49, 0.0001742839813232422, [(0, 0), (1, 0...</td>\n",
              "      <td>(14, 37, 0.00020313262939453125, [(0, 0), (0, ...</td>\n",
              "      <td>(14, 48, 0.00021266937255859375, [(0, 0), (0, ...</td>\n",
              "      <td>(15, 13, 0.00011396408081054688, [(0, 0), (0, ...</td>\n",
              "      <td>A*</td>\n",
              "    </tr>\n",
              "    <tr>\n",
              "      <th>481</th>\n",
              "      <td>5</td>\n",
              "      <td>1.320000</td>\n",
              "      <td>0.297600</td>\n",
              "      <td>0.000000</td>\n",
              "      <td>(9, 25, 8.20159912109375e-05, [(0, 0), (1, 0),...</td>\n",
              "      <td>(9, 16, 0.0012285709381103516, [(0, 0), (1, 0)...</td>\n",
              "      <td>(9, 25, 0.0001347064971923828, [(0, 0), (1, 0)...</td>\n",
              "      <td>(12, 9, 4.220008850097656e-05, [(0, 0), (0, 1)...</td>\n",
              "      <td>A*</td>\n",
              "    </tr>\n",
              "    <tr>\n",
              "      <th>176</th>\n",
              "      <td>3</td>\n",
              "      <td>1.111111</td>\n",
              "      <td>0.543210</td>\n",
              "      <td>0.111111</td>\n",
              "      <td>(6, 9, 2.5987625122070312e-05, [(0, 0), (1, 0)...</td>\n",
              "      <td>(4, 8, 2.4557113647460938e-05, [(0, 0), (0, 1)...</td>\n",
              "      <td>(4, 8, 1.621246337890625e-05, [(0, 0), (0, 1),...</td>\n",
              "      <td>(4, 5, 1.0728836059570312e-05, [(0, 0), (0, 1)...</td>\n",
              "      <td>Greedy</td>\n",
              "    </tr>\n",
              "    <tr>\n",
              "      <th>217</th>\n",
              "      <td>5</td>\n",
              "      <td>1.240000</td>\n",
              "      <td>0.262400</td>\n",
              "      <td>0.000000</td>\n",
              "      <td>(10, 25, 5.650520324707031e-05, [(0, 0), (1, 0...</td>\n",
              "      <td>(8, 10, 3.886222839355469e-05, [(0, 0), (0, 1)...</td>\n",
              "      <td>(8, 25, 5.91278076171875e-05, [(0, 0), (0, 1),...</td>\n",
              "      <td>(10, 9, 3.0040740966796875e-05, [(0, 0), (0, 1...</td>\n",
              "      <td>A*</td>\n",
              "    </tr>\n",
              "  </tbody>\n",
              "</table>\n",
              "</div>\n",
              "    <div class=\"colab-df-buttons\">\n",
              "\n",
              "  <div class=\"colab-df-container\">\n",
              "    <button class=\"colab-df-convert\" onclick=\"convertToInteractive('df-9c5e9ccb-7000-4a6f-9db4-f5f9880b4fd8')\"\n",
              "            title=\"Convert this dataframe to an interactive table.\"\n",
              "            style=\"display:none;\">\n",
              "\n",
              "  <svg xmlns=\"http://www.w3.org/2000/svg\" height=\"24px\" viewBox=\"0 -960 960 960\">\n",
              "    <path d=\"M120-120v-720h720v720H120Zm60-500h600v-160H180v160Zm220 220h160v-160H400v160Zm0 220h160v-160H400v160ZM180-400h160v-160H180v160Zm440 0h160v-160H620v160ZM180-180h160v-160H180v160Zm440 0h160v-160H620v160Z\"/>\n",
              "  </svg>\n",
              "    </button>\n",
              "\n",
              "  <style>\n",
              "    .colab-df-container {\n",
              "      display:flex;\n",
              "      gap: 12px;\n",
              "    }\n",
              "\n",
              "    .colab-df-convert {\n",
              "      background-color: #E8F0FE;\n",
              "      border: none;\n",
              "      border-radius: 50%;\n",
              "      cursor: pointer;\n",
              "      display: none;\n",
              "      fill: #1967D2;\n",
              "      height: 32px;\n",
              "      padding: 0 0 0 0;\n",
              "      width: 32px;\n",
              "    }\n",
              "\n",
              "    .colab-df-convert:hover {\n",
              "      background-color: #E2EBFA;\n",
              "      box-shadow: 0px 1px 2px rgba(60, 64, 67, 0.3), 0px 1px 3px 1px rgba(60, 64, 67, 0.15);\n",
              "      fill: #174EA6;\n",
              "    }\n",
              "\n",
              "    .colab-df-buttons div {\n",
              "      margin-bottom: 4px;\n",
              "    }\n",
              "\n",
              "    [theme=dark] .colab-df-convert {\n",
              "      background-color: #3B4455;\n",
              "      fill: #D2E3FC;\n",
              "    }\n",
              "\n",
              "    [theme=dark] .colab-df-convert:hover {\n",
              "      background-color: #434B5C;\n",
              "      box-shadow: 0px 1px 3px 1px rgba(0, 0, 0, 0.15);\n",
              "      filter: drop-shadow(0px 1px 2px rgba(0, 0, 0, 0.3));\n",
              "      fill: #FFFFFF;\n",
              "    }\n",
              "  </style>\n",
              "\n",
              "    <script>\n",
              "      const buttonEl =\n",
              "        document.querySelector('#df-9c5e9ccb-7000-4a6f-9db4-f5f9880b4fd8 button.colab-df-convert');\n",
              "      buttonEl.style.display =\n",
              "        google.colab.kernel.accessAllowed ? 'block' : 'none';\n",
              "\n",
              "      async function convertToInteractive(key) {\n",
              "        const element = document.querySelector('#df-9c5e9ccb-7000-4a6f-9db4-f5f9880b4fd8');\n",
              "        const dataTable =\n",
              "          await google.colab.kernel.invokeFunction('convertToInteractive',\n",
              "                                                    [key], {});\n",
              "        if (!dataTable) return;\n",
              "\n",
              "        const docLinkHtml = 'Like what you see? Visit the ' +\n",
              "          '<a target=\"_blank\" href=https://colab.research.google.com/notebooks/data_table.ipynb>data table notebook</a>'\n",
              "          + ' to learn more about interactive tables.';\n",
              "        element.innerHTML = '';\n",
              "        dataTable['output_type'] = 'display_data';\n",
              "        await google.colab.output.renderOutput(dataTable, element);\n",
              "        const docLink = document.createElement('div');\n",
              "        docLink.innerHTML = docLinkHtml;\n",
              "        element.appendChild(docLink);\n",
              "      }\n",
              "    </script>\n",
              "  </div>\n",
              "\n",
              "\n",
              "    <div id=\"df-7e05ad0a-61f3-4490-a4c2-6cd1094558f8\">\n",
              "      <button class=\"colab-df-quickchart\" onclick=\"quickchart('df-7e05ad0a-61f3-4490-a4c2-6cd1094558f8')\"\n",
              "                title=\"Suggest charts\"\n",
              "                style=\"display:none;\">\n",
              "\n",
              "<svg xmlns=\"http://www.w3.org/2000/svg\" height=\"24px\"viewBox=\"0 0 24 24\"\n",
              "     width=\"24px\">\n",
              "    <g>\n",
              "        <path d=\"M19 3H5c-1.1 0-2 .9-2 2v14c0 1.1.9 2 2 2h14c1.1 0 2-.9 2-2V5c0-1.1-.9-2-2-2zM9 17H7v-7h2v7zm4 0h-2V7h2v10zm4 0h-2v-4h2v4z\"/>\n",
              "    </g>\n",
              "</svg>\n",
              "      </button>\n",
              "\n",
              "<style>\n",
              "  .colab-df-quickchart {\n",
              "      --bg-color: #E8F0FE;\n",
              "      --fill-color: #1967D2;\n",
              "      --hover-bg-color: #E2EBFA;\n",
              "      --hover-fill-color: #174EA6;\n",
              "      --disabled-fill-color: #AAA;\n",
              "      --disabled-bg-color: #DDD;\n",
              "  }\n",
              "\n",
              "  [theme=dark] .colab-df-quickchart {\n",
              "      --bg-color: #3B4455;\n",
              "      --fill-color: #D2E3FC;\n",
              "      --hover-bg-color: #434B5C;\n",
              "      --hover-fill-color: #FFFFFF;\n",
              "      --disabled-bg-color: #3B4455;\n",
              "      --disabled-fill-color: #666;\n",
              "  }\n",
              "\n",
              "  .colab-df-quickchart {\n",
              "    background-color: var(--bg-color);\n",
              "    border: none;\n",
              "    border-radius: 50%;\n",
              "    cursor: pointer;\n",
              "    display: none;\n",
              "    fill: var(--fill-color);\n",
              "    height: 32px;\n",
              "    padding: 0;\n",
              "    width: 32px;\n",
              "  }\n",
              "\n",
              "  .colab-df-quickchart:hover {\n",
              "    background-color: var(--hover-bg-color);\n",
              "    box-shadow: 0 1px 2px rgba(60, 64, 67, 0.3), 0 1px 3px 1px rgba(60, 64, 67, 0.15);\n",
              "    fill: var(--button-hover-fill-color);\n",
              "  }\n",
              "\n",
              "  .colab-df-quickchart-complete:disabled,\n",
              "  .colab-df-quickchart-complete:disabled:hover {\n",
              "    background-color: var(--disabled-bg-color);\n",
              "    fill: var(--disabled-fill-color);\n",
              "    box-shadow: none;\n",
              "  }\n",
              "\n",
              "  .colab-df-spinner {\n",
              "    border: 2px solid var(--fill-color);\n",
              "    border-color: transparent;\n",
              "    border-bottom-color: var(--fill-color);\n",
              "    animation:\n",
              "      spin 1s steps(1) infinite;\n",
              "  }\n",
              "\n",
              "  @keyframes spin {\n",
              "    0% {\n",
              "      border-color: transparent;\n",
              "      border-bottom-color: var(--fill-color);\n",
              "      border-left-color: var(--fill-color);\n",
              "    }\n",
              "    20% {\n",
              "      border-color: transparent;\n",
              "      border-left-color: var(--fill-color);\n",
              "      border-top-color: var(--fill-color);\n",
              "    }\n",
              "    30% {\n",
              "      border-color: transparent;\n",
              "      border-left-color: var(--fill-color);\n",
              "      border-top-color: var(--fill-color);\n",
              "      border-right-color: var(--fill-color);\n",
              "    }\n",
              "    40% {\n",
              "      border-color: transparent;\n",
              "      border-right-color: var(--fill-color);\n",
              "      border-top-color: var(--fill-color);\n",
              "    }\n",
              "    60% {\n",
              "      border-color: transparent;\n",
              "      border-right-color: var(--fill-color);\n",
              "    }\n",
              "    80% {\n",
              "      border-color: transparent;\n",
              "      border-right-color: var(--fill-color);\n",
              "      border-bottom-color: var(--fill-color);\n",
              "    }\n",
              "    90% {\n",
              "      border-color: transparent;\n",
              "      border-bottom-color: var(--fill-color);\n",
              "    }\n",
              "  }\n",
              "</style>\n",
              "\n",
              "      <script>\n",
              "        async function quickchart(key) {\n",
              "          const quickchartButtonEl =\n",
              "            document.querySelector('#' + key + ' button');\n",
              "          quickchartButtonEl.disabled = true;  // To prevent multiple clicks.\n",
              "          quickchartButtonEl.classList.add('colab-df-spinner');\n",
              "          try {\n",
              "            const charts = await google.colab.kernel.invokeFunction(\n",
              "                'suggestCharts', [key], {});\n",
              "          } catch (error) {\n",
              "            console.error('Error during call to suggestCharts:', error);\n",
              "          }\n",
              "          quickchartButtonEl.classList.remove('colab-df-spinner');\n",
              "          quickchartButtonEl.classList.add('colab-df-quickchart-complete');\n",
              "        }\n",
              "        (() => {\n",
              "          let quickchartButtonEl =\n",
              "            document.querySelector('#df-7e05ad0a-61f3-4490-a4c2-6cd1094558f8 button');\n",
              "          quickchartButtonEl.style.display =\n",
              "            google.colab.kernel.accessAllowed ? 'block' : 'none';\n",
              "        })();\n",
              "      </script>\n",
              "    </div>\n",
              "\n",
              "    </div>\n",
              "  </div>\n"
            ],
            "application/vnd.google.colaboratory.intrinsic+json": {
              "type": "dataframe",
              "summary": "{\n  \"name\": \"df\",\n  \"rows\": 5,\n  \"fields\": [\n    {\n      \"column\": \"tamanio\",\n      \"properties\": {\n        \"dtype\": \"number\",\n        \"std\": 2,\n        \"min\": 3,\n        \"max\": 9,\n        \"num_unique_values\": 4,\n        \"samples\": [\n          7,\n          3,\n          9\n        ],\n        \"semantic_type\": \"\",\n        \"description\": \"\"\n      }\n    },\n    {\n      \"column\": \"costo_prom\",\n      \"properties\": {\n        \"dtype\": \"number\",\n        \"std\": 0.2080423050232566,\n        \"min\": 1.1111111111111112,\n        \"max\": 1.653061224489796,\n        \"num_unique_values\": 5,\n        \"samples\": [\n          1.653061224489796,\n          1.24,\n          1.32\n        ],\n        \"semantic_type\": \"\",\n        \"description\": \"\"\n      }\n    },\n    {\n      \"column\": \"var_costo\",\n      \"properties\": {\n        \"dtype\": \"number\",\n        \"std\": 0.16285451829251668,\n        \"min\": 0.26239999999999997,\n        \"max\": 0.6347355268638069,\n        \"num_unique_values\": 5,\n        \"samples\": [\n          0.6347355268638069,\n          0.26239999999999997,\n          0.29760000000000003\n        ],\n        \"semantic_type\": \"\",\n        \"description\": \"\"\n      }\n    },\n    {\n      \"column\": \"densidad_cost3\",\n      \"properties\": {\n        \"dtype\": \"number\",\n        \"std\": 0.08114498224915032,\n        \"min\": 0.0,\n        \"max\": 0.1836734693877551,\n        \"num_unique_values\": 4,\n        \"samples\": [\n          0.1836734693877551,\n          0.1111111111111111,\n          0.12345679012345678\n        ],\n        \"semantic_type\": \"\",\n        \"description\": \"\"\n      }\n    },\n    {\n      \"column\": \"costo_BFS\",\n      \"properties\": {\n        \"dtype\": \"object\",\n        \"semantic_type\": \"\",\n        \"description\": \"\"\n      }\n    },\n    {\n      \"column\": \"costo_A*\",\n      \"properties\": {\n        \"dtype\": \"object\",\n        \"semantic_type\": \"\",\n        \"description\": \"\"\n      }\n    },\n    {\n      \"column\": \"costo_UCS\",\n      \"properties\": {\n        \"dtype\": \"object\",\n        \"semantic_type\": \"\",\n        \"description\": \"\"\n      }\n    },\n    {\n      \"column\": \"costo_Greedy\",\n      \"properties\": {\n        \"dtype\": \"object\",\n        \"semantic_type\": \"\",\n        \"description\": \"\"\n      }\n    },\n    {\n      \"column\": \"mejor_alg\",\n      \"properties\": {\n        \"dtype\": \"category\",\n        \"num_unique_values\": 2,\n        \"samples\": [\n          \"Greedy\",\n          \"A*\"\n        ],\n        \"semantic_type\": \"\",\n        \"description\": \"\"\n      }\n    }\n  ]\n}"
            }
          },
          "metadata": {},
          "execution_count": 15
        }
      ]
    },
    {
      "cell_type": "markdown",
      "source": [
        "### 💾 2.12. Guardar el dataset"
      ],
      "metadata": {
        "id": "Hd2fQB91W8CT"
      }
    },
    {
      "cell_type": "markdown",
      "source": [
        "Para una revisión exaustiva y posibilidad de re-uso posterior."
      ],
      "metadata": {
        "id": "ogDw72GQzRlF"
      }
    },
    {
      "cell_type": "code",
      "source": [
        "df.to_csv(\"dataset_busquedas.csv\", index=False)\n",
        "print(\"Dataset guardado en 'dataset_busquedas.csv'\")"
      ],
      "metadata": {
        "colab": {
          "base_uri": "https://localhost:8080/"
        },
        "id": "i1GJaSXwW6Za",
        "outputId": "c6cb4cac-5ddf-4073-f470-f96d3039b218"
      },
      "execution_count": 16,
      "outputs": [
        {
          "output_type": "stream",
          "name": "stdout",
          "text": [
            "Dataset guardado en 'dataset_busquedas.csv'\n"
          ]
        }
      ]
    },
    {
      "cell_type": "markdown",
      "source": [
        "## Parte 3 - EDA y Preprocesamiento"
      ],
      "metadata": {
        "id": "E2GDJNQF3JLX"
      }
    },
    {
      "cell_type": "markdown",
      "source": [
        "### 🧩 3.1. Importaciones y configuración inicial"
      ],
      "metadata": {
        "id": "HvZ55dcH3rDN"
      }
    },
    {
      "cell_type": "code",
      "source": [
        "import pandas as pd\n",
        "import matplotlib.pyplot as plt\n",
        "import seaborn as sns"
      ],
      "metadata": {
        "id": "OgNNOoEU3w7Z"
      },
      "execution_count": 17,
      "outputs": []
    },
    {
      "cell_type": "markdown",
      "source": [
        "### 👀 3.2. Estadísticos del dataset"
      ],
      "metadata": {
        "id": "hXn4SgF2W-mT"
      }
    },
    {
      "cell_type": "code",
      "source": [
        "print(df[\"mejor_alg\"].value_counts())\n",
        "print()\n",
        "\n",
        "df.describe()"
      ],
      "metadata": {
        "colab": {
          "base_uri": "https://localhost:8080/",
          "height": 408
        },
        "id": "Wn9MULdYWvfi",
        "outputId": "c23b92ad-d513-48eb-ae04-8599bcf6f461"
      },
      "execution_count": 25,
      "outputs": [
        {
          "output_type": "stream",
          "name": "stdout",
          "text": [
            "mejor_alg\n",
            "A*        848\n",
            "Greedy    117\n",
            "UCS        35\n",
            "Name: count, dtype: int64\n",
            "\n"
          ]
        },
        {
          "output_type": "execute_result",
          "data": {
            "text/plain": [
              "           tamanio   costo_prom    var_costo  densidad_cost3\n",
              "count  1000.000000  1000.000000  1000.000000     1000.000000\n",
              "mean      6.585000     1.430439     0.489670        0.093231\n",
              "std       2.347826     0.129658     0.135169        0.055214\n",
              "min       3.000000     0.888889     0.098765        0.000000\n",
              "25%       4.000000     1.367347     0.408341        0.061728\n",
              "50%       7.000000     1.444444     0.471451        0.093750\n",
              "75%       9.000000     1.518519     0.556946        0.122449\n",
              "max      10.000000     1.812500     1.135802        0.333333"
            ],
            "text/html": [
              "\n",
              "  <div id=\"df-22ef21e3-1e37-43aa-bda9-344e7893cdad\" class=\"colab-df-container\">\n",
              "    <div>\n",
              "<style scoped>\n",
              "    .dataframe tbody tr th:only-of-type {\n",
              "        vertical-align: middle;\n",
              "    }\n",
              "\n",
              "    .dataframe tbody tr th {\n",
              "        vertical-align: top;\n",
              "    }\n",
              "\n",
              "    .dataframe thead th {\n",
              "        text-align: right;\n",
              "    }\n",
              "</style>\n",
              "<table border=\"1\" class=\"dataframe\">\n",
              "  <thead>\n",
              "    <tr style=\"text-align: right;\">\n",
              "      <th></th>\n",
              "      <th>tamanio</th>\n",
              "      <th>costo_prom</th>\n",
              "      <th>var_costo</th>\n",
              "      <th>densidad_cost3</th>\n",
              "    </tr>\n",
              "  </thead>\n",
              "  <tbody>\n",
              "    <tr>\n",
              "      <th>count</th>\n",
              "      <td>1000.000000</td>\n",
              "      <td>1000.000000</td>\n",
              "      <td>1000.000000</td>\n",
              "      <td>1000.000000</td>\n",
              "    </tr>\n",
              "    <tr>\n",
              "      <th>mean</th>\n",
              "      <td>6.585000</td>\n",
              "      <td>1.430439</td>\n",
              "      <td>0.489670</td>\n",
              "      <td>0.093231</td>\n",
              "    </tr>\n",
              "    <tr>\n",
              "      <th>std</th>\n",
              "      <td>2.347826</td>\n",
              "      <td>0.129658</td>\n",
              "      <td>0.135169</td>\n",
              "      <td>0.055214</td>\n",
              "    </tr>\n",
              "    <tr>\n",
              "      <th>min</th>\n",
              "      <td>3.000000</td>\n",
              "      <td>0.888889</td>\n",
              "      <td>0.098765</td>\n",
              "      <td>0.000000</td>\n",
              "    </tr>\n",
              "    <tr>\n",
              "      <th>25%</th>\n",
              "      <td>4.000000</td>\n",
              "      <td>1.367347</td>\n",
              "      <td>0.408341</td>\n",
              "      <td>0.061728</td>\n",
              "    </tr>\n",
              "    <tr>\n",
              "      <th>50%</th>\n",
              "      <td>7.000000</td>\n",
              "      <td>1.444444</td>\n",
              "      <td>0.471451</td>\n",
              "      <td>0.093750</td>\n",
              "    </tr>\n",
              "    <tr>\n",
              "      <th>75%</th>\n",
              "      <td>9.000000</td>\n",
              "      <td>1.518519</td>\n",
              "      <td>0.556946</td>\n",
              "      <td>0.122449</td>\n",
              "    </tr>\n",
              "    <tr>\n",
              "      <th>max</th>\n",
              "      <td>10.000000</td>\n",
              "      <td>1.812500</td>\n",
              "      <td>1.135802</td>\n",
              "      <td>0.333333</td>\n",
              "    </tr>\n",
              "  </tbody>\n",
              "</table>\n",
              "</div>\n",
              "    <div class=\"colab-df-buttons\">\n",
              "\n",
              "  <div class=\"colab-df-container\">\n",
              "    <button class=\"colab-df-convert\" onclick=\"convertToInteractive('df-22ef21e3-1e37-43aa-bda9-344e7893cdad')\"\n",
              "            title=\"Convert this dataframe to an interactive table.\"\n",
              "            style=\"display:none;\">\n",
              "\n",
              "  <svg xmlns=\"http://www.w3.org/2000/svg\" height=\"24px\" viewBox=\"0 -960 960 960\">\n",
              "    <path d=\"M120-120v-720h720v720H120Zm60-500h600v-160H180v160Zm220 220h160v-160H400v160Zm0 220h160v-160H400v160ZM180-400h160v-160H180v160Zm440 0h160v-160H620v160ZM180-180h160v-160H180v160Zm440 0h160v-160H620v160Z\"/>\n",
              "  </svg>\n",
              "    </button>\n",
              "\n",
              "  <style>\n",
              "    .colab-df-container {\n",
              "      display:flex;\n",
              "      gap: 12px;\n",
              "    }\n",
              "\n",
              "    .colab-df-convert {\n",
              "      background-color: #E8F0FE;\n",
              "      border: none;\n",
              "      border-radius: 50%;\n",
              "      cursor: pointer;\n",
              "      display: none;\n",
              "      fill: #1967D2;\n",
              "      height: 32px;\n",
              "      padding: 0 0 0 0;\n",
              "      width: 32px;\n",
              "    }\n",
              "\n",
              "    .colab-df-convert:hover {\n",
              "      background-color: #E2EBFA;\n",
              "      box-shadow: 0px 1px 2px rgba(60, 64, 67, 0.3), 0px 1px 3px 1px rgba(60, 64, 67, 0.15);\n",
              "      fill: #174EA6;\n",
              "    }\n",
              "\n",
              "    .colab-df-buttons div {\n",
              "      margin-bottom: 4px;\n",
              "    }\n",
              "\n",
              "    [theme=dark] .colab-df-convert {\n",
              "      background-color: #3B4455;\n",
              "      fill: #D2E3FC;\n",
              "    }\n",
              "\n",
              "    [theme=dark] .colab-df-convert:hover {\n",
              "      background-color: #434B5C;\n",
              "      box-shadow: 0px 1px 3px 1px rgba(0, 0, 0, 0.15);\n",
              "      filter: drop-shadow(0px 1px 2px rgba(0, 0, 0, 0.3));\n",
              "      fill: #FFFFFF;\n",
              "    }\n",
              "  </style>\n",
              "\n",
              "    <script>\n",
              "      const buttonEl =\n",
              "        document.querySelector('#df-22ef21e3-1e37-43aa-bda9-344e7893cdad button.colab-df-convert');\n",
              "      buttonEl.style.display =\n",
              "        google.colab.kernel.accessAllowed ? 'block' : 'none';\n",
              "\n",
              "      async function convertToInteractive(key) {\n",
              "        const element = document.querySelector('#df-22ef21e3-1e37-43aa-bda9-344e7893cdad');\n",
              "        const dataTable =\n",
              "          await google.colab.kernel.invokeFunction('convertToInteractive',\n",
              "                                                    [key], {});\n",
              "        if (!dataTable) return;\n",
              "\n",
              "        const docLinkHtml = 'Like what you see? Visit the ' +\n",
              "          '<a target=\"_blank\" href=https://colab.research.google.com/notebooks/data_table.ipynb>data table notebook</a>'\n",
              "          + ' to learn more about interactive tables.';\n",
              "        element.innerHTML = '';\n",
              "        dataTable['output_type'] = 'display_data';\n",
              "        await google.colab.output.renderOutput(dataTable, element);\n",
              "        const docLink = document.createElement('div');\n",
              "        docLink.innerHTML = docLinkHtml;\n",
              "        element.appendChild(docLink);\n",
              "      }\n",
              "    </script>\n",
              "  </div>\n",
              "\n",
              "\n",
              "    <div id=\"df-e952e0bf-e807-4e7b-baeb-b536967e82fc\">\n",
              "      <button class=\"colab-df-quickchart\" onclick=\"quickchart('df-e952e0bf-e807-4e7b-baeb-b536967e82fc')\"\n",
              "                title=\"Suggest charts\"\n",
              "                style=\"display:none;\">\n",
              "\n",
              "<svg xmlns=\"http://www.w3.org/2000/svg\" height=\"24px\"viewBox=\"0 0 24 24\"\n",
              "     width=\"24px\">\n",
              "    <g>\n",
              "        <path d=\"M19 3H5c-1.1 0-2 .9-2 2v14c0 1.1.9 2 2 2h14c1.1 0 2-.9 2-2V5c0-1.1-.9-2-2-2zM9 17H7v-7h2v7zm4 0h-2V7h2v10zm4 0h-2v-4h2v4z\"/>\n",
              "    </g>\n",
              "</svg>\n",
              "      </button>\n",
              "\n",
              "<style>\n",
              "  .colab-df-quickchart {\n",
              "      --bg-color: #E8F0FE;\n",
              "      --fill-color: #1967D2;\n",
              "      --hover-bg-color: #E2EBFA;\n",
              "      --hover-fill-color: #174EA6;\n",
              "      --disabled-fill-color: #AAA;\n",
              "      --disabled-bg-color: #DDD;\n",
              "  }\n",
              "\n",
              "  [theme=dark] .colab-df-quickchart {\n",
              "      --bg-color: #3B4455;\n",
              "      --fill-color: #D2E3FC;\n",
              "      --hover-bg-color: #434B5C;\n",
              "      --hover-fill-color: #FFFFFF;\n",
              "      --disabled-bg-color: #3B4455;\n",
              "      --disabled-fill-color: #666;\n",
              "  }\n",
              "\n",
              "  .colab-df-quickchart {\n",
              "    background-color: var(--bg-color);\n",
              "    border: none;\n",
              "    border-radius: 50%;\n",
              "    cursor: pointer;\n",
              "    display: none;\n",
              "    fill: var(--fill-color);\n",
              "    height: 32px;\n",
              "    padding: 0;\n",
              "    width: 32px;\n",
              "  }\n",
              "\n",
              "  .colab-df-quickchart:hover {\n",
              "    background-color: var(--hover-bg-color);\n",
              "    box-shadow: 0 1px 2px rgba(60, 64, 67, 0.3), 0 1px 3px 1px rgba(60, 64, 67, 0.15);\n",
              "    fill: var(--button-hover-fill-color);\n",
              "  }\n",
              "\n",
              "  .colab-df-quickchart-complete:disabled,\n",
              "  .colab-df-quickchart-complete:disabled:hover {\n",
              "    background-color: var(--disabled-bg-color);\n",
              "    fill: var(--disabled-fill-color);\n",
              "    box-shadow: none;\n",
              "  }\n",
              "\n",
              "  .colab-df-spinner {\n",
              "    border: 2px solid var(--fill-color);\n",
              "    border-color: transparent;\n",
              "    border-bottom-color: var(--fill-color);\n",
              "    animation:\n",
              "      spin 1s steps(1) infinite;\n",
              "  }\n",
              "\n",
              "  @keyframes spin {\n",
              "    0% {\n",
              "      border-color: transparent;\n",
              "      border-bottom-color: var(--fill-color);\n",
              "      border-left-color: var(--fill-color);\n",
              "    }\n",
              "    20% {\n",
              "      border-color: transparent;\n",
              "      border-left-color: var(--fill-color);\n",
              "      border-top-color: var(--fill-color);\n",
              "    }\n",
              "    30% {\n",
              "      border-color: transparent;\n",
              "      border-left-color: var(--fill-color);\n",
              "      border-top-color: var(--fill-color);\n",
              "      border-right-color: var(--fill-color);\n",
              "    }\n",
              "    40% {\n",
              "      border-color: transparent;\n",
              "      border-right-color: var(--fill-color);\n",
              "      border-top-color: var(--fill-color);\n",
              "    }\n",
              "    60% {\n",
              "      border-color: transparent;\n",
              "      border-right-color: var(--fill-color);\n",
              "    }\n",
              "    80% {\n",
              "      border-color: transparent;\n",
              "      border-right-color: var(--fill-color);\n",
              "      border-bottom-color: var(--fill-color);\n",
              "    }\n",
              "    90% {\n",
              "      border-color: transparent;\n",
              "      border-bottom-color: var(--fill-color);\n",
              "    }\n",
              "  }\n",
              "</style>\n",
              "\n",
              "      <script>\n",
              "        async function quickchart(key) {\n",
              "          const quickchartButtonEl =\n",
              "            document.querySelector('#' + key + ' button');\n",
              "          quickchartButtonEl.disabled = true;  // To prevent multiple clicks.\n",
              "          quickchartButtonEl.classList.add('colab-df-spinner');\n",
              "          try {\n",
              "            const charts = await google.colab.kernel.invokeFunction(\n",
              "                'suggestCharts', [key], {});\n",
              "          } catch (error) {\n",
              "            console.error('Error during call to suggestCharts:', error);\n",
              "          }\n",
              "          quickchartButtonEl.classList.remove('colab-df-spinner');\n",
              "          quickchartButtonEl.classList.add('colab-df-quickchart-complete');\n",
              "        }\n",
              "        (() => {\n",
              "          let quickchartButtonEl =\n",
              "            document.querySelector('#df-e952e0bf-e807-4e7b-baeb-b536967e82fc button');\n",
              "          quickchartButtonEl.style.display =\n",
              "            google.colab.kernel.accessAllowed ? 'block' : 'none';\n",
              "        })();\n",
              "      </script>\n",
              "    </div>\n",
              "\n",
              "    </div>\n",
              "  </div>\n"
            ],
            "application/vnd.google.colaboratory.intrinsic+json": {
              "type": "dataframe",
              "summary": "{\n  \"name\": \"df\",\n  \"rows\": 8,\n  \"fields\": [\n    {\n      \"column\": \"tamanio\",\n      \"properties\": {\n        \"dtype\": \"number\",\n        \"std\": 351.4461699799879,\n        \"min\": 2.3478260768820425,\n        \"max\": 1000.0,\n        \"num_unique_values\": 8,\n        \"samples\": [\n          6.585,\n          7.0,\n          1000.0\n        ],\n        \"semantic_type\": \"\",\n        \"description\": \"\"\n      }\n    },\n    {\n      \"column\": \"costo_prom\",\n      \"properties\": {\n        \"dtype\": \"number\",\n        \"std\": 353.1198145490794,\n        \"min\": 0.12965799172121403,\n        \"max\": 1000.0,\n        \"num_unique_values\": 8,\n        \"samples\": [\n          1.4304385882779038,\n          1.4444444444444444,\n          1000.0\n        ],\n        \"semantic_type\": \"\",\n        \"description\": \"\"\n      }\n    },\n    {\n      \"column\": \"var_costo\",\n      \"properties\": {\n        \"dtype\": \"number\",\n        \"std\": 353.38705267323775,\n        \"min\": 0.09876543209876544,\n        \"max\": 1000.0,\n        \"num_unique_values\": 8,\n        \"samples\": [\n          0.4896703401712744,\n          0.4714506172839506,\n          1000.0\n        ],\n        \"semantic_type\": \"\",\n        \"description\": \"\"\n      }\n    },\n    {\n      \"column\": \"densidad_cost3\",\n      \"properties\": {\n        \"dtype\": \"number\",\n        \"std\": 353.51503344113496,\n        \"min\": 0.0,\n        \"max\": 1000.0,\n        \"num_unique_values\": 8,\n        \"samples\": [\n          0.0932305542957924,\n          0.09375,\n          1000.0\n        ],\n        \"semantic_type\": \"\",\n        \"description\": \"\"\n      }\n    }\n  ]\n}"
            }
          },
          "metadata": {},
          "execution_count": 25
        }
      ]
    },
    {
      "cell_type": "markdown",
      "source": [
        "### 🪚 3.3. Validación por nulos y duplicados"
      ],
      "metadata": {
        "id": "M-esHm6D4LOT"
      }
    },
    {
      "cell_type": "code",
      "source": [
        "df.sample(5)"
      ],
      "metadata": {
        "colab": {
          "base_uri": "https://localhost:8080/",
          "height": 380
        },
        "id": "CORBX5WC9sbq",
        "outputId": "89fbe2f6-8f01-475f-d8ad-a5e6d1cd7668"
      },
      "execution_count": 21,
      "outputs": [
        {
          "output_type": "execute_result",
          "data": {
            "text/plain": [
              "     tamanio  costo_prom  var_costo  densidad_cost3  \\\n",
              "29        10    1.570000   0.485100        0.110000   \n",
              "573        9    1.456790   0.519738        0.123457   \n",
              "845        4    1.437500   0.621094        0.125000   \n",
              "80         4    1.375000   0.484375        0.062500   \n",
              "874        7    1.469388   0.493961        0.102041   \n",
              "\n",
              "                                             costo_BFS  \\\n",
              "29   (29, 100, 0.00020647048950195312, [(0, 0), (1,...   \n",
              "573  (21, 81, 0.0002644062042236328, [(0, 0), (1, 0...   \n",
              "845  (9, 16, 4.6253204345703125e-05, [(0, 0), (1, 0...   \n",
              "80   (7, 16, 4.0531158447265625e-05, [(0, 0), (1, 0...   \n",
              "874  (18, 49, 0.00010085105895996094, [(0, 0), (1, ...   \n",
              "\n",
              "                                              costo_A*  \\\n",
              "29   (20, 44, 0.00015401840209960938, [(0, 0), (0, ...   \n",
              "573  (16, 32, 0.0002110004425048828, [(0, 0), (0, 1...   \n",
              "845  (6, 10, 3.123283386230469e-05, [(0, 0), (0, 1)...   \n",
              "80   (7, 14, 3.8623809814453125e-05, [(0, 0), (1, 0...   \n",
              "874  (14, 37, 0.00014281272888183594, [(0, 0), (0, ...   \n",
              "\n",
              "                                             costo_UCS  \\\n",
              "29   (20, 97, 0.00028204917907714844, [(0, 0), (0, ...   \n",
              "573  (16, 80, 0.0004048347473144531, [(0, 0), (0, 1...   \n",
              "845  (6, 15, 3.361701965332031e-05, [(0, 0), (0, 1)...   \n",
              "80   (7, 16, 3.457069396972656e-05, [(0, 0), (1, 0)...   \n",
              "874  (14, 49, 0.00012159347534179688, [(0, 0), (0, ...   \n",
              "\n",
              "                                          costo_Greedy mejor_alg  \n",
              "29   (25, 19, 6.413459777832031e-05, [(0, 0), (0, 1...        A*  \n",
              "573  (24, 17, 9.107589721679688e-05, [(0, 0), (0, 1...        A*  \n",
              "845  (6, 7, 1.6689300537109375e-05, [(0, 0), (0, 1)...    Greedy  \n",
              "80   (8, 7, 2.5033950805664062e-05, [(0, 0), (0, 1)...        A*  \n",
              "874  (21, 13, 3.457069396972656e-05, [(0, 0), (0, 1...        A*  "
            ],
            "text/html": [
              "\n",
              "  <div id=\"df-cf863f5e-7780-466c-8cf5-993f272368dd\" class=\"colab-df-container\">\n",
              "    <div>\n",
              "<style scoped>\n",
              "    .dataframe tbody tr th:only-of-type {\n",
              "        vertical-align: middle;\n",
              "    }\n",
              "\n",
              "    .dataframe tbody tr th {\n",
              "        vertical-align: top;\n",
              "    }\n",
              "\n",
              "    .dataframe thead th {\n",
              "        text-align: right;\n",
              "    }\n",
              "</style>\n",
              "<table border=\"1\" class=\"dataframe\">\n",
              "  <thead>\n",
              "    <tr style=\"text-align: right;\">\n",
              "      <th></th>\n",
              "      <th>tamanio</th>\n",
              "      <th>costo_prom</th>\n",
              "      <th>var_costo</th>\n",
              "      <th>densidad_cost3</th>\n",
              "      <th>costo_BFS</th>\n",
              "      <th>costo_A*</th>\n",
              "      <th>costo_UCS</th>\n",
              "      <th>costo_Greedy</th>\n",
              "      <th>mejor_alg</th>\n",
              "    </tr>\n",
              "  </thead>\n",
              "  <tbody>\n",
              "    <tr>\n",
              "      <th>29</th>\n",
              "      <td>10</td>\n",
              "      <td>1.570000</td>\n",
              "      <td>0.485100</td>\n",
              "      <td>0.110000</td>\n",
              "      <td>(29, 100, 0.00020647048950195312, [(0, 0), (1,...</td>\n",
              "      <td>(20, 44, 0.00015401840209960938, [(0, 0), (0, ...</td>\n",
              "      <td>(20, 97, 0.00028204917907714844, [(0, 0), (0, ...</td>\n",
              "      <td>(25, 19, 6.413459777832031e-05, [(0, 0), (0, 1...</td>\n",
              "      <td>A*</td>\n",
              "    </tr>\n",
              "    <tr>\n",
              "      <th>573</th>\n",
              "      <td>9</td>\n",
              "      <td>1.456790</td>\n",
              "      <td>0.519738</td>\n",
              "      <td>0.123457</td>\n",
              "      <td>(21, 81, 0.0002644062042236328, [(0, 0), (1, 0...</td>\n",
              "      <td>(16, 32, 0.0002110004425048828, [(0, 0), (0, 1...</td>\n",
              "      <td>(16, 80, 0.0004048347473144531, [(0, 0), (0, 1...</td>\n",
              "      <td>(24, 17, 9.107589721679688e-05, [(0, 0), (0, 1...</td>\n",
              "      <td>A*</td>\n",
              "    </tr>\n",
              "    <tr>\n",
              "      <th>845</th>\n",
              "      <td>4</td>\n",
              "      <td>1.437500</td>\n",
              "      <td>0.621094</td>\n",
              "      <td>0.125000</td>\n",
              "      <td>(9, 16, 4.6253204345703125e-05, [(0, 0), (1, 0...</td>\n",
              "      <td>(6, 10, 3.123283386230469e-05, [(0, 0), (0, 1)...</td>\n",
              "      <td>(6, 15, 3.361701965332031e-05, [(0, 0), (0, 1)...</td>\n",
              "      <td>(6, 7, 1.6689300537109375e-05, [(0, 0), (0, 1)...</td>\n",
              "      <td>Greedy</td>\n",
              "    </tr>\n",
              "    <tr>\n",
              "      <th>80</th>\n",
              "      <td>4</td>\n",
              "      <td>1.375000</td>\n",
              "      <td>0.484375</td>\n",
              "      <td>0.062500</td>\n",
              "      <td>(7, 16, 4.0531158447265625e-05, [(0, 0), (1, 0...</td>\n",
              "      <td>(7, 14, 3.8623809814453125e-05, [(0, 0), (1, 0...</td>\n",
              "      <td>(7, 16, 3.457069396972656e-05, [(0, 0), (1, 0)...</td>\n",
              "      <td>(8, 7, 2.5033950805664062e-05, [(0, 0), (0, 1)...</td>\n",
              "      <td>A*</td>\n",
              "    </tr>\n",
              "    <tr>\n",
              "      <th>874</th>\n",
              "      <td>7</td>\n",
              "      <td>1.469388</td>\n",
              "      <td>0.493961</td>\n",
              "      <td>0.102041</td>\n",
              "      <td>(18, 49, 0.00010085105895996094, [(0, 0), (1, ...</td>\n",
              "      <td>(14, 37, 0.00014281272888183594, [(0, 0), (0, ...</td>\n",
              "      <td>(14, 49, 0.00012159347534179688, [(0, 0), (0, ...</td>\n",
              "      <td>(21, 13, 3.457069396972656e-05, [(0, 0), (0, 1...</td>\n",
              "      <td>A*</td>\n",
              "    </tr>\n",
              "  </tbody>\n",
              "</table>\n",
              "</div>\n",
              "    <div class=\"colab-df-buttons\">\n",
              "\n",
              "  <div class=\"colab-df-container\">\n",
              "    <button class=\"colab-df-convert\" onclick=\"convertToInteractive('df-cf863f5e-7780-466c-8cf5-993f272368dd')\"\n",
              "            title=\"Convert this dataframe to an interactive table.\"\n",
              "            style=\"display:none;\">\n",
              "\n",
              "  <svg xmlns=\"http://www.w3.org/2000/svg\" height=\"24px\" viewBox=\"0 -960 960 960\">\n",
              "    <path d=\"M120-120v-720h720v720H120Zm60-500h600v-160H180v160Zm220 220h160v-160H400v160Zm0 220h160v-160H400v160ZM180-400h160v-160H180v160Zm440 0h160v-160H620v160ZM180-180h160v-160H180v160Zm440 0h160v-160H620v160Z\"/>\n",
              "  </svg>\n",
              "    </button>\n",
              "\n",
              "  <style>\n",
              "    .colab-df-container {\n",
              "      display:flex;\n",
              "      gap: 12px;\n",
              "    }\n",
              "\n",
              "    .colab-df-convert {\n",
              "      background-color: #E8F0FE;\n",
              "      border: none;\n",
              "      border-radius: 50%;\n",
              "      cursor: pointer;\n",
              "      display: none;\n",
              "      fill: #1967D2;\n",
              "      height: 32px;\n",
              "      padding: 0 0 0 0;\n",
              "      width: 32px;\n",
              "    }\n",
              "\n",
              "    .colab-df-convert:hover {\n",
              "      background-color: #E2EBFA;\n",
              "      box-shadow: 0px 1px 2px rgba(60, 64, 67, 0.3), 0px 1px 3px 1px rgba(60, 64, 67, 0.15);\n",
              "      fill: #174EA6;\n",
              "    }\n",
              "\n",
              "    .colab-df-buttons div {\n",
              "      margin-bottom: 4px;\n",
              "    }\n",
              "\n",
              "    [theme=dark] .colab-df-convert {\n",
              "      background-color: #3B4455;\n",
              "      fill: #D2E3FC;\n",
              "    }\n",
              "\n",
              "    [theme=dark] .colab-df-convert:hover {\n",
              "      background-color: #434B5C;\n",
              "      box-shadow: 0px 1px 3px 1px rgba(0, 0, 0, 0.15);\n",
              "      filter: drop-shadow(0px 1px 2px rgba(0, 0, 0, 0.3));\n",
              "      fill: #FFFFFF;\n",
              "    }\n",
              "  </style>\n",
              "\n",
              "    <script>\n",
              "      const buttonEl =\n",
              "        document.querySelector('#df-cf863f5e-7780-466c-8cf5-993f272368dd button.colab-df-convert');\n",
              "      buttonEl.style.display =\n",
              "        google.colab.kernel.accessAllowed ? 'block' : 'none';\n",
              "\n",
              "      async function convertToInteractive(key) {\n",
              "        const element = document.querySelector('#df-cf863f5e-7780-466c-8cf5-993f272368dd');\n",
              "        const dataTable =\n",
              "          await google.colab.kernel.invokeFunction('convertToInteractive',\n",
              "                                                    [key], {});\n",
              "        if (!dataTable) return;\n",
              "\n",
              "        const docLinkHtml = 'Like what you see? Visit the ' +\n",
              "          '<a target=\"_blank\" href=https://colab.research.google.com/notebooks/data_table.ipynb>data table notebook</a>'\n",
              "          + ' to learn more about interactive tables.';\n",
              "        element.innerHTML = '';\n",
              "        dataTable['output_type'] = 'display_data';\n",
              "        await google.colab.output.renderOutput(dataTable, element);\n",
              "        const docLink = document.createElement('div');\n",
              "        docLink.innerHTML = docLinkHtml;\n",
              "        element.appendChild(docLink);\n",
              "      }\n",
              "    </script>\n",
              "  </div>\n",
              "\n",
              "\n",
              "    <div id=\"df-347ec6aa-0612-44aa-87a7-792ebf2a71e0\">\n",
              "      <button class=\"colab-df-quickchart\" onclick=\"quickchart('df-347ec6aa-0612-44aa-87a7-792ebf2a71e0')\"\n",
              "                title=\"Suggest charts\"\n",
              "                style=\"display:none;\">\n",
              "\n",
              "<svg xmlns=\"http://www.w3.org/2000/svg\" height=\"24px\"viewBox=\"0 0 24 24\"\n",
              "     width=\"24px\">\n",
              "    <g>\n",
              "        <path d=\"M19 3H5c-1.1 0-2 .9-2 2v14c0 1.1.9 2 2 2h14c1.1 0 2-.9 2-2V5c0-1.1-.9-2-2-2zM9 17H7v-7h2v7zm4 0h-2V7h2v10zm4 0h-2v-4h2v4z\"/>\n",
              "    </g>\n",
              "</svg>\n",
              "      </button>\n",
              "\n",
              "<style>\n",
              "  .colab-df-quickchart {\n",
              "      --bg-color: #E8F0FE;\n",
              "      --fill-color: #1967D2;\n",
              "      --hover-bg-color: #E2EBFA;\n",
              "      --hover-fill-color: #174EA6;\n",
              "      --disabled-fill-color: #AAA;\n",
              "      --disabled-bg-color: #DDD;\n",
              "  }\n",
              "\n",
              "  [theme=dark] .colab-df-quickchart {\n",
              "      --bg-color: #3B4455;\n",
              "      --fill-color: #D2E3FC;\n",
              "      --hover-bg-color: #434B5C;\n",
              "      --hover-fill-color: #FFFFFF;\n",
              "      --disabled-bg-color: #3B4455;\n",
              "      --disabled-fill-color: #666;\n",
              "  }\n",
              "\n",
              "  .colab-df-quickchart {\n",
              "    background-color: var(--bg-color);\n",
              "    border: none;\n",
              "    border-radius: 50%;\n",
              "    cursor: pointer;\n",
              "    display: none;\n",
              "    fill: var(--fill-color);\n",
              "    height: 32px;\n",
              "    padding: 0;\n",
              "    width: 32px;\n",
              "  }\n",
              "\n",
              "  .colab-df-quickchart:hover {\n",
              "    background-color: var(--hover-bg-color);\n",
              "    box-shadow: 0 1px 2px rgba(60, 64, 67, 0.3), 0 1px 3px 1px rgba(60, 64, 67, 0.15);\n",
              "    fill: var(--button-hover-fill-color);\n",
              "  }\n",
              "\n",
              "  .colab-df-quickchart-complete:disabled,\n",
              "  .colab-df-quickchart-complete:disabled:hover {\n",
              "    background-color: var(--disabled-bg-color);\n",
              "    fill: var(--disabled-fill-color);\n",
              "    box-shadow: none;\n",
              "  }\n",
              "\n",
              "  .colab-df-spinner {\n",
              "    border: 2px solid var(--fill-color);\n",
              "    border-color: transparent;\n",
              "    border-bottom-color: var(--fill-color);\n",
              "    animation:\n",
              "      spin 1s steps(1) infinite;\n",
              "  }\n",
              "\n",
              "  @keyframes spin {\n",
              "    0% {\n",
              "      border-color: transparent;\n",
              "      border-bottom-color: var(--fill-color);\n",
              "      border-left-color: var(--fill-color);\n",
              "    }\n",
              "    20% {\n",
              "      border-color: transparent;\n",
              "      border-left-color: var(--fill-color);\n",
              "      border-top-color: var(--fill-color);\n",
              "    }\n",
              "    30% {\n",
              "      border-color: transparent;\n",
              "      border-left-color: var(--fill-color);\n",
              "      border-top-color: var(--fill-color);\n",
              "      border-right-color: var(--fill-color);\n",
              "    }\n",
              "    40% {\n",
              "      border-color: transparent;\n",
              "      border-right-color: var(--fill-color);\n",
              "      border-top-color: var(--fill-color);\n",
              "    }\n",
              "    60% {\n",
              "      border-color: transparent;\n",
              "      border-right-color: var(--fill-color);\n",
              "    }\n",
              "    80% {\n",
              "      border-color: transparent;\n",
              "      border-right-color: var(--fill-color);\n",
              "      border-bottom-color: var(--fill-color);\n",
              "    }\n",
              "    90% {\n",
              "      border-color: transparent;\n",
              "      border-bottom-color: var(--fill-color);\n",
              "    }\n",
              "  }\n",
              "</style>\n",
              "\n",
              "      <script>\n",
              "        async function quickchart(key) {\n",
              "          const quickchartButtonEl =\n",
              "            document.querySelector('#' + key + ' button');\n",
              "          quickchartButtonEl.disabled = true;  // To prevent multiple clicks.\n",
              "          quickchartButtonEl.classList.add('colab-df-spinner');\n",
              "          try {\n",
              "            const charts = await google.colab.kernel.invokeFunction(\n",
              "                'suggestCharts', [key], {});\n",
              "          } catch (error) {\n",
              "            console.error('Error during call to suggestCharts:', error);\n",
              "          }\n",
              "          quickchartButtonEl.classList.remove('colab-df-spinner');\n",
              "          quickchartButtonEl.classList.add('colab-df-quickchart-complete');\n",
              "        }\n",
              "        (() => {\n",
              "          let quickchartButtonEl =\n",
              "            document.querySelector('#df-347ec6aa-0612-44aa-87a7-792ebf2a71e0 button');\n",
              "          quickchartButtonEl.style.display =\n",
              "            google.colab.kernel.accessAllowed ? 'block' : 'none';\n",
              "        })();\n",
              "      </script>\n",
              "    </div>\n",
              "\n",
              "    </div>\n",
              "  </div>\n"
            ],
            "application/vnd.google.colaboratory.intrinsic+json": {
              "type": "dataframe",
              "summary": "{\n  \"name\": \"df\",\n  \"rows\": 5,\n  \"fields\": [\n    {\n      \"column\": \"tamanio\",\n      \"properties\": {\n        \"dtype\": \"number\",\n        \"std\": 2,\n        \"min\": 4,\n        \"max\": 10,\n        \"num_unique_values\": 4,\n        \"samples\": [\n          9,\n          7,\n          10\n        ],\n        \"semantic_type\": \"\",\n        \"description\": \"\"\n      }\n    },\n    {\n      \"column\": \"costo_prom\",\n      \"properties\": {\n        \"dtype\": \"number\",\n        \"std\": 0.0705595885369632,\n        \"min\": 1.375,\n        \"max\": 1.57,\n        \"num_unique_values\": 5,\n        \"samples\": [\n          1.4567901234567902,\n          1.469387755102041,\n          1.4375\n        ],\n        \"semantic_type\": \"\",\n        \"description\": \"\"\n      }\n    },\n    {\n      \"column\": \"var_costo\",\n      \"properties\": {\n        \"dtype\": \"number\",\n        \"std\": 0.05783934814220297,\n        \"min\": 0.484375,\n        \"max\": 0.62109375,\n        \"num_unique_values\": 5,\n        \"samples\": [\n          0.5197378448407256,\n          0.49396084964598075,\n          0.62109375\n        ],\n        \"semantic_type\": \"\",\n        \"description\": \"\"\n      }\n    },\n    {\n      \"column\": \"densidad_cost3\",\n      \"properties\": {\n        \"dtype\": \"number\",\n        \"std\": 0.0253961510552723,\n        \"min\": 0.0625,\n        \"max\": 0.125,\n        \"num_unique_values\": 5,\n        \"samples\": [\n          0.12345679012345678,\n          0.10204081632653061,\n          0.125\n        ],\n        \"semantic_type\": \"\",\n        \"description\": \"\"\n      }\n    },\n    {\n      \"column\": \"costo_BFS\",\n      \"properties\": {\n        \"dtype\": \"object\",\n        \"semantic_type\": \"\",\n        \"description\": \"\"\n      }\n    },\n    {\n      \"column\": \"costo_A*\",\n      \"properties\": {\n        \"dtype\": \"object\",\n        \"semantic_type\": \"\",\n        \"description\": \"\"\n      }\n    },\n    {\n      \"column\": \"costo_UCS\",\n      \"properties\": {\n        \"dtype\": \"object\",\n        \"semantic_type\": \"\",\n        \"description\": \"\"\n      }\n    },\n    {\n      \"column\": \"costo_Greedy\",\n      \"properties\": {\n        \"dtype\": \"object\",\n        \"semantic_type\": \"\",\n        \"description\": \"\"\n      }\n    },\n    {\n      \"column\": \"mejor_alg\",\n      \"properties\": {\n        \"dtype\": \"category\",\n        \"num_unique_values\": 2,\n        \"samples\": [\n          \"Greedy\",\n          \"A*\"\n        ],\n        \"semantic_type\": \"\",\n        \"description\": \"\"\n      }\n    }\n  ]\n}"
            }
          },
          "metadata": {},
          "execution_count": 21
        }
      ]
    },
    {
      "cell_type": "code",
      "source": [
        "# eliminar tableros duplicados\n",
        "print(\"Tamaño con duplicados:\", df.shape)\n",
        "df.drop_duplicates(inplace=True)\n",
        "print(\"Tamaño sin duplicados:\", df.shape)"
      ],
      "metadata": {
        "colab": {
          "base_uri": "https://localhost:8080/",
          "height": 436
        },
        "id": "Xjl03A-G4RY5",
        "outputId": "1c737c3c-3620-4bea-a85b-792a2b845f1f"
      },
      "execution_count": 26,
      "outputs": [
        {
          "output_type": "stream",
          "name": "stdout",
          "text": [
            "Tamaño con duplicados: (1000, 9)\n"
          ]
        },
        {
          "output_type": "error",
          "ename": "TypeError",
          "evalue": "unhashable type: 'list'",
          "traceback": [
            "\u001b[0;31m---------------------------------------------------------------------------\u001b[0m",
            "\u001b[0;31mTypeError\u001b[0m                                 Traceback (most recent call last)",
            "\u001b[0;32m/tmp/ipython-input-2939308520.py\u001b[0m in \u001b[0;36m<cell line: 0>\u001b[0;34m()\u001b[0m\n\u001b[1;32m      1\u001b[0m \u001b[0;31m# eliminar tableros duplicados\u001b[0m\u001b[0;34m\u001b[0m\u001b[0;34m\u001b[0m\u001b[0m\n\u001b[1;32m      2\u001b[0m \u001b[0mprint\u001b[0m\u001b[0;34m(\u001b[0m\u001b[0;34m\"Tamaño con duplicados:\"\u001b[0m\u001b[0;34m,\u001b[0m \u001b[0mdf\u001b[0m\u001b[0;34m.\u001b[0m\u001b[0mshape\u001b[0m\u001b[0;34m)\u001b[0m\u001b[0;34m\u001b[0m\u001b[0;34m\u001b[0m\u001b[0m\n\u001b[0;32m----> 3\u001b[0;31m \u001b[0mdf\u001b[0m\u001b[0;34m.\u001b[0m\u001b[0mdrop_duplicates\u001b[0m\u001b[0;34m(\u001b[0m\u001b[0minplace\u001b[0m\u001b[0;34m=\u001b[0m\u001b[0;32mTrue\u001b[0m\u001b[0;34m)\u001b[0m\u001b[0;34m\u001b[0m\u001b[0;34m\u001b[0m\u001b[0m\n\u001b[0m\u001b[1;32m      4\u001b[0m \u001b[0mprint\u001b[0m\u001b[0;34m(\u001b[0m\u001b[0;34m\"Tamaño sin duplicados:\"\u001b[0m\u001b[0;34m,\u001b[0m \u001b[0mdf\u001b[0m\u001b[0;34m.\u001b[0m\u001b[0mshape\u001b[0m\u001b[0;34m)\u001b[0m\u001b[0;34m\u001b[0m\u001b[0;34m\u001b[0m\u001b[0m\n",
            "\u001b[0;32m/usr/local/lib/python3.12/dist-packages/pandas/core/frame.py\u001b[0m in \u001b[0;36mdrop_duplicates\u001b[0;34m(self, subset, keep, inplace, ignore_index)\u001b[0m\n\u001b[1;32m   6816\u001b[0m         \u001b[0mignore_index\u001b[0m \u001b[0;34m=\u001b[0m \u001b[0mvalidate_bool_kwarg\u001b[0m\u001b[0;34m(\u001b[0m\u001b[0mignore_index\u001b[0m\u001b[0;34m,\u001b[0m \u001b[0;34m\"ignore_index\"\u001b[0m\u001b[0;34m)\u001b[0m\u001b[0;34m\u001b[0m\u001b[0;34m\u001b[0m\u001b[0m\n\u001b[1;32m   6817\u001b[0m \u001b[0;34m\u001b[0m\u001b[0m\n\u001b[0;32m-> 6818\u001b[0;31m         \u001b[0mresult\u001b[0m \u001b[0;34m=\u001b[0m \u001b[0mself\u001b[0m\u001b[0;34m[\u001b[0m\u001b[0;34m-\u001b[0m\u001b[0mself\u001b[0m\u001b[0;34m.\u001b[0m\u001b[0mduplicated\u001b[0m\u001b[0;34m(\u001b[0m\u001b[0msubset\u001b[0m\u001b[0;34m,\u001b[0m \u001b[0mkeep\u001b[0m\u001b[0;34m=\u001b[0m\u001b[0mkeep\u001b[0m\u001b[0;34m)\u001b[0m\u001b[0;34m]\u001b[0m\u001b[0;34m\u001b[0m\u001b[0;34m\u001b[0m\u001b[0m\n\u001b[0m\u001b[1;32m   6819\u001b[0m         \u001b[0;32mif\u001b[0m \u001b[0mignore_index\u001b[0m\u001b[0;34m:\u001b[0m\u001b[0;34m\u001b[0m\u001b[0;34m\u001b[0m\u001b[0m\n\u001b[1;32m   6820\u001b[0m             \u001b[0mresult\u001b[0m\u001b[0;34m.\u001b[0m\u001b[0mindex\u001b[0m \u001b[0;34m=\u001b[0m \u001b[0mdefault_index\u001b[0m\u001b[0;34m(\u001b[0m\u001b[0mlen\u001b[0m\u001b[0;34m(\u001b[0m\u001b[0mresult\u001b[0m\u001b[0;34m)\u001b[0m\u001b[0;34m)\u001b[0m\u001b[0;34m\u001b[0m\u001b[0;34m\u001b[0m\u001b[0m\n",
            "\u001b[0;32m/usr/local/lib/python3.12/dist-packages/pandas/core/frame.py\u001b[0m in \u001b[0;36mduplicated\u001b[0;34m(self, subset, keep)\u001b[0m\n\u001b[1;32m   6956\u001b[0m         \u001b[0;32melse\u001b[0m\u001b[0;34m:\u001b[0m\u001b[0;34m\u001b[0m\u001b[0;34m\u001b[0m\u001b[0m\n\u001b[1;32m   6957\u001b[0m             \u001b[0mvals\u001b[0m \u001b[0;34m=\u001b[0m \u001b[0;34m(\u001b[0m\u001b[0mcol\u001b[0m\u001b[0;34m.\u001b[0m\u001b[0mvalues\u001b[0m \u001b[0;32mfor\u001b[0m \u001b[0mname\u001b[0m\u001b[0;34m,\u001b[0m \u001b[0mcol\u001b[0m \u001b[0;32min\u001b[0m \u001b[0mself\u001b[0m\u001b[0;34m.\u001b[0m\u001b[0mitems\u001b[0m\u001b[0;34m(\u001b[0m\u001b[0;34m)\u001b[0m \u001b[0;32mif\u001b[0m \u001b[0mname\u001b[0m \u001b[0;32min\u001b[0m \u001b[0msubset\u001b[0m\u001b[0;34m)\u001b[0m\u001b[0;34m\u001b[0m\u001b[0;34m\u001b[0m\u001b[0m\n\u001b[0;32m-> 6958\u001b[0;31m             \u001b[0mlabels\u001b[0m\u001b[0;34m,\u001b[0m \u001b[0mshape\u001b[0m \u001b[0;34m=\u001b[0m \u001b[0mmap\u001b[0m\u001b[0;34m(\u001b[0m\u001b[0mlist\u001b[0m\u001b[0;34m,\u001b[0m \u001b[0mzip\u001b[0m\u001b[0;34m(\u001b[0m\u001b[0;34m*\u001b[0m\u001b[0mmap\u001b[0m\u001b[0;34m(\u001b[0m\u001b[0mf\u001b[0m\u001b[0;34m,\u001b[0m \u001b[0mvals\u001b[0m\u001b[0;34m)\u001b[0m\u001b[0;34m)\u001b[0m\u001b[0;34m)\u001b[0m\u001b[0;34m\u001b[0m\u001b[0;34m\u001b[0m\u001b[0m\n\u001b[0m\u001b[1;32m   6959\u001b[0m \u001b[0;34m\u001b[0m\u001b[0m\n\u001b[1;32m   6960\u001b[0m             \u001b[0mids\u001b[0m \u001b[0;34m=\u001b[0m \u001b[0mget_group_index\u001b[0m\u001b[0;34m(\u001b[0m\u001b[0mlabels\u001b[0m\u001b[0;34m,\u001b[0m \u001b[0mtuple\u001b[0m\u001b[0;34m(\u001b[0m\u001b[0mshape\u001b[0m\u001b[0;34m)\u001b[0m\u001b[0;34m,\u001b[0m \u001b[0msort\u001b[0m\u001b[0;34m=\u001b[0m\u001b[0;32mFalse\u001b[0m\u001b[0;34m,\u001b[0m \u001b[0mxnull\u001b[0m\u001b[0;34m=\u001b[0m\u001b[0;32mFalse\u001b[0m\u001b[0;34m)\u001b[0m\u001b[0;34m\u001b[0m\u001b[0;34m\u001b[0m\u001b[0m\n",
            "\u001b[0;32m/usr/local/lib/python3.12/dist-packages/pandas/core/frame.py\u001b[0m in \u001b[0;36mf\u001b[0;34m(vals)\u001b[0m\n\u001b[1;32m   6924\u001b[0m \u001b[0;34m\u001b[0m\u001b[0m\n\u001b[1;32m   6925\u001b[0m         \u001b[0;32mdef\u001b[0m \u001b[0mf\u001b[0m\u001b[0;34m(\u001b[0m\u001b[0mvals\u001b[0m\u001b[0;34m)\u001b[0m \u001b[0;34m->\u001b[0m \u001b[0mtuple\u001b[0m\u001b[0;34m[\u001b[0m\u001b[0mnp\u001b[0m\u001b[0;34m.\u001b[0m\u001b[0mndarray\u001b[0m\u001b[0;34m,\u001b[0m \u001b[0mint\u001b[0m\u001b[0;34m]\u001b[0m\u001b[0;34m:\u001b[0m\u001b[0;34m\u001b[0m\u001b[0;34m\u001b[0m\u001b[0m\n\u001b[0;32m-> 6926\u001b[0;31m             \u001b[0mlabels\u001b[0m\u001b[0;34m,\u001b[0m \u001b[0mshape\u001b[0m \u001b[0;34m=\u001b[0m \u001b[0malgorithms\u001b[0m\u001b[0;34m.\u001b[0m\u001b[0mfactorize\u001b[0m\u001b[0;34m(\u001b[0m\u001b[0mvals\u001b[0m\u001b[0;34m,\u001b[0m \u001b[0msize_hint\u001b[0m\u001b[0;34m=\u001b[0m\u001b[0mlen\u001b[0m\u001b[0;34m(\u001b[0m\u001b[0mself\u001b[0m\u001b[0;34m)\u001b[0m\u001b[0;34m)\u001b[0m\u001b[0;34m\u001b[0m\u001b[0;34m\u001b[0m\u001b[0m\n\u001b[0m\u001b[1;32m   6927\u001b[0m             \u001b[0;32mreturn\u001b[0m \u001b[0mlabels\u001b[0m\u001b[0;34m.\u001b[0m\u001b[0mastype\u001b[0m\u001b[0;34m(\u001b[0m\u001b[0;34m\"i8\"\u001b[0m\u001b[0;34m,\u001b[0m \u001b[0mcopy\u001b[0m\u001b[0;34m=\u001b[0m\u001b[0;32mFalse\u001b[0m\u001b[0;34m)\u001b[0m\u001b[0;34m,\u001b[0m \u001b[0mlen\u001b[0m\u001b[0;34m(\u001b[0m\u001b[0mshape\u001b[0m\u001b[0;34m)\u001b[0m\u001b[0;34m\u001b[0m\u001b[0;34m\u001b[0m\u001b[0m\n\u001b[1;32m   6928\u001b[0m \u001b[0;34m\u001b[0m\u001b[0m\n",
            "\u001b[0;32m/usr/local/lib/python3.12/dist-packages/pandas/core/algorithms.py\u001b[0m in \u001b[0;36mfactorize\u001b[0;34m(values, sort, use_na_sentinel, size_hint)\u001b[0m\n\u001b[1;32m    793\u001b[0m                 \u001b[0mvalues\u001b[0m \u001b[0;34m=\u001b[0m \u001b[0mnp\u001b[0m\u001b[0;34m.\u001b[0m\u001b[0mwhere\u001b[0m\u001b[0;34m(\u001b[0m\u001b[0mnull_mask\u001b[0m\u001b[0;34m,\u001b[0m \u001b[0mna_value\u001b[0m\u001b[0;34m,\u001b[0m \u001b[0mvalues\u001b[0m\u001b[0;34m)\u001b[0m\u001b[0;34m\u001b[0m\u001b[0;34m\u001b[0m\u001b[0m\n\u001b[1;32m    794\u001b[0m \u001b[0;34m\u001b[0m\u001b[0m\n\u001b[0;32m--> 795\u001b[0;31m         codes, uniques = factorize_array(\n\u001b[0m\u001b[1;32m    796\u001b[0m             \u001b[0mvalues\u001b[0m\u001b[0;34m,\u001b[0m\u001b[0;34m\u001b[0m\u001b[0;34m\u001b[0m\u001b[0m\n\u001b[1;32m    797\u001b[0m             \u001b[0muse_na_sentinel\u001b[0m\u001b[0;34m=\u001b[0m\u001b[0muse_na_sentinel\u001b[0m\u001b[0;34m,\u001b[0m\u001b[0;34m\u001b[0m\u001b[0;34m\u001b[0m\u001b[0m\n",
            "\u001b[0;32m/usr/local/lib/python3.12/dist-packages/pandas/core/algorithms.py\u001b[0m in \u001b[0;36mfactorize_array\u001b[0;34m(values, use_na_sentinel, size_hint, na_value, mask)\u001b[0m\n\u001b[1;32m    593\u001b[0m \u001b[0;34m\u001b[0m\u001b[0m\n\u001b[1;32m    594\u001b[0m     \u001b[0mtable\u001b[0m \u001b[0;34m=\u001b[0m \u001b[0mhash_klass\u001b[0m\u001b[0;34m(\u001b[0m\u001b[0msize_hint\u001b[0m \u001b[0;32mor\u001b[0m \u001b[0mlen\u001b[0m\u001b[0;34m(\u001b[0m\u001b[0mvalues\u001b[0m\u001b[0;34m)\u001b[0m\u001b[0;34m)\u001b[0m\u001b[0;34m\u001b[0m\u001b[0;34m\u001b[0m\u001b[0m\n\u001b[0;32m--> 595\u001b[0;31m     uniques, codes = table.factorize(\n\u001b[0m\u001b[1;32m    596\u001b[0m         \u001b[0mvalues\u001b[0m\u001b[0;34m,\u001b[0m\u001b[0;34m\u001b[0m\u001b[0;34m\u001b[0m\u001b[0m\n\u001b[1;32m    597\u001b[0m         \u001b[0mna_sentinel\u001b[0m\u001b[0;34m=\u001b[0m\u001b[0;34m-\u001b[0m\u001b[0;36m1\u001b[0m\u001b[0;34m,\u001b[0m\u001b[0;34m\u001b[0m\u001b[0;34m\u001b[0m\u001b[0m\n",
            "\u001b[0;32mpandas/_libs/hashtable_class_helper.pxi\u001b[0m in \u001b[0;36mpandas._libs.hashtable.PyObjectHashTable.factorize\u001b[0;34m()\u001b[0m\n",
            "\u001b[0;32mpandas/_libs/hashtable_class_helper.pxi\u001b[0m in \u001b[0;36mpandas._libs.hashtable.PyObjectHashTable._unique\u001b[0;34m()\u001b[0m\n",
            "\u001b[0;31mTypeError\u001b[0m: unhashable type: 'list'"
          ]
        }
      ]
    },
    {
      "cell_type": "code",
      "source": [
        "# eliminar tableros con algún dato nulo\n",
        "# (no debería darse el caso, pero por lo agrego por las dudas)\n",
        "print(\"Tamaño con nulos:\", df.shape)\n",
        "df.dropna(inplace=True)\n",
        "print(\"Tamaño sin nulos:\", df.shape)"
      ],
      "metadata": {
        "id": "ejFbIsx-77Fc"
      },
      "execution_count": null,
      "outputs": []
    },
    {
      "cell_type": "markdown",
      "source": [
        "### 📈 3.4. Visualización de distribuciones"
      ],
      "metadata": {
        "id": "FsMmiHl1JqNT"
      }
    },
    {
      "cell_type": "code",
      "source": [
        "sns.countplot(data=df, x=\"mejor_alg\", palette=\"viridis\", hue=\"mejor_alg\")\n",
        "plt.title(\"Frecuencia del algoritmo más eficiente\")\n",
        "plt.show()"
      ],
      "metadata": {
        "id": "S3Vr2esLJuPh"
      },
      "execution_count": null,
      "outputs": []
    },
    {
      "cell_type": "markdown",
      "source": [
        "### 📈 3.5. Correlaciones"
      ],
      "metadata": {
        "id": "3vqQ2Gel8-WE"
      }
    },
    {
      "cell_type": "code",
      "source": [
        "# TODO: CONTINUAR ACA !!!\n",
        "\n",
        "df_numerico = df.copy()\n",
        "df_numerico[\"mejor_alg\"] = df_numerico[\"mejor_alg\"].astype(\"category\").cat.codes\n",
        "\n",
        "# Calcular la matriz de correlación\n",
        "corr = df_numerico.corr(numeric_only=True)\n",
        "\n",
        "# Crear el mapa de calor\n",
        "plt.figure(figsize=(8,6))\n",
        "sns.heatmap(\n",
        "    corr,\n",
        "    annot=True,\n",
        "    cmap=\"coolwarm\",\n",
        "    center=0,\n",
        "    fmt=\".2f\",\n",
        "    linewidths=0.5,\n",
        "    square=True\n",
        ")\n",
        "plt.title(\"Mapa de calor de correlaciones entre variables del dataset\", fontsize=14)\n",
        "plt.show()"
      ],
      "metadata": {
        "id": "slfmpCRD9AUH"
      },
      "execution_count": null,
      "outputs": []
    },
    {
      "cell_type": "markdown",
      "source": [
        "## 🧠 Parte 4 - Modelo con Red Neuronal (TensorFlow/Keras)"
      ],
      "metadata": {
        "id": "_5HJrj0sOhpJ"
      }
    },
    {
      "cell_type": "markdown",
      "source": [
        "### 📚 4.1. Bibliotecas necesarias"
      ],
      "metadata": {
        "id": "NoXSsTvwysL0"
      }
    },
    {
      "cell_type": "code",
      "source": [
        "!pip install tensorflow scikit-learn"
      ],
      "metadata": {
        "id": "MBdNBipzy9Pd",
        "collapsed": true
      },
      "execution_count": null,
      "outputs": []
    },
    {
      "cell_type": "markdown",
      "source": [
        "### 🧩 4.2. Importaciones y configuración inicial"
      ],
      "metadata": {
        "id": "ygBnUUr1zxHw"
      }
    },
    {
      "cell_type": "code",
      "source": [
        "import numpy as np\n",
        "\n",
        "from sklearn.preprocessing import LabelEncoder, StandardScaler\n",
        "from sklearn.model_selection import train_test_split\n",
        "from sklearn.metrics import confusion_matrix, classification_report\n",
        "\n",
        "import tensorflow as tf\n",
        "from tensorflow.keras import layers, models\n",
        "\n",
        "import pickle"
      ],
      "metadata": {
        "id": "qNGe1s-OzyUg"
      },
      "execution_count": null,
      "outputs": []
    },
    {
      "cell_type": "markdown",
      "source": [
        "### 📦 4.3 Cargar el dataset"
      ],
      "metadata": {
        "id": "uVm3h1xqB_tP"
      }
    },
    {
      "cell_type": "markdown",
      "source": [
        "Al cargar un dataset fijo, en lugar de simplemente tomar la variable **df** de memoria, garantizo la previsibilidad de los datos al momento del entrenamiento."
      ],
      "metadata": {
        "id": "6aCFiBBUCIEa"
      }
    },
    {
      "cell_type": "code",
      "source": [
        "ds_path = \"https://github.com/andres-garcia-alves/issd-dsia/raw/refs/heads/main/Proyecto-Final/miscelaneos/dataset_busquedas.csv\"\n",
        "# ds_path = \"dataset_busquedas.csv\"\n",
        "\n",
        "df = pd.read_csv(ds_path)"
      ],
      "metadata": {
        "id": "ePtvXxgnClGN"
      },
      "execution_count": null,
      "outputs": []
    },
    {
      "cell_type": "code",
      "source": [
        "df.sample(5)"
      ],
      "metadata": {
        "id": "k8xfKAI5JQUQ"
      },
      "execution_count": null,
      "outputs": []
    },
    {
      "cell_type": "markdown",
      "source": [
        "### 🔹 4.4. Codificación y Normalización"
      ],
      "metadata": {
        "id": "1w8CEzZROFQ6"
      }
    },
    {
      "cell_type": "code",
      "source": [
        "# Codificar la variable objetivo\n",
        "le = LabelEncoder()\n",
        "df['mejor_alg_enc'] = le.fit_transform(df['mejor_alg'])\n",
        "\n",
        "# Features y etiquetas\n",
        "x = df[['tamanio', 'costo_prom', 'var_costo', 'densidad_cost3']]\n",
        "y = df['mejor_alg_enc']\n",
        "\n",
        "# Escalar las features\n",
        "scaler = StandardScaler()\n",
        "x_scaled = scaler.fit_transform(x)\n",
        "\n",
        "# Separación de los datos en train/test\n",
        "x_train, x_test, y_train, y_test = train_test_split(x_scaled, y, test_size=0.2, random_state=1234) # stratify=y,\n",
        "\n",
        "print(\"x_train shape:\", x_train.shape)\n",
        "print(\"Clases codificadas:\", dict(zip(le.classes_, le.transform(le.classes_))))"
      ],
      "metadata": {
        "id": "N1Kjz4eSOHAW"
      },
      "execution_count": null,
      "outputs": []
    },
    {
      "cell_type": "markdown",
      "source": [
        "### 🧱 4.5. Definición de la Red Neuronal"
      ],
      "metadata": {
        "id": "1a-SgS_aOLUh"
      }
    },
    {
      "cell_type": "code",
      "source": [
        "n_clases = len(le.classes_)\n",
        "\n",
        "model = models.Sequential([\n",
        "    layers.Input(shape=(x_train.shape[1],)),\n",
        "    layers.Dense(16, activation='relu'),\n",
        "    layers.Dense(8, activation='relu'),\n",
        "    layers.Dense(n_clases, activation='softmax')\n",
        "])\n",
        "\n",
        "model.compile(optimizer='adam', loss='sparse_categorical_crossentropy', metrics=['accuracy'])\n",
        "model.summary()"
      ],
      "metadata": {
        "id": "tCK40lx1OND4"
      },
      "execution_count": null,
      "outputs": []
    },
    {
      "cell_type": "markdown",
      "source": [
        "### 🚀 4.6. Entrenamiento del modelo"
      ],
      "metadata": {
        "id": "Wfa0BVLmOWAy"
      }
    },
    {
      "cell_type": "code",
      "source": [
        "history = model.fit(x_train, y_train, epochs=50, batch_size=16, validation_split=0.2, verbose=1)"
      ],
      "metadata": {
        "collapsed": true,
        "id": "m4x-y7uUOWiD"
      },
      "execution_count": null,
      "outputs": []
    },
    {
      "cell_type": "markdown",
      "source": [
        "### 📈 4.7. Visualización del entrenamiento"
      ],
      "metadata": {
        "id": "NfrZYX_hOcKl"
      }
    },
    {
      "cell_type": "code",
      "source": [
        "plt.figure(figsize=(8,4))\n",
        "plt.plot(history.history['accuracy'], label='Entrenamiento')\n",
        "plt.plot(history.history['val_accuracy'], label='Validación')\n",
        "plt.title('Evolución de la accuracy')\n",
        "plt.legend()\n",
        "plt.xlabel('Epochs')\n",
        "plt.ylabel('Accuracy')\n",
        "plt.show()"
      ],
      "metadata": {
        "id": "LtGsLCJrOdm2"
      },
      "execution_count": null,
      "outputs": []
    },
    {
      "cell_type": "markdown",
      "source": [
        "### 🧪 4.8. Evaluación final"
      ],
      "metadata": {
        "id": "hhnZuh2WPFcb"
      }
    },
    {
      "cell_type": "code",
      "source": [
        "loss, acc = model.evaluate(x_test, y_test, verbose=0)\n",
        "print(f\"Exactitud en test: {acc*100:.1f}%\")"
      ],
      "metadata": {
        "id": "TfOMTeIzPGWr"
      },
      "execution_count": null,
      "outputs": []
    },
    {
      "cell_type": "markdown",
      "source": [
        "### 🔍 4.9. Predicciones y Matriz de Confusión"
      ],
      "metadata": {
        "id": "uXQ7ZoP6PJ1w"
      }
    },
    {
      "cell_type": "code",
      "source": [
        "y_pred = np.argmax(model.predict(x_test), axis=1)\n",
        "\n",
        "print(\"\\nReporte de clasificación:\")\n",
        "print(classification_report(y_test, y_pred, target_names=le.classes_, zero_division=0))"
      ],
      "metadata": {
        "id": "JLy79dC0PKXx"
      },
      "execution_count": null,
      "outputs": []
    },
    {
      "cell_type": "code",
      "source": [
        "cm = confusion_matrix(y_test, y_pred)\n",
        "sns.heatmap(cm, annot=True, fmt=\"d\", cmap=\"Blues\", xticklabels=le.classes_, yticklabels=le.classes_)\n",
        "plt.title(\"Matriz de confusión\")\n",
        "plt.xlabel(\"Predicho\")\n",
        "plt.ylabel(\"Verdadero\")\n",
        "plt.show()"
      ],
      "metadata": {
        "id": "u93yI2u4PNxX"
      },
      "execution_count": null,
      "outputs": []
    },
    {
      "cell_type": "markdown",
      "source": [
        "### 🧭 4.10. Exportar el modelo (para Streamlit)"
      ],
      "metadata": {
        "id": "zpzTEH2MaVUl"
      }
    },
    {
      "cell_type": "code",
      "source": [
        "model.save(\"./red_neuronal.keras\")\n",
        "pickle.dump((scaler, le), open(\"./objetos.pkl\", \"wb\"))"
      ],
      "metadata": {
        "id": "FdkUWfyAaUME"
      },
      "execution_count": null,
      "outputs": []
    },
    {
      "cell_type": "markdown",
      "source": [
        "## 🎮 Parte 5 - Visualización del Tablero y la Ruta"
      ],
      "metadata": {
        "id": "vrGflOjuPhx_"
      }
    },
    {
      "cell_type": "markdown",
      "source": [
        "La idea es:\n",
        "\n",
        "- Generar un nuevo tablero aleatorio.\n",
        "- Calcular sus características (features).\n",
        "- Hacer que la red neuronal prediga el algoritmo más conveniente.\n",
        "- Ejecutar ese algoritmo y mostrar la ruta sobre el tablero con colores."
      ],
      "metadata": {
        "id": "Scy9ae4dPsWv"
      }
    },
    {
      "cell_type": "markdown",
      "source": [
        "### 📚 5.1. Bibliotecas necesarias"
      ],
      "metadata": {
        "id": "5HD8yKY1I7-U"
      }
    },
    {
      "cell_type": "code",
      "source": [
        "import matplotlib.pyplot as plt\n",
        "import matplotlib.image as mpimg\n",
        "from matplotlib.offsetbox import OffsetImage, AnnotationBbox\n",
        "from matplotlib.animation import FuncAnimation\n",
        "from IPython.display import HTML, Image\n",
        "import PIL.Image\n",
        "import urllib.request"
      ],
      "metadata": {
        "id": "LqMOl65YJF6H"
      },
      "execution_count": null,
      "outputs": []
    },
    {
      "cell_type": "markdown",
      "source": [
        "### 📦 5.2. Función de predicción"
      ],
      "metadata": {
        "id": "OkiAP_UTPwdy"
      }
    },
    {
      "cell_type": "code",
      "source": [
        "# Predice el mejor algoritmo usando el modelo entrenado\n",
        "def predecir_algoritmo(tablero, verbose=1):\n",
        "    tamanio = tablero.shape[0]\n",
        "    costo_prom = tablero.mean()\n",
        "    varianza = tablero.var()\n",
        "    densidad_cost3 = np.mean(tablero == 3)\n",
        "\n",
        "    columnas = [\"tamanio\", \"costo_prom\", \"var_costo\", \"densidad_cost3\"]\n",
        "    features = pd.DataFrame([[tamanio, costo_prom, varianza, densidad_cost3]], columns=columnas)\n",
        "\n",
        "    features_scaled = scaler.transform(features)\n",
        "\n",
        "    predicciones = model.predict(features_scaled, verbose=verbose)\n",
        "\n",
        "    pred_alg = np.argmax(predicciones, axis=1)[0]\n",
        "    pred_alg = le.inverse_transform([pred_alg])[0]\n",
        "    return pred_alg, predicciones"
      ],
      "metadata": {
        "id": "hGkqA72TPw7i"
      },
      "execution_count": null,
      "outputs": []
    },
    {
      "cell_type": "markdown",
      "source": [
        "### 🛠️ 5.3. Funciones auxiliares"
      ],
      "metadata": {
        "id": "ZD59wbQgLdEu"
      }
    },
    {
      "cell_type": "code",
      "source": [
        "# Ejecutar un algoritmo real sobre un tablero\n",
        "def ejecutar_algoritmo(tablero, algoritmo=\"A*\"):\n",
        "  costo, nodos, tiempo, camino = None, None, None, None\n",
        "\n",
        "  # Ejecutar el algoritmo elegido\n",
        "  if alg_pred == \"BFS\":\n",
        "      costo, nodos, tiempo, camino = busqueda_bfs(tablero_test)\n",
        "  elif alg_pred == \"UCS\":\n",
        "      costo, nodos, tiempo, camino = busqueda_generica(tablero_test, algoritmo=\"UCS\")\n",
        "  elif alg_pred == \"Greedy\":\n",
        "      costo, nodos, tiempo, camino = busqueda_generica(tablero_test, algoritmo=\"Greedy\")\n",
        "  elif alg_pred == \"A*\":\n",
        "      costo, nodos, tiempo, camino = busqueda_generica(tablero_test, algoritmo=\"A*\")\n",
        "\n",
        "  return costo, nodos, tiempo, camino"
      ],
      "metadata": {
        "id": "JD1vnLSKKNIH"
      },
      "execution_count": null,
      "outputs": []
    },
    {
      "cell_type": "markdown",
      "source": [
        "### 🗺️ 5.4. Visualizaciones del tablero"
      ],
      "metadata": {
        "id": "B1JuKc2xPzpX"
      }
    },
    {
      "cell_type": "code",
      "source": [
        "# Muestra el tablero, y opcionalmente el camino recorrido\n",
        "def generar_tablero_estatico(tablero, camino=None, titulo=\"Tablero\"):\n",
        "    n = tablero.shape[0]\n",
        "    fig, ax = plt.subplots(figsize=(6,6))\n",
        "    ax.imshow(tablero, cmap='Blues', origin='upper')\n",
        "\n",
        "    # mostrar los costos en las celdas\n",
        "    for i in range(n):\n",
        "        for j in range(n):\n",
        "            ax.text(j, i, str(tablero[i,j]), ha='center', va='center', color='black', fontsize=12)\n",
        "\n",
        "    # dibujar el camino\n",
        "    if camino:\n",
        "        xs, ys = zip(*camino)\n",
        "        ax.plot(ys, xs, color='red', linewidth=2)\n",
        "\n",
        "    # marcar con círculos el inicio y la meta\n",
        "    ax.scatter(0, 0, c='gold', s=120, label='Inicio')\n",
        "    ax.scatter(n-1, n-1, c='green', s=120, label='Meta')\n",
        "\n",
        "    # graficar\n",
        "    ax.set_title(titulo)\n",
        "    ax.legend(fontsize=8)\n",
        "    plt.show()"
      ],
      "metadata": {
        "id": "86P9j7doP0TG"
      },
      "execution_count": null,
      "outputs": []
    },
    {
      "cell_type": "code",
      "source": [
        "def generar_tablero_animado(tablero, camino, titulo=\"Tablero\", nombre_archivo=\"animacion.gif\"):\n",
        "    n = tablero.shape[0]\n",
        "    fig, ax = plt.subplots(figsize=(6,6))\n",
        "    ax.imshow(tablero, cmap='Blues', origin='upper')\n",
        "\n",
        "    # mostrar los costos en las celdas\n",
        "    for i in range(n):\n",
        "        for j in range(n):\n",
        "            ax.text(j, i, str(tablero[i,j]), ha='center', va='center', color='black', fontsize=12)\n",
        "\n",
        "    # dibujar camino y meta\n",
        "    xs, ys = zip(*camino)\n",
        "    ax.plot(ys, xs, color='red', linewidth=2, alpha=0.4)\n",
        "    ax.scatter(0, 0, c='gold', s=120, label='Inicio')\n",
        "    ax.scatter(n-1, n-1, c='green', s=120, label='Meta')\n",
        "\n",
        "    # cargar la imagen del auto\n",
        "    img_url = \"https://github.com/andres-garcia-alves/issd-dsia/raw/refs/heads/main/Proyecto-Final/miscelaneos/auto.png\"\n",
        "    with urllib.request.urlopen(img_url) as url:\n",
        "        img_data = np.array(PIL.Image.open(url))\n",
        "    imagebox = OffsetImage(img_data, zoom=0.70)\n",
        "    ab = AnnotationBbox(imagebox, camino[0][::-1], frameon=False)\n",
        "    ax.add_artist(ab)\n",
        "\n",
        "    ax.set_title(titulo)\n",
        "    ax.legend(fontsize=8)\n",
        "\n",
        "    # generar interpolaciones (para un movimiento fluido)\n",
        "    posiciones_interp = []\n",
        "    pasos_intermedios = 10\n",
        "    for (x1, y1), (x2, y2) in zip(camino[:-1], camino[1:]):\n",
        "        for t in np.linspace(0, 1, pasos_intermedios, endpoint=False):\n",
        "            xi = x1 + (x2 - x1) * t\n",
        "            yi = y1 + (y2 - y1) * t\n",
        "            posiciones_interp.append((xi, yi))\n",
        "    posiciones_interp.append(camino[-1])  # último punto exacto\n",
        "\n",
        "    # callback invocado por matplotlib por cada frame\n",
        "    def update(frame):\n",
        "        # borrar el auto anterior\n",
        "        for artist in ax.artists: artist.remove()\n",
        "\n",
        "        # dibujar el auto en la nueva posición\n",
        "        x, y = posiciones_interp[frame]\n",
        "        ab_new = AnnotationBbox(imagebox, (y, x), frameon=False)\n",
        "        ax.add_artist(ab_new)\n",
        "\n",
        "        return ab_new,\n",
        "\n",
        "    # crear y guardar el gif de la animación\n",
        "    fps = 25\n",
        "    anim = FuncAnimation(fig, update, frames=len(posiciones_interp), interval = 1000/fps, blit=True, repeat=False)\n",
        "    anim.save(nombre_archivo, writer='pillow', fps=fps)\n",
        "\n",
        "    plt.close(fig)"
      ],
      "metadata": {
        "id": "S3Bimf3BHgd7"
      },
      "execution_count": null,
      "outputs": []
    },
    {
      "cell_type": "markdown",
      "source": [
        "### 🧩 5.5. Ejemplo completo"
      ],
      "metadata": {
        "id": "16-bBJZEP4WS"
      }
    },
    {
      "cell_type": "code",
      "source": [
        "# Generar un tablero aleatorio\n",
        "tablero_test = generar_tablero(n=random.choice([5,6,7]))\n",
        "print(\"Tablero generado:\")\n",
        "print(tablero_test, '\\n')"
      ],
      "metadata": {
        "id": "8VwhZ_yALOmo"
      },
      "execution_count": null,
      "outputs": []
    },
    {
      "cell_type": "code",
      "source": [
        "# Predicción del modelo\n",
        "alg_pred, preds = predecir_algoritmo(tablero_test)\n",
        "print(\"Clasificación:\", preds, '\\n')\n",
        "print(\"Predicción de mejor algoritmo:\", alg_pred)"
      ],
      "metadata": {
        "id": "EgfncC7c4G0C"
      },
      "execution_count": null,
      "outputs": []
    },
    {
      "cell_type": "code",
      "source": [
        "# Ejecutar el algoritmo de búsqueda\n",
        "costo, nodos, tiempo, camino = ejecutar_algoritmo(tablero_test, algoritmo=alg_pred)\n",
        "print(camino)"
      ],
      "metadata": {
        "id": "c5HX57negnuR"
      },
      "execution_count": null,
      "outputs": []
    },
    {
      "cell_type": "code",
      "source": [
        "# Mostrar el tablero y la ruta de forma gráfica\n",
        "print(f\"\\nCosto total: {costo}, Nodos expandidos: {nodos}\")\n",
        "generar_tablero_estatico(tablero_test, camino, titulo=f\"Algoritmo sugerido: {alg_pred}\")"
      ],
      "metadata": {
        "id": "35yLmuJk-XVf"
      },
      "execution_count": null,
      "outputs": []
    },
    {
      "cell_type": "code",
      "source": [
        "# Generar una animación para el tablero y la ruta\n",
        "generar_tablero_animado(tablero=tablero_test, camino=camino, titulo=f\"Algoritmo sugerido: {alg_pred}\", nombre_archivo=\"tablero-animado.gif\")"
      ],
      "metadata": {
        "id": "EDJ3PjoGHoGe"
      },
      "execution_count": null,
      "outputs": []
    },
    {
      "cell_type": "code",
      "source": [
        "# Mostrar la animación para el tablero y la ruta\n",
        "print(f\"\\nCosto total: {costo}, Nodos expandidos: {nodos}\")\n",
        "Image(filename=\"tablero-animado.gif\")  # mostrar el tablero animado"
      ],
      "metadata": {
        "collapsed": true,
        "id": "eZ5ATLXybXwA"
      },
      "execution_count": null,
      "outputs": []
    },
    {
      "cell_type": "markdown",
      "source": [
        "Detalle del gráfico: 🖼️\n",
        "\n",
        "* El tablero con los valores de costo en cada celda.\n",
        "* Inicio (verde) y meta (amarillo).\n",
        "* Camino sugerido (en rojo).\n",
        "* Nombre del algoritmo elegido por la red neuronal."
      ],
      "metadata": {
        "id": "Iyk_eRFdQBqn"
      }
    },
    {
      "cell_type": "markdown",
      "source": [
        "## 📝 Parte 6 - Evaluación del desempeño del modelo"
      ],
      "metadata": {
        "id": "ti_hW_XEQhJk"
      }
    },
    {
      "cell_type": "markdown",
      "source": [
        "### 🧠 6.1. Evaluar si el modelo elige correctamente"
      ],
      "metadata": {
        "id": "XG_X58AKQmYW"
      }
    },
    {
      "cell_type": "markdown",
      "source": [
        "La idea es:\n",
        "\n",
        "- Generar varios tableros nuevos (datos que el modelo no vio durante el entrenamiento).\n",
        "- Calcular cuál algoritmo realmente tiene mejor desempeño (menor costo).\n",
        "- Ver si la red neuronal eligió el correcto.\n",
        "- Calcular la precisión global (accuracy)."
      ],
      "metadata": {
        "id": "uo0qgol55Hnc"
      }
    },
    {
      "cell_type": "markdown",
      "source": [
        "### ✅ 6.2. Evaluar Exactitud"
      ],
      "metadata": {
        "id": "zGVR3If6QwWN"
      }
    },
    {
      "cell_type": "code",
      "source": [
        "def evaluar_modelo(model, n_pruebas=100):\n",
        "    aciertos = 0\n",
        "    total = 0\n",
        "\n",
        "    for _ in range(n_pruebas):\n",
        "        tablero = generar_tablero(n=random.choice([5,6,7,8]))\n",
        "\n",
        "        mejor_alg, detalles = probar_algoritmos(tablero)          # resultados reales\n",
        "        pred_alg, preds = predecir_algoritmo(tablero, verbose=0)  # predicción del modelo\n",
        "\n",
        "        if pred_alg == mejor_alg: aciertos += 1\n",
        "        total += 1\n",
        "\n",
        "    acc = aciertos / total\n",
        "    return acc"
      ],
      "metadata": {
        "id": "vp4FB8IVQq-J"
      },
      "execution_count": null,
      "outputs": []
    },
    {
      "cell_type": "code",
      "source": [
        "acc = evaluar_modelo(model, n_pruebas=100)\n",
        "print(f\"✅ Exactitud al elegir el mejor algoritmo: {acc*100:.1f}%\")"
      ],
      "metadata": {
        "collapsed": true,
        "id": "TapecnIKQtwQ"
      },
      "execution_count": null,
      "outputs": []
    },
    {
      "cell_type": "markdown",
      "source": [
        "💬 Interpretación:\n",
        "\n",
        "* El modelo logra una precisión alrrededor del 90% al seleccionar el algoritmo que efectivamente produce el menor costo de búsqueda.\n",
        "\n",
        "* Esto implica que aprendió una relación entre las características del entorno (tamaño, variabilidad, obstáculos) y el desempeño de cada algoritmo.\n",
        "\n",
        "* En un sistema de GPS, donde el entorno cambia constantemente, este tipo de red podría servir como selector dinámico entre distintos métodos de planificación."
      ],
      "metadata": {
        "id": "1CGC6rEjRIEr"
      }
    },
    {
      "cell_type": "markdown",
      "source": [
        "### 🧩 6.3. Estadísticas por separado"
      ],
      "metadata": {
        "id": "SRZzJeq0RbGv"
      }
    },
    {
      "cell_type": "code",
      "source": [
        "from collections import Counter\n",
        "\n",
        "def evaluar_detallado(model, n_pruebas=100):\n",
        "    resultados = []\n",
        "\n",
        "    for _ in range(n_pruebas):\n",
        "        tablero = generar_tablero(n=random.choice([5,6,7,8]))\n",
        "\n",
        "        mejor_alg, detalles = probar_algoritmos(tablero)          # resultados reales\n",
        "        pred_alg, preds = predecir_algoritmo(tablero, verbose=0)  # predicción del modelo\n",
        "\n",
        "        resultados.append((mejor_alg, pred_alg))\n",
        "\n",
        "    reales, preds = zip(*resultados)\n",
        "    acc = np.mean(np.array(reales) == np.array(preds))\n",
        "\n",
        "    conteo = Counter(resultados)\n",
        "    return conteo"
      ],
      "metadata": {
        "id": "G0TjzfNDReHN"
      },
      "execution_count": null,
      "outputs": []
    },
    {
      "cell_type": "code",
      "source": [
        "conteo = evaluar_detallado(model, n_pruebas=100)\n",
        "conteo"
      ],
      "metadata": {
        "collapsed": true,
        "id": "LXAn5ahTRjJe"
      },
      "execution_count": null,
      "outputs": []
    },
    {
      "cell_type": "code",
      "source": [
        "print(f\"✅ Exactitud: {acc*100:.2f}% \\n\\n\")\n",
        "\n",
        "print(\"📈 Matriz de confusión (real vs predicho):\")\n",
        "conf_matrix = pd.DataFrame({\n",
        "    \"Predijo A*\":     [conteo[('A*', 'A*')],     conteo[('A*', 'UCS')],     conteo[('A*', 'Greedy')],     conteo[('A*', 'BFS')]],\n",
        "    \"Predijo USC\":    [conteo[(\"UCS\", \"A*\")],    conteo[(\"UCS\", \"UCS\")],    conteo[(\"UCS\", \"Greedy\")],    conteo[('UCS', 'BFS')]],\n",
        "    \"Predijo Greedy\": [conteo[(\"Greedy\", \"A*\")], conteo[(\"Greedy\", \"UCS\")], conteo[(\"Greedy\", \"Greedy\")], conteo[('Greedy', 'BFS')]],\n",
        "    \"Predijo BFS\":    [conteo[(\"BFS\", \"A*\")],    conteo[(\"BFS\", \"UCS\")],    conteo[(\"BFS\", \"Greedy\")],    conteo[(\"BFS\", \"BFS\")]]\n",
        "}, index=[\"Real A*\", \"Real UCS\", \"Real Greedy\", \"BFS\"])\n",
        "print(conf_matrix, \"\\n\\n\")\n",
        "\n",
        "print(\"📈 Reporte de clasificación:\")\n",
        "print(classification_report(y_test, y_pred, target_names=le.classes_, zero_division=0))"
      ],
      "metadata": {
        "id": "mwvcqw3CRulr"
      },
      "execution_count": null,
      "outputs": []
    },
    {
      "cell_type": "markdown",
      "source": [
        "## ✒️ Parte 7 - Conclusiones:\n"
      ],
      "metadata": {
        "id": "kaHhc5t4ccqC"
      }
    },
    {
      "cell_type": "markdown",
      "source": [
        "### 💬 7.1. Análisis conceptual"
      ],
      "metadata": {
        "id": "sVurSm1coBGS"
      }
    },
    {
      "cell_type": "markdown",
      "source": [
        "> El entrenamiento del modelo de red neuronal se puede entender como un proceso de búsqueda en el espacio de soluciones (pesos), donde el algoritmo de optimización (Adam) actúa como un agente que minimiza la función de pérdida (loss).  \n",
        "> Este proceso es análogo a los algoritmos de búsqueda informada (como A*) que exploran un espacio de soluciones guiados por una heurística (la función de pérdida, en este caso).  \n",
        "> Así, el modelo aprende a seleccionar el algoritmo de búsqueda más eficiente según las características del tablero, optimizando su desempeño en base a los datos con la experiencia previa (el dataset sintético con las simulaciones)."
      ],
      "metadata": {
        "id": "1pS9TBQkjY5E"
      }
    },
    {
      "cell_type": "markdown",
      "source": [
        "### 💎 7.2. Algunas posibles mejoras"
      ],
      "metadata": {
        "id": "9IwD-FwAq2WI"
      }
    },
    {
      "cell_type": "markdown",
      "source": [
        "- Dataset sintético:\n",
        "  - Aumentar el tamaño de los tableros, por ej. 50x50 o más.\n",
        "  - Tableros rectangulares.\n",
        "  - Posiciones de inicio y meta aleatorias.\n",
        "\n",
        "- Algoritmos:\n",
        "  - Incorporar más algoritmos, por ej. Deep-First Search (DFS).\n",
        "\n",
        "- Red Neuronal:\n",
        "  - Explorar más arquitecturas (nro de capas, funciones de activación, etc) que mejoren la precisión del clasificador.\n",
        "\n",
        "- Deploy (Streamlit):\n",
        "  - Permitir al usuario que 'dibuje' (construya) su propio tablero."
      ],
      "metadata": {
        "id": "WbrlG6Zcq66Z"
      }
    },
    {
      "cell_type": "markdown",
      "source": [
        "### 📌 7.3. Observaciones"
      ],
      "metadata": {
        "id": "JwSm5XjYoGP_"
      }
    },
    {
      "cell_type": "markdown",
      "source": [
        "> Se combinaron técnicas clásicas de búsqueda (BFS, A*, UCS, Greedy) con un modelo de red neuronal entrenado sobre tableros sintéticos.  \n",
        "La IA aprendió a predecir cuál algoritmo tendrá mejor desempeño según las características del entorno, funcionando como un meta-agente adaptativo."
      ],
      "metadata": {
        "id": "Xp9K_aJ8XMeo"
      }
    },
    {
      "cell_type": "markdown",
      "source": [
        "> El sistema no solo sugiere el algoritmo más eficiente según las condiciones del entorno, sino que también muestra visualmente la solución encontrada, permitiendo observar cómo varía la trayectoria óptima según el tipo de heurística y los costos del entorno."
      ],
      "metadata": {
        "id": "Zci93UWrcu1l"
      }
    },
    {
      "cell_type": "markdown",
      "source": [
        "> Adicionalmente, de la sección de Evaluación del Desempeño, demuestro que:\n",
        "> - Los algoritmos clásicos funcionaron correctamente.\n",
        "> - La red neuronal aprendió a decidir inteligentemente cuál usar según las condiciones del entorno.\n",
        "> - Se integran las dos ramas de la materia: algoritmos de búsqueda y aprendizaje automático (TensorFlow/Keras).\n"
      ],
      "metadata": {
        "id": "S5Y_UObxQQ29"
      }
    }
  ]
}