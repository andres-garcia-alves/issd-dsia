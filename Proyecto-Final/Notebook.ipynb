{
  "nbformat": 4,
  "nbformat_minor": 0,
  "metadata": {
    "colab": {
      "provenance": [],
      "collapsed_sections": [
        "FFttqF75OmMY",
        "oM9ObCAgUCWM",
        "XvwKbYIcI2lR",
        "OgppmxMSI6dZ",
        "wAZREy5tI9Jw",
        "NQRd-PBrI_pa",
        "TbEAueIWJF2Y",
        "4la0DEpXJZ2s",
        "gTifgevrIBM3",
        "ifM3BEK6Vbux",
        "CuliC-pFJlzk",
        "JFEh8D0_XDmW",
        "nfnO77-9XBKO",
        "hXn4SgF2W-mT",
        "FsMmiHl1JqNT",
        "Hd2fQB91W8CT",
        "_5HJrj0sOhpJ",
        "NoXSsTvwysL0",
        "ygBnUUr1zxHw",
        "1w8CEzZROFQ6",
        "1a-SgS_aOLUh",
        "Wfa0BVLmOWAy",
        "NfrZYX_hOcKl",
        "hhnZuh2WPFcb",
        "uXQ7ZoP6PJ1w",
        "zpzTEH2MaVUl",
        "vrGflOjuPhx_",
        "OkiAP_UTPwdy",
        "B1JuKc2xPzpX",
        "16-bBJZEP4WS",
        "ti_hW_XEQhJk",
        "XG_X58AKQmYW",
        "zGVR3If6QwWN",
        "SRZzJeq0RbGv",
        "kaHhc5t4ccqC"
      ]
    },
    "kernelspec": {
      "name": "python3",
      "display_name": "Python 3"
    },
    "language_info": {
      "name": "python"
    }
  },
  "cells": [
    {
      "cell_type": "markdown",
      "source": [
        "> #### **ISSD - Desarrollo de Sistemas de Inteligencia Artificial**  \n",
        "> Profesor: Sachi, Julio Mariano  \n",
        "> Alumno: Garcia Alves, Andrés\n"
      ],
      "metadata": {
        "id": "1ApZE6SjJ8Qf"
      }
    },
    {
      "cell_type": "markdown",
      "source": [
        "> GitHub: https://github.com/andres-garcia-alves/issd-dsia/tree/main/Proyecto%20Final  \n",
        "> Notebook: https://colab.research.google.com/drive/1pd5cmNriSxK3FQSHNF0YwUbl6c4cecE0?usp=sharing  \n",
        "> Deploy (Streamlit):  \n"
      ],
      "metadata": {
        "id": "FQYj3R3WG_PF"
      }
    },
    {
      "cell_type": "markdown",
      "source": [
        "## ⭐ Proyecto: Agente de Búsqueda Inteligente en Tableros con Costos"
      ],
      "metadata": {
        "id": "kFxBmkb4J32Q"
      }
    },
    {
      "cell_type": "markdown",
      "source": [
        "## 📚 Parte 1 - Introducción"
      ],
      "metadata": {
        "id": "FFttqF75OmMY"
      }
    },
    {
      "cell_type": "markdown",
      "source": [
        "### 🔍 1.1. Descripción resumida\n",
        "\n",
        "Busco implementar un mini sistema de GPS. 🧭\n",
        "\n",
        "Para ello, un agente inteligente buscará en un tablero generado de forma aleatoria la ruta óptima.\n",
        "\n",
        "El sistema se compone de 2 bloques principales:\n",
        "- Distintos algoritmos de búsqueda (informada y no-informada)\n",
        "- Una red neuronal que elige el algoritmo de búsqueda más eficiente para un tablero dado.\n",
        "\n",
        "Conecto de esta manera los 2 temas principales de la materia, a saber: algoritmos de búsqueda y machine learning."
      ],
      "metadata": {
        "id": "WAF3DxjoNmg7"
      }
    },
    {
      "cell_type": "markdown",
      "source": [
        "### 🧩 1.2. Descripción general\n",
        "\n",
        "Un agente debe desplazarse desde una celda inicial hasta una celda objetivo en el tablero (una grilla) que se genera aleatoriamente, y de dimensiones variables (ej. 4×4, 5x5, 6×6, 8×8, etc).\n",
        "\n",
        "Cada celda tiene un costo distinto de movimiento (1, 2 o 3). Un costo de 1 viene a ser el costo 'normal' de movimiento, luego los costos mayores a 1 simulan ya sean caminos rurales o embotellamientos de tránsito.\n",
        "El agente debe encontrar la ruta de menor costo total.\n",
        "\n",
        "Se implementaran distintos algoritmos de búsqueda (BFS, UCS, A*, Greedy), y luego una red neuronal aprenderá a predecir cuál de ellos es el más eficiente (por tiempo y/o costo total) según las características del tablero recibido."
      ],
      "metadata": {
        "id": "l-L7x99qLlz2"
      }
    },
    {
      "cell_type": "markdown",
      "source": [
        "### ⚙️ 1.3. Descripción técnica\n",
        "\n",
        "Se dispone de un entorno tipo grilla/laberinto (por ejemplo 4x4, 6x6, etc) donde un agente busca la salida minimizando el costo total de movimiento, con casillas que pueden tener distintos pesos (costos).\n",
        "\n",
        "Se implementan distintos algoritmos de búsqueda informada/no-informada:\n",
        "- BFS (búsqueda a lo ancho)\n",
        "- UCS (Uniform Cost Search)\n",
        "- Greedy Best-First Search\n",
        "- A* (con heurística de distancia Manhattan)\n",
        "\n",
        "Luego, se agrega una red neuronal (en TensorFlow/Keras) para predecir cuál algoritmo de búsqueda conviene aplicar, dadas ciertas características del tablero (dimensión, cantidad y distribución de obstáculos, sus costos, etc).\n",
        "\n",
        "Para entrenar la red neuronal se generá un dataset sintético con tableros de múltiples tamaños y disposiciones aleatorias.  \n",
        "Para ello, se reutilizan los algoritmos de búsqueda disponibles en el sistema, bajo el siguiente esquema:\n",
        "- Generar un tablero de tamaño y disposición aleatoria\n",
        "- Pasar el tablero generado por cada uno de los algoritmos de búsqueda disponibles\n",
        "- Evaluar y guardar métricas de desempeño de cada algoritmo en el tablero actual\n",
        "- Repetir N veces los pasos previos en distintos tableros, hasta generar suficientes datos de entrenamiento.\n",
        "\n",
        "La red neuronal estará resolviendo un problema de clasificación: de los datos guardados, las columnas con las métricas serán los features para el entrenamiento, y la columna que identifica al algoritmo que generó esas métricas el target."
      ],
      "metadata": {
        "id": "nTboeIhzbsEg"
      }
    },
    {
      "cell_type": "markdown",
      "source": [
        "### 🏗️ 1.4. Estructura general del Proyecto\n",
        "\n",
        "📘 Proyecto_Final.ipynb  \n",
        "│  \n",
        "├── 1. Generación de tableros sintéticos  \n",
        "├── 2. Implementación de algoritmos de búsqueda  \n",
        "├── 3. Creación del dataset (features + etiqueta)  \n",
        "├── 4. Análisis exploratorio (EDA)  \n",
        "├── 5. Preprocesamiento de datos  \n",
        "├── 6. Red Neuronal (TensorFlow/Keras)  \n",
        "├── 7. Evaluación y métricas  \n",
        "└── 8. Conclusiones  \n",
        "&nbsp;"
      ],
      "metadata": {
        "id": "Hj-T8czTLsHL"
      }
    },
    {
      "cell_type": "markdown",
      "source": [
        "### 🔍 1.5. Implementación de los algoritmos de búsqueda\n",
        "\n",
        "Se implementan versiones simples de:\n",
        "* BFS (Breadth-First Search) → ignora pesos (ideal para comparar).\n",
        "* Uniform Cost Search (Dijkstra)\n",
        "* Greedy Best-First Search → con heurística de distancia Manhattan.\n",
        "* A* → heurística + costo acumulado.\n",
        "\n",
        "Cada algoritmo retorna las siguiente métricas:\n",
        "* costo_total\n",
        "* nodos_expandidos\n",
        "* tiempo_ejecucion\n",
        "\n",
        "Con estas métricas se evalúan y comparan luego sus rendimientos."
      ],
      "metadata": {
        "id": "ka0oeuZQMEm9"
      }
    },
    {
      "cell_type": "markdown",
      "source": [
        "### 🧮 1.6. Creación del dataset\n",
        "\n",
        "Por cada tablero:\n",
        "* Probarlo en los 4 algoritmos.\n",
        "* Calcular y guardar en una fila:\n",
        "  - tamaño\n",
        "  - costo_promedio\n",
        "  - varianza_costos\n",
        "  - densidad_costo_alto\n",
        "  - mejor_algoritmo"
      ],
      "metadata": {
        "id": "cuUlfYTxMT_i"
      }
    },
    {
      "cell_type": "markdown",
      "source": [
        "### 📈 1.7. Análisis Exploratorio (EDA)\n",
        "\n",
        "Se utiliza Matplotlib y Seaborn para visualizar:\n",
        "* Distribución de tamaños de tablero.\n",
        "* Relación entre costo promedio y algoritmo óptimo.\n",
        "* Frecuencia de cada algoritmo como \"óptimo\"."
      ],
      "metadata": {
        "id": "Hk5dlRBOMuFC"
      }
    },
    {
      "cell_type": "markdown",
      "source": [
        "### 🪚 1.8. Preprocesamiento de datos\n",
        "\n",
        "* Convertir etiquetas (nombre del algoritmo) a numéricas (LabelEncoder).\n",
        "* Normalizar variables numéricas (StandardScaler)"
      ],
      "metadata": {
        "id": "wDHwgR09M3kp"
      }
    },
    {
      "cell_type": "markdown",
      "source": [
        "### 🧠 1.9. Red neuronal en TensorFlow/Keras\n",
        "\n",
        "* Un modelo simple de clasificación multiclase\n"
      ],
      "metadata": {
        "id": "7sE8_CUpM971"
      }
    },
    {
      "cell_type": "markdown",
      "source": [
        "### 📝 1.10. Evaluación y métricas\n",
        "\n",
        "Se incluirán:\n",
        "* Exactitud (accuracy)\n",
        "* Matriz de confusión\n",
        "* Reporte de clasificación"
      ],
      "metadata": {
        "id": "l6dX3eiGNF7h"
      }
    },
    {
      "cell_type": "markdown",
      "source": [
        "### 🛠️ 1.11. Bibliotecas utilizadas\n",
        "\n",
        "| Propósito                          | Librería(s)             |\n",
        "| ---------------------------------- | ----------------------- |\n",
        "| Generación y manipulación de datos | `numpy`, `pandas`       |\n",
        "| Visualización                      | `matplotlib`, `seaborn` |\n",
        "| Implementación de búsquedas        | `heapq` (para UCS y A*) |\n",
        "| Red neuronal                       | `tensorflow.keras`      |\n",
        "| Preprocesamiento                   | `sklearn`               |\n",
        "\n",
        "<br/>"
      ],
      "metadata": {
        "id": "tNs1FFPYNafL"
      }
    },
    {
      "cell_type": "markdown",
      "source": [
        "### 🧾 1.12. Estructura del Informe Final\n",
        "\n",
        "| Sección                 | Contenido resumido |\n",
        "| ----------------------- | -------------------|\n",
        "| **Introducción**        | Explicación del problema del agente en el tablero. |\n",
        "|                         | Justificación del interés (búsqueda inteligente, optimización de recursos). |\n",
        "| **Metodología**         | Bibliotecas usadas (`numpy`, `pandas`, `matplotlib`, `tensorflow`, `sklearn`) |\n",
        "|                         | Descripción del proceso de generación de tableros y entrenamiento. |\n",
        "| **Resultados**          | Tablas y gráficos de rendimiento del modelo. |\n",
        "|                         | Ejemplos de tableros y caminos. |\n",
        "| **Análisis conceptual** | Relación entre búsqueda heurística y optimización del modelo neuronal. |\n",
        "| **Conclusión**          | Observaciones y posibles mejoras (ej. tableros más grandes, más algoritmos, etc). |\n",
        "\n",
        "<br/>\n",
        "<br/>"
      ],
      "metadata": {
        "id": "SZfyuA2mNVXx"
      }
    },
    {
      "cell_type": "markdown",
      "source": [
        "## 📊 Parte 2 - Dataset Sintético y Algoritmos de Búsqueda"
      ],
      "metadata": {
        "id": "oM9ObCAgUCWM"
      }
    },
    {
      "cell_type": "markdown",
      "source": [
        "### 📦 2.1. Bibliotecas necesarias"
      ],
      "metadata": {
        "id": "XvwKbYIcI2lR"
      }
    },
    {
      "cell_type": "code",
      "execution_count": 331,
      "metadata": {
        "colab": {
          "base_uri": "https://localhost:8080/"
        },
        "collapsed": true,
        "id": "bEKhewXgISOA",
        "outputId": "7affcef0-3d7e-44dd-c635-4540b510ff01"
      },
      "outputs": [
        {
          "output_type": "stream",
          "name": "stdout",
          "text": [
            "Requirement already satisfied: numpy in /usr/local/lib/python3.12/dist-packages (2.0.2)\n",
            "Requirement already satisfied: pandas in /usr/local/lib/python3.12/dist-packages (2.2.2)\n",
            "Requirement already satisfied: matplotlib in /usr/local/lib/python3.12/dist-packages (3.10.0)\n",
            "Requirement already satisfied: seaborn in /usr/local/lib/python3.12/dist-packages (0.13.2)\n",
            "Requirement already satisfied: python-dateutil>=2.8.2 in /usr/local/lib/python3.12/dist-packages (from pandas) (2.9.0.post0)\n",
            "Requirement already satisfied: pytz>=2020.1 in /usr/local/lib/python3.12/dist-packages (from pandas) (2025.2)\n",
            "Requirement already satisfied: tzdata>=2022.7 in /usr/local/lib/python3.12/dist-packages (from pandas) (2025.2)\n",
            "Requirement already satisfied: contourpy>=1.0.1 in /usr/local/lib/python3.12/dist-packages (from matplotlib) (1.3.3)\n",
            "Requirement already satisfied: cycler>=0.10 in /usr/local/lib/python3.12/dist-packages (from matplotlib) (0.12.1)\n",
            "Requirement already satisfied: fonttools>=4.22.0 in /usr/local/lib/python3.12/dist-packages (from matplotlib) (4.60.1)\n",
            "Requirement already satisfied: kiwisolver>=1.3.1 in /usr/local/lib/python3.12/dist-packages (from matplotlib) (1.4.9)\n",
            "Requirement already satisfied: packaging>=20.0 in /usr/local/lib/python3.12/dist-packages (from matplotlib) (25.0)\n",
            "Requirement already satisfied: pillow>=8 in /usr/local/lib/python3.12/dist-packages (from matplotlib) (11.3.0)\n",
            "Requirement already satisfied: pyparsing>=2.3.1 in /usr/local/lib/python3.12/dist-packages (from matplotlib) (3.2.5)\n",
            "Requirement already satisfied: six>=1.5 in /usr/local/lib/python3.12/dist-packages (from python-dateutil>=2.8.2->pandas) (1.17.0)\n"
          ]
        }
      ],
      "source": [
        "!pip install numpy pandas matplotlib seaborn"
      ]
    },
    {
      "cell_type": "markdown",
      "source": [
        "### 🧩 2.2. Importaciones y configuración inicial"
      ],
      "metadata": {
        "id": "OgppmxMSI6dZ"
      }
    },
    {
      "cell_type": "code",
      "source": [
        "import numpy as np\n",
        "import pandas as pd\n",
        "import matplotlib.pyplot as plt\n",
        "import seaborn as sns\n",
        "import time\n",
        "import random\n",
        "import heapq\n",
        "from collections import deque\n",
        "from tqdm import tqdm  # barra de progreso"
      ],
      "metadata": {
        "id": "tpIz30CtIiVS"
      },
      "execution_count": 332,
      "outputs": []
    },
    {
      "cell_type": "markdown",
      "source": [
        "### 🧱 2.3. Generación de tableros sintéticos"
      ],
      "metadata": {
        "id": "wAZREy5tI9Jw"
      }
    },
    {
      "cell_type": "markdown",
      "source": [
        "Cada tablero tiene:\n",
        "- Tamaño variable (4x4 hasta 8x8).\n",
        "- Celdas con costos 1, 2 o 3.\n",
        "- Inicio (posición: 0,0), Meta (posición: n-1,n-1).\n"
      ],
      "metadata": {
        "id": "pOcUMmwdzcew"
      }
    },
    {
      "cell_type": "code",
      "source": [
        "def generar_tablero(n=6):\n",
        "  \"\"\"Genera un tablero de NxN con costos 1, 2 o 3.\"\"\"\n",
        "  tablero = np.random.choice([1, 2, 3], size=(n, n), p=[0.6, 0.3, 0.1])\n",
        "  tablero[0,0] = 0    # costo en la celda de inicio\n",
        "  tablero[-1,-1] = 1  # costo en la celda final\n",
        "  return tablero"
      ],
      "metadata": {
        "id": "P8kVcZprIqBC"
      },
      "execution_count": 517,
      "outputs": []
    },
    {
      "cell_type": "code",
      "source": [
        "tablero = generar_tablero(6)\n",
        "print(tablero)"
      ],
      "metadata": {
        "colab": {
          "base_uri": "https://localhost:8080/"
        },
        "id": "VaGvdgBJIuz1",
        "outputId": "e15211dd-595f-4862-a5e2-0a9d026b1210"
      },
      "execution_count": 518,
      "outputs": [
        {
          "output_type": "stream",
          "name": "stdout",
          "text": [
            "[[0 1 1 1 1 1]\n",
            " [1 1 1 3 2 1]\n",
            " [1 2 3 1 2 1]\n",
            " [1 1 2 1 1 3]\n",
            " [1 1 3 1 1 2]\n",
            " [1 3 2 1 1 1]]\n"
          ]
        }
      ]
    },
    {
      "cell_type": "markdown",
      "source": [
        "### 🚶 2.4. Movimiento y Heurística"
      ],
      "metadata": {
        "id": "NQRd-PBrI_pa"
      }
    },
    {
      "cell_type": "code",
      "source": [
        "# Devuelve los vecinos válidos (arriba, abajo, izquierda, derecha)\n",
        "def vecinos(pos, n):\n",
        "    x, y = pos\n",
        "    movs = [(x+1, y), (x-1, y), (x, y+1), (x, y-1)]\n",
        "    return [(nx, ny) for nx, ny in movs if 0 <= nx < n and 0 <= ny < n]"
      ],
      "metadata": {
        "id": "fGxYnU4XIzyt"
      },
      "execution_count": 482,
      "outputs": []
    },
    {
      "cell_type": "code",
      "source": [
        "# Se utiliza la distancia Manhattan para la Heurística\n",
        "def heuristica(a, b):\n",
        "    return abs(a[0] - b[0]) + abs(a[1] - b[1])"
      ],
      "metadata": {
        "id": "ByabnR3nfRuR"
      },
      "execution_count": 484,
      "outputs": []
    },
    {
      "cell_type": "markdown",
      "source": [
        "### 🔍 2.5. Algoritmo BFS (búsqueda en anchura)"
      ],
      "metadata": {
        "id": "TbEAueIWJF2Y"
      }
    },
    {
      "cell_type": "code",
      "source": [
        "# BFS (versión simple que no considera pesos)\n",
        "def busqueda_bfs(tablero):\n",
        "    timespan = time.time()\n",
        "    n = tablero.shape[0]\n",
        "    start, goal = (0, 0), (n-1, n-1)\n",
        "    cola = [(start, [start])]\n",
        "    visitados = set()\n",
        "    nodos_exp = 0\n",
        "\n",
        "    while cola:\n",
        "        actual, camino = cola.pop(0)\n",
        "        if actual in visitados: continue\n",
        "        visitados.add(actual)\n",
        "        nodos_exp += 1\n",
        "\n",
        "        if actual == goal:\n",
        "            costo_total = sum(tablero[x, y] for x, y in camino)\n",
        "            timespan = time.time() - timespan\n",
        "            return costo_total, nodos_exp, timespan, camino\n",
        "\n",
        "        for nx, ny in vecinos(actual, n):\n",
        "            if (nx, ny) not in visitados:\n",
        "                cola.append(((nx, ny), camino + [(nx, ny)]))\n",
        "\n",
        "    timespan = time.time() - timespan\n",
        "    return np.inf, nodos_exp, timespan, []"
      ],
      "metadata": {
        "id": "n062jTEwJE-P"
      },
      "execution_count": 485,
      "outputs": []
    },
    {
      "cell_type": "markdown",
      "source": [
        "### ⭐ 2.6. Algoritmo A* (A estrella)"
      ],
      "metadata": {
        "id": "4la0DEpXJZ2s"
      }
    },
    {
      "cell_type": "code",
      "source": [
        "# Búsqueda A estrella\n",
        "def busqueda_a_star(tablero):\n",
        "    timespan = time.time()\n",
        "    n = tablero.shape[0]\n",
        "    start, goal = (0, 0), (n - 1, n - 1)\n",
        "    open_set = [(heuristica(start, goal), 0, start, [start])]\n",
        "    visitados = set()\n",
        "    nodos_exp = 0\n",
        "\n",
        "    while open_set:\n",
        "        _, costo_actual, actual, camino = heapq.heappop(open_set)\n",
        "\n",
        "        if actual in visitados: continue\n",
        "        visitados.add(actual)\n",
        "        nodos_exp += 1\n",
        "\n",
        "        if actual == goal:\n",
        "            timespan = time.time() - timespan\n",
        "            return costo_actual + tablero[goal], nodos_exp, timespan, camino + [goal]\n",
        "\n",
        "        for nx, ny in vecinos(actual, n):\n",
        "            if (nx, ny) not in visitados:\n",
        "                nuevo_costo = costo_actual + tablero[nx, ny]\n",
        "                f = nuevo_costo + heuristica((nx, ny), goal)\n",
        "                heapq.heappush(open_set, (f, nuevo_costo, (nx, ny), camino + [(nx, ny)]))\n",
        "\n",
        "    timespan = time.time() - timespan\n",
        "    return np.inf, nodos_exp, timespan, []"
      ],
      "metadata": {
        "id": "pf61ux_8JdEh"
      },
      "execution_count": 443,
      "outputs": []
    },
    {
      "cell_type": "markdown",
      "source": [
        "### ⭐ 2.7. Algoritmos A*, UCS y Greedy"
      ],
      "metadata": {
        "id": "gTifgevrIBM3"
      }
    },
    {
      "cell_type": "code",
      "source": [
        "# Búsqueda genérica con cola de prioridad (UCS / Greedy / A*)\n",
        "def busqueda_generica(tablero, algoritmo=\"A*\"):\n",
        "    timespan = time.time()\n",
        "    n = len(tablero)\n",
        "    start, goal = (0,0), (n-1,n-1)\n",
        "    movimientos = [(0,1),(1,0),(-1,0),(0,-1)]\n",
        "\n",
        "    open_list = []\n",
        "    heapq.heappush(open_list, (0, start, [start]))\n",
        "    cost_so_far = {start: 0}\n",
        "    nodos_exp = 0\n",
        "\n",
        "    while open_list:\n",
        "        prioridad, actual, camino = heapq.heappop(open_list)\n",
        "        nodos_exp += 1\n",
        "\n",
        "        # si se llegó a la meta, devolver el costo, nodos, tiempo y el camino completo\n",
        "        if actual == goal:\n",
        "            timespan = time.time() - timespan\n",
        "            return cost_so_far.get(goal, np.inf), nodos_exp, timespan, camino\n",
        "\n",
        "        for dx, dy in movimientos:\n",
        "            nx, ny = actual[0] + dx, actual[1] + dy\n",
        "            if 0 <= nx < n and 0 <= ny < n:\n",
        "                nuevo = (nx, ny)\n",
        "                nuevo_costo = cost_so_far[actual] + tablero[nx, ny]\n",
        "\n",
        "                # actualizar si se encontró un mejor costo\n",
        "                if nuevo not in cost_so_far or nuevo_costo < cost_so_far[nuevo]:\n",
        "                    cost_so_far[nuevo] = nuevo_costo\n",
        "\n",
        "                    # calcular prioridad según el algoritmo\n",
        "                    if algoritmo == \"UCS\":\n",
        "                        prioridad_nuevo = nuevo_costo\n",
        "                    elif algoritmo == \"Greedy\":\n",
        "                        prioridad_nuevo = heuristica(nuevo, goal)\n",
        "                    elif algoritmo == \"A*\":\n",
        "                        prioridad_nuevo = nuevo_costo + heuristica(nuevo, goal)\n",
        "                    else:\n",
        "                        raise ValueError(f\"Estrategia desconocida: {algoritmo}\")\n",
        "\n",
        "                    # insertar en la heap con el camino actualizado (incluye start)\n",
        "                    heapq.heappush(open_list, (prioridad_nuevo, nuevo, camino + [nuevo]))\n",
        "\n",
        "    timespan = time.time() - timespan\n",
        "    return np.inf, nodos_exp, timespan, []"
      ],
      "metadata": {
        "id": "19UalsiimbuY"
      },
      "execution_count": 561,
      "outputs": []
    },
    {
      "cell_type": "markdown",
      "source": [
        "### ⏱️ 2.8. Pruebas iniciales"
      ],
      "metadata": {
        "id": "ifM3BEK6Vbux"
      }
    },
    {
      "cell_type": "code",
      "source": [
        "tablero = generar_tablero(6)\n",
        "print(\"Tablero:\")\n",
        "print(tablero)\n",
        "print()\n",
        "\n",
        "for alg, func in {\"BFS\": busqueda_bfs, \"A*\": busqueda_a_star}.items():\n",
        "    costo, nodos, tiempo, camino = func(tablero)\n",
        "    print(f\"{alg.ljust(4)}: costo={costo}, nodos={nodos}, tiempo={tiempo:.6f}s, camino={camino}\")"
      ],
      "metadata": {
        "colab": {
          "base_uri": "https://localhost:8080/"
        },
        "id": "oKqEPKJ-JhLY",
        "outputId": "d6a6e58b-4338-462f-ab96-4884461346ae"
      },
      "execution_count": 559,
      "outputs": [
        {
          "output_type": "stream",
          "name": "stdout",
          "text": [
            "Tablero:\n",
            "[[0 2 2 1 2 1]\n",
            " [1 3 2 1 1 3]\n",
            " [1 1 1 1 1 2]\n",
            " [1 2 2 1 1 1]\n",
            " [1 1 1 1 1 1]\n",
            " [2 1 1 1 3 1]]\n",
            "\n",
            "BFS : costo=13, nodos=36, tiempo=0.000104s, camino=[(0, 0), (1, 0), (2, 0), (3, 0), (4, 0), (5, 0), (5, 1), (5, 2), (5, 3), (5, 4), (5, 5)]\n",
            "A*  : costo=11, nodos=21, tiempo=0.000131s, camino=[(0, 0), (1, 0), (2, 0), (2, 1), (2, 2), (2, 3), (2, 4), (3, 4), (3, 5), (4, 5), (5, 5), (5, 5)]\n"
          ]
        }
      ]
    },
    {
      "cell_type": "code",
      "source": [
        "tablero = generar_tablero(6)\n",
        "print(\"Tablero:\")\n",
        "print(tablero)\n",
        "print()\n",
        "\n",
        "results_a_star = busqueda_generica(tablero, algoritmo=\"A*\")\n",
        "results_ucs = busqueda_generica(tablero, algoritmo=\"UCS\")\n",
        "results_greedy = busqueda_generica(tablero, algoritmo=\"Greedy\")\n",
        "\n",
        "print(f\"A*     : costo={results_a_star[0]}, nodos={results_a_star[1]}, tiempo={results_a_star[2]:.6f}s, camino={results_a_star[3]}\")\n",
        "print(f\"UCS*   : costo={results_ucs[0]}, nodos={results_ucs[1]}, tiempo={results_ucs[2]:.6f}s, camino={results_ucs[3]}\")\n",
        "print(f\"Greedy : costo={results_greedy[0]}, nodos={results_greedy[1]}, tiempo={results_greedy[2]:.6f}s, camino={results_greedy[3]}\")"
      ],
      "metadata": {
        "colab": {
          "base_uri": "https://localhost:8080/"
        },
        "id": "mKOqfEmuVRW7",
        "outputId": "2d464100-924a-4982-d103-2e29148ac7bd"
      },
      "execution_count": 562,
      "outputs": [
        {
          "output_type": "stream",
          "name": "stdout",
          "text": [
            "Tablero:\n",
            "[[0 2 2 1 1 2]\n",
            " [2 2 3 1 1 3]\n",
            " [1 1 1 1 2 1]\n",
            " [1 3 1 2 3 1]\n",
            " [1 3 1 2 3 1]\n",
            " [1 1 1 1 1 1]]\n",
            "\n",
            "A*     : costo=11, nodos=17, tiempo=0.000156s, camino=[(0, 0), (1, 0), (2, 0), (2, 1), (2, 2), (3, 2), (4, 2), (5, 2), (5, 3), (5, 4), (5, 5)]\n",
            "UCS*   : costo=11, nodos=35, tiempo=0.000148s, camino=[(0, 0), (1, 0), (2, 0), (2, 1), (2, 2), (3, 2), (4, 2), (5, 2), (5, 3), (5, 4), (5, 5)]\n",
            "Greedy : costo=15, nodos=11, tiempo=0.000053s, camino=[(0, 0), (0, 1), (0, 2), (0, 3), (0, 4), (0, 5), (1, 5), (2, 5), (3, 5), (4, 5), (5, 5)]\n"
          ]
        }
      ]
    },
    {
      "cell_type": "markdown",
      "source": [
        "### 📊 2.9. Funciones Auxiliares"
      ],
      "metadata": {
        "id": "CuliC-pFJlzk"
      }
    },
    {
      "cell_type": "code",
      "source": [
        "def probar_algoritmos(tablero):\n",
        "    resultados = {\n",
        "        \"BFS\": busqueda_bfs(tablero),\n",
        "        \"A*\": busqueda_generica(tablero, algoritmo=\"A*\"),\n",
        "        \"UCS\": busqueda_generica(tablero, algoritmo=\"UCS\"),\n",
        "        \"Greedy\": busqueda_generica(tablero, algoritmo=\"Greedy\")\n",
        "    }\n",
        "\n",
        "    # Crear una lista de tuplas con los 3 criterios a medir\n",
        "    metricas = {\n",
        "        alg: (res[0], res[1], res[2])  # costo, nodos_expandidos, tiempo\n",
        "        for alg, res in resultados.items()\n",
        "    }\n",
        "\n",
        "    # Seleccionar el mejor algoritmo\n",
        "    # Criterio: primero 'costo', en caso de empate 'nodos expandidos', y en última instancia 'tiempo de computo'\n",
        "    mejor_alg = min(metricas, key=lambda k: metricas[k])\n",
        "\n",
        "    return mejor_alg, resultados\n"
      ],
      "metadata": {
        "id": "aovbrjYrW4Hb"
      },
      "execution_count": 563,
      "outputs": []
    },
    {
      "cell_type": "markdown",
      "source": [
        "### 🧱 2.10. Generador del dataset sintético"
      ],
      "metadata": {
        "id": "JFEh8D0_XDmW"
      }
    },
    {
      "cell_type": "code",
      "source": [
        "# Genera un dataset con 'n_samples' tableros aleatorios y los resultados\n",
        "# de distintos algoritmos de búsqueda aplicados sobre cada uno de ellos.\n",
        "def generar_dataset(n_samples=500, tamanios=(4,5,6,7,8)):\n",
        "    registros = []\n",
        "\n",
        "    for _ in tqdm(range(n_samples), desc=f\"Generando tableros\"):\n",
        "        n = random.choice(tamanios)\n",
        "        tablero = generar_tablero(n)\n",
        "\n",
        "        # características del tablero\n",
        "        costo_prom = np.mean(tablero)           # promedio\n",
        "        var_costo = np.var(tablero)             # varianza\n",
        "        densidad_cost3 = np.mean(tablero == 3)  # prom de celdas con costo = 3\n",
        "\n",
        "        # evaluar el tablero x separado en todos los algoritmos\n",
        "        mejor_alg, resultados = probar_algoritmos(tablero)\n",
        "\n",
        "        registros.append({\n",
        "            \"tamanio\": n,\n",
        "            \"costo_prom\": costo_prom,\n",
        "            \"var_costo\": var_costo,\n",
        "            \"densidad_cost3\": densidad_cost3,\n",
        "            \"costo_BFS\": resultados[\"BFS\"],\n",
        "            \"costo_A*\": resultados[\"A*\"],\n",
        "            \"costo_UCS\": resultados[\"UCS\"],\n",
        "            \"costo_Greedy\": resultados[\"Greedy\"],\n",
        "            \"mejor_alg\": mejor_alg\n",
        "        })\n",
        "\n",
        "    df = pd.DataFrame(registros)\n",
        "    return df"
      ],
      "metadata": {
        "id": "KyySO7blWhRj"
      },
      "execution_count": 564,
      "outputs": []
    },
    {
      "cell_type": "markdown",
      "source": [
        "### 🚀 2.11. Generar el dataset"
      ],
      "metadata": {
        "id": "nfnO77-9XBKO"
      }
    },
    {
      "cell_type": "code",
      "source": [
        "df = generar_dataset(n_samples=1000, tamanios=(3,4,5,6,7,8,9,10))"
      ],
      "metadata": {
        "colab": {
          "base_uri": "https://localhost:8080/"
        },
        "id": "yiRm5HBxRlQc",
        "outputId": "a40a6adb-e44e-44ae-bdff-c4b9e1c60faa"
      },
      "execution_count": 565,
      "outputs": [
        {
          "output_type": "stream",
          "name": "stderr",
          "text": [
            "Generando tableros: 100%|██████████| 1000/1000 [00:00<00:00, 1762.07it/s]\n"
          ]
        }
      ]
    },
    {
      "cell_type": "code",
      "source": [
        "df.sample(5)"
      ],
      "metadata": {
        "colab": {
          "base_uri": "https://localhost:8080/",
          "height": 313
        },
        "id": "s27B2LEoWotu",
        "outputId": "be350a73-86ba-4332-ae24-91c140548e81"
      },
      "execution_count": 347,
      "outputs": [
        {
          "output_type": "execute_result",
          "data": {
            "text/plain": [
              "     tamanio  costo_prom  var_costo  densidad_cost3  \\\n",
              "124        3    1.444444   0.469136        0.111111   \n",
              "64         8    1.453125   0.435303        0.093750   \n",
              "250        8    1.515625   0.468506        0.109375   \n",
              "845        5    1.560000   0.486400        0.120000   \n",
              "379        3    1.777778   0.839506        0.333333   \n",
              "\n",
              "                            costo_BFS                          costo_A*  \\\n",
              "124    (8, 9, 2.0503997802734375e-05)     (5, 8, 3.266334533691406e-05)   \n",
              "64   (22, 64, 0.00010919570922851562)  (16, 47, 0.00015234947204589844)   \n",
              "250  (21, 64, 0.00021314620971679688)  (16, 31, 0.00021529197692871094)   \n",
              "845   (14, 25, 4.887580871582031e-05)    (9, 20, 5.888938903808594e-05)   \n",
              "379    (8, 9, 3.0279159545898438e-05)    (6, 8, 2.2649765014648438e-05)   \n",
              "\n",
              "                            costo_UCS                     costo_Greedy  \\\n",
              "124    (5, 8, 1.5735626220703125e-05)   (5, 5, 1.0013580322265625e-05)   \n",
              "64   (16, 64, 0.00015401840209960938)  (17, 15, 4.100799560546875e-05)   \n",
              "250  (16, 64, 0.00028514862060546875)  (23, 15, 8.177757263183594e-05)   \n",
              "845    (9, 25, 5.745887756347656e-05)  (12, 9, 2.8133392333984375e-05)   \n",
              "379      (6, 9, 1.71661376953125e-05)    (6, 5, 9.775161743164062e-06)   \n",
              "\n",
              "    mejor_alg  \n",
              "124    Greedy  \n",
              "64         A*  \n",
              "250        A*  \n",
              "845        A*  \n",
              "379    Greedy  "
            ],
            "text/html": [
              "\n",
              "  <div id=\"df-8996b540-13dd-484c-acaf-3cd1ac469849\" class=\"colab-df-container\">\n",
              "    <div>\n",
              "<style scoped>\n",
              "    .dataframe tbody tr th:only-of-type {\n",
              "        vertical-align: middle;\n",
              "    }\n",
              "\n",
              "    .dataframe tbody tr th {\n",
              "        vertical-align: top;\n",
              "    }\n",
              "\n",
              "    .dataframe thead th {\n",
              "        text-align: right;\n",
              "    }\n",
              "</style>\n",
              "<table border=\"1\" class=\"dataframe\">\n",
              "  <thead>\n",
              "    <tr style=\"text-align: right;\">\n",
              "      <th></th>\n",
              "      <th>tamanio</th>\n",
              "      <th>costo_prom</th>\n",
              "      <th>var_costo</th>\n",
              "      <th>densidad_cost3</th>\n",
              "      <th>costo_BFS</th>\n",
              "      <th>costo_A*</th>\n",
              "      <th>costo_UCS</th>\n",
              "      <th>costo_Greedy</th>\n",
              "      <th>mejor_alg</th>\n",
              "    </tr>\n",
              "  </thead>\n",
              "  <tbody>\n",
              "    <tr>\n",
              "      <th>124</th>\n",
              "      <td>3</td>\n",
              "      <td>1.444444</td>\n",
              "      <td>0.469136</td>\n",
              "      <td>0.111111</td>\n",
              "      <td>(8, 9, 2.0503997802734375e-05)</td>\n",
              "      <td>(5, 8, 3.266334533691406e-05)</td>\n",
              "      <td>(5, 8, 1.5735626220703125e-05)</td>\n",
              "      <td>(5, 5, 1.0013580322265625e-05)</td>\n",
              "      <td>Greedy</td>\n",
              "    </tr>\n",
              "    <tr>\n",
              "      <th>64</th>\n",
              "      <td>8</td>\n",
              "      <td>1.453125</td>\n",
              "      <td>0.435303</td>\n",
              "      <td>0.093750</td>\n",
              "      <td>(22, 64, 0.00010919570922851562)</td>\n",
              "      <td>(16, 47, 0.00015234947204589844)</td>\n",
              "      <td>(16, 64, 0.00015401840209960938)</td>\n",
              "      <td>(17, 15, 4.100799560546875e-05)</td>\n",
              "      <td>A*</td>\n",
              "    </tr>\n",
              "    <tr>\n",
              "      <th>250</th>\n",
              "      <td>8</td>\n",
              "      <td>1.515625</td>\n",
              "      <td>0.468506</td>\n",
              "      <td>0.109375</td>\n",
              "      <td>(21, 64, 0.00021314620971679688)</td>\n",
              "      <td>(16, 31, 0.00021529197692871094)</td>\n",
              "      <td>(16, 64, 0.00028514862060546875)</td>\n",
              "      <td>(23, 15, 8.177757263183594e-05)</td>\n",
              "      <td>A*</td>\n",
              "    </tr>\n",
              "    <tr>\n",
              "      <th>845</th>\n",
              "      <td>5</td>\n",
              "      <td>1.560000</td>\n",
              "      <td>0.486400</td>\n",
              "      <td>0.120000</td>\n",
              "      <td>(14, 25, 4.887580871582031e-05)</td>\n",
              "      <td>(9, 20, 5.888938903808594e-05)</td>\n",
              "      <td>(9, 25, 5.745887756347656e-05)</td>\n",
              "      <td>(12, 9, 2.8133392333984375e-05)</td>\n",
              "      <td>A*</td>\n",
              "    </tr>\n",
              "    <tr>\n",
              "      <th>379</th>\n",
              "      <td>3</td>\n",
              "      <td>1.777778</td>\n",
              "      <td>0.839506</td>\n",
              "      <td>0.333333</td>\n",
              "      <td>(8, 9, 3.0279159545898438e-05)</td>\n",
              "      <td>(6, 8, 2.2649765014648438e-05)</td>\n",
              "      <td>(6, 9, 1.71661376953125e-05)</td>\n",
              "      <td>(6, 5, 9.775161743164062e-06)</td>\n",
              "      <td>Greedy</td>\n",
              "    </tr>\n",
              "  </tbody>\n",
              "</table>\n",
              "</div>\n",
              "    <div class=\"colab-df-buttons\">\n",
              "\n",
              "  <div class=\"colab-df-container\">\n",
              "    <button class=\"colab-df-convert\" onclick=\"convertToInteractive('df-8996b540-13dd-484c-acaf-3cd1ac469849')\"\n",
              "            title=\"Convert this dataframe to an interactive table.\"\n",
              "            style=\"display:none;\">\n",
              "\n",
              "  <svg xmlns=\"http://www.w3.org/2000/svg\" height=\"24px\" viewBox=\"0 -960 960 960\">\n",
              "    <path d=\"M120-120v-720h720v720H120Zm60-500h600v-160H180v160Zm220 220h160v-160H400v160Zm0 220h160v-160H400v160ZM180-400h160v-160H180v160Zm440 0h160v-160H620v160ZM180-180h160v-160H180v160Zm440 0h160v-160H620v160Z\"/>\n",
              "  </svg>\n",
              "    </button>\n",
              "\n",
              "  <style>\n",
              "    .colab-df-container {\n",
              "      display:flex;\n",
              "      gap: 12px;\n",
              "    }\n",
              "\n",
              "    .colab-df-convert {\n",
              "      background-color: #E8F0FE;\n",
              "      border: none;\n",
              "      border-radius: 50%;\n",
              "      cursor: pointer;\n",
              "      display: none;\n",
              "      fill: #1967D2;\n",
              "      height: 32px;\n",
              "      padding: 0 0 0 0;\n",
              "      width: 32px;\n",
              "    }\n",
              "\n",
              "    .colab-df-convert:hover {\n",
              "      background-color: #E2EBFA;\n",
              "      box-shadow: 0px 1px 2px rgba(60, 64, 67, 0.3), 0px 1px 3px 1px rgba(60, 64, 67, 0.15);\n",
              "      fill: #174EA6;\n",
              "    }\n",
              "\n",
              "    .colab-df-buttons div {\n",
              "      margin-bottom: 4px;\n",
              "    }\n",
              "\n",
              "    [theme=dark] .colab-df-convert {\n",
              "      background-color: #3B4455;\n",
              "      fill: #D2E3FC;\n",
              "    }\n",
              "\n",
              "    [theme=dark] .colab-df-convert:hover {\n",
              "      background-color: #434B5C;\n",
              "      box-shadow: 0px 1px 3px 1px rgba(0, 0, 0, 0.15);\n",
              "      filter: drop-shadow(0px 1px 2px rgba(0, 0, 0, 0.3));\n",
              "      fill: #FFFFFF;\n",
              "    }\n",
              "  </style>\n",
              "\n",
              "    <script>\n",
              "      const buttonEl =\n",
              "        document.querySelector('#df-8996b540-13dd-484c-acaf-3cd1ac469849 button.colab-df-convert');\n",
              "      buttonEl.style.display =\n",
              "        google.colab.kernel.accessAllowed ? 'block' : 'none';\n",
              "\n",
              "      async function convertToInteractive(key) {\n",
              "        const element = document.querySelector('#df-8996b540-13dd-484c-acaf-3cd1ac469849');\n",
              "        const dataTable =\n",
              "          await google.colab.kernel.invokeFunction('convertToInteractive',\n",
              "                                                    [key], {});\n",
              "        if (!dataTable) return;\n",
              "\n",
              "        const docLinkHtml = 'Like what you see? Visit the ' +\n",
              "          '<a target=\"_blank\" href=https://colab.research.google.com/notebooks/data_table.ipynb>data table notebook</a>'\n",
              "          + ' to learn more about interactive tables.';\n",
              "        element.innerHTML = '';\n",
              "        dataTable['output_type'] = 'display_data';\n",
              "        await google.colab.output.renderOutput(dataTable, element);\n",
              "        const docLink = document.createElement('div');\n",
              "        docLink.innerHTML = docLinkHtml;\n",
              "        element.appendChild(docLink);\n",
              "      }\n",
              "    </script>\n",
              "  </div>\n",
              "\n",
              "\n",
              "    <div id=\"df-a0b93242-afc2-4841-91cd-6d7e0718ccd8\">\n",
              "      <button class=\"colab-df-quickchart\" onclick=\"quickchart('df-a0b93242-afc2-4841-91cd-6d7e0718ccd8')\"\n",
              "                title=\"Suggest charts\"\n",
              "                style=\"display:none;\">\n",
              "\n",
              "<svg xmlns=\"http://www.w3.org/2000/svg\" height=\"24px\"viewBox=\"0 0 24 24\"\n",
              "     width=\"24px\">\n",
              "    <g>\n",
              "        <path d=\"M19 3H5c-1.1 0-2 .9-2 2v14c0 1.1.9 2 2 2h14c1.1 0 2-.9 2-2V5c0-1.1-.9-2-2-2zM9 17H7v-7h2v7zm4 0h-2V7h2v10zm4 0h-2v-4h2v4z\"/>\n",
              "    </g>\n",
              "</svg>\n",
              "      </button>\n",
              "\n",
              "<style>\n",
              "  .colab-df-quickchart {\n",
              "      --bg-color: #E8F0FE;\n",
              "      --fill-color: #1967D2;\n",
              "      --hover-bg-color: #E2EBFA;\n",
              "      --hover-fill-color: #174EA6;\n",
              "      --disabled-fill-color: #AAA;\n",
              "      --disabled-bg-color: #DDD;\n",
              "  }\n",
              "\n",
              "  [theme=dark] .colab-df-quickchart {\n",
              "      --bg-color: #3B4455;\n",
              "      --fill-color: #D2E3FC;\n",
              "      --hover-bg-color: #434B5C;\n",
              "      --hover-fill-color: #FFFFFF;\n",
              "      --disabled-bg-color: #3B4455;\n",
              "      --disabled-fill-color: #666;\n",
              "  }\n",
              "\n",
              "  .colab-df-quickchart {\n",
              "    background-color: var(--bg-color);\n",
              "    border: none;\n",
              "    border-radius: 50%;\n",
              "    cursor: pointer;\n",
              "    display: none;\n",
              "    fill: var(--fill-color);\n",
              "    height: 32px;\n",
              "    padding: 0;\n",
              "    width: 32px;\n",
              "  }\n",
              "\n",
              "  .colab-df-quickchart:hover {\n",
              "    background-color: var(--hover-bg-color);\n",
              "    box-shadow: 0 1px 2px rgba(60, 64, 67, 0.3), 0 1px 3px 1px rgba(60, 64, 67, 0.15);\n",
              "    fill: var(--button-hover-fill-color);\n",
              "  }\n",
              "\n",
              "  .colab-df-quickchart-complete:disabled,\n",
              "  .colab-df-quickchart-complete:disabled:hover {\n",
              "    background-color: var(--disabled-bg-color);\n",
              "    fill: var(--disabled-fill-color);\n",
              "    box-shadow: none;\n",
              "  }\n",
              "\n",
              "  .colab-df-spinner {\n",
              "    border: 2px solid var(--fill-color);\n",
              "    border-color: transparent;\n",
              "    border-bottom-color: var(--fill-color);\n",
              "    animation:\n",
              "      spin 1s steps(1) infinite;\n",
              "  }\n",
              "\n",
              "  @keyframes spin {\n",
              "    0% {\n",
              "      border-color: transparent;\n",
              "      border-bottom-color: var(--fill-color);\n",
              "      border-left-color: var(--fill-color);\n",
              "    }\n",
              "    20% {\n",
              "      border-color: transparent;\n",
              "      border-left-color: var(--fill-color);\n",
              "      border-top-color: var(--fill-color);\n",
              "    }\n",
              "    30% {\n",
              "      border-color: transparent;\n",
              "      border-left-color: var(--fill-color);\n",
              "      border-top-color: var(--fill-color);\n",
              "      border-right-color: var(--fill-color);\n",
              "    }\n",
              "    40% {\n",
              "      border-color: transparent;\n",
              "      border-right-color: var(--fill-color);\n",
              "      border-top-color: var(--fill-color);\n",
              "    }\n",
              "    60% {\n",
              "      border-color: transparent;\n",
              "      border-right-color: var(--fill-color);\n",
              "    }\n",
              "    80% {\n",
              "      border-color: transparent;\n",
              "      border-right-color: var(--fill-color);\n",
              "      border-bottom-color: var(--fill-color);\n",
              "    }\n",
              "    90% {\n",
              "      border-color: transparent;\n",
              "      border-bottom-color: var(--fill-color);\n",
              "    }\n",
              "  }\n",
              "</style>\n",
              "\n",
              "      <script>\n",
              "        async function quickchart(key) {\n",
              "          const quickchartButtonEl =\n",
              "            document.querySelector('#' + key + ' button');\n",
              "          quickchartButtonEl.disabled = true;  // To prevent multiple clicks.\n",
              "          quickchartButtonEl.classList.add('colab-df-spinner');\n",
              "          try {\n",
              "            const charts = await google.colab.kernel.invokeFunction(\n",
              "                'suggestCharts', [key], {});\n",
              "          } catch (error) {\n",
              "            console.error('Error during call to suggestCharts:', error);\n",
              "          }\n",
              "          quickchartButtonEl.classList.remove('colab-df-spinner');\n",
              "          quickchartButtonEl.classList.add('colab-df-quickchart-complete');\n",
              "        }\n",
              "        (() => {\n",
              "          let quickchartButtonEl =\n",
              "            document.querySelector('#df-a0b93242-afc2-4841-91cd-6d7e0718ccd8 button');\n",
              "          quickchartButtonEl.style.display =\n",
              "            google.colab.kernel.accessAllowed ? 'block' : 'none';\n",
              "        })();\n",
              "      </script>\n",
              "    </div>\n",
              "\n",
              "    </div>\n",
              "  </div>\n"
            ],
            "application/vnd.google.colaboratory.intrinsic+json": {
              "type": "dataframe",
              "summary": "{\n  \"name\": \"df\",\n  \"rows\": 5,\n  \"fields\": [\n    {\n      \"column\": \"tamanio\",\n      \"properties\": {\n        \"dtype\": \"number\",\n        \"std\": 2,\n        \"min\": 3,\n        \"max\": 8,\n        \"num_unique_values\": 3,\n        \"samples\": [\n          3,\n          8,\n          5\n        ],\n        \"semantic_type\": \"\",\n        \"description\": \"\"\n      }\n    },\n    {\n      \"column\": \"costo_prom\",\n      \"properties\": {\n        \"dtype\": \"number\",\n        \"std\": 0.13573034716379273,\n        \"min\": 1.4444444444444444,\n        \"max\": 1.7777777777777777,\n        \"num_unique_values\": 5,\n        \"samples\": [\n          1.453125,\n          1.7777777777777777,\n          1.515625\n        ],\n        \"semantic_type\": \"\",\n        \"description\": \"\"\n      }\n    },\n    {\n      \"column\": \"var_costo\",\n      \"properties\": {\n        \"dtype\": \"number\",\n        \"std\": 0.16857587860917614,\n        \"min\": 0.435302734375,\n        \"max\": 0.8395061728395061,\n        \"num_unique_values\": 5,\n        \"samples\": [\n          0.435302734375,\n          0.8395061728395061,\n          0.468505859375\n        ],\n        \"semantic_type\": \"\",\n        \"description\": \"\"\n      }\n    },\n    {\n      \"column\": \"densidad_cost3\",\n      \"properties\": {\n        \"dtype\": \"number\",\n        \"std\": 0.10096555457123257,\n        \"min\": 0.09375,\n        \"max\": 0.3333333333333333,\n        \"num_unique_values\": 5,\n        \"samples\": [\n          0.09375,\n          0.3333333333333333,\n          0.109375\n        ],\n        \"semantic_type\": \"\",\n        \"description\": \"\"\n      }\n    },\n    {\n      \"column\": \"costo_BFS\",\n      \"properties\": {\n        \"dtype\": \"string\",\n        \"num_unique_values\": 5,\n        \"samples\": [\n          [\n            \"22\",\n            64,\n            0.00010919570922851562\n          ],\n          [\n            \"8\",\n            9,\n            3.0279159545898438e-05\n          ],\n          [\n            \"21\",\n            64,\n            0.00021314620971679688\n          ]\n        ],\n        \"semantic_type\": \"\",\n        \"description\": \"\"\n      }\n    },\n    {\n      \"column\": \"costo_A*\",\n      \"properties\": {\n        \"dtype\": \"string\",\n        \"num_unique_values\": 5,\n        \"samples\": [\n          [\n            \"16\",\n            47,\n            0.00015234947204589844\n          ],\n          [\n            \"6\",\n            8,\n            2.2649765014648438e-05\n          ],\n          [\n            \"16\",\n            31,\n            0.00021529197692871094\n          ]\n        ],\n        \"semantic_type\": \"\",\n        \"description\": \"\"\n      }\n    },\n    {\n      \"column\": \"costo_UCS\",\n      \"properties\": {\n        \"dtype\": \"string\",\n        \"num_unique_values\": 5,\n        \"samples\": [\n          [\n            \"16\",\n            64,\n            0.00015401840209960938\n          ],\n          [\n            \"6\",\n            9,\n            1.71661376953125e-05\n          ],\n          [\n            \"16\",\n            64,\n            0.00028514862060546875\n          ]\n        ],\n        \"semantic_type\": \"\",\n        \"description\": \"\"\n      }\n    },\n    {\n      \"column\": \"costo_Greedy\",\n      \"properties\": {\n        \"dtype\": \"string\",\n        \"num_unique_values\": 5,\n        \"samples\": [\n          [\n            \"17\",\n            15,\n            4.100799560546875e-05\n          ],\n          [\n            \"6\",\n            5,\n            9.775161743164062e-06\n          ],\n          [\n            \"23\",\n            15,\n            8.177757263183594e-05\n          ]\n        ],\n        \"semantic_type\": \"\",\n        \"description\": \"\"\n      }\n    },\n    {\n      \"column\": \"mejor_alg\",\n      \"properties\": {\n        \"dtype\": \"category\",\n        \"num_unique_values\": 2,\n        \"samples\": [\n          \"A*\",\n          \"Greedy\"\n        ],\n        \"semantic_type\": \"\",\n        \"description\": \"\"\n      }\n    }\n  ]\n}"
            }
          },
          "metadata": {},
          "execution_count": 347
        }
      ]
    },
    {
      "cell_type": "markdown",
      "source": [
        "### 👀 2.12. Revisión del dataset"
      ],
      "metadata": {
        "id": "hXn4SgF2W-mT"
      }
    },
    {
      "cell_type": "code",
      "source": [
        "print(df[\"mejor_alg\"].value_counts())\n",
        "df.describe()"
      ],
      "metadata": {
        "colab": {
          "base_uri": "https://localhost:8080/",
          "height": 408
        },
        "id": "Wn9MULdYWvfi",
        "outputId": "81e87ad0-c9e6-49e4-850c-296d2ef03bfb"
      },
      "execution_count": 566,
      "outputs": [
        {
          "output_type": "stream",
          "name": "stdout",
          "text": [
            "mejor_alg\n",
            "A*        835\n",
            "Greedy    124\n",
            "UCS        37\n",
            "BFS         4\n",
            "Name: count, dtype: int64\n"
          ]
        },
        {
          "output_type": "execute_result",
          "data": {
            "text/plain": [
              "           tamanio   costo_prom    var_costo  densidad_cost3\n",
              "count  1000.000000  1000.000000  1000.000000     1000.000000\n",
              "mean      6.440000     1.424749     0.486468        0.091968\n",
              "std       2.323316     0.138642     0.137350        0.056394\n",
              "min       3.000000     0.888889     0.098765        0.000000\n",
              "25%       4.000000     1.361111     0.402598        0.061728\n",
              "50%       6.000000     1.444444     0.470355        0.086420\n",
              "75%       8.250000     1.510000     0.543515        0.120000\n",
              "max      10.000000     1.880000     1.283951        0.444444"
            ],
            "text/html": [
              "\n",
              "  <div id=\"df-76576305-3659-44db-9e0e-11f4a271cac4\" class=\"colab-df-container\">\n",
              "    <div>\n",
              "<style scoped>\n",
              "    .dataframe tbody tr th:only-of-type {\n",
              "        vertical-align: middle;\n",
              "    }\n",
              "\n",
              "    .dataframe tbody tr th {\n",
              "        vertical-align: top;\n",
              "    }\n",
              "\n",
              "    .dataframe thead th {\n",
              "        text-align: right;\n",
              "    }\n",
              "</style>\n",
              "<table border=\"1\" class=\"dataframe\">\n",
              "  <thead>\n",
              "    <tr style=\"text-align: right;\">\n",
              "      <th></th>\n",
              "      <th>tamanio</th>\n",
              "      <th>costo_prom</th>\n",
              "      <th>var_costo</th>\n",
              "      <th>densidad_cost3</th>\n",
              "    </tr>\n",
              "  </thead>\n",
              "  <tbody>\n",
              "    <tr>\n",
              "      <th>count</th>\n",
              "      <td>1000.000000</td>\n",
              "      <td>1000.000000</td>\n",
              "      <td>1000.000000</td>\n",
              "      <td>1000.000000</td>\n",
              "    </tr>\n",
              "    <tr>\n",
              "      <th>mean</th>\n",
              "      <td>6.440000</td>\n",
              "      <td>1.424749</td>\n",
              "      <td>0.486468</td>\n",
              "      <td>0.091968</td>\n",
              "    </tr>\n",
              "    <tr>\n",
              "      <th>std</th>\n",
              "      <td>2.323316</td>\n",
              "      <td>0.138642</td>\n",
              "      <td>0.137350</td>\n",
              "      <td>0.056394</td>\n",
              "    </tr>\n",
              "    <tr>\n",
              "      <th>min</th>\n",
              "      <td>3.000000</td>\n",
              "      <td>0.888889</td>\n",
              "      <td>0.098765</td>\n",
              "      <td>0.000000</td>\n",
              "    </tr>\n",
              "    <tr>\n",
              "      <th>25%</th>\n",
              "      <td>4.000000</td>\n",
              "      <td>1.361111</td>\n",
              "      <td>0.402598</td>\n",
              "      <td>0.061728</td>\n",
              "    </tr>\n",
              "    <tr>\n",
              "      <th>50%</th>\n",
              "      <td>6.000000</td>\n",
              "      <td>1.444444</td>\n",
              "      <td>0.470355</td>\n",
              "      <td>0.086420</td>\n",
              "    </tr>\n",
              "    <tr>\n",
              "      <th>75%</th>\n",
              "      <td>8.250000</td>\n",
              "      <td>1.510000</td>\n",
              "      <td>0.543515</td>\n",
              "      <td>0.120000</td>\n",
              "    </tr>\n",
              "    <tr>\n",
              "      <th>max</th>\n",
              "      <td>10.000000</td>\n",
              "      <td>1.880000</td>\n",
              "      <td>1.283951</td>\n",
              "      <td>0.444444</td>\n",
              "    </tr>\n",
              "  </tbody>\n",
              "</table>\n",
              "</div>\n",
              "    <div class=\"colab-df-buttons\">\n",
              "\n",
              "  <div class=\"colab-df-container\">\n",
              "    <button class=\"colab-df-convert\" onclick=\"convertToInteractive('df-76576305-3659-44db-9e0e-11f4a271cac4')\"\n",
              "            title=\"Convert this dataframe to an interactive table.\"\n",
              "            style=\"display:none;\">\n",
              "\n",
              "  <svg xmlns=\"http://www.w3.org/2000/svg\" height=\"24px\" viewBox=\"0 -960 960 960\">\n",
              "    <path d=\"M120-120v-720h720v720H120Zm60-500h600v-160H180v160Zm220 220h160v-160H400v160Zm0 220h160v-160H400v160ZM180-400h160v-160H180v160Zm440 0h160v-160H620v160ZM180-180h160v-160H180v160Zm440 0h160v-160H620v160Z\"/>\n",
              "  </svg>\n",
              "    </button>\n",
              "\n",
              "  <style>\n",
              "    .colab-df-container {\n",
              "      display:flex;\n",
              "      gap: 12px;\n",
              "    }\n",
              "\n",
              "    .colab-df-convert {\n",
              "      background-color: #E8F0FE;\n",
              "      border: none;\n",
              "      border-radius: 50%;\n",
              "      cursor: pointer;\n",
              "      display: none;\n",
              "      fill: #1967D2;\n",
              "      height: 32px;\n",
              "      padding: 0 0 0 0;\n",
              "      width: 32px;\n",
              "    }\n",
              "\n",
              "    .colab-df-convert:hover {\n",
              "      background-color: #E2EBFA;\n",
              "      box-shadow: 0px 1px 2px rgba(60, 64, 67, 0.3), 0px 1px 3px 1px rgba(60, 64, 67, 0.15);\n",
              "      fill: #174EA6;\n",
              "    }\n",
              "\n",
              "    .colab-df-buttons div {\n",
              "      margin-bottom: 4px;\n",
              "    }\n",
              "\n",
              "    [theme=dark] .colab-df-convert {\n",
              "      background-color: #3B4455;\n",
              "      fill: #D2E3FC;\n",
              "    }\n",
              "\n",
              "    [theme=dark] .colab-df-convert:hover {\n",
              "      background-color: #434B5C;\n",
              "      box-shadow: 0px 1px 3px 1px rgba(0, 0, 0, 0.15);\n",
              "      filter: drop-shadow(0px 1px 2px rgba(0, 0, 0, 0.3));\n",
              "      fill: #FFFFFF;\n",
              "    }\n",
              "  </style>\n",
              "\n",
              "    <script>\n",
              "      const buttonEl =\n",
              "        document.querySelector('#df-76576305-3659-44db-9e0e-11f4a271cac4 button.colab-df-convert');\n",
              "      buttonEl.style.display =\n",
              "        google.colab.kernel.accessAllowed ? 'block' : 'none';\n",
              "\n",
              "      async function convertToInteractive(key) {\n",
              "        const element = document.querySelector('#df-76576305-3659-44db-9e0e-11f4a271cac4');\n",
              "        const dataTable =\n",
              "          await google.colab.kernel.invokeFunction('convertToInteractive',\n",
              "                                                    [key], {});\n",
              "        if (!dataTable) return;\n",
              "\n",
              "        const docLinkHtml = 'Like what you see? Visit the ' +\n",
              "          '<a target=\"_blank\" href=https://colab.research.google.com/notebooks/data_table.ipynb>data table notebook</a>'\n",
              "          + ' to learn more about interactive tables.';\n",
              "        element.innerHTML = '';\n",
              "        dataTable['output_type'] = 'display_data';\n",
              "        await google.colab.output.renderOutput(dataTable, element);\n",
              "        const docLink = document.createElement('div');\n",
              "        docLink.innerHTML = docLinkHtml;\n",
              "        element.appendChild(docLink);\n",
              "      }\n",
              "    </script>\n",
              "  </div>\n",
              "\n",
              "\n",
              "    <div id=\"df-75deecc5-4e09-4971-b2a0-65c44620a6bd\">\n",
              "      <button class=\"colab-df-quickchart\" onclick=\"quickchart('df-75deecc5-4e09-4971-b2a0-65c44620a6bd')\"\n",
              "                title=\"Suggest charts\"\n",
              "                style=\"display:none;\">\n",
              "\n",
              "<svg xmlns=\"http://www.w3.org/2000/svg\" height=\"24px\"viewBox=\"0 0 24 24\"\n",
              "     width=\"24px\">\n",
              "    <g>\n",
              "        <path d=\"M19 3H5c-1.1 0-2 .9-2 2v14c0 1.1.9 2 2 2h14c1.1 0 2-.9 2-2V5c0-1.1-.9-2-2-2zM9 17H7v-7h2v7zm4 0h-2V7h2v10zm4 0h-2v-4h2v4z\"/>\n",
              "    </g>\n",
              "</svg>\n",
              "      </button>\n",
              "\n",
              "<style>\n",
              "  .colab-df-quickchart {\n",
              "      --bg-color: #E8F0FE;\n",
              "      --fill-color: #1967D2;\n",
              "      --hover-bg-color: #E2EBFA;\n",
              "      --hover-fill-color: #174EA6;\n",
              "      --disabled-fill-color: #AAA;\n",
              "      --disabled-bg-color: #DDD;\n",
              "  }\n",
              "\n",
              "  [theme=dark] .colab-df-quickchart {\n",
              "      --bg-color: #3B4455;\n",
              "      --fill-color: #D2E3FC;\n",
              "      --hover-bg-color: #434B5C;\n",
              "      --hover-fill-color: #FFFFFF;\n",
              "      --disabled-bg-color: #3B4455;\n",
              "      --disabled-fill-color: #666;\n",
              "  }\n",
              "\n",
              "  .colab-df-quickchart {\n",
              "    background-color: var(--bg-color);\n",
              "    border: none;\n",
              "    border-radius: 50%;\n",
              "    cursor: pointer;\n",
              "    display: none;\n",
              "    fill: var(--fill-color);\n",
              "    height: 32px;\n",
              "    padding: 0;\n",
              "    width: 32px;\n",
              "  }\n",
              "\n",
              "  .colab-df-quickchart:hover {\n",
              "    background-color: var(--hover-bg-color);\n",
              "    box-shadow: 0 1px 2px rgba(60, 64, 67, 0.3), 0 1px 3px 1px rgba(60, 64, 67, 0.15);\n",
              "    fill: var(--button-hover-fill-color);\n",
              "  }\n",
              "\n",
              "  .colab-df-quickchart-complete:disabled,\n",
              "  .colab-df-quickchart-complete:disabled:hover {\n",
              "    background-color: var(--disabled-bg-color);\n",
              "    fill: var(--disabled-fill-color);\n",
              "    box-shadow: none;\n",
              "  }\n",
              "\n",
              "  .colab-df-spinner {\n",
              "    border: 2px solid var(--fill-color);\n",
              "    border-color: transparent;\n",
              "    border-bottom-color: var(--fill-color);\n",
              "    animation:\n",
              "      spin 1s steps(1) infinite;\n",
              "  }\n",
              "\n",
              "  @keyframes spin {\n",
              "    0% {\n",
              "      border-color: transparent;\n",
              "      border-bottom-color: var(--fill-color);\n",
              "      border-left-color: var(--fill-color);\n",
              "    }\n",
              "    20% {\n",
              "      border-color: transparent;\n",
              "      border-left-color: var(--fill-color);\n",
              "      border-top-color: var(--fill-color);\n",
              "    }\n",
              "    30% {\n",
              "      border-color: transparent;\n",
              "      border-left-color: var(--fill-color);\n",
              "      border-top-color: var(--fill-color);\n",
              "      border-right-color: var(--fill-color);\n",
              "    }\n",
              "    40% {\n",
              "      border-color: transparent;\n",
              "      border-right-color: var(--fill-color);\n",
              "      border-top-color: var(--fill-color);\n",
              "    }\n",
              "    60% {\n",
              "      border-color: transparent;\n",
              "      border-right-color: var(--fill-color);\n",
              "    }\n",
              "    80% {\n",
              "      border-color: transparent;\n",
              "      border-right-color: var(--fill-color);\n",
              "      border-bottom-color: var(--fill-color);\n",
              "    }\n",
              "    90% {\n",
              "      border-color: transparent;\n",
              "      border-bottom-color: var(--fill-color);\n",
              "    }\n",
              "  }\n",
              "</style>\n",
              "\n",
              "      <script>\n",
              "        async function quickchart(key) {\n",
              "          const quickchartButtonEl =\n",
              "            document.querySelector('#' + key + ' button');\n",
              "          quickchartButtonEl.disabled = true;  // To prevent multiple clicks.\n",
              "          quickchartButtonEl.classList.add('colab-df-spinner');\n",
              "          try {\n",
              "            const charts = await google.colab.kernel.invokeFunction(\n",
              "                'suggestCharts', [key], {});\n",
              "          } catch (error) {\n",
              "            console.error('Error during call to suggestCharts:', error);\n",
              "          }\n",
              "          quickchartButtonEl.classList.remove('colab-df-spinner');\n",
              "          quickchartButtonEl.classList.add('colab-df-quickchart-complete');\n",
              "        }\n",
              "        (() => {\n",
              "          let quickchartButtonEl =\n",
              "            document.querySelector('#df-75deecc5-4e09-4971-b2a0-65c44620a6bd button');\n",
              "          quickchartButtonEl.style.display =\n",
              "            google.colab.kernel.accessAllowed ? 'block' : 'none';\n",
              "        })();\n",
              "      </script>\n",
              "    </div>\n",
              "\n",
              "    </div>\n",
              "  </div>\n"
            ],
            "application/vnd.google.colaboratory.intrinsic+json": {
              "type": "dataframe",
              "summary": "{\n  \"name\": \"df\",\n  \"rows\": 8,\n  \"fields\": [\n    {\n      \"column\": \"tamanio\",\n      \"properties\": {\n        \"dtype\": \"number\",\n        \"std\": 351.5420055543434,\n        \"min\": 2.32331612093529,\n        \"max\": 1000.0,\n        \"num_unique_values\": 8,\n        \"samples\": [\n          6.44,\n          6.0,\n          1000.0\n        ],\n        \"semantic_type\": \"\",\n        \"description\": \"\"\n      }\n    },\n    {\n      \"column\": \"costo_prom\",\n      \"properties\": {\n        \"dtype\": \"number\",\n        \"std\": 353.11699514820634,\n        \"min\": 0.1386417641569685,\n        \"max\": 1000.0,\n        \"num_unique_values\": 8,\n        \"samples\": [\n          1.4247491065129756,\n          1.4444444444444444,\n          1000.0\n        ],\n        \"semantic_type\": \"\",\n        \"description\": \"\"\n      }\n    },\n    {\n      \"column\": \"var_costo\",\n      \"properties\": {\n        \"dtype\": \"number\",\n        \"std\": 353.380688577449,\n        \"min\": 0.09876543209876544,\n        \"max\": 1000.0,\n        \"num_unique_values\": 8,\n        \"samples\": [\n          0.48646824764139035,\n          0.47035512879134284,\n          1000.0\n        ],\n        \"semantic_type\": \"\",\n        \"description\": \"\"\n      }\n    },\n    {\n      \"column\": \"densidad_cost3\",\n      \"properties\": {\n        \"dtype\": \"number\",\n        \"std\": 353.5099318740655,\n        \"min\": 0.0,\n        \"max\": 1000.0,\n        \"num_unique_values\": 8,\n        \"samples\": [\n          0.09196781179138322,\n          0.08641975308641975,\n          1000.0\n        ],\n        \"semantic_type\": \"\",\n        \"description\": \"\"\n      }\n    }\n  ]\n}"
            }
          },
          "metadata": {},
          "execution_count": 566
        }
      ]
    },
    {
      "cell_type": "markdown",
      "source": [
        "### 📈 2.13. Visualización inicial (EDA)"
      ],
      "metadata": {
        "id": "FsMmiHl1JqNT"
      }
    },
    {
      "cell_type": "code",
      "source": [
        "sns.countplot(data=df, x=\"mejor_alg\", palette=\"viridis\", hue=\"mejor_alg\")\n",
        "plt.title(\"Frecuencia del algoritmo más eficiente\")\n",
        "plt.show()"
      ],
      "metadata": {
        "colab": {
          "base_uri": "https://localhost:8080/",
          "height": 472
        },
        "id": "S3Vr2esLJuPh",
        "outputId": "0a468b05-111e-4468-8bd3-2f3ed2e9bb3f"
      },
      "execution_count": 567,
      "outputs": [
        {
          "output_type": "display_data",
          "data": {
            "text/plain": [
              "<Figure size 640x480 with 1 Axes>"
            ],
            "image/png": "[encoded data removed]"
          },
          "metadata": {}
        }
      ]
    },
    {
      "cell_type": "markdown",
      "source": [
        "### 💾 2.14. Guardar el dataset"
      ],
      "metadata": {
        "id": "Hd2fQB91W8CT"
      }
    },
    {
      "cell_type": "markdown",
      "source": [
        "Para una revisión exaustiva y posibilidad de re-uso posterior."
      ],
      "metadata": {
        "id": "ogDw72GQzRlF"
      }
    },
    {
      "cell_type": "code",
      "source": [
        "df.to_csv(\"dataset_busquedas.csv\", index=False)\n",
        "print(\"Dataset guardado en 'dataset_busquedas.csv'\")"
      ],
      "metadata": {
        "colab": {
          "base_uri": "https://localhost:8080/"
        },
        "id": "i1GJaSXwW6Za",
        "outputId": "0215d83d-2683-4f43-9a78-fa9fe99e723d"
      },
      "execution_count": 472,
      "outputs": [
        {
          "output_type": "stream",
          "name": "stdout",
          "text": [
            "Dataset guardado en 'dataset_busquedas.csv'\n"
          ]
        }
      ]
    },
    {
      "cell_type": "markdown",
      "source": [
        "## 🧠 Parte 3 - Modelo con Red Neuronal (TensorFlow/Keras)"
      ],
      "metadata": {
        "id": "_5HJrj0sOhpJ"
      }
    },
    {
      "cell_type": "markdown",
      "source": [
        "### 📦 3.1. Bibliotecas necesarias"
      ],
      "metadata": {
        "id": "NoXSsTvwysL0"
      }
    },
    {
      "cell_type": "code",
      "source": [
        "!pip install tensorflow scikit-learn"
      ],
      "metadata": {
        "id": "MBdNBipzy9Pd",
        "colab": {
          "base_uri": "https://localhost:8080/"
        },
        "outputId": "961c040c-bfb6-4a4e-d11e-8c1cd58596cf",
        "collapsed": true
      },
      "execution_count": 351,
      "outputs": [
        {
          "output_type": "stream",
          "name": "stdout",
          "text": [
            "Requirement already satisfied: tensorflow in /usr/local/lib/python3.12/dist-packages (2.19.0)\n",
            "Requirement already satisfied: scikit-learn in /usr/local/lib/python3.12/dist-packages (1.6.1)\n",
            "Requirement already satisfied: absl-py>=1.0.0 in /usr/local/lib/python3.12/dist-packages (from tensorflow) (1.4.0)\n",
            "Requirement already satisfied: astunparse>=1.6.0 in /usr/local/lib/python3.12/dist-packages (from tensorflow) (1.6.3)\n",
            "Requirement already satisfied: flatbuffers>=24.3.25 in /usr/local/lib/python3.12/dist-packages (from tensorflow) (25.9.23)\n",
            "Requirement already satisfied: gast!=0.5.0,!=0.5.1,!=0.5.2,>=0.2.1 in /usr/local/lib/python3.12/dist-packages (from tensorflow) (0.6.0)\n",
            "Requirement already satisfied: google-pasta>=0.1.1 in /usr/local/lib/python3.12/dist-packages (from tensorflow) (0.2.0)\n",
            "Requirement already satisfied: libclang>=13.0.0 in /usr/local/lib/python3.12/dist-packages (from tensorflow) (18.1.1)\n",
            "Requirement already satisfied: opt-einsum>=2.3.2 in /usr/local/lib/python3.12/dist-packages (from tensorflow) (3.4.0)\n",
            "Requirement already satisfied: packaging in /usr/local/lib/python3.12/dist-packages (from tensorflow) (25.0)\n",
            "Requirement already satisfied: protobuf!=4.21.0,!=4.21.1,!=4.21.2,!=4.21.3,!=4.21.4,!=4.21.5,<6.0.0dev,>=3.20.3 in /usr/local/lib/python3.12/dist-packages (from tensorflow) (5.29.5)\n",
            "Requirement already satisfied: requests<3,>=2.21.0 in /usr/local/lib/python3.12/dist-packages (from tensorflow) (2.32.4)\n",
            "Requirement already satisfied: setuptools in /usr/local/lib/python3.12/dist-packages (from tensorflow) (75.2.0)\n",
            "Requirement already satisfied: six>=1.12.0 in /usr/local/lib/python3.12/dist-packages (from tensorflow) (1.17.0)\n",
            "Requirement already satisfied: termcolor>=1.1.0 in /usr/local/lib/python3.12/dist-packages (from tensorflow) (3.1.0)\n",
            "Requirement already satisfied: typing-extensions>=3.6.6 in /usr/local/lib/python3.12/dist-packages (from tensorflow) (4.15.0)\n",
            "Requirement already satisfied: wrapt>=1.11.0 in /usr/local/lib/python3.12/dist-packages (from tensorflow) (2.0.0)\n",
            "Requirement already satisfied: grpcio<2.0,>=1.24.3 in /usr/local/lib/python3.12/dist-packages (from tensorflow) (1.76.0)\n",
            "Requirement already satisfied: tensorboard~=2.19.0 in /usr/local/lib/python3.12/dist-packages (from tensorflow) (2.19.0)\n",
            "Requirement already satisfied: keras>=3.5.0 in /usr/local/lib/python3.12/dist-packages (from tensorflow) (3.10.0)\n",
            "Requirement already satisfied: numpy<2.2.0,>=1.26.0 in /usr/local/lib/python3.12/dist-packages (from tensorflow) (2.0.2)\n",
            "Requirement already satisfied: h5py>=3.11.0 in /usr/local/lib/python3.12/dist-packages (from tensorflow) (3.15.1)\n",
            "Requirement already satisfied: ml-dtypes<1.0.0,>=0.5.1 in /usr/local/lib/python3.12/dist-packages (from tensorflow) (0.5.3)\n",
            "Requirement already satisfied: scipy>=1.6.0 in /usr/local/lib/python3.12/dist-packages (from scikit-learn) (1.16.2)\n",
            "Requirement already satisfied: joblib>=1.2.0 in /usr/local/lib/python3.12/dist-packages (from scikit-learn) (1.5.2)\n",
            "Requirement already satisfied: threadpoolctl>=3.1.0 in /usr/local/lib/python3.12/dist-packages (from scikit-learn) (3.6.0)\n",
            "Requirement already satisfied: wheel<1.0,>=0.23.0 in /usr/local/lib/python3.12/dist-packages (from astunparse>=1.6.0->tensorflow) (0.45.1)\n",
            "Requirement already satisfied: rich in /usr/local/lib/python3.12/dist-packages (from keras>=3.5.0->tensorflow) (13.9.4)\n",
            "Requirement already satisfied: namex in /usr/local/lib/python3.12/dist-packages (from keras>=3.5.0->tensorflow) (0.1.0)\n",
            "Requirement already satisfied: optree in /usr/local/lib/python3.12/dist-packages (from keras>=3.5.0->tensorflow) (0.17.0)\n",
            "Requirement already satisfied: charset_normalizer<4,>=2 in /usr/local/lib/python3.12/dist-packages (from requests<3,>=2.21.0->tensorflow) (3.4.4)\n",
            "Requirement already satisfied: idna<4,>=2.5 in /usr/local/lib/python3.12/dist-packages (from requests<3,>=2.21.0->tensorflow) (3.11)\n",
            "Requirement already satisfied: urllib3<3,>=1.21.1 in /usr/local/lib/python3.12/dist-packages (from requests<3,>=2.21.0->tensorflow) (2.5.0)\n",
            "Requirement already satisfied: certifi>=2017.4.17 in /usr/local/lib/python3.12/dist-packages (from requests<3,>=2.21.0->tensorflow) (2025.10.5)\n",
            "Requirement already satisfied: markdown>=2.6.8 in /usr/local/lib/python3.12/dist-packages (from tensorboard~=2.19.0->tensorflow) (3.9)\n",
            "Requirement already satisfied: tensorboard-data-server<0.8.0,>=0.7.0 in /usr/local/lib/python3.12/dist-packages (from tensorboard~=2.19.0->tensorflow) (0.7.2)\n",
            "Requirement already satisfied: werkzeug>=1.0.1 in /usr/local/lib/python3.12/dist-packages (from tensorboard~=2.19.0->tensorflow) (3.1.3)\n",
            "Requirement already satisfied: MarkupSafe>=2.1.1 in /usr/local/lib/python3.12/dist-packages (from werkzeug>=1.0.1->tensorboard~=2.19.0->tensorflow) (3.0.3)\n",
            "Requirement already satisfied: markdown-it-py>=2.2.0 in /usr/local/lib/python3.12/dist-packages (from rich->keras>=3.5.0->tensorflow) (4.0.0)\n",
            "Requirement already satisfied: pygments<3.0.0,>=2.13.0 in /usr/local/lib/python3.12/dist-packages (from rich->keras>=3.5.0->tensorflow) (2.19.2)\n",
            "Requirement already satisfied: mdurl~=0.1 in /usr/local/lib/python3.12/dist-packages (from markdown-it-py>=2.2.0->rich->keras>=3.5.0->tensorflow) (0.1.2)\n"
          ]
        }
      ]
    },
    {
      "cell_type": "markdown",
      "source": [
        "### 🧩 3.2. Importaciones y configuración inicial"
      ],
      "metadata": {
        "id": "ygBnUUr1zxHw"
      }
    },
    {
      "cell_type": "code",
      "source": [
        "import numpy as np\n",
        "\n",
        "from sklearn.preprocessing import LabelEncoder, StandardScaler\n",
        "from sklearn.model_selection import train_test_split\n",
        "from sklearn.metrics import confusion_matrix, classification_report\n",
        "\n",
        "import tensorflow as tf\n",
        "from tensorflow.keras import layers, models\n",
        "\n",
        "import pickle"
      ],
      "metadata": {
        "id": "qNGe1s-OzyUg"
      },
      "execution_count": 352,
      "outputs": []
    },
    {
      "cell_type": "markdown",
      "source": [
        "### 🔹 3.3. Codificación y Normalización"
      ],
      "metadata": {
        "id": "1w8CEzZROFQ6"
      }
    },
    {
      "cell_type": "code",
      "source": [
        "# Codificar la variable objetivo\n",
        "le = LabelEncoder()\n",
        "df['mejor_alg_enc'] = le.fit_transform(df['mejor_alg'])\n",
        "\n",
        "# Features y etiquetas\n",
        "x = df[['tamanio', 'costo_prom', 'var_costo', 'densidad_cost3']]\n",
        "y = df['mejor_alg_enc']\n",
        "\n",
        "# Escalar las features\n",
        "scaler = StandardScaler()\n",
        "x_scaled = scaler.fit_transform(x)\n",
        "\n",
        "# Separación de los datos en train/test\n",
        "x_train, x_test, y_train, y_test = train_test_split(x_scaled, y, test_size=0.2, random_state=1234)\n",
        "\n",
        "print(\"X_train shape:\", x_train.shape)\n",
        "print(\"Clases codificadas:\", dict(zip(le.classes_, le.transform(le.classes_))))"
      ],
      "metadata": {
        "colab": {
          "base_uri": "https://localhost:8080/"
        },
        "id": "N1Kjz4eSOHAW",
        "outputId": "dbb91518-5979-46e4-c9db-9cd52d0f9a79"
      },
      "execution_count": 474,
      "outputs": [
        {
          "output_type": "stream",
          "name": "stdout",
          "text": [
            "X_train shape: (800, 4)\n",
            "Clases codificadas: {'A*': np.int64(0), 'Greedy': np.int64(1), 'UCS': np.int64(2)}\n"
          ]
        }
      ]
    },
    {
      "cell_type": "markdown",
      "source": [
        "### 🧱 3.4. Definición de la Red Neuronal"
      ],
      "metadata": {
        "id": "1a-SgS_aOLUh"
      }
    },
    {
      "cell_type": "code",
      "source": [
        "n_clases = len(le.classes_)\n",
        "\n",
        "model = models.Sequential([\n",
        "    layers.Input(shape=(x_train.shape[1],)),\n",
        "    layers.Dense(16, activation='relu'),\n",
        "    layers.Dense(8, activation='relu'),\n",
        "    layers.Dense(n_clases, activation='softmax')\n",
        "])\n",
        "\n",
        "model.compile(optimizer='adam', loss='sparse_categorical_crossentropy', metrics=['accuracy'])\n",
        "model.summary()"
      ],
      "metadata": {
        "colab": {
          "base_uri": "https://localhost:8080/",
          "height": 238
        },
        "id": "tCK40lx1OND4",
        "outputId": "4a7a0214-d25e-43a0-cddc-634e5c251020"
      },
      "execution_count": 475,
      "outputs": [
        {
          "output_type": "display_data",
          "data": {
            "text/plain": [
              "\u001b[1mModel: \"sequential_5\"\u001b[0m\n"
            ],
            "text/html": [
              "<pre style=\"white-space:pre;overflow-x:auto;line-height:normal;font-family:Menlo,'DejaVu Sans Mono',consolas,'Courier New',monospace\"><span style=\"font-weight: bold\">Model: \"sequential_5\"</span>\n",
              "</pre>\n"
            ]
          },
          "metadata": {}
        },
        {
          "output_type": "display_data",
          "data": {
            "text/plain": [
              "┏━━━━━━━━━━━━━━━━━━━━━━━━━━━━━━━━━┳━━━━━━━━━━━━━━━━━━━━━━━━┳━━━━━━━━━━━━━━━┓\n",
              "┃\u001b[1m \u001b[0m\u001b[1mLayer (type)                   \u001b[0m\u001b[1m \u001b[0m┃\u001b[1m \u001b[0m\u001b[1mOutput Shape          \u001b[0m\u001b[1m \u001b[0m┃\u001b[1m \u001b[0m\u001b[1m      Param #\u001b[0m\u001b[1m \u001b[0m┃\n",
              "┡━━━━━━━━━━━━━━━━━━━━━━━━━━━━━━━━━╇━━━━━━━━━━━━━━━━━━━━━━━━╇━━━━━━━━━━━━━━━┩\n",
              "│ dense_15 (\u001b[38;5;33mDense\u001b[0m)                │ (\u001b[38;5;45mNone\u001b[0m, \u001b[38;5;34m16\u001b[0m)             │            \u001b[38;5;34m80\u001b[0m │\n",
              "├─────────────────────────────────┼────────────────────────┼───────────────┤\n",
              "│ dense_16 (\u001b[38;5;33mDense\u001b[0m)                │ (\u001b[38;5;45mNone\u001b[0m, \u001b[38;5;34m8\u001b[0m)              │           \u001b[38;5;34m136\u001b[0m │\n",
              "├─────────────────────────────────┼────────────────────────┼───────────────┤\n",
              "│ dense_17 (\u001b[38;5;33mDense\u001b[0m)                │ (\u001b[38;5;45mNone\u001b[0m, \u001b[38;5;34m3\u001b[0m)              │            \u001b[38;5;34m27\u001b[0m │\n",
              "└─────────────────────────────────┴────────────────────────┴───────────────┘\n"
            ],
            "text/html": [
              "<pre style=\"white-space:pre;overflow-x:auto;line-height:normal;font-family:Menlo,'DejaVu Sans Mono',consolas,'Courier New',monospace\">┏━━━━━━━━━━━━━━━━━━━━━━━━━━━━━━━━━┳━━━━━━━━━━━━━━━━━━━━━━━━┳━━━━━━━━━━━━━━━┓\n",
              "┃<span style=\"font-weight: bold\"> Layer (type)                    </span>┃<span style=\"font-weight: bold\"> Output Shape           </span>┃<span style=\"font-weight: bold\">       Param # </span>┃\n",
              "┡━━━━━━━━━━━━━━━━━━━━━━━━━━━━━━━━━╇━━━━━━━━━━━━━━━━━━━━━━━━╇━━━━━━━━━━━━━━━┩\n",
              "│ dense_15 (<span style=\"color: #0087ff; text-decoration-color: #0087ff\">Dense</span>)                │ (<span style=\"color: #00d7ff; text-decoration-color: #00d7ff\">None</span>, <span style=\"color: #00af00; text-decoration-color: #00af00\">16</span>)             │            <span style=\"color: #00af00; text-decoration-color: #00af00\">80</span> │\n",
              "├─────────────────────────────────┼────────────────────────┼───────────────┤\n",
              "│ dense_16 (<span style=\"color: #0087ff; text-decoration-color: #0087ff\">Dense</span>)                │ (<span style=\"color: #00d7ff; text-decoration-color: #00d7ff\">None</span>, <span style=\"color: #00af00; text-decoration-color: #00af00\">8</span>)              │           <span style=\"color: #00af00; text-decoration-color: #00af00\">136</span> │\n",
              "├─────────────────────────────────┼────────────────────────┼───────────────┤\n",
              "│ dense_17 (<span style=\"color: #0087ff; text-decoration-color: #0087ff\">Dense</span>)                │ (<span style=\"color: #00d7ff; text-decoration-color: #00d7ff\">None</span>, <span style=\"color: #00af00; text-decoration-color: #00af00\">3</span>)              │            <span style=\"color: #00af00; text-decoration-color: #00af00\">27</span> │\n",
              "└─────────────────────────────────┴────────────────────────┴───────────────┘\n",
              "</pre>\n"
            ]
          },
          "metadata": {}
        },
        {
          "output_type": "display_data",
          "data": {
            "text/plain": [
              "\u001b[1m Total params: \u001b[0m\u001b[38;5;34m243\u001b[0m (972.00 B)\n"
            ],
            "text/html": [
              "<pre style=\"white-space:pre;overflow-x:auto;line-height:normal;font-family:Menlo,'DejaVu Sans Mono',consolas,'Courier New',monospace\"><span style=\"font-weight: bold\"> Total params: </span><span style=\"color: #00af00; text-decoration-color: #00af00\">243</span> (972.00 B)\n",
              "</pre>\n"
            ]
          },
          "metadata": {}
        },
        {
          "output_type": "display_data",
          "data": {
            "text/plain": [
              "\u001b[1m Trainable params: \u001b[0m\u001b[38;5;34m243\u001b[0m (972.00 B)\n"
            ],
            "text/html": [
              "<pre style=\"white-space:pre;overflow-x:auto;line-height:normal;font-family:Menlo,'DejaVu Sans Mono',consolas,'Courier New',monospace\"><span style=\"font-weight: bold\"> Trainable params: </span><span style=\"color: #00af00; text-decoration-color: #00af00\">243</span> (972.00 B)\n",
              "</pre>\n"
            ]
          },
          "metadata": {}
        },
        {
          "output_type": "display_data",
          "data": {
            "text/plain": [
              "\u001b[1m Non-trainable params: \u001b[0m\u001b[38;5;34m0\u001b[0m (0.00 B)\n"
            ],
            "text/html": [
              "<pre style=\"white-space:pre;overflow-x:auto;line-height:normal;font-family:Menlo,'DejaVu Sans Mono',consolas,'Courier New',monospace\"><span style=\"font-weight: bold\"> Non-trainable params: </span><span style=\"color: #00af00; text-decoration-color: #00af00\">0</span> (0.00 B)\n",
              "</pre>\n"
            ]
          },
          "metadata": {}
        }
      ]
    },
    {
      "cell_type": "markdown",
      "source": [
        "### 🚀 3.5. Entrenamiento del modelo"
      ],
      "metadata": {
        "id": "Wfa0BVLmOWAy"
      }
    },
    {
      "cell_type": "code",
      "source": [
        "history = model.fit(x_train, y_train, epochs=50, batch_size=16, validation_split=0.2, verbose=1)"
      ],
      "metadata": {
        "colab": {
          "base_uri": "https://localhost:8080/"
        },
        "collapsed": true,
        "id": "m4x-y7uUOWiD",
        "outputId": "aa2d1aa7-a23d-4320-c523-c14c41cdc76b"
      },
      "execution_count": 476,
      "outputs": [
        {
          "output_type": "stream",
          "name": "stdout",
          "text": [
            "Epoch 1/50\n",
            "\u001b[1m40/40\u001b[0m \u001b[32m━━━━━━━━━━━━━━━━━━━━\u001b[0m\u001b[37m\u001b[0m \u001b[1m2s\u001b[0m 11ms/step - accuracy: 0.2464 - loss: 1.1984 - val_accuracy: 0.5312 - val_loss: 0.9848\n",
            "Epoch 2/50\n",
            "\u001b[1m40/40\u001b[0m \u001b[32m━━━━━━━━━━━━━━━━━━━━\u001b[0m\u001b[37m\u001b[0m \u001b[1m1s\u001b[0m 19ms/step - accuracy: 0.6236 - loss: 0.9295 - val_accuracy: 0.8313 - val_loss: 0.7886\n",
            "Epoch 3/50\n",
            "\u001b[1m40/40\u001b[0m \u001b[32m━━━━━━━━━━━━━━━━━━━━\u001b[0m\u001b[37m\u001b[0m \u001b[1m0s\u001b[0m 4ms/step - accuracy: 0.8600 - loss: 0.7328 - val_accuracy: 0.8375 - val_loss: 0.6476\n",
            "Epoch 4/50\n",
            "\u001b[1m40/40\u001b[0m \u001b[32m━━━━━━━━━━━━━━━━━━━━\u001b[0m\u001b[37m\u001b[0m \u001b[1m0s\u001b[0m 4ms/step - accuracy: 0.8706 - loss: 0.5929 - val_accuracy: 0.8375 - val_loss: 0.5496\n",
            "Epoch 5/50\n",
            "\u001b[1m40/40\u001b[0m \u001b[32m━━━━━━━━━━━━━━━━━━━━\u001b[0m\u001b[37m\u001b[0m \u001b[1m0s\u001b[0m 3ms/step - accuracy: 0.8777 - loss: 0.4890 - val_accuracy: 0.8375 - val_loss: 0.4938\n",
            "Epoch 6/50\n",
            "\u001b[1m40/40\u001b[0m \u001b[32m━━━━━━━━━━━━━━━━━━━━\u001b[0m\u001b[37m\u001b[0m \u001b[1m0s\u001b[0m 3ms/step - accuracy: 0.8698 - loss: 0.4460 - val_accuracy: 0.8375 - val_loss: 0.4712\n",
            "Epoch 7/50\n",
            "\u001b[1m40/40\u001b[0m \u001b[32m━━━━━━━━━━━━━━━━━━━━\u001b[0m\u001b[37m\u001b[0m \u001b[1m0s\u001b[0m 3ms/step - accuracy: 0.8877 - loss: 0.4051 - val_accuracy: 0.8375 - val_loss: 0.4553\n",
            "Epoch 8/50\n",
            "\u001b[1m40/40\u001b[0m \u001b[32m━━━━━━━━━━━━━━━━━━━━\u001b[0m\u001b[37m\u001b[0m \u001b[1m0s\u001b[0m 3ms/step - accuracy: 0.8619 - loss: 0.4340 - val_accuracy: 0.8438 - val_loss: 0.4475\n",
            "Epoch 9/50\n",
            "\u001b[1m40/40\u001b[0m \u001b[32m━━━━━━━━━━━━━━━━━━━━\u001b[0m\u001b[37m\u001b[0m \u001b[1m0s\u001b[0m 3ms/step - accuracy: 0.8737 - loss: 0.4053 - val_accuracy: 0.8438 - val_loss: 0.4423\n",
            "Epoch 10/50\n",
            "\u001b[1m40/40\u001b[0m \u001b[32m━━━━━━━━━━━━━━━━━━━━\u001b[0m\u001b[37m\u001b[0m \u001b[1m0s\u001b[0m 3ms/step - accuracy: 0.8663 - loss: 0.4162 - val_accuracy: 0.8438 - val_loss: 0.4386\n",
            "Epoch 11/50\n",
            "\u001b[1m40/40\u001b[0m \u001b[32m━━━━━━━━━━━━━━━━━━━━\u001b[0m\u001b[37m\u001b[0m \u001b[1m0s\u001b[0m 3ms/step - accuracy: 0.8674 - loss: 0.4348 - val_accuracy: 0.8438 - val_loss: 0.4353\n",
            "Epoch 12/50\n",
            "\u001b[1m40/40\u001b[0m \u001b[32m━━━━━━━━━━━━━━━━━━━━\u001b[0m\u001b[37m\u001b[0m \u001b[1m0s\u001b[0m 4ms/step - accuracy: 0.8788 - loss: 0.4034 - val_accuracy: 0.8438 - val_loss: 0.4341\n",
            "Epoch 13/50\n",
            "\u001b[1m40/40\u001b[0m \u001b[32m━━━━━━━━━━━━━━━━━━━━\u001b[0m\u001b[37m\u001b[0m \u001b[1m0s\u001b[0m 3ms/step - accuracy: 0.8756 - loss: 0.3954 - val_accuracy: 0.8438 - val_loss: 0.4322\n",
            "Epoch 14/50\n",
            "\u001b[1m40/40\u001b[0m \u001b[32m━━━━━━━━━━━━━━━━━━━━\u001b[0m\u001b[37m\u001b[0m \u001b[1m0s\u001b[0m 3ms/step - accuracy: 0.8818 - loss: 0.3812 - val_accuracy: 0.8438 - val_loss: 0.4314\n",
            "Epoch 15/50\n",
            "\u001b[1m40/40\u001b[0m \u001b[32m━━━━━━━━━━━━━━━━━━━━\u001b[0m\u001b[37m\u001b[0m \u001b[1m0s\u001b[0m 4ms/step - accuracy: 0.8836 - loss: 0.3832 - val_accuracy: 0.8438 - val_loss: 0.4320\n",
            "Epoch 16/50\n",
            "\u001b[1m40/40\u001b[0m \u001b[32m━━━━━━━━━━━━━━━━━━━━\u001b[0m\u001b[37m\u001b[0m \u001b[1m0s\u001b[0m 3ms/step - accuracy: 0.8507 - loss: 0.4688 - val_accuracy: 0.8438 - val_loss: 0.4295\n",
            "Epoch 17/50\n",
            "\u001b[1m40/40\u001b[0m \u001b[32m━━━━━━━━━━━━━━━━━━━━\u001b[0m\u001b[37m\u001b[0m \u001b[1m0s\u001b[0m 3ms/step - accuracy: 0.8709 - loss: 0.3998 - val_accuracy: 0.8438 - val_loss: 0.4329\n",
            "Epoch 18/50\n",
            "\u001b[1m40/40\u001b[0m \u001b[32m━━━━━━━━━━━━━━━━━━━━\u001b[0m\u001b[37m\u001b[0m \u001b[1m0s\u001b[0m 4ms/step - accuracy: 0.8795 - loss: 0.3890 - val_accuracy: 0.8375 - val_loss: 0.4301\n",
            "Epoch 19/50\n",
            "\u001b[1m40/40\u001b[0m \u001b[32m━━━━━━━━━━━━━━━━━━━━\u001b[0m\u001b[37m\u001b[0m \u001b[1m0s\u001b[0m 3ms/step - accuracy: 0.8749 - loss: 0.3988 - val_accuracy: 0.8438 - val_loss: 0.4336\n",
            "Epoch 20/50\n",
            "\u001b[1m40/40\u001b[0m \u001b[32m━━━━━━━━━━━━━━━━━━━━\u001b[0m\u001b[37m\u001b[0m \u001b[1m0s\u001b[0m 3ms/step - accuracy: 0.8575 - loss: 0.4281 - val_accuracy: 0.8438 - val_loss: 0.4307\n",
            "Epoch 21/50\n",
            "\u001b[1m40/40\u001b[0m \u001b[32m━━━━━━━━━━━━━━━━━━━━\u001b[0m\u001b[37m\u001b[0m \u001b[1m0s\u001b[0m 4ms/step - accuracy: 0.8365 - loss: 0.4730 - val_accuracy: 0.8438 - val_loss: 0.4307\n",
            "Epoch 22/50\n",
            "\u001b[1m40/40\u001b[0m \u001b[32m━━━━━━━━━━━━━━━━━━━━\u001b[0m\u001b[37m\u001b[0m \u001b[1m0s\u001b[0m 3ms/step - accuracy: 0.8807 - loss: 0.3905 - val_accuracy: 0.8438 - val_loss: 0.4297\n",
            "Epoch 23/50\n",
            "\u001b[1m40/40\u001b[0m \u001b[32m━━━━━━━━━━━━━━━━━━━━\u001b[0m\u001b[37m\u001b[0m \u001b[1m0s\u001b[0m 3ms/step - accuracy: 0.8882 - loss: 0.3628 - val_accuracy: 0.8438 - val_loss: 0.4305\n",
            "Epoch 24/50\n",
            "\u001b[1m40/40\u001b[0m \u001b[32m━━━━━━━━━━━━━━━━━━━━\u001b[0m\u001b[37m\u001b[0m \u001b[1m0s\u001b[0m 3ms/step - accuracy: 0.9064 - loss: 0.3221 - val_accuracy: 0.8438 - val_loss: 0.4297\n",
            "Epoch 25/50\n",
            "\u001b[1m40/40\u001b[0m \u001b[32m━━━━━━━━━━━━━━━━━━━━\u001b[0m\u001b[37m\u001b[0m \u001b[1m0s\u001b[0m 3ms/step - accuracy: 0.8626 - loss: 0.4048 - val_accuracy: 0.8438 - val_loss: 0.4328\n",
            "Epoch 26/50\n",
            "\u001b[1m40/40\u001b[0m \u001b[32m━━━━━━━━━━━━━━━━━━━━\u001b[0m\u001b[37m\u001b[0m \u001b[1m0s\u001b[0m 3ms/step - accuracy: 0.8615 - loss: 0.3939 - val_accuracy: 0.8438 - val_loss: 0.4301\n",
            "Epoch 27/50\n",
            "\u001b[1m40/40\u001b[0m \u001b[32m━━━━━━━━━━━━━━━━━━━━\u001b[0m\u001b[37m\u001b[0m \u001b[1m0s\u001b[0m 3ms/step - accuracy: 0.8746 - loss: 0.3697 - val_accuracy: 0.8438 - val_loss: 0.4316\n",
            "Epoch 28/50\n",
            "\u001b[1m40/40\u001b[0m \u001b[32m━━━━━━━━━━━━━━━━━━━━\u001b[0m\u001b[37m\u001b[0m \u001b[1m0s\u001b[0m 3ms/step - accuracy: 0.8498 - loss: 0.4293 - val_accuracy: 0.8438 - val_loss: 0.4320\n",
            "Epoch 29/50\n",
            "\u001b[1m40/40\u001b[0m \u001b[32m━━━━━━━━━━━━━━━━━━━━\u001b[0m\u001b[37m\u001b[0m \u001b[1m0s\u001b[0m 4ms/step - accuracy: 0.8708 - loss: 0.3976 - val_accuracy: 0.8438 - val_loss: 0.4339\n",
            "Epoch 30/50\n",
            "\u001b[1m40/40\u001b[0m \u001b[32m━━━━━━━━━━━━━━━━━━━━\u001b[0m\u001b[37m\u001b[0m \u001b[1m0s\u001b[0m 3ms/step - accuracy: 0.8762 - loss: 0.3654 - val_accuracy: 0.8438 - val_loss: 0.4328\n",
            "Epoch 31/50\n",
            "\u001b[1m40/40\u001b[0m \u001b[32m━━━━━━━━━━━━━━━━━━━━\u001b[0m\u001b[37m\u001b[0m \u001b[1m0s\u001b[0m 4ms/step - accuracy: 0.8786 - loss: 0.3888 - val_accuracy: 0.8438 - val_loss: 0.4328\n",
            "Epoch 32/50\n",
            "\u001b[1m40/40\u001b[0m \u001b[32m━━━━━━━━━━━━━━━━━━━━\u001b[0m\u001b[37m\u001b[0m \u001b[1m0s\u001b[0m 3ms/step - accuracy: 0.8693 - loss: 0.3949 - val_accuracy: 0.8438 - val_loss: 0.4330\n",
            "Epoch 33/50\n",
            "\u001b[1m40/40\u001b[0m \u001b[32m━━━━━━━━━━━━━━━━━━━━\u001b[0m\u001b[37m\u001b[0m \u001b[1m0s\u001b[0m 4ms/step - accuracy: 0.8705 - loss: 0.3655 - val_accuracy: 0.8438 - val_loss: 0.4331\n",
            "Epoch 34/50\n",
            "\u001b[1m40/40\u001b[0m \u001b[32m━━━━━━━━━━━━━━━━━━━━\u001b[0m\u001b[37m\u001b[0m \u001b[1m0s\u001b[0m 3ms/step - accuracy: 0.8577 - loss: 0.4332 - val_accuracy: 0.8438 - val_loss: 0.4351\n",
            "Epoch 35/50\n",
            "\u001b[1m40/40\u001b[0m \u001b[32m━━━━━━━━━━━━━━━━━━━━\u001b[0m\u001b[37m\u001b[0m \u001b[1m0s\u001b[0m 4ms/step - accuracy: 0.8772 - loss: 0.3759 - val_accuracy: 0.8438 - val_loss: 0.4327\n",
            "Epoch 36/50\n",
            "\u001b[1m40/40\u001b[0m \u001b[32m━━━━━━━━━━━━━━━━━━━━\u001b[0m\u001b[37m\u001b[0m \u001b[1m0s\u001b[0m 3ms/step - accuracy: 0.8813 - loss: 0.3676 - val_accuracy: 0.8438 - val_loss: 0.4334\n",
            "Epoch 37/50\n",
            "\u001b[1m40/40\u001b[0m \u001b[32m━━━━━━━━━━━━━━━━━━━━\u001b[0m\u001b[37m\u001b[0m \u001b[1m0s\u001b[0m 4ms/step - accuracy: 0.8551 - loss: 0.4135 - val_accuracy: 0.8438 - val_loss: 0.4331\n",
            "Epoch 38/50\n",
            "\u001b[1m40/40\u001b[0m \u001b[32m━━━━━━━━━━━━━━━━━━━━\u001b[0m\u001b[37m\u001b[0m \u001b[1m0s\u001b[0m 3ms/step - accuracy: 0.8723 - loss: 0.3473 - val_accuracy: 0.8438 - val_loss: 0.4381\n",
            "Epoch 39/50\n",
            "\u001b[1m40/40\u001b[0m \u001b[32m━━━━━━━━━━━━━━━━━━━━\u001b[0m\u001b[37m\u001b[0m \u001b[1m0s\u001b[0m 4ms/step - accuracy: 0.8789 - loss: 0.3845 - val_accuracy: 0.8438 - val_loss: 0.4331\n",
            "Epoch 40/50\n",
            "\u001b[1m40/40\u001b[0m \u001b[32m━━━━━━━━━━━━━━━━━━━━\u001b[0m\u001b[37m\u001b[0m \u001b[1m0s\u001b[0m 3ms/step - accuracy: 0.8724 - loss: 0.3877 - val_accuracy: 0.8438 - val_loss: 0.4347\n",
            "Epoch 41/50\n",
            "\u001b[1m40/40\u001b[0m \u001b[32m━━━━━━━━━━━━━━━━━━━━\u001b[0m\u001b[37m\u001b[0m \u001b[1m0s\u001b[0m 3ms/step - accuracy: 0.8577 - loss: 0.4060 - val_accuracy: 0.8438 - val_loss: 0.4351\n",
            "Epoch 42/50\n",
            "\u001b[1m40/40\u001b[0m \u001b[32m━━━━━━━━━━━━━━━━━━━━\u001b[0m\u001b[37m\u001b[0m \u001b[1m0s\u001b[0m 4ms/step - accuracy: 0.8835 - loss: 0.3461 - val_accuracy: 0.8438 - val_loss: 0.4338\n",
            "Epoch 43/50\n",
            "\u001b[1m40/40\u001b[0m \u001b[32m━━━━━━━━━━━━━━━━━━━━\u001b[0m\u001b[37m\u001b[0m \u001b[1m0s\u001b[0m 3ms/step - accuracy: 0.8813 - loss: 0.3605 - val_accuracy: 0.8500 - val_loss: 0.4341\n",
            "Epoch 44/50\n",
            "\u001b[1m40/40\u001b[0m \u001b[32m━━━━━━━━━━━━━━━━━━━━\u001b[0m\u001b[37m\u001b[0m \u001b[1m0s\u001b[0m 3ms/step - accuracy: 0.8818 - loss: 0.3635 - val_accuracy: 0.8500 - val_loss: 0.4367\n",
            "Epoch 45/50\n",
            "\u001b[1m40/40\u001b[0m \u001b[32m━━━━━━━━━━━━━━━━━━━━\u001b[0m\u001b[37m\u001b[0m \u001b[1m0s\u001b[0m 3ms/step - accuracy: 0.8744 - loss: 0.3670 - val_accuracy: 0.8500 - val_loss: 0.4343\n",
            "Epoch 46/50\n",
            "\u001b[1m40/40\u001b[0m \u001b[32m━━━━━━━━━━━━━━━━━━━━\u001b[0m\u001b[37m\u001b[0m \u001b[1m0s\u001b[0m 3ms/step - accuracy: 0.8988 - loss: 0.3131 - val_accuracy: 0.8500 - val_loss: 0.4348\n",
            "Epoch 47/50\n",
            "\u001b[1m40/40\u001b[0m \u001b[32m━━━━━━━━━━━━━━━━━━━━\u001b[0m\u001b[37m\u001b[0m \u001b[1m0s\u001b[0m 4ms/step - accuracy: 0.8690 - loss: 0.3689 - val_accuracy: 0.8500 - val_loss: 0.4355\n",
            "Epoch 48/50\n",
            "\u001b[1m40/40\u001b[0m \u001b[32m━━━━━━━━━━━━━━━━━━━━\u001b[0m\u001b[37m\u001b[0m \u001b[1m0s\u001b[0m 4ms/step - accuracy: 0.8755 - loss: 0.3695 - val_accuracy: 0.8500 - val_loss: 0.4372\n",
            "Epoch 49/50\n",
            "\u001b[1m40/40\u001b[0m \u001b[32m━━━━━━━━━━━━━━━━━━━━\u001b[0m\u001b[37m\u001b[0m \u001b[1m0s\u001b[0m 4ms/step - accuracy: 0.8846 - loss: 0.3353 - val_accuracy: 0.8500 - val_loss: 0.4341\n",
            "Epoch 50/50\n",
            "\u001b[1m40/40\u001b[0m \u001b[32m━━━━━━━━━━━━━━━━━━━━\u001b[0m\u001b[37m\u001b[0m \u001b[1m0s\u001b[0m 3ms/step - accuracy: 0.8557 - loss: 0.4155 - val_accuracy: 0.8500 - val_loss: 0.4359\n"
          ]
        }
      ]
    },
    {
      "cell_type": "markdown",
      "source": [
        "### 📈 3.6. Visualización del entrenamiento"
      ],
      "metadata": {
        "id": "NfrZYX_hOcKl"
      }
    },
    {
      "cell_type": "code",
      "source": [
        "plt.figure(figsize=(8,4))\n",
        "plt.plot(history.history['accuracy'], label='Entrenamiento')\n",
        "plt.plot(history.history['val_accuracy'], label='Validación')\n",
        "plt.title('Evolución de la accuracy')\n",
        "plt.legend()\n",
        "plt.xlabel('Epochs')\n",
        "plt.ylabel('Accuracy')\n",
        "plt.show()"
      ],
      "metadata": {
        "colab": {
          "base_uri": "https://localhost:8080/",
          "height": 411
        },
        "id": "LtGsLCJrOdm2",
        "outputId": "1c3ee4e5-c799-40ea-fca8-4b5749655d7a"
      },
      "execution_count": 477,
      "outputs": [
        {
          "output_type": "display_data",
          "data": {
            "text/plain": [
              "<Figure size 800x400 with 1 Axes>"
            ],
            "image/png": "[encoded data removed]"
          },
          "metadata": {}
        }
      ]
    },
    {
      "cell_type": "markdown",
      "source": [
        "### 🧪 3.7. Evaluación final"
      ],
      "metadata": {
        "id": "hhnZuh2WPFcb"
      }
    },
    {
      "cell_type": "code",
      "source": [
        "loss, acc = model.evaluate(x_test, y_test, verbose=0)\n",
        "print(f\"Exactitud en test: {acc*100:.1f}%\")"
      ],
      "metadata": {
        "colab": {
          "base_uri": "https://localhost:8080/"
        },
        "id": "TfOMTeIzPGWr",
        "outputId": "d219bb40-d3a4-4654-f98a-c1abf475b858"
      },
      "execution_count": 478,
      "outputs": [
        {
          "output_type": "stream",
          "name": "stdout",
          "text": [
            "Exactitud en test: 87.0%\n"
          ]
        }
      ]
    },
    {
      "cell_type": "markdown",
      "source": [
        "### 🔍 3.8. Predicciones y Matriz de Confusión"
      ],
      "metadata": {
        "id": "uXQ7ZoP6PJ1w"
      }
    },
    {
      "cell_type": "code",
      "source": [
        "y_pred = np.argmax(model.predict(x_test), axis=1)\n",
        "\n",
        "print(\"\\nReporte de clasificación:\")\n",
        "print(classification_report(y_test, y_pred, target_names=le.classes_, zero_division=0))"
      ],
      "metadata": {
        "colab": {
          "base_uri": "https://localhost:8080/"
        },
        "id": "JLy79dC0PKXx",
        "outputId": "49f19b0e-fed5-49d3-a4fe-0647e7d8f848"
      },
      "execution_count": 479,
      "outputs": [
        {
          "output_type": "stream",
          "name": "stdout",
          "text": [
            "\u001b[1m7/7\u001b[0m \u001b[32m━━━━━━━━━━━━━━━━━━━━\u001b[0m\u001b[37m\u001b[0m \u001b[1m0s\u001b[0m 13ms/step\n",
            "\n",
            "Reporte de clasificación:\n",
            "              precision    recall  f1-score   support\n",
            "\n",
            "          A*       0.87      0.99      0.93       172\n",
            "      Greedy       0.75      0.12      0.20        26\n",
            "         UCS       0.00      0.00      0.00         2\n",
            "\n",
            "    accuracy                           0.87       200\n",
            "   macro avg       0.54      0.37      0.38       200\n",
            "weighted avg       0.85      0.87      0.83       200\n",
            "\n"
          ]
        }
      ]
    },
    {
      "cell_type": "code",
      "source": [
        "cm = confusion_matrix(y_test, y_pred)\n",
        "sns.heatmap(cm, annot=True, fmt=\"d\", cmap=\"Blues\", xticklabels=le.classes_, yticklabels=le.classes_)\n",
        "plt.title(\"Matriz de confusión\")\n",
        "plt.xlabel(\"Predicho\")\n",
        "plt.ylabel(\"Verdadero\")\n",
        "plt.show()"
      ],
      "metadata": {
        "colab": {
          "base_uri": "https://localhost:8080/",
          "height": 472
        },
        "id": "u93yI2u4PNxX",
        "outputId": "dffe152a-22e1-41f3-abd3-f1390a9b651b"
      },
      "execution_count": 480,
      "outputs": [
        {
          "output_type": "display_data",
          "data": {
            "text/plain": [
              "<Figure size 640x480 with 2 Axes>"
            ],
            "image/png": "[encoded data removed]"
          },
          "metadata": {}
        }
      ]
    },
    {
      "cell_type": "markdown",
      "source": [
        "### 🧭 3.9. Exportar el modelo (para Streamlit)"
      ],
      "metadata": {
        "id": "zpzTEH2MaVUl"
      }
    },
    {
      "cell_type": "code",
      "source": [
        "model.save(\"./red_neuronal.keras\")\n",
        "pickle.dump((scaler, le), open(\"./objetos.pkl\", \"wb\"))"
      ],
      "metadata": {
        "id": "FdkUWfyAaUME"
      },
      "execution_count": 481,
      "outputs": []
    },
    {
      "cell_type": "markdown",
      "source": [
        "## 🎮 Parte 4 - Visualización del Tablero y la Ruta"
      ],
      "metadata": {
        "id": "vrGflOjuPhx_"
      }
    },
    {
      "cell_type": "markdown",
      "source": [
        "La idea es:\n",
        "\n",
        "- Generar un nuevo tablero aleatorio.\n",
        "- Calcular sus características (features).\n",
        "- Hacer que la red neuronal prediga el algoritmo más conveniente.\n",
        "- Ejecutar ese algoritmo y mostrar la ruta sobre el tablero con colores."
      ],
      "metadata": {
        "id": "Scy9ae4dPsWv"
      }
    },
    {
      "cell_type": "markdown",
      "source": [
        "### 📦 4.1. Función de predicción"
      ],
      "metadata": {
        "id": "OkiAP_UTPwdy"
      }
    },
    {
      "cell_type": "code",
      "source": [
        "# Predice el mejor algoritmo usando el modelo entrenado\n",
        "def predecir_algoritmo(tablero, verbose=1):\n",
        "    tamanio = tablero.shape[0]\n",
        "    costo_prom = tablero.mean()\n",
        "    varianza = tablero.var()\n",
        "    densidad_cost3 = np.mean(tablero == 3)\n",
        "\n",
        "    columnas = [\"tamanio\", \"costo_prom\", \"var_costo\", \"densidad_cost3\"]\n",
        "    features = pd.DataFrame([[tamanio, costo_prom, varianza, densidad_cost3]], columns=columnas)\n",
        "\n",
        "    features_scaled = scaler.transform(features)\n",
        "\n",
        "    predicciones = model.predict(features_scaled, verbose=verbose)\n",
        "\n",
        "    pred_alg = np.argmax(predicciones, axis=1)[0]\n",
        "    pred_alg = le.inverse_transform([pred_alg])[0]\n",
        "    return pred_alg, predicciones"
      ],
      "metadata": {
        "id": "hGkqA72TPw7i"
      },
      "execution_count": 568,
      "outputs": []
    },
    {
      "cell_type": "markdown",
      "source": [
        "### 🗺️ 4.2. Visualización del tablero"
      ],
      "metadata": {
        "id": "B1JuKc2xPzpX"
      }
    },
    {
      "cell_type": "code",
      "source": [
        "# Muestra el tablero, y opcionalmente el camino recorrido\n",
        "def mostrar_tablero(tablero, camino=None, titulo=\"Tablero\"):\n",
        "    n = tablero.shape[0]\n",
        "    fig, ax = plt.subplots(figsize=(5,5))\n",
        "    ax.imshow(tablero, cmap='Blues', origin='upper')\n",
        "\n",
        "    # mostrar los costos\n",
        "    for i in range(n):\n",
        "        for j in range(n):\n",
        "            ax.text(j, i, str(tablero[i,j]), ha='center', va='center', color='black', fontsize=12)\n",
        "\n",
        "    # marcar el camino\n",
        "    if camino:\n",
        "        xs, ys = zip(*camino)\n",
        "        ax.plot(ys, xs, color='red', linewidth=2)\n",
        "\n",
        "    # graficar\n",
        "    ax.scatter(0, 0, c='gold', s=120, label='Inicio')\n",
        "    ax.scatter(n-1, n-1, c='green', s=120, label='Meta')\n",
        "    ax.set_title(titulo)\n",
        "    ax.legend(fontsize=8)\n",
        "    plt.show()"
      ],
      "metadata": {
        "id": "86P9j7doP0TG"
      },
      "execution_count": 569,
      "outputs": []
    },
    {
      "cell_type": "markdown",
      "source": [
        "### 🧩 4.3. Ejemplo completo"
      ],
      "metadata": {
        "id": "16-bBJZEP4WS"
      }
    },
    {
      "cell_type": "code",
      "source": [
        "# Generar tablero\n",
        "tablero_test = generar_tablero(n=random.choice([5,6,7]))\n",
        "print(\"Tablero generado:\")\n",
        "print(tablero_test, '\\n')\n",
        "\n",
        "# Predicción del modelo\n",
        "alg_pred, preds = predecir_algoritmo(tablero_test)\n",
        "print(\"Clasificación:\", preds, '\\n')\n",
        "print(\"Predicción de mejor algoritmo:\", alg_pred)"
      ],
      "metadata": {
        "id": "EgfncC7c4G0C",
        "colab": {
          "base_uri": "https://localhost:8080/"
        },
        "outputId": "616f5d1b-9e27-404e-bdfa-fa3fba11983f"
      },
      "execution_count": 576,
      "outputs": [
        {
          "output_type": "stream",
          "name": "stdout",
          "text": [
            "Tablero generado:\n",
            "[[0 1 1 3 2 3 1]\n",
            " [2 2 2 1 1 1 1]\n",
            " [1 3 1 3 1 1 2]\n",
            " [2 3 1 1 1 2 1]\n",
            " [1 1 2 3 1 2 1]\n",
            " [1 1 1 1 1 3 2]\n",
            " [2 1 1 2 1 3 1]] \n",
            "\n",
            "\u001b[1m1/1\u001b[0m \u001b[32m━━━━━━━━━━━━━━━━━━━━\u001b[0m\u001b[37m\u001b[0m \u001b[1m0s\u001b[0m 32ms/step\n",
            "Clasificación: [[0.96309507 0.01306134 0.0238436 ]] \n",
            "\n",
            "Predicción de mejor algoritmo: A*\n"
          ]
        }
      ]
    },
    {
      "cell_type": "code",
      "source": [
        "costo, nodos, tiempo, camino = None, None, None, None\n",
        "\n",
        "# Ejecutar el algoritmo elegido\n",
        "if alg_pred == \"BFS\":\n",
        "    costo, nodos, tiempo, camino = busqueda_bfs(tablero_test)\n",
        "elif alg_pred == \"UCS\":\n",
        "    costo, nodos, tiempo, camino = busqueda_generica(tablero_test, algoritmo=\"UCS\")\n",
        "elif alg_pred == \"Greedy\":\n",
        "    costo, nodos, tiempo, camino = busqueda_generica(tablero_test, algoritmo=\"Greedy\")\n",
        "elif alg_pred == \"A*\":\n",
        "    costo, nodos, tiempo, camino = busqueda_generica(tablero_test, algoritmo=\"A*\")\n",
        "\n",
        "print(camino)"
      ],
      "metadata": {
        "colab": {
          "base_uri": "https://localhost:8080/"
        },
        "id": "c5HX57negnuR",
        "outputId": "06bd0a69-3c70-4ce3-8361-3f0db8d970b1"
      },
      "execution_count": 577,
      "outputs": [
        {
          "output_type": "stream",
          "name": "stdout",
          "text": [
            "[(0, 0), (0, 1), (0, 2), (1, 2), (1, 3), (1, 4), (1, 5), (1, 6), (2, 6), (3, 6), (4, 6), (5, 6), (6, 6)]\n"
          ]
        }
      ]
    },
    {
      "cell_type": "code",
      "source": [
        "mostrar_tablero(tablero_test, camino, titulo=f\"Algoritmo sugerido: {alg_pred}\")\n",
        "print(f\"\\nCosto total: {costo}, Nodos expandidos: {nodos}\")"
      ],
      "metadata": {
        "id": "k0ijtX8k49bV",
        "colab": {
          "base_uri": "https://localhost:8080/",
          "height": 504
        },
        "outputId": "915721e2-a6d4-4323-bdeb-f72f78394ae8"
      },
      "execution_count": 578,
      "outputs": [
        {
          "output_type": "display_data",
          "data": {
            "text/plain": [
              "<Figure size 500x500 with 1 Axes>"
            ],
            "image/png": "[encoded data removed]"
          },
          "metadata": {}
        },
        {
          "output_type": "stream",
          "name": "stdout",
          "text": [
            "\n",
            "Costo total: 15, Nodos expandidos: 48\n"
          ]
        }
      ]
    },
    {
      "cell_type": "markdown",
      "source": [
        "Detalle del gráfico: 🖼️\n",
        "\n",
        "* El tablero con los valores de costo en cada celda.\n",
        "* Inicio (verde) y meta (amarillo).\n",
        "* Camino sugerido (en rojo).\n",
        "* Nombre del algoritmo elegido por la red neuronal."
      ],
      "metadata": {
        "id": "Iyk_eRFdQBqn"
      }
    },
    {
      "cell_type": "markdown",
      "source": [
        "## 📝 Parte 5 - Evaluación del desempeño del modelo"
      ],
      "metadata": {
        "id": "ti_hW_XEQhJk"
      }
    },
    {
      "cell_type": "markdown",
      "source": [
        "### 🧠 5.1. Evaluar si el modelo elige correctamente"
      ],
      "metadata": {
        "id": "XG_X58AKQmYW"
      }
    },
    {
      "cell_type": "markdown",
      "source": [
        "La idea es:\n",
        "\n",
        "- Generar varios tableros nuevos (datos que el modelo no vio durante el entrenamiento).\n",
        "- Calcular cuál algoritmo realmente tiene mejor desempeño (menor costo).\n",
        "- Ver si la red neuronal eligió el correcto.\n",
        "- Calcular la precisión global (accuracy)."
      ],
      "metadata": {
        "id": "uo0qgol55Hnc"
      }
    },
    {
      "cell_type": "code",
      "source": [
        "def evaluar_modelo(model, n_pruebas=100):\n",
        "    aciertos = 0\n",
        "    total = 0\n",
        "\n",
        "    for _ in range(n_pruebas):\n",
        "        tablero = generar_tablero(n=random.choice([5,6,7,8]))\n",
        "\n",
        "        mejor_alg, detalles = probar_algoritmos(tablero)          # resultados reales\n",
        "        pred_alg, preds = predecir_algoritmo(tablero, verbose=0)  # predicción del modelo\n",
        "\n",
        "        if pred_alg == mejor_alg: aciertos += 1\n",
        "        total += 1\n",
        "\n",
        "    acc = aciertos / total\n",
        "    return acc"
      ],
      "metadata": {
        "id": "vp4FB8IVQq-J"
      },
      "execution_count": 383,
      "outputs": []
    },
    {
      "cell_type": "markdown",
      "source": [
        "### ✅ 5.2. Evaluar Exactitud"
      ],
      "metadata": {
        "id": "zGVR3If6QwWN"
      }
    },
    {
      "cell_type": "code",
      "source": [
        "acc = evaluar_modelo(model, n_pruebas=100)\n",
        "print(f\"✅ Exactitud al elegir el mejor algoritmo: {acc*100:.1f}%\")"
      ],
      "metadata": {
        "colab": {
          "base_uri": "https://localhost:8080/"
        },
        "collapsed": true,
        "id": "TapecnIKQtwQ",
        "outputId": "e6c342d7-c3f6-414a-87c9-dac6814ca2d0"
      },
      "execution_count": 386,
      "outputs": [
        {
          "output_type": "stream",
          "name": "stdout",
          "text": [
            "✅ Exactitud al elegir el mejor algoritmo: 89.0%\n"
          ]
        }
      ]
    },
    {
      "cell_type": "markdown",
      "source": [
        "💬 Interpretación:\n",
        "\n",
        "* El modelo logra una precisión alrrededor del 90% al seleccionar el algoritmo que efectivamente produce el menor costo de búsqueda.\n",
        "\n",
        "* Esto implica que aprendió una relación entre las características del entorno (tamaño, variabilidad, obstáculos) y el desempeño de cada algoritmo.\n",
        "\n",
        "* En un sistema de GPS, donde el entorno cambia constantemente, este tipo de red podría servir como selector dinámico entre distintos métodos de planificación."
      ],
      "metadata": {
        "id": "1CGC6rEjRIEr"
      }
    },
    {
      "cell_type": "markdown",
      "source": [
        "### 🧩 5.3. Estadísticas por separado"
      ],
      "metadata": {
        "id": "SRZzJeq0RbGv"
      }
    },
    {
      "cell_type": "code",
      "source": [
        "from collections import Counter\n",
        "\n",
        "def evaluar_detallado(model, n_pruebas=100):\n",
        "    resultados = []\n",
        "\n",
        "    for _ in range(n_pruebas):\n",
        "        tablero = generar_tablero(n=random.choice([5,6,7,8]))\n",
        "\n",
        "        mejor_alg, detalles = probar_algoritmos(tablero)          # resultados reales\n",
        "        pred_alg, preds = predecir_algoritmo(tablero, verbose=0)  # predicción del modelo\n",
        "\n",
        "        resultados.append((mejor_alg, pred_alg))\n",
        "\n",
        "    reales, preds = zip(*resultados)\n",
        "    acc = np.mean(np.array(reales) == np.array(preds))\n",
        "\n",
        "    conteo = Counter(resultados)\n",
        "    return conteo"
      ],
      "metadata": {
        "id": "G0TjzfNDReHN"
      },
      "execution_count": 387,
      "outputs": []
    },
    {
      "cell_type": "code",
      "source": [
        "conteo = evaluar_detallado(model, n_pruebas=100)"
      ],
      "metadata": {
        "collapsed": true,
        "id": "LXAn5ahTRjJe"
      },
      "execution_count": 391,
      "outputs": []
    },
    {
      "cell_type": "code",
      "source": [
        "print(f\"✅ Exactitud: {acc*100:.2f}% \\n\\n\")\n",
        "\n",
        "print(\"📈 Matriz de confusión (real vs predicho):\")\n",
        "conf_matrix = pd.DataFrame({\n",
        "    \"Predijo A*\":     [conteo[('A*', 'A*')], conteo[('A*', 'UCS')], conteo[('A*', 'Greedy')]],\n",
        "    \"Predijo USC\":    [conteo[(\"UCS\", \"A*\")], conteo[(\"UCS\", \"UCS\")], conteo[(\"UCS\", \"Greedy\")]],\n",
        "    \"Predijo Greedy\": [conteo[(\"Greedy\", \"A*\")], conteo[(\"Greedy\", \"UCS\")], conteo[(\"Greedy\", \"Greedy\")]]\n",
        "}, index=[\"Real A*\", \"Real UCS\", \"Real Greedy\"])\n",
        "print(conf_matrix, \"\\n\\n\")\n",
        "\n",
        "print(\"📈 Reporte de clasificación:\")\n",
        "print(classification_report(y_test, y_pred, target_names=le.classes_, zero_division=0))"
      ],
      "metadata": {
        "colab": {
          "base_uri": "https://localhost:8080/"
        },
        "id": "mwvcqw3CRulr",
        "outputId": "ffd4b37d-dd2d-4dd3-a54b-770bd1cb51ba"
      },
      "execution_count": 392,
      "outputs": [
        {
          "output_type": "stream",
          "name": "stdout",
          "text": [
            "✅ Exactitud: 89.00% \n",
            "\n",
            "\n",
            "📈 Matriz de confusión (real vs predicho):\n",
            "             Predijo A*  Predijo USC  Predijo Greedy\n",
            "Real A*              92            4               4\n",
            "Real UCS              0            0               0\n",
            "Real Greedy           0            0               0 \n",
            "\n",
            "\n",
            "📈 Reporte de clasificación:\n",
            "              precision    recall  f1-score   support\n",
            "\n",
            "          A*       0.92      0.99      0.95       180\n",
            "      Greedy       0.67      0.25      0.36        16\n",
            "         UCS       0.00      0.00      0.00         4\n",
            "\n",
            "    accuracy                           0.91       200\n",
            "   macro avg       0.53      0.41      0.44       200\n",
            "weighted avg       0.88      0.91      0.89       200\n",
            "\n"
          ]
        }
      ]
    },
    {
      "cell_type": "markdown",
      "source": [
        "## ✒️ Parte 6 - Conclusiones:\n"
      ],
      "metadata": {
        "id": "kaHhc5t4ccqC"
      }
    },
    {
      "cell_type": "markdown",
      "source": [
        "> El sistema combina técnicas clásicas de búsqueda (BFS, A*, UCS, Greedy) con un modelo de red neuronal entrenado sobre tableros sintéticos.  \n",
        "La IA aprendió a predecir cuál algoritmo tendrá mejor desempeño según las características del entorno, funcionando como un meta-agente adaptativo."
      ],
      "metadata": {
        "id": "Xp9K_aJ8XMeo"
      }
    },
    {
      "cell_type": "markdown",
      "source": [
        "> Análisis conceptual:  \n",
        "> El entrenamiento del modelo de red neuronal se puede entender como un proceso de búsqueda en el espacio de soluciones (pesos), donde el algoritmo de optimización (Adam) actúa como un agente que minimiza la función de pérdida (loss).  \n",
        "> Este proceso es análogo a los algoritmos de búsqueda informada (como A*) que exploran un espacio de soluciones guiados por una heurística (la función de pérdida, en este caso).  \n",
        "> Así, el modelo aprende a seleccionar el algoritmo de búsqueda más eficiente según las características del tablero, optimizando su desempeño en base a los datos con la experiencia previa (el dataset sintético con las simulaciones)."
      ],
      "metadata": {
        "id": "1pS9TBQkjY5E"
      }
    },
    {
      "cell_type": "markdown",
      "source": [
        "> El sistema no solo sugiere el algoritmo más eficiente según las condiciones del entorno, sino que también muestra visualmente la solución encontrada, permitiendo observar cómo varía la trayectoria óptima según el tipo de heurística y los costos del entorno."
      ],
      "metadata": {
        "id": "Zci93UWrcu1l"
      }
    },
    {
      "cell_type": "markdown",
      "source": [
        "> Adicionalmente, de la sección de Evaluación del Desempeño, he demostrado que:\n",
        "> - Los algoritmos clásicos funcionan correctamente.\n",
        "> - La red neuronal aprendió a decidir inteligentemente cuál usar según las condiciones del entorno.\n",
        "> - Se integran las dos ramas de la materia: algoritmos de búsqueda y aprendizaje automático (TensorFlow/Keras).\n"
      ],
      "metadata": {
        "id": "S5Y_UObxQQ29"
      }
    }
  ]
}