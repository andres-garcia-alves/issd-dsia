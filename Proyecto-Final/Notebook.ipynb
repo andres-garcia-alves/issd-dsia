{
  "nbformat": 4,
  "nbformat_minor": 0,
  "metadata": {
    "colab": {
      "provenance": [],
      "collapsed_sections": [
        "FFttqF75OmMY",
        "oM9ObCAgUCWM",
        "XvwKbYIcI2lR",
        "OgppmxMSI6dZ",
        "wAZREy5tI9Jw",
        "NQRd-PBrI_pa",
        "TbEAueIWJF2Y",
        "4la0DEpXJZ2s",
        "gTifgevrIBM3",
        "ifM3BEK6Vbux",
        "CuliC-pFJlzk",
        "H_1aUZPFlrg7",
        "c0ky-mJ024sS",
        "LNuZTmXPJHgw",
        "JFEh8D0_XDmW",
        "nfnO77-9XBKO",
        "Hd2fQB91W8CT",
        "E2GDJNQF3JLX",
        "HvZ55dcH3rDN",
        "hXn4SgF2W-mT",
        "M-esHm6D4LOT",
        "FsMmiHl1JqNT",
        "3vqQ2Gel8-WE",
        "_5HJrj0sOhpJ",
        "NoXSsTvwysL0",
        "ygBnUUr1zxHw",
        "uVm3h1xqB_tP",
        "1w8CEzZROFQ6",
        "1a-SgS_aOLUh",
        "Wfa0BVLmOWAy",
        "NfrZYX_hOcKl",
        "hhnZuh2WPFcb",
        "uXQ7ZoP6PJ1w",
        "zpzTEH2MaVUl",
        "vrGflOjuPhx_",
        "5HD8yKY1I7-U",
        "OkiAP_UTPwdy",
        "ZD59wbQgLdEu",
        "B1JuKc2xPzpX",
        "16-bBJZEP4WS",
        "ti_hW_XEQhJk",
        "XG_X58AKQmYW",
        "zGVR3If6QwWN",
        "SRZzJeq0RbGv",
        "kaHhc5t4ccqC",
        "sVurSm1coBGS",
        "9IwD-FwAq2WI",
        "JwSm5XjYoGP_"
      ]
    },
    "kernelspec": {
      "name": "python3",
      "display_name": "Python 3"
    },
    "language_info": {
      "name": "python"
    }
  },
  "cells": [
    {
      "cell_type": "markdown",
      "source": [
        "> #### **ISSD - Desarrollo de Sistemas de Inteligencia Artificial**  \n",
        "> Profesor: Sachi, Julio Mariano  \n",
        "> Alumno: Garcia Alves, Andrés\n"
      ],
      "metadata": {
        "id": "1ApZE6SjJ8Qf"
      }
    },
    {
      "cell_type": "markdown",
      "source": [
        "> GitHub: &nbsp;&nbsp;&nbsp;&nbsp;&nbsp;&nbsp; https://github.com/andres-garcia-alves/issd-dsia/tree/main/Proyecto-Final  \n",
        "> Notebook: &nbsp; https://colab.research.google.com/drive/1pd5cmNriSxK3FQSHNF0YwUbl6c4cecE0?usp=sharing  \n",
        "> Deploy: &nbsp;&nbsp;&nbsp;&nbsp;&nbsp;&nbsp; https://issd-dsia-andres-garcia-alves.streamlit.app/\n"
      ],
      "metadata": {
        "id": "FQYj3R3WG_PF"
      }
    },
    {
      "cell_type": "markdown",
      "source": [
        "## ⭐ Proyecto: Agente de Búsqueda Inteligente en Tableros con Costos"
      ],
      "metadata": {
        "id": "kFxBmkb4J32Q"
      }
    },
    {
      "cell_type": "markdown",
      "source": [
        "## 💡 Parte 1 - Introducción"
      ],
      "metadata": {
        "id": "FFttqF75OmMY"
      }
    },
    {
      "cell_type": "markdown",
      "source": [
        "### 💬 1.1. Descripción resumida\n",
        "\n",
        "Busco implementar un mini sistema de GPS. 🧭\n",
        "\n",
        "Para ello, un agente inteligente buscará en un tablero generado de forma aleatoria la ruta óptima.\n",
        "\n",
        "El sistema se compone de 2 bloques principales:\n",
        "- Distintos algoritmos de búsqueda (informada y no-informada)\n",
        "- Una red neuronal que elige el algoritmo de búsqueda más eficiente para un tablero dado.\n",
        "\n",
        "Conecto de esta manera los 2 temas principales de la materia, a saber: algoritmos de búsqueda y machine learning."
      ],
      "metadata": {
        "id": "WAF3DxjoNmg7"
      }
    },
    {
      "cell_type": "markdown",
      "source": [
        "### 🧩 1.2. Descripción general\n",
        "\n",
        "Un agente debe desplazarse desde una celda inicial hasta una celda objetivo en el tablero (una grilla) que se genera aleatoriamente, y de dimensiones variables (ej. 4×4, 5x5, 6×6, 8×8, etc).\n",
        "\n",
        "Cada celda tiene un costo distinto de movimiento (1, 2 o 3). Un costo de 1 viene a ser el costo 'normal' de movimiento, luego los costos mayores a 1 simulan ya sean caminos rurales o embotellamientos de tránsito.\n",
        "El agente debe encontrar la ruta de menor costo total.\n",
        "\n",
        "Se implementaran distintos algoritmos de búsqueda (BFS, UCS, A*, Greedy), y luego una red neuronal aprenderá a predecir cuál de ellos es el más eficiente (por tiempo y/o costo total) según las características del tablero recibido."
      ],
      "metadata": {
        "id": "l-L7x99qLlz2"
      }
    },
    {
      "cell_type": "markdown",
      "source": [
        "### ⚙️ 1.3. Descripción técnica\n",
        "\n",
        "Se dispone de un entorno tipo grilla/laberinto (por ejemplo 4x4, 6x6, etc) donde un agente busca la salida minimizando el costo total de movimiento, con casillas que pueden tener distintos pesos (costos).\n",
        "\n",
        "Se implementan distintos algoritmos de búsqueda informada/no-informada:\n",
        "- BFS (búsqueda a lo ancho)\n",
        "- UCS (Uniform Cost Search)\n",
        "- Greedy Best-First Search\n",
        "- A* (con heurística de distancia Manhattan)\n",
        "\n",
        "Luego, se agrega una red neuronal (en TensorFlow/Keras) para predecir cuál algoritmo de búsqueda conviene aplicar, dadas ciertas características del tablero (dimensión, cantidad y distribución de obstáculos, sus costos, etc).\n",
        "\n",
        "Para entrenar la red neuronal se generá un dataset sintético con tableros de múltiples tamaños y disposiciones aleatorias.  \n",
        "Para ello, se reutilizan los algoritmos de búsqueda disponibles en el sistema, bajo el siguiente esquema:\n",
        "- Generar un tablero de tamaño y disposición aleatoria\n",
        "- Pasar el tablero generado por cada uno de los algoritmos de búsqueda disponibles\n",
        "- Evaluar y guardar métricas de desempeño de cada algoritmo en el tablero actual\n",
        "- Repetir N veces los pasos previos en distintos tableros, hasta generar suficientes datos de entrenamiento.\n",
        "\n",
        "La red neuronal estará resolviendo un problema de clasificación: de los datos guardados, las columnas con las métricas serán los features para el entrenamiento, y la columna que identifica al algoritmo que generó esas métricas el target."
      ],
      "metadata": {
        "id": "nTboeIhzbsEg"
      }
    },
    {
      "cell_type": "markdown",
      "source": [
        "### 🏗️ 1.4. Estructura general del Proyecto\n",
        "\n",
        "📘 Proyecto_Final.ipynb  \n",
        "│  \n",
        "├── 1. Generación de tableros  \n",
        "├── 2. Implementación de algoritmos de búsqueda  \n",
        "├── 3. Creación del dataset sintético (features + target)  \n",
        "├── 4. Análisis exploratorio (EDA)  \n",
        "├── 5. Preprocesamiento de datos  \n",
        "├── 6. Red Neuronal (TensorFlow/Keras)  \n",
        "├── 7. Evaluación y métricas  \n",
        "└── 8. Conclusiones  \n",
        "&nbsp;"
      ],
      "metadata": {
        "id": "Hj-T8czTLsHL"
      }
    },
    {
      "cell_type": "markdown",
      "source": [
        "### 🔍 1.5. Implementación de los algoritmos de búsqueda\n",
        "\n",
        "Se implementan versiones simples de:\n",
        "* BFS (Breadth-First Search) → ignora pesos (ideal para comparar).\n",
        "* Uniform Cost Search (Dijkstra)\n",
        "* Greedy Best-First Search → con heurística de distancia Manhattan.\n",
        "* A* → heurística + costo acumulado.\n",
        "\n",
        "Cada algoritmo retorna las siguiente métricas:\n",
        "* costo_total\n",
        "* nodos_expandidos\n",
        "* tiempo_ejecucion\n",
        "\n",
        "Con estas métricas se evalúan y comparan luego sus rendimientos."
      ],
      "metadata": {
        "id": "ka0oeuZQMEm9"
      }
    },
    {
      "cell_type": "markdown",
      "source": [
        "### 🧮 1.6. Creación del dataset\n",
        "\n",
        "Por cada tablero:\n",
        "* Probarlo en los 4 algoritmos.\n",
        "* Calcular y guardar en una fila:\n",
        "  - tamaño\n",
        "  - costo_promedio\n",
        "  - varianza_costos\n",
        "  - densidad_costo_alto\n",
        "  - mejor_algoritmo"
      ],
      "metadata": {
        "id": "cuUlfYTxMT_i"
      }
    },
    {
      "cell_type": "markdown",
      "source": [
        "### 📈 1.7. Análisis Exploratorio (EDA)\n",
        "\n",
        "Se utiliza Matplotlib y Seaborn para visualizar:\n",
        "* Distribución de tamaños de tablero.\n",
        "* Relación entre costo promedio y algoritmo óptimo.\n",
        "* Frecuencia de cada algoritmo como \"óptimo\"."
      ],
      "metadata": {
        "id": "Hk5dlRBOMuFC"
      }
    },
    {
      "cell_type": "markdown",
      "source": [
        "### 🪚 1.8. Preprocesamiento de datos\n",
        "\n",
        "* Chequeo de duplicados\n",
        "* Chequeo de nulos\n",
        "* Convertir etiquetas (nombre del algoritmo) a numéricas (LabelEncoder).\n",
        "* Normalizar variables numéricas (StandardScaler)"
      ],
      "metadata": {
        "id": "wDHwgR09M3kp"
      }
    },
    {
      "cell_type": "markdown",
      "source": [
        "### 🧠 1.9. Red neuronal en TensorFlow/Keras\n",
        "\n",
        "* Un modelo simple de clasificación multiclase, una por cada algoritmo de búsqueda.\n"
      ],
      "metadata": {
        "id": "7sE8_CUpM971"
      }
    },
    {
      "cell_type": "markdown",
      "source": [
        "### 📝 1.10. Evaluación y métricas\n",
        "\n",
        "Se incluirán:\n",
        "* Exactitud (accuracy)\n",
        "* Matriz de confusión\n",
        "* Reporte de clasificación"
      ],
      "metadata": {
        "id": "l6dX3eiGNF7h"
      }
    },
    {
      "cell_type": "markdown",
      "source": [
        "### 🛠️ 1.11. Bibliotecas utilizadas\n",
        "\n",
        "| Propósito                          | Librería(s)                    |\n",
        "| ---------------------------------- | ------------------------------ |\n",
        "| Generación y manipulación de datos | `numpy`, `pandas`, `scipy`     |\n",
        "| Visualización                      | `matplotlib`, `seaborn`, `PIL` |\n",
        "| Implementación de búsquedas        | `heapq` (para UCS y A*)        |\n",
        "| Red neuronal                       | `tensorflow.keras`, `pickle`   |\n",
        "| Preprocesamiento                   | `sklearn`                      |\n",
        "| Miscelaneas                        | `time`, `random`, `tqdm`, `urllib` |\n",
        "\n",
        "<br/>"
      ],
      "metadata": {
        "id": "tNs1FFPYNafL"
      }
    },
    {
      "cell_type": "markdown",
      "source": [
        "### 🧾 1.12. Estructura del Informe Final\n",
        "\n",
        "| Sección                 | Contenido resumido |\n",
        "| ----------------------- | -------------------|\n",
        "| **Introducción**        | Explicación del problema del agente en el tablero. |\n",
        "|                         | Justificación del interés (búsqueda inteligente, optimización de recursos). |\n",
        "| **Metodología**         | Bibliotecas usadas (`numpy`, `pandas`, `matplotlib`, `tensorflow`, `sklearn`) |\n",
        "|                         | Descripción del proceso de generación de tableros y entrenamiento. |\n",
        "| **Resultados**          | Tablas y gráficos de rendimiento del modelo. |\n",
        "|                         | Ejemplos de tableros y caminos. |\n",
        "| **Análisis conceptual** | Relación entre búsqueda heurística y optimización del modelo neuronal. |\n",
        "| **Conclusión**          | Observaciones y posibles mejoras (ej. tableros más grandes, más algoritmos, etc). |\n",
        "\n",
        "<br/>\n",
        "<br/>"
      ],
      "metadata": {
        "id": "SZfyuA2mNVXx"
      }
    },
    {
      "cell_type": "markdown",
      "source": [
        "## 🚗 Parte 2 - Algoritmos de Búsqueda"
      ],
      "metadata": {
        "id": "oM9ObCAgUCWM"
      }
    },
    {
      "cell_type": "markdown",
      "source": [
        "### 📚 2.1. Bibliotecas necesarias"
      ],
      "metadata": {
        "id": "XvwKbYIcI2lR"
      }
    },
    {
      "cell_type": "code",
      "execution_count": null,
      "metadata": {
        "colab": {
          "base_uri": "https://localhost:8080/"
        },
        "collapsed": true,
        "id": "bEKhewXgISOA",
        "outputId": "84301b28-cbbc-4570-f906-d45fa62b20d5"
      },
      "outputs": [
        {
          "output_type": "stream",
          "name": "stdout",
          "text": [
            "Requirement already satisfied: numpy in /usr/local/lib/python3.12/dist-packages (2.0.2)\n",
            "Requirement already satisfied: pandas in /usr/local/lib/python3.12/dist-packages (2.2.2)\n",
            "Requirement already satisfied: matplotlib in /usr/local/lib/python3.12/dist-packages (3.10.0)\n",
            "Requirement already satisfied: seaborn in /usr/local/lib/python3.12/dist-packages (0.13.2)\n",
            "Requirement already satisfied: python-dateutil>=2.8.2 in /usr/local/lib/python3.12/dist-packages (from pandas) (2.9.0.post0)\n",
            "Requirement already satisfied: pytz>=2020.1 in /usr/local/lib/python3.12/dist-packages (from pandas) (2025.2)\n",
            "Requirement already satisfied: tzdata>=2022.7 in /usr/local/lib/python3.12/dist-packages (from pandas) (2025.2)\n",
            "Requirement already satisfied: contourpy>=1.0.1 in /usr/local/lib/python3.12/dist-packages (from matplotlib) (1.3.3)\n",
            "Requirement already satisfied: cycler>=0.10 in /usr/local/lib/python3.12/dist-packages (from matplotlib) (0.12.1)\n",
            "Requirement already satisfied: fonttools>=4.22.0 in /usr/local/lib/python3.12/dist-packages (from matplotlib) (4.60.1)\n",
            "Requirement already satisfied: kiwisolver>=1.3.1 in /usr/local/lib/python3.12/dist-packages (from matplotlib) (1.4.9)\n",
            "Requirement already satisfied: packaging>=20.0 in /usr/local/lib/python3.12/dist-packages (from matplotlib) (25.0)\n",
            "Requirement already satisfied: pillow>=8 in /usr/local/lib/python3.12/dist-packages (from matplotlib) (11.3.0)\n",
            "Requirement already satisfied: pyparsing>=2.3.1 in /usr/local/lib/python3.12/dist-packages (from matplotlib) (3.2.5)\n",
            "Requirement already satisfied: six>=1.5 in /usr/local/lib/python3.12/dist-packages (from python-dateutil>=2.8.2->pandas) (1.17.0)\n"
          ]
        }
      ],
      "source": [
        "!pip install numpy pandas matplotlib seaborn"
      ]
    },
    {
      "cell_type": "markdown",
      "source": [
        "### 🧩 2.2. Importaciones y config. inicial"
      ],
      "metadata": {
        "id": "OgppmxMSI6dZ"
      }
    },
    {
      "cell_type": "code",
      "source": [
        "import numpy as np\n",
        "import pandas as pd\n",
        "\n",
        "import time\n",
        "import random\n",
        "import heapq\n",
        "from collections import deque\n",
        "from tqdm import tqdm  # barra de progreso"
      ],
      "metadata": {
        "id": "tpIz30CtIiVS"
      },
      "execution_count": null,
      "outputs": []
    },
    {
      "cell_type": "markdown",
      "source": [
        "### 🧱 2.3. Generación de tableros"
      ],
      "metadata": {
        "id": "wAZREy5tI9Jw"
      }
    },
    {
      "cell_type": "markdown",
      "source": [
        "Cada tablero tiene:\n",
        "- Tamaño variable (4x4 hasta 8x8).\n",
        "- Celdas con costos 1, 2 o 3.\n",
        "- Inicio (posición: 0,0), Meta (posición: n-1,n-1).\n"
      ],
      "metadata": {
        "id": "pOcUMmwdzcew"
      }
    },
    {
      "cell_type": "code",
      "source": [
        "# Generar un tablero de NxN con costos 1, 2 o 3\n",
        "def generar_tablero(n=6):\n",
        "  tablero = np.random.choice([1, 2, 3], size=(n, n), p=[0.6, 0.3, 0.1])\n",
        "  tablero[0,0] = 0    # costo en la celda de inicio\n",
        "  tablero[-1,-1] = 1  # costo en la celda final\n",
        "  return tablero"
      ],
      "metadata": {
        "id": "P8kVcZprIqBC"
      },
      "execution_count": null,
      "outputs": []
    },
    {
      "cell_type": "code",
      "source": [
        "tablero = generar_tablero(6)\n",
        "print(tablero)"
      ],
      "metadata": {
        "colab": {
          "base_uri": "https://localhost:8080/"
        },
        "id": "VaGvdgBJIuz1",
        "outputId": "33ffd968-342b-412e-9519-53b18da2a257"
      },
      "execution_count": null,
      "outputs": [
        {
          "output_type": "stream",
          "name": "stdout",
          "text": [
            "[[0 1 2 1 2 2]\n",
            " [2 2 2 1 2 2]\n",
            " [1 1 2 3 1 1]\n",
            " [2 3 2 1 2 1]\n",
            " [1 2 3 3 1 1]\n",
            " [1 2 1 2 1 1]]\n"
          ]
        }
      ]
    },
    {
      "cell_type": "markdown",
      "source": [
        "### 🚶 2.4. Movimiento y Heurística"
      ],
      "metadata": {
        "id": "NQRd-PBrI_pa"
      }
    },
    {
      "cell_type": "code",
      "source": [
        "# Devuelve los vecinos válidos (arriba, abajo, izquierda, derecha)\n",
        "def vecinos(pos, n):\n",
        "    x, y = pos\n",
        "    movs = [(x+1, y), (x-1, y), (x, y+1), (x, y-1)]\n",
        "    return [(nx, ny) for nx, ny in movs if 0 <= nx < n and 0 <= ny < n]"
      ],
      "metadata": {
        "id": "fGxYnU4XIzyt"
      },
      "execution_count": null,
      "outputs": []
    },
    {
      "cell_type": "code",
      "source": [
        "# Se utiliza la distancia Manhattan para la Heurística\n",
        "def heuristica(a, b):\n",
        "    return abs(a[0] - b[0]) + abs(a[1] - b[1])"
      ],
      "metadata": {
        "id": "ByabnR3nfRuR"
      },
      "execution_count": null,
      "outputs": []
    },
    {
      "cell_type": "markdown",
      "source": [
        "### 🔍 2.5. Algoritmo BFS (búsqueda en amplitud)"
      ],
      "metadata": {
        "id": "TbEAueIWJF2Y"
      }
    },
    {
      "cell_type": "code",
      "source": [
        "# Breadth-First Search\n",
        "def busqueda_bfs(tablero):\n",
        "    timespan = time.time()\n",
        "    n = tablero.shape[0]\n",
        "    start, goal = (0, 0), (n-1, n-1)\n",
        "    cola = [(start, [start])]\n",
        "    visitados = set()\n",
        "    nodos_exp = 0\n",
        "\n",
        "    while cola:\n",
        "        actual, camino = cola.pop(0)\n",
        "        if actual in visitados: continue\n",
        "        visitados.add(actual)\n",
        "        nodos_exp += 1\n",
        "\n",
        "        if actual == goal:\n",
        "            costo_total = sum(tablero[x, y] for x, y in camino)\n",
        "            timespan = time.time() - timespan\n",
        "            return costo_total, nodos_exp, timespan, camino\n",
        "\n",
        "        for nx, ny in vecinos(actual, n):\n",
        "            if (nx, ny) not in visitados:\n",
        "                cola.append(((nx, ny), camino + [(nx, ny)]))\n",
        "\n",
        "    timespan = time.time() - timespan\n",
        "    return np.inf, nodos_exp, timespan, []"
      ],
      "metadata": {
        "id": "n062jTEwJE-P"
      },
      "execution_count": null,
      "outputs": []
    },
    {
      "cell_type": "markdown",
      "source": [
        "### 🔍 2.6. Algoritmo A* (A estrella)"
      ],
      "metadata": {
        "id": "4la0DEpXJZ2s"
      }
    },
    {
      "cell_type": "code",
      "source": [
        "# Búsqueda A estrella\n",
        "def busqueda_a_star(tablero):\n",
        "    timespan = time.time()\n",
        "    n = tablero.shape[0]\n",
        "    start, goal = (0, 0), (n - 1, n - 1)\n",
        "    open_set = [(heuristica(start, goal), 0, start, [start])]\n",
        "    visitados = set()\n",
        "    nodos_exp = 0\n",
        "\n",
        "    while open_set:\n",
        "        _, costo_actual, actual, camino = heapq.heappop(open_set)\n",
        "\n",
        "        if actual in visitados: continue\n",
        "        visitados.add(actual)\n",
        "        nodos_exp += 1\n",
        "\n",
        "        if actual == goal:\n",
        "            timespan = time.time() - timespan\n",
        "            return costo_actual + tablero[goal], nodos_exp, timespan, camino + [goal]\n",
        "\n",
        "        for nx, ny in vecinos(actual, n):\n",
        "            if (nx, ny) not in visitados:\n",
        "                nuevo_costo = costo_actual + tablero[nx, ny]\n",
        "                f = nuevo_costo + heuristica((nx, ny), goal)\n",
        "                heapq.heappush(open_set, (f, nuevo_costo, (nx, ny), camino + [(nx, ny)]))\n",
        "\n",
        "    timespan = time.time() - timespan\n",
        "    return np.inf, nodos_exp, timespan, []"
      ],
      "metadata": {
        "id": "pf61ux_8JdEh"
      },
      "execution_count": null,
      "outputs": []
    },
    {
      "cell_type": "markdown",
      "source": [
        "### 🔍 2.7. Algoritmos A*, UCS y Greedy"
      ],
      "metadata": {
        "id": "gTifgevrIBM3"
      }
    },
    {
      "cell_type": "code",
      "source": [
        "# Búsqueda genérica con cola de prioridad (UCS / Greedy / A*)\n",
        "def busqueda_generica(tablero, algoritmo=\"A*\"):\n",
        "    timespan = time.time()\n",
        "    n = len(tablero)\n",
        "    start, goal = (0,0), (n-1,n-1)\n",
        "    movimientos = [(0,1),(1,0),(-1,0),(0,-1)]\n",
        "\n",
        "    open_list = []\n",
        "    heapq.heappush(open_list, (0, start, [start]))\n",
        "    cost_so_far = {start: 0}\n",
        "    nodos_exp = 0\n",
        "\n",
        "    while open_list:\n",
        "        prioridad, actual, camino = heapq.heappop(open_list)\n",
        "        nodos_exp += 1\n",
        "\n",
        "        # si se llegó a la meta, devolver el costo, nodos, tiempo y el camino completo\n",
        "        if actual == goal:\n",
        "            timespan = time.time() - timespan\n",
        "            return cost_so_far.get(goal, np.inf), nodos_exp, timespan, camino\n",
        "\n",
        "        for dx, dy in movimientos:\n",
        "            nx, ny = actual[0] + dx, actual[1] + dy\n",
        "            if 0 <= nx < n and 0 <= ny < n:\n",
        "                nuevo = (nx, ny)\n",
        "                nuevo_costo = cost_so_far[actual] + tablero[nx, ny]\n",
        "\n",
        "                # actualizar si se encontró un mejor costo\n",
        "                if nuevo not in cost_so_far or nuevo_costo < cost_so_far[nuevo]:\n",
        "                    cost_so_far[nuevo] = nuevo_costo\n",
        "\n",
        "                    # calcular prioridad según el algoritmo\n",
        "                    if algoritmo == \"UCS\":\n",
        "                        prioridad_nuevo = nuevo_costo\n",
        "                    elif algoritmo == \"Greedy\":\n",
        "                        prioridad_nuevo = heuristica(nuevo, goal)\n",
        "                    elif algoritmo == \"A*\":\n",
        "                        prioridad_nuevo = nuevo_costo + heuristica(nuevo, goal)\n",
        "                    else:\n",
        "                        raise ValueError(f\"Estrategia desconocida: {algoritmo}\")\n",
        "\n",
        "                    # insertar el nodo en la cola con prioridad (heap queue)\n",
        "                    heapq.heappush(open_list, (prioridad_nuevo, nuevo, camino + [nuevo]))\n",
        "\n",
        "    timespan = time.time() - timespan\n",
        "    return np.inf, nodos_exp, timespan, []"
      ],
      "metadata": {
        "id": "19UalsiimbuY"
      },
      "execution_count": null,
      "outputs": []
    },
    {
      "cell_type": "markdown",
      "source": [
        "### ⏱️ 2.8. Pruebas iniciales"
      ],
      "metadata": {
        "id": "ifM3BEK6Vbux"
      }
    },
    {
      "cell_type": "code",
      "source": [
        "tablero = generar_tablero(6)\n",
        "print(\"Tablero:\")\n",
        "print(tablero)\n",
        "print()\n",
        "\n",
        "for alg, func in {\"BFS\": busqueda_bfs, \"A*\": busqueda_a_star}.items():\n",
        "    costo, nodos, tiempo, camino = func(tablero)\n",
        "    print(f\"{alg.ljust(4)}: costo={costo}, nodos={nodos}, tiempo={tiempo:.6f}s, camino={camino}\")"
      ],
      "metadata": {
        "colab": {
          "base_uri": "https://localhost:8080/"
        },
        "id": "oKqEPKJ-JhLY",
        "outputId": "bb724e63-eff5-492b-9717-02ac669f523d"
      },
      "execution_count": null,
      "outputs": [
        {
          "output_type": "stream",
          "name": "stdout",
          "text": [
            "Tablero:\n",
            "[[0 2 1 3 1 3]\n",
            " [1 1 1 2 2 1]\n",
            " [1 1 2 2 2 3]\n",
            " [3 2 1 1 1 3]\n",
            " [3 2 1 2 3 2]\n",
            " [2 2 2 1 2 1]]\n",
            "\n",
            "BFS : costo=18, nodos=36, tiempo=0.000100s, camino=[(0, 0), (1, 0), (2, 0), (3, 0), (4, 0), (5, 0), (5, 1), (5, 2), (5, 3), (5, 4), (5, 5)]\n",
            "A*  : costo=14, nodos=31, tiempo=0.000154s, camino=[(0, 0), (1, 0), (1, 1), (1, 2), (2, 2), (3, 2), (3, 3), (4, 3), (5, 3), (5, 4), (5, 5), (5, 5)]\n"
          ]
        }
      ]
    },
    {
      "cell_type": "code",
      "source": [
        "tablero = generar_tablero(6)\n",
        "print(\"Tablero:\")\n",
        "print(tablero)\n",
        "print()\n",
        "\n",
        "results_a_star = busqueda_generica(tablero, algoritmo=\"A*\")\n",
        "results_ucs = busqueda_generica(tablero, algoritmo=\"UCS\")\n",
        "results_greedy = busqueda_generica(tablero, algoritmo=\"Greedy\")\n",
        "\n",
        "print(f\"A*     : costo={results_a_star[0]}, nodos={results_a_star[1]}, tiempo={results_a_star[2]:.6f}s, camino={results_a_star[3]}\")\n",
        "print(f\"UCS*   : costo={results_ucs[0]}, nodos={results_ucs[1]}, tiempo={results_ucs[2]:.6f}s, camino={results_ucs[3]}\")\n",
        "print(f\"Greedy : costo={results_greedy[0]}, nodos={results_greedy[1]}, tiempo={results_greedy[2]:.6f}s, camino={results_greedy[3]}\")"
      ],
      "metadata": {
        "colab": {
          "base_uri": "https://localhost:8080/"
        },
        "id": "mKOqfEmuVRW7",
        "outputId": "09f2a9b2-d549-444b-841c-4a235e91a60c"
      },
      "execution_count": null,
      "outputs": [
        {
          "output_type": "stream",
          "name": "stdout",
          "text": [
            "Tablero:\n",
            "[[0 3 2 1 1 1]\n",
            " [3 1 1 1 2 1]\n",
            " [2 2 1 2 1 1]\n",
            " [1 2 1 3 2 2]\n",
            " [2 1 1 2 1 1]\n",
            " [2 1 1 2 1 1]]\n",
            "\n",
            "A*     : costo=13, nodos=28, tiempo=0.000130s, camino=[(0, 0), (0, 1), (1, 1), (1, 2), (2, 2), (3, 2), (4, 2), (4, 3), (4, 4), (4, 5), (5, 5)]\n",
            "UCS*   : costo=13, nodos=36, tiempo=0.000110s, camino=[(0, 0), (0, 1), (1, 1), (1, 2), (2, 2), (3, 2), (4, 2), (4, 3), (4, 4), (4, 5), (5, 5)]\n",
            "Greedy : costo=14, nodos=11, tiempo=0.000039s, camino=[(0, 0), (0, 1), (0, 2), (0, 3), (0, 4), (0, 5), (1, 5), (2, 5), (3, 5), (4, 5), (5, 5)]\n"
          ]
        }
      ]
    },
    {
      "cell_type": "markdown",
      "source": [
        "### 🛠️ 2.9. Funciones Auxiliares"
      ],
      "metadata": {
        "id": "CuliC-pFJlzk"
      }
    },
    {
      "cell_type": "code",
      "source": [
        "def probar_algoritmos(tablero):\n",
        "    resultados = {\n",
        "        \"BFS\": busqueda_bfs(tablero),\n",
        "        \"A*\": busqueda_generica(tablero, algoritmo=\"A*\"),\n",
        "        \"UCS\": busqueda_generica(tablero, algoritmo=\"UCS\"),\n",
        "        \"Greedy\": busqueda_generica(tablero, algoritmo=\"Greedy\")\n",
        "    }\n",
        "\n",
        "    # Crear una lista de tuplas con los 3 criterios a medir\n",
        "    metricas = {\n",
        "        alg: (res[0], res[1], res[2])  # costo, nodos_expandidos, tiempo\n",
        "        for alg, res in resultados.items()\n",
        "    }\n",
        "\n",
        "    # Seleccionar el mejor algoritmo\n",
        "    # Criterio: primero 'costo', en caso de empate 'nodos expandidos', y en última instancia 'tiempo de computo'\n",
        "    mejor_alg = min(metricas, key=lambda k: metricas[k])\n",
        "\n",
        "    return mejor_alg, resultados"
      ],
      "metadata": {
        "id": "aovbrjYrW4Hb"
      },
      "execution_count": null,
      "outputs": []
    },
    {
      "cell_type": "markdown",
      "source": [
        "## 📦 Parte 3 - Dataset Sintético"
      ],
      "metadata": {
        "id": "H_1aUZPFlrg7"
      }
    },
    {
      "cell_type": "markdown",
      "source": [
        "### 🧩 3.1. Importaciones y config. inicial"
      ],
      "metadata": {
        "id": "c0ky-mJ024sS"
      }
    },
    {
      "cell_type": "code",
      "source": [
        "from scipy.stats import entropy"
      ],
      "metadata": {
        "id": "E0Syz_Cl263E"
      },
      "execution_count": null,
      "outputs": []
    },
    {
      "cell_type": "markdown",
      "source": [
        "### 🔢 3.2. Cálculo de características"
      ],
      "metadata": {
        "id": "LNuZTmXPJHgw"
      }
    },
    {
      "cell_type": "markdown",
      "source": [
        "| Feature           | Descripción                              | Interpretación                    |\n",
        "| ----------------- | ---------------------------------------- | --------------------------------- |\n",
        "| `tamanio`         | Tamaño del tablero                       | Mayor tamaño = más exploración    |\n",
        "| `costo_prom`      | Costo de celda en promedio               | Nivel medio de dificultad         |\n",
        "| `costo_moda`      | Costo de celda más frecuente             | Menos sensible a valores extremos |\n",
        "| `costo_var`       | Varianza del costo por celda             | Mayor varianza = heterogeneidad   |\n",
        "| `costo_min`       | Valor mínimo del tablero                 | Detectar tableros fáciles         |\n",
        "| `costo_max`       | Valor máximo del tablero                 | Detectar tableros difíciles       |\n",
        "| `dens_celda_t2`   | Proporción de celdas con costo 2         | Mide celdas de costo medio        |\n",
        "| `dens_celda_t3`   | Proporción de celdas con costo 3         | Mide celdas muy costosas          |\n",
        "| `dens_pesada`     | Proporción de celdas con costo 2 o 3     | Mide la dificultad global         |\n",
        "| `entropia_costos` | Entropía en la distribución de costos    | Mide el \"desorden\" del tablero    |\n",
        "| `gradiente_prom`  | Dif. prom. de costo entre celdas vecinas | Cuán \"accidentado\" es el terreno  |\n",
        "\n",
        "<br/>"
      ],
      "metadata": {
        "id": "kUwcu90LMCNu"
      }
    },
    {
      "cell_type": "code",
      "source": [
        "# Calcular las características estructurales y estadísticas de un tablero\n",
        "def calcular_features(tablero):\n",
        "\n",
        "    tamanio = tablero.shape[0]            # tamaño del tablero\n",
        "    costo_prom = np.mean(tablero)         # costo de celda en promedio\n",
        "    costo_moda = np.median(tablero)       # costo de celda más frecuente\n",
        "    costo_var = np.var(tablero)           # varianza del costo por celda\n",
        "    costo_min = np.min(tablero)           # costo mínimo\n",
        "    costo_max = np.max(tablero)           # costo máximo\n",
        "    dens_celda_t2 = np.mean(tablero == 2) # densidad de celdas con peso = 2\n",
        "    dens_celda_t3 = np.mean(tablero == 3) # densidad de celdas con peso = 3\n",
        "    dens_total = dens_celda_t2 + dens_celda_t3 # densidad pesada\n",
        "\n",
        "    # entropía de costos\n",
        "    valores, counts = np.unique(tablero, return_counts=True)\n",
        "    entropia_costos = entropy(counts / counts.sum())\n",
        "\n",
        "    # gradiente promedio\n",
        "    difs = []\n",
        "    for i in range(tamanio):\n",
        "        for j in range(tamanio):\n",
        "            for dx, dy in [(1,0), (0,1)]:  # solo derecha y abajo\n",
        "                ni, nj = i + dx, j + dy\n",
        "                if ni < tamanio and nj < tamanio:\n",
        "                    difs.append(abs(tablero[i,j] - tablero[ni,nj]))\n",
        "    gradiente_prom = np.mean(difs) if difs else 0\n",
        "\n",
        "    # consolidar resultados\n",
        "    return {\n",
        "        \"tamanio\": tamanio,\n",
        "        \"costo_prom\": costo_prom,\n",
        "        \"costo_moda\": costo_moda,\n",
        "        \"costo_var\": costo_var,\n",
        "        \"costo_min\": costo_min,\n",
        "        \"costo_max\": costo_max,\n",
        "        \"dens_celda_t2\": dens_celda_t2,\n",
        "        \"dens_celda_t3\": dens_celda_t3,\n",
        "        \"dens_total\": dens_total,\n",
        "        \"entropia_costos\": entropia_costos,\n",
        "        \"gradiente_prom\": gradiente_prom\n",
        "    }"
      ],
      "metadata": {
        "id": "mkdt2y1aF1mV"
      },
      "execution_count": null,
      "outputs": []
    },
    {
      "cell_type": "markdown",
      "source": [
        "### 🧱 3.3. Generador del dataset sintético"
      ],
      "metadata": {
        "id": "JFEh8D0_XDmW"
      }
    },
    {
      "cell_type": "code",
      "source": [
        "# Genera un dataset con 'n_samples' tableros aleatorios y los resultados\n",
        "# de distintos algoritmos de búsqueda aplicados sobre cada uno de ellos.\n",
        "def generar_dataset(n_samples=500, tamanios=(4,5,6,7,8)):\n",
        "    registros = []\n",
        "\n",
        "    for _ in tqdm(range(n_samples), desc=f\"Generando tableros\"):\n",
        "        n = random.choice(tamanios)\n",
        "        tablero = generar_tablero(n)\n",
        "\n",
        "        # calcular las extadísticas del tablero (para las features)\n",
        "        features = calcular_features(tablero)\n",
        "        # print(features)\n",
        "\n",
        "        # evaluar el tablero x separado en todos los algoritmos\n",
        "        mejor_alg, resultados = probar_algoritmos(tablero)\n",
        "        # print(resultados)\n",
        "\n",
        "        registros.append({\n",
        "            \"tamanio\": features[\"tamanio\"],\n",
        "            \"costo_prom\": features[\"costo_prom\"],\n",
        "            \"costo_moda\": features[\"costo_moda\"],\n",
        "            \"costo_var\": features[\"costo_var\"],\n",
        "            \"costo_min\": features[\"costo_min\"],\n",
        "            \"costo_max\": features[\"costo_max\"],\n",
        "            \"dens_celda_t2\": features[\"dens_celda_t2\"],\n",
        "            \"dens_celda_t3\": features[\"dens_celda_t3\"],\n",
        "            \"dens_total\": features[\"dens_total\"],\n",
        "            \"entropia_costos\": features[\"entropia_costos\"],\n",
        "            \"gradiente_prom\": features[\"gradiente_prom\"],\n",
        "            \"bfs_costo\": resultados[\"BFS\"][0],\n",
        "            \"bfs_nodos\": resultados[\"BFS\"][1],\n",
        "            \"bfs_tiempo\": resultados[\"BFS\"][2],\n",
        "            \"a_star_costo\": resultados[\"A*\"][0],\n",
        "            \"a_star_nodos\": resultados[\"A*\"][1],\n",
        "            \"a_star_tiempo\": resultados[\"A*\"][2],\n",
        "            \"ucs_costo\": resultados[\"UCS\"][0],\n",
        "            \"ucs_nodos\": resultados[\"UCS\"][1],\n",
        "            \"ucs_tiempo\": resultados[\"UCS\"][2],\n",
        "            \"greedy_costo\": resultados[\"Greedy\"][0],\n",
        "            \"greedy_nodos\": resultados[\"Greedy\"][1],\n",
        "            \"greedy_tiempo\": resultados[\"Greedy\"][2],\n",
        "            \"mejor_alg\": mejor_alg\n",
        "        })\n",
        "\n",
        "    df = pd.DataFrame(registros)\n",
        "    return df"
      ],
      "metadata": {
        "id": "KyySO7blWhRj"
      },
      "execution_count": null,
      "outputs": []
    },
    {
      "cell_type": "markdown",
      "source": [
        "### 🚀 3.4. Generar el dataset"
      ],
      "metadata": {
        "id": "nfnO77-9XBKO"
      }
    },
    {
      "cell_type": "code",
      "source": [
        "df = generar_dataset(n_samples=1000, tamanios=(3,4,5,6,7,8,9,10))"
      ],
      "metadata": {
        "colab": {
          "base_uri": "https://localhost:8080/"
        },
        "id": "yiRm5HBxRlQc",
        "outputId": "461e75cc-e7c2-43b7-eace-8e2eb596de59",
        "collapsed": true
      },
      "execution_count": null,
      "outputs": [
        {
          "output_type": "stream",
          "name": "stderr",
          "text": [
            "Generando tableros: 100%|██████████| 1000/1000 [00:01<00:00, 676.03it/s]\n"
          ]
        }
      ]
    },
    {
      "cell_type": "code",
      "source": [
        "df.sample(5)"
      ],
      "metadata": {
        "colab": {
          "base_uri": "https://localhost:8080/",
          "height": 256
        },
        "id": "s27B2LEoWotu",
        "outputId": "263ea797-2852-44db-b0a3-cb96b956af50"
      },
      "execution_count": null,
      "outputs": [
        {
          "output_type": "execute_result",
          "data": {
            "text/plain": [
              "     tamanio  costo_prom  costo_moda  costo_var  costo_min  costo_max  \\\n",
              "907        9    1.419753         1.0   0.441091          0          3   \n",
              "762        4    1.500000         1.5   0.500000          0          3   \n",
              "721        7    1.408163         1.0   0.445648          0          3   \n",
              "906        5    1.360000         1.0   0.390400          0          3   \n",
              "849        8    1.609375         1.0   0.550537          0          3   \n",
              "\n",
              "     dens_celda_t2  dens_celda_t3  dens_total  entropia_costos  ...  \\\n",
              "907       0.259259       0.086420    0.345679         0.900363  ...   \n",
              "762       0.437500       0.062500    0.500000         1.069917  ...   \n",
              "721       0.265306       0.081633    0.346939         0.925634  ...   \n",
              "906       0.320000       0.040000    0.360000         0.928624  ...   \n",
              "849       0.343750       0.140625    0.484375         1.054485  ...   \n",
              "\n",
              "     a_star_costo  a_star_nodos  a_star_tiempo  ucs_costo  ucs_nodos  \\\n",
              "907            18            77       0.000565         18         81   \n",
              "762             8            11       0.000064          8         16   \n",
              "721            13            36       0.000271         13         48   \n",
              "906             8            13       0.000114          8         24   \n",
              "849            16            47       0.000317         16         63   \n",
              "\n",
              "     ucs_tiempo  greedy_costo  greedy_nodos  greedy_tiempo  mejor_alg  \n",
              "907    0.000466            19            17       0.000123         A*  \n",
              "762    0.000077             9             7       0.000034         A*  \n",
              "721    0.000287            15            13       0.000079         A*  \n",
              "906    0.000128            13             9       0.000049         A*  \n",
              "849    0.000345            20            15       0.000091         A*  \n",
              "\n",
              "[5 rows x 24 columns]"
            ],
            "text/html": [
              "\n",
              "  <div id=\"df-83b4b0fb-0c25-4f94-ad91-1514199426bf\" class=\"colab-df-container\">\n",
              "    <div>\n",
              "<style scoped>\n",
              "    .dataframe tbody tr th:only-of-type {\n",
              "        vertical-align: middle;\n",
              "    }\n",
              "\n",
              "    .dataframe tbody tr th {\n",
              "        vertical-align: top;\n",
              "    }\n",
              "\n",
              "    .dataframe thead th {\n",
              "        text-align: right;\n",
              "    }\n",
              "</style>\n",
              "<table border=\"1\" class=\"dataframe\">\n",
              "  <thead>\n",
              "    <tr style=\"text-align: right;\">\n",
              "      <th></th>\n",
              "      <th>tamanio</th>\n",
              "      <th>costo_prom</th>\n",
              "      <th>costo_moda</th>\n",
              "      <th>costo_var</th>\n",
              "      <th>costo_min</th>\n",
              "      <th>costo_max</th>\n",
              "      <th>dens_celda_t2</th>\n",
              "      <th>dens_celda_t3</th>\n",
              "      <th>dens_total</th>\n",
              "      <th>entropia_costos</th>\n",
              "      <th>...</th>\n",
              "      <th>a_star_costo</th>\n",
              "      <th>a_star_nodos</th>\n",
              "      <th>a_star_tiempo</th>\n",
              "      <th>ucs_costo</th>\n",
              "      <th>ucs_nodos</th>\n",
              "      <th>ucs_tiempo</th>\n",
              "      <th>greedy_costo</th>\n",
              "      <th>greedy_nodos</th>\n",
              "      <th>greedy_tiempo</th>\n",
              "      <th>mejor_alg</th>\n",
              "    </tr>\n",
              "  </thead>\n",
              "  <tbody>\n",
              "    <tr>\n",
              "      <th>907</th>\n",
              "      <td>9</td>\n",
              "      <td>1.419753</td>\n",
              "      <td>1.0</td>\n",
              "      <td>0.441091</td>\n",
              "      <td>0</td>\n",
              "      <td>3</td>\n",
              "      <td>0.259259</td>\n",
              "      <td>0.086420</td>\n",
              "      <td>0.345679</td>\n",
              "      <td>0.900363</td>\n",
              "      <td>...</td>\n",
              "      <td>18</td>\n",
              "      <td>77</td>\n",
              "      <td>0.000565</td>\n",
              "      <td>18</td>\n",
              "      <td>81</td>\n",
              "      <td>0.000466</td>\n",
              "      <td>19</td>\n",
              "      <td>17</td>\n",
              "      <td>0.000123</td>\n",
              "      <td>A*</td>\n",
              "    </tr>\n",
              "    <tr>\n",
              "      <th>762</th>\n",
              "      <td>4</td>\n",
              "      <td>1.500000</td>\n",
              "      <td>1.5</td>\n",
              "      <td>0.500000</td>\n",
              "      <td>0</td>\n",
              "      <td>3</td>\n",
              "      <td>0.437500</td>\n",
              "      <td>0.062500</td>\n",
              "      <td>0.500000</td>\n",
              "      <td>1.069917</td>\n",
              "      <td>...</td>\n",
              "      <td>8</td>\n",
              "      <td>11</td>\n",
              "      <td>0.000064</td>\n",
              "      <td>8</td>\n",
              "      <td>16</td>\n",
              "      <td>0.000077</td>\n",
              "      <td>9</td>\n",
              "      <td>7</td>\n",
              "      <td>0.000034</td>\n",
              "      <td>A*</td>\n",
              "    </tr>\n",
              "    <tr>\n",
              "      <th>721</th>\n",
              "      <td>7</td>\n",
              "      <td>1.408163</td>\n",
              "      <td>1.0</td>\n",
              "      <td>0.445648</td>\n",
              "      <td>0</td>\n",
              "      <td>3</td>\n",
              "      <td>0.265306</td>\n",
              "      <td>0.081633</td>\n",
              "      <td>0.346939</td>\n",
              "      <td>0.925634</td>\n",
              "      <td>...</td>\n",
              "      <td>13</td>\n",
              "      <td>36</td>\n",
              "      <td>0.000271</td>\n",
              "      <td>13</td>\n",
              "      <td>48</td>\n",
              "      <td>0.000287</td>\n",
              "      <td>15</td>\n",
              "      <td>13</td>\n",
              "      <td>0.000079</td>\n",
              "      <td>A*</td>\n",
              "    </tr>\n",
              "    <tr>\n",
              "      <th>906</th>\n",
              "      <td>5</td>\n",
              "      <td>1.360000</td>\n",
              "      <td>1.0</td>\n",
              "      <td>0.390400</td>\n",
              "      <td>0</td>\n",
              "      <td>3</td>\n",
              "      <td>0.320000</td>\n",
              "      <td>0.040000</td>\n",
              "      <td>0.360000</td>\n",
              "      <td>0.928624</td>\n",
              "      <td>...</td>\n",
              "      <td>8</td>\n",
              "      <td>13</td>\n",
              "      <td>0.000114</td>\n",
              "      <td>8</td>\n",
              "      <td>24</td>\n",
              "      <td>0.000128</td>\n",
              "      <td>13</td>\n",
              "      <td>9</td>\n",
              "      <td>0.000049</td>\n",
              "      <td>A*</td>\n",
              "    </tr>\n",
              "    <tr>\n",
              "      <th>849</th>\n",
              "      <td>8</td>\n",
              "      <td>1.609375</td>\n",
              "      <td>1.0</td>\n",
              "      <td>0.550537</td>\n",
              "      <td>0</td>\n",
              "      <td>3</td>\n",
              "      <td>0.343750</td>\n",
              "      <td>0.140625</td>\n",
              "      <td>0.484375</td>\n",
              "      <td>1.054485</td>\n",
              "      <td>...</td>\n",
              "      <td>16</td>\n",
              "      <td>47</td>\n",
              "      <td>0.000317</td>\n",
              "      <td>16</td>\n",
              "      <td>63</td>\n",
              "      <td>0.000345</td>\n",
              "      <td>20</td>\n",
              "      <td>15</td>\n",
              "      <td>0.000091</td>\n",
              "      <td>A*</td>\n",
              "    </tr>\n",
              "  </tbody>\n",
              "</table>\n",
              "<p>5 rows × 24 columns</p>\n",
              "</div>\n",
              "    <div class=\"colab-df-buttons\">\n",
              "\n",
              "  <div class=\"colab-df-container\">\n",
              "    <button class=\"colab-df-convert\" onclick=\"convertToInteractive('df-83b4b0fb-0c25-4f94-ad91-1514199426bf')\"\n",
              "            title=\"Convert this dataframe to an interactive table.\"\n",
              "            style=\"display:none;\">\n",
              "\n",
              "  <svg xmlns=\"http://www.w3.org/2000/svg\" height=\"24px\" viewBox=\"0 -960 960 960\">\n",
              "    <path d=\"M120-120v-720h720v720H120Zm60-500h600v-160H180v160Zm220 220h160v-160H400v160Zm0 220h160v-160H400v160ZM180-400h160v-160H180v160Zm440 0h160v-160H620v160ZM180-180h160v-160H180v160Zm440 0h160v-160H620v160Z\"/>\n",
              "  </svg>\n",
              "    </button>\n",
              "\n",
              "  <style>\n",
              "    .colab-df-container {\n",
              "      display:flex;\n",
              "      gap: 12px;\n",
              "    }\n",
              "\n",
              "    .colab-df-convert {\n",
              "      background-color: #E8F0FE;\n",
              "      border: none;\n",
              "      border-radius: 50%;\n",
              "      cursor: pointer;\n",
              "      display: none;\n",
              "      fill: #1967D2;\n",
              "      height: 32px;\n",
              "      padding: 0 0 0 0;\n",
              "      width: 32px;\n",
              "    }\n",
              "\n",
              "    .colab-df-convert:hover {\n",
              "      background-color: #E2EBFA;\n",
              "      box-shadow: 0px 1px 2px rgba(60, 64, 67, 0.3), 0px 1px 3px 1px rgba(60, 64, 67, 0.15);\n",
              "      fill: #174EA6;\n",
              "    }\n",
              "\n",
              "    .colab-df-buttons div {\n",
              "      margin-bottom: 4px;\n",
              "    }\n",
              "\n",
              "    [theme=dark] .colab-df-convert {\n",
              "      background-color: #3B4455;\n",
              "      fill: #D2E3FC;\n",
              "    }\n",
              "\n",
              "    [theme=dark] .colab-df-convert:hover {\n",
              "      background-color: #434B5C;\n",
              "      box-shadow: 0px 1px 3px 1px rgba(0, 0, 0, 0.15);\n",
              "      filter: drop-shadow(0px 1px 2px rgba(0, 0, 0, 0.3));\n",
              "      fill: #FFFFFF;\n",
              "    }\n",
              "  </style>\n",
              "\n",
              "    <script>\n",
              "      const buttonEl =\n",
              "        document.querySelector('#df-83b4b0fb-0c25-4f94-ad91-1514199426bf button.colab-df-convert');\n",
              "      buttonEl.style.display =\n",
              "        google.colab.kernel.accessAllowed ? 'block' : 'none';\n",
              "\n",
              "      async function convertToInteractive(key) {\n",
              "        const element = document.querySelector('#df-83b4b0fb-0c25-4f94-ad91-1514199426bf');\n",
              "        const dataTable =\n",
              "          await google.colab.kernel.invokeFunction('convertToInteractive',\n",
              "                                                    [key], {});\n",
              "        if (!dataTable) return;\n",
              "\n",
              "        const docLinkHtml = 'Like what you see? Visit the ' +\n",
              "          '<a target=\"_blank\" href=https://colab.research.google.com/notebooks/data_table.ipynb>data table notebook</a>'\n",
              "          + ' to learn more about interactive tables.';\n",
              "        element.innerHTML = '';\n",
              "        dataTable['output_type'] = 'display_data';\n",
              "        await google.colab.output.renderOutput(dataTable, element);\n",
              "        const docLink = document.createElement('div');\n",
              "        docLink.innerHTML = docLinkHtml;\n",
              "        element.appendChild(docLink);\n",
              "      }\n",
              "    </script>\n",
              "  </div>\n",
              "\n",
              "\n",
              "    <div id=\"df-d6831e84-3aa7-4808-9b6c-b762097c9522\">\n",
              "      <button class=\"colab-df-quickchart\" onclick=\"quickchart('df-d6831e84-3aa7-4808-9b6c-b762097c9522')\"\n",
              "                title=\"Suggest charts\"\n",
              "                style=\"display:none;\">\n",
              "\n",
              "<svg xmlns=\"http://www.w3.org/2000/svg\" height=\"24px\"viewBox=\"0 0 24 24\"\n",
              "     width=\"24px\">\n",
              "    <g>\n",
              "        <path d=\"M19 3H5c-1.1 0-2 .9-2 2v14c0 1.1.9 2 2 2h14c1.1 0 2-.9 2-2V5c0-1.1-.9-2-2-2zM9 17H7v-7h2v7zm4 0h-2V7h2v10zm4 0h-2v-4h2v4z\"/>\n",
              "    </g>\n",
              "</svg>\n",
              "      </button>\n",
              "\n",
              "<style>\n",
              "  .colab-df-quickchart {\n",
              "      --bg-color: #E8F0FE;\n",
              "      --fill-color: #1967D2;\n",
              "      --hover-bg-color: #E2EBFA;\n",
              "      --hover-fill-color: #174EA6;\n",
              "      --disabled-fill-color: #AAA;\n",
              "      --disabled-bg-color: #DDD;\n",
              "  }\n",
              "\n",
              "  [theme=dark] .colab-df-quickchart {\n",
              "      --bg-color: #3B4455;\n",
              "      --fill-color: #D2E3FC;\n",
              "      --hover-bg-color: #434B5C;\n",
              "      --hover-fill-color: #FFFFFF;\n",
              "      --disabled-bg-color: #3B4455;\n",
              "      --disabled-fill-color: #666;\n",
              "  }\n",
              "\n",
              "  .colab-df-quickchart {\n",
              "    background-color: var(--bg-color);\n",
              "    border: none;\n",
              "    border-radius: 50%;\n",
              "    cursor: pointer;\n",
              "    display: none;\n",
              "    fill: var(--fill-color);\n",
              "    height: 32px;\n",
              "    padding: 0;\n",
              "    width: 32px;\n",
              "  }\n",
              "\n",
              "  .colab-df-quickchart:hover {\n",
              "    background-color: var(--hover-bg-color);\n",
              "    box-shadow: 0 1px 2px rgba(60, 64, 67, 0.3), 0 1px 3px 1px rgba(60, 64, 67, 0.15);\n",
              "    fill: var(--button-hover-fill-color);\n",
              "  }\n",
              "\n",
              "  .colab-df-quickchart-complete:disabled,\n",
              "  .colab-df-quickchart-complete:disabled:hover {\n",
              "    background-color: var(--disabled-bg-color);\n",
              "    fill: var(--disabled-fill-color);\n",
              "    box-shadow: none;\n",
              "  }\n",
              "\n",
              "  .colab-df-spinner {\n",
              "    border: 2px solid var(--fill-color);\n",
              "    border-color: transparent;\n",
              "    border-bottom-color: var(--fill-color);\n",
              "    animation:\n",
              "      spin 1s steps(1) infinite;\n",
              "  }\n",
              "\n",
              "  @keyframes spin {\n",
              "    0% {\n",
              "      border-color: transparent;\n",
              "      border-bottom-color: var(--fill-color);\n",
              "      border-left-color: var(--fill-color);\n",
              "    }\n",
              "    20% {\n",
              "      border-color: transparent;\n",
              "      border-left-color: var(--fill-color);\n",
              "      border-top-color: var(--fill-color);\n",
              "    }\n",
              "    30% {\n",
              "      border-color: transparent;\n",
              "      border-left-color: var(--fill-color);\n",
              "      border-top-color: var(--fill-color);\n",
              "      border-right-color: var(--fill-color);\n",
              "    }\n",
              "    40% {\n",
              "      border-color: transparent;\n",
              "      border-right-color: var(--fill-color);\n",
              "      border-top-color: var(--fill-color);\n",
              "    }\n",
              "    60% {\n",
              "      border-color: transparent;\n",
              "      border-right-color: var(--fill-color);\n",
              "    }\n",
              "    80% {\n",
              "      border-color: transparent;\n",
              "      border-right-color: var(--fill-color);\n",
              "      border-bottom-color: var(--fill-color);\n",
              "    }\n",
              "    90% {\n",
              "      border-color: transparent;\n",
              "      border-bottom-color: var(--fill-color);\n",
              "    }\n",
              "  }\n",
              "</style>\n",
              "\n",
              "      <script>\n",
              "        async function quickchart(key) {\n",
              "          const quickchartButtonEl =\n",
              "            document.querySelector('#' + key + ' button');\n",
              "          quickchartButtonEl.disabled = true;  // To prevent multiple clicks.\n",
              "          quickchartButtonEl.classList.add('colab-df-spinner');\n",
              "          try {\n",
              "            const charts = await google.colab.kernel.invokeFunction(\n",
              "                'suggestCharts', [key], {});\n",
              "          } catch (error) {\n",
              "            console.error('Error during call to suggestCharts:', error);\n",
              "          }\n",
              "          quickchartButtonEl.classList.remove('colab-df-spinner');\n",
              "          quickchartButtonEl.classList.add('colab-df-quickchart-complete');\n",
              "        }\n",
              "        (() => {\n",
              "          let quickchartButtonEl =\n",
              "            document.querySelector('#df-d6831e84-3aa7-4808-9b6c-b762097c9522 button');\n",
              "          quickchartButtonEl.style.display =\n",
              "            google.colab.kernel.accessAllowed ? 'block' : 'none';\n",
              "        })();\n",
              "      </script>\n",
              "    </div>\n",
              "\n",
              "    </div>\n",
              "  </div>\n"
            ],
            "application/vnd.google.colaboratory.intrinsic+json": {
              "type": "dataframe"
            }
          },
          "metadata": {},
          "execution_count": 343
        }
      ]
    },
    {
      "cell_type": "markdown",
      "source": [
        "### 💾 3.5. Guardar el dataset"
      ],
      "metadata": {
        "id": "Hd2fQB91W8CT"
      }
    },
    {
      "cell_type": "markdown",
      "source": [
        "Para una revisión exaustiva y posibilidad de re-uso posterior."
      ],
      "metadata": {
        "id": "ogDw72GQzRlF"
      }
    },
    {
      "cell_type": "code",
      "source": [
        "df.to_csv(\"dataset_busquedas.csv\", index=False)\n",
        "print(\"Dataset guardado en 'dataset_busquedas.csv'\")"
      ],
      "metadata": {
        "colab": {
          "base_uri": "https://localhost:8080/"
        },
        "id": "i1GJaSXwW6Za",
        "outputId": "0cb8fcc9-b66b-4560-e987-ca42ab65d6d4"
      },
      "execution_count": null,
      "outputs": [
        {
          "output_type": "stream",
          "name": "stdout",
          "text": [
            "Dataset guardado en 'dataset_busquedas.csv'\n"
          ]
        }
      ]
    },
    {
      "cell_type": "markdown",
      "source": [
        "## 📊 Parte 4 - EDA y Preprocesamiento"
      ],
      "metadata": {
        "id": "E2GDJNQF3JLX"
      }
    },
    {
      "cell_type": "markdown",
      "source": [
        "### 🧩 4.1. Importaciones y config. inicial"
      ],
      "metadata": {
        "id": "HvZ55dcH3rDN"
      }
    },
    {
      "cell_type": "code",
      "source": [
        "import pandas as pd\n",
        "import matplotlib.pyplot as plt\n",
        "import seaborn as sns"
      ],
      "metadata": {
        "id": "OgNNOoEU3w7Z"
      },
      "execution_count": null,
      "outputs": []
    },
    {
      "cell_type": "markdown",
      "source": [
        "### 👀 4.2. Estadísticos del dataset"
      ],
      "metadata": {
        "id": "hXn4SgF2W-mT"
      }
    },
    {
      "cell_type": "code",
      "source": [
        "print(df[\"mejor_alg\"].value_counts())\n",
        "print()\n",
        "\n",
        "df.describe()"
      ],
      "metadata": {
        "colab": {
          "base_uri": "https://localhost:8080/",
          "height": 475
        },
        "id": "Wn9MULdYWvfi",
        "outputId": "7866b7fd-e8db-4d9a-a0a2-d1c32f3094b0"
      },
      "execution_count": null,
      "outputs": [
        {
          "output_type": "stream",
          "name": "stdout",
          "text": [
            "mejor_alg\n",
            "A*        837\n",
            "Greedy    130\n",
            "UCS        27\n",
            "BFS         6\n",
            "Name: count, dtype: int64\n",
            "\n"
          ]
        },
        {
          "output_type": "execute_result",
          "data": {
            "text/plain": [
              "           tamanio   costo_prom   costo_moda    costo_var  costo_min  \\\n",
              "count  1000.000000  1000.000000  1000.000000  1000.000000     1000.0   \n",
              "mean      6.473000     1.421411     1.056000     0.482964        0.0   \n",
              "std       2.291402     0.133047     0.218888     0.126869        0.0   \n",
              "min       3.000000     0.888889     1.000000     0.098765        0.0   \n",
              "25%       4.000000     1.358025     1.000000     0.400992        0.0   \n",
              "50%       6.000000     1.440000     1.000000     0.470000        0.0   \n",
              "75%       8.000000     1.510051     1.000000     0.558679        0.0   \n",
              "max      10.000000     1.750000     2.000000     0.913580        0.0   \n",
              "\n",
              "        costo_max  dens_celda_t2  dens_celda_t3   dens_total  entropia_costos  \\\n",
              "count  1000.00000    1000.000000    1000.000000  1000.000000      1000.000000   \n",
              "mean      2.89200       0.278099       0.090575     0.368673         0.955711   \n",
              "std       0.32006       0.083846       0.052114     0.089479         0.118080   \n",
              "min       1.00000       0.000000       0.000000     0.000000         0.348832   \n",
              "25%       3.00000       0.230000       0.061224     0.320000         0.894487   \n",
              "50%       3.00000       0.280000       0.086420     0.375000         0.960994   \n",
              "75%       3.00000       0.330000       0.122449     0.428929         1.020131   \n",
              "max       3.00000       0.625000       0.277778     0.640000         1.310784   \n",
              "\n",
              "       ...   bfs_tiempo  a_star_costo  a_star_nodos  a_star_tiempo  \\\n",
              "count  ...  1000.000000   1000.000000    1000.00000    1000.000000   \n",
              "mean   ...     0.000146     12.108000      30.17400       0.000166   \n",
              "std    ...     0.000106      5.013928      21.01798       0.000145   \n",
              "min    ...     0.000025      4.000000       5.00000       0.000019   \n",
              "25%    ...     0.000062      8.000000      14.00000       0.000064   \n",
              "50%    ...     0.000113     12.000000      24.00000       0.000124   \n",
              "75%    ...     0.000207     16.000000      42.00000       0.000223   \n",
              "max    ...     0.000772     23.000000     108.00000       0.001432   \n",
              "\n",
              "         ucs_costo    ucs_nodos   ucs_tiempo  greedy_costo  greedy_nodos  \\\n",
              "count  1000.000000  1000.000000  1000.000000   1000.000000   1000.000000   \n",
              "mean     12.108000    46.833000     0.000191     15.824000     11.946000   \n",
              "std       5.013928    30.039532     0.000164      7.152915      4.582803   \n",
              "min       4.000000     8.000000     0.000018      4.000000      5.000000   \n",
              "25%       8.000000    16.000000     0.000069      9.750000      7.000000   \n",
              "50%      12.000000    36.000000     0.000144     16.000000     11.000000   \n",
              "75%      16.000000    64.000000     0.000269     22.000000     15.000000   \n",
              "max      23.000000   100.000000     0.001982     34.000000     19.000000   \n",
              "\n",
              "       greedy_tiempo  \n",
              "count    1000.000000  \n",
              "mean        0.000050  \n",
              "std         0.000032  \n",
              "min         0.000011  \n",
              "25%         0.000026  \n",
              "50%         0.000045  \n",
              "75%         0.000063  \n",
              "max         0.000530  \n",
              "\n",
              "[8 rows x 23 columns]"
            ],
            "text/html": [
              "\n",
              "  <div id=\"df-ee6a450c-a118-4150-864e-0e515e4e601e\" class=\"colab-df-container\">\n",
              "    <div>\n",
              "<style scoped>\n",
              "    .dataframe tbody tr th:only-of-type {\n",
              "        vertical-align: middle;\n",
              "    }\n",
              "\n",
              "    .dataframe tbody tr th {\n",
              "        vertical-align: top;\n",
              "    }\n",
              "\n",
              "    .dataframe thead th {\n",
              "        text-align: right;\n",
              "    }\n",
              "</style>\n",
              "<table border=\"1\" class=\"dataframe\">\n",
              "  <thead>\n",
              "    <tr style=\"text-align: right;\">\n",
              "      <th></th>\n",
              "      <th>tamanio</th>\n",
              "      <th>costo_prom</th>\n",
              "      <th>costo_moda</th>\n",
              "      <th>costo_var</th>\n",
              "      <th>costo_min</th>\n",
              "      <th>costo_max</th>\n",
              "      <th>dens_celda_t2</th>\n",
              "      <th>dens_celda_t3</th>\n",
              "      <th>dens_total</th>\n",
              "      <th>entropia_costos</th>\n",
              "      <th>...</th>\n",
              "      <th>bfs_tiempo</th>\n",
              "      <th>a_star_costo</th>\n",
              "      <th>a_star_nodos</th>\n",
              "      <th>a_star_tiempo</th>\n",
              "      <th>ucs_costo</th>\n",
              "      <th>ucs_nodos</th>\n",
              "      <th>ucs_tiempo</th>\n",
              "      <th>greedy_costo</th>\n",
              "      <th>greedy_nodos</th>\n",
              "      <th>greedy_tiempo</th>\n",
              "    </tr>\n",
              "  </thead>\n",
              "  <tbody>\n",
              "    <tr>\n",
              "      <th>count</th>\n",
              "      <td>1000.000000</td>\n",
              "      <td>1000.000000</td>\n",
              "      <td>1000.000000</td>\n",
              "      <td>1000.000000</td>\n",
              "      <td>1000.0</td>\n",
              "      <td>1000.00000</td>\n",
              "      <td>1000.000000</td>\n",
              "      <td>1000.000000</td>\n",
              "      <td>1000.000000</td>\n",
              "      <td>1000.000000</td>\n",
              "      <td>...</td>\n",
              "      <td>1000.000000</td>\n",
              "      <td>1000.000000</td>\n",
              "      <td>1000.00000</td>\n",
              "      <td>1000.000000</td>\n",
              "      <td>1000.000000</td>\n",
              "      <td>1000.000000</td>\n",
              "      <td>1000.000000</td>\n",
              "      <td>1000.000000</td>\n",
              "      <td>1000.000000</td>\n",
              "      <td>1000.000000</td>\n",
              "    </tr>\n",
              "    <tr>\n",
              "      <th>mean</th>\n",
              "      <td>6.473000</td>\n",
              "      <td>1.421411</td>\n",
              "      <td>1.056000</td>\n",
              "      <td>0.482964</td>\n",
              "      <td>0.0</td>\n",
              "      <td>2.89200</td>\n",
              "      <td>0.278099</td>\n",
              "      <td>0.090575</td>\n",
              "      <td>0.368673</td>\n",
              "      <td>0.955711</td>\n",
              "      <td>...</td>\n",
              "      <td>0.000146</td>\n",
              "      <td>12.108000</td>\n",
              "      <td>30.17400</td>\n",
              "      <td>0.000166</td>\n",
              "      <td>12.108000</td>\n",
              "      <td>46.833000</td>\n",
              "      <td>0.000191</td>\n",
              "      <td>15.824000</td>\n",
              "      <td>11.946000</td>\n",
              "      <td>0.000050</td>\n",
              "    </tr>\n",
              "    <tr>\n",
              "      <th>std</th>\n",
              "      <td>2.291402</td>\n",
              "      <td>0.133047</td>\n",
              "      <td>0.218888</td>\n",
              "      <td>0.126869</td>\n",
              "      <td>0.0</td>\n",
              "      <td>0.32006</td>\n",
              "      <td>0.083846</td>\n",
              "      <td>0.052114</td>\n",
              "      <td>0.089479</td>\n",
              "      <td>0.118080</td>\n",
              "      <td>...</td>\n",
              "      <td>0.000106</td>\n",
              "      <td>5.013928</td>\n",
              "      <td>21.01798</td>\n",
              "      <td>0.000145</td>\n",
              "      <td>5.013928</td>\n",
              "      <td>30.039532</td>\n",
              "      <td>0.000164</td>\n",
              "      <td>7.152915</td>\n",
              "      <td>4.582803</td>\n",
              "      <td>0.000032</td>\n",
              "    </tr>\n",
              "    <tr>\n",
              "      <th>min</th>\n",
              "      <td>3.000000</td>\n",
              "      <td>0.888889</td>\n",
              "      <td>1.000000</td>\n",
              "      <td>0.098765</td>\n",
              "      <td>0.0</td>\n",
              "      <td>1.00000</td>\n",
              "      <td>0.000000</td>\n",
              "      <td>0.000000</td>\n",
              "      <td>0.000000</td>\n",
              "      <td>0.348832</td>\n",
              "      <td>...</td>\n",
              "      <td>0.000025</td>\n",
              "      <td>4.000000</td>\n",
              "      <td>5.00000</td>\n",
              "      <td>0.000019</td>\n",
              "      <td>4.000000</td>\n",
              "      <td>8.000000</td>\n",
              "      <td>0.000018</td>\n",
              "      <td>4.000000</td>\n",
              "      <td>5.000000</td>\n",
              "      <td>0.000011</td>\n",
              "    </tr>\n",
              "    <tr>\n",
              "      <th>25%</th>\n",
              "      <td>4.000000</td>\n",
              "      <td>1.358025</td>\n",
              "      <td>1.000000</td>\n",
              "      <td>0.400992</td>\n",
              "      <td>0.0</td>\n",
              "      <td>3.00000</td>\n",
              "      <td>0.230000</td>\n",
              "      <td>0.061224</td>\n",
              "      <td>0.320000</td>\n",
              "      <td>0.894487</td>\n",
              "      <td>...</td>\n",
              "      <td>0.000062</td>\n",
              "      <td>8.000000</td>\n",
              "      <td>14.00000</td>\n",
              "      <td>0.000064</td>\n",
              "      <td>8.000000</td>\n",
              "      <td>16.000000</td>\n",
              "      <td>0.000069</td>\n",
              "      <td>9.750000</td>\n",
              "      <td>7.000000</td>\n",
              "      <td>0.000026</td>\n",
              "    </tr>\n",
              "    <tr>\n",
              "      <th>50%</th>\n",
              "      <td>6.000000</td>\n",
              "      <td>1.440000</td>\n",
              "      <td>1.000000</td>\n",
              "      <td>0.470000</td>\n",
              "      <td>0.0</td>\n",
              "      <td>3.00000</td>\n",
              "      <td>0.280000</td>\n",
              "      <td>0.086420</td>\n",
              "      <td>0.375000</td>\n",
              "      <td>0.960994</td>\n",
              "      <td>...</td>\n",
              "      <td>0.000113</td>\n",
              "      <td>12.000000</td>\n",
              "      <td>24.00000</td>\n",
              "      <td>0.000124</td>\n",
              "      <td>12.000000</td>\n",
              "      <td>36.000000</td>\n",
              "      <td>0.000144</td>\n",
              "      <td>16.000000</td>\n",
              "      <td>11.000000</td>\n",
              "      <td>0.000045</td>\n",
              "    </tr>\n",
              "    <tr>\n",
              "      <th>75%</th>\n",
              "      <td>8.000000</td>\n",
              "      <td>1.510051</td>\n",
              "      <td>1.000000</td>\n",
              "      <td>0.558679</td>\n",
              "      <td>0.0</td>\n",
              "      <td>3.00000</td>\n",
              "      <td>0.330000</td>\n",
              "      <td>0.122449</td>\n",
              "      <td>0.428929</td>\n",
              "      <td>1.020131</td>\n",
              "      <td>...</td>\n",
              "      <td>0.000207</td>\n",
              "      <td>16.000000</td>\n",
              "      <td>42.00000</td>\n",
              "      <td>0.000223</td>\n",
              "      <td>16.000000</td>\n",
              "      <td>64.000000</td>\n",
              "      <td>0.000269</td>\n",
              "      <td>22.000000</td>\n",
              "      <td>15.000000</td>\n",
              "      <td>0.000063</td>\n",
              "    </tr>\n",
              "    <tr>\n",
              "      <th>max</th>\n",
              "      <td>10.000000</td>\n",
              "      <td>1.750000</td>\n",
              "      <td>2.000000</td>\n",
              "      <td>0.913580</td>\n",
              "      <td>0.0</td>\n",
              "      <td>3.00000</td>\n",
              "      <td>0.625000</td>\n",
              "      <td>0.277778</td>\n",
              "      <td>0.640000</td>\n",
              "      <td>1.310784</td>\n",
              "      <td>...</td>\n",
              "      <td>0.000772</td>\n",
              "      <td>23.000000</td>\n",
              "      <td>108.00000</td>\n",
              "      <td>0.001432</td>\n",
              "      <td>23.000000</td>\n",
              "      <td>100.000000</td>\n",
              "      <td>0.001982</td>\n",
              "      <td>34.000000</td>\n",
              "      <td>19.000000</td>\n",
              "      <td>0.000530</td>\n",
              "    </tr>\n",
              "  </tbody>\n",
              "</table>\n",
              "<p>8 rows × 23 columns</p>\n",
              "</div>\n",
              "    <div class=\"colab-df-buttons\">\n",
              "\n",
              "  <div class=\"colab-df-container\">\n",
              "    <button class=\"colab-df-convert\" onclick=\"convertToInteractive('df-ee6a450c-a118-4150-864e-0e515e4e601e')\"\n",
              "            title=\"Convert this dataframe to an interactive table.\"\n",
              "            style=\"display:none;\">\n",
              "\n",
              "  <svg xmlns=\"http://www.w3.org/2000/svg\" height=\"24px\" viewBox=\"0 -960 960 960\">\n",
              "    <path d=\"M120-120v-720h720v720H120Zm60-500h600v-160H180v160Zm220 220h160v-160H400v160Zm0 220h160v-160H400v160ZM180-400h160v-160H180v160Zm440 0h160v-160H620v160ZM180-180h160v-160H180v160Zm440 0h160v-160H620v160Z\"/>\n",
              "  </svg>\n",
              "    </button>\n",
              "\n",
              "  <style>\n",
              "    .colab-df-container {\n",
              "      display:flex;\n",
              "      gap: 12px;\n",
              "    }\n",
              "\n",
              "    .colab-df-convert {\n",
              "      background-color: #E8F0FE;\n",
              "      border: none;\n",
              "      border-radius: 50%;\n",
              "      cursor: pointer;\n",
              "      display: none;\n",
              "      fill: #1967D2;\n",
              "      height: 32px;\n",
              "      padding: 0 0 0 0;\n",
              "      width: 32px;\n",
              "    }\n",
              "\n",
              "    .colab-df-convert:hover {\n",
              "      background-color: #E2EBFA;\n",
              "      box-shadow: 0px 1px 2px rgba(60, 64, 67, 0.3), 0px 1px 3px 1px rgba(60, 64, 67, 0.15);\n",
              "      fill: #174EA6;\n",
              "    }\n",
              "\n",
              "    .colab-df-buttons div {\n",
              "      margin-bottom: 4px;\n",
              "    }\n",
              "\n",
              "    [theme=dark] .colab-df-convert {\n",
              "      background-color: #3B4455;\n",
              "      fill: #D2E3FC;\n",
              "    }\n",
              "\n",
              "    [theme=dark] .colab-df-convert:hover {\n",
              "      background-color: #434B5C;\n",
              "      box-shadow: 0px 1px 3px 1px rgba(0, 0, 0, 0.15);\n",
              "      filter: drop-shadow(0px 1px 2px rgba(0, 0, 0, 0.3));\n",
              "      fill: #FFFFFF;\n",
              "    }\n",
              "  </style>\n",
              "\n",
              "    <script>\n",
              "      const buttonEl =\n",
              "        document.querySelector('#df-ee6a450c-a118-4150-864e-0e515e4e601e button.colab-df-convert');\n",
              "      buttonEl.style.display =\n",
              "        google.colab.kernel.accessAllowed ? 'block' : 'none';\n",
              "\n",
              "      async function convertToInteractive(key) {\n",
              "        const element = document.querySelector('#df-ee6a450c-a118-4150-864e-0e515e4e601e');\n",
              "        const dataTable =\n",
              "          await google.colab.kernel.invokeFunction('convertToInteractive',\n",
              "                                                    [key], {});\n",
              "        if (!dataTable) return;\n",
              "\n",
              "        const docLinkHtml = 'Like what you see? Visit the ' +\n",
              "          '<a target=\"_blank\" href=https://colab.research.google.com/notebooks/data_table.ipynb>data table notebook</a>'\n",
              "          + ' to learn more about interactive tables.';\n",
              "        element.innerHTML = '';\n",
              "        dataTable['output_type'] = 'display_data';\n",
              "        await google.colab.output.renderOutput(dataTable, element);\n",
              "        const docLink = document.createElement('div');\n",
              "        docLink.innerHTML = docLinkHtml;\n",
              "        element.appendChild(docLink);\n",
              "      }\n",
              "    </script>\n",
              "  </div>\n",
              "\n",
              "\n",
              "    <div id=\"df-3f511d5b-eacb-4594-95e8-7b0409b9d3b9\">\n",
              "      <button class=\"colab-df-quickchart\" onclick=\"quickchart('df-3f511d5b-eacb-4594-95e8-7b0409b9d3b9')\"\n",
              "                title=\"Suggest charts\"\n",
              "                style=\"display:none;\">\n",
              "\n",
              "<svg xmlns=\"http://www.w3.org/2000/svg\" height=\"24px\"viewBox=\"0 0 24 24\"\n",
              "     width=\"24px\">\n",
              "    <g>\n",
              "        <path d=\"M19 3H5c-1.1 0-2 .9-2 2v14c0 1.1.9 2 2 2h14c1.1 0 2-.9 2-2V5c0-1.1-.9-2-2-2zM9 17H7v-7h2v7zm4 0h-2V7h2v10zm4 0h-2v-4h2v4z\"/>\n",
              "    </g>\n",
              "</svg>\n",
              "      </button>\n",
              "\n",
              "<style>\n",
              "  .colab-df-quickchart {\n",
              "      --bg-color: #E8F0FE;\n",
              "      --fill-color: #1967D2;\n",
              "      --hover-bg-color: #E2EBFA;\n",
              "      --hover-fill-color: #174EA6;\n",
              "      --disabled-fill-color: #AAA;\n",
              "      --disabled-bg-color: #DDD;\n",
              "  }\n",
              "\n",
              "  [theme=dark] .colab-df-quickchart {\n",
              "      --bg-color: #3B4455;\n",
              "      --fill-color: #D2E3FC;\n",
              "      --hover-bg-color: #434B5C;\n",
              "      --hover-fill-color: #FFFFFF;\n",
              "      --disabled-bg-color: #3B4455;\n",
              "      --disabled-fill-color: #666;\n",
              "  }\n",
              "\n",
              "  .colab-df-quickchart {\n",
              "    background-color: var(--bg-color);\n",
              "    border: none;\n",
              "    border-radius: 50%;\n",
              "    cursor: pointer;\n",
              "    display: none;\n",
              "    fill: var(--fill-color);\n",
              "    height: 32px;\n",
              "    padding: 0;\n",
              "    width: 32px;\n",
              "  }\n",
              "\n",
              "  .colab-df-quickchart:hover {\n",
              "    background-color: var(--hover-bg-color);\n",
              "    box-shadow: 0 1px 2px rgba(60, 64, 67, 0.3), 0 1px 3px 1px rgba(60, 64, 67, 0.15);\n",
              "    fill: var(--button-hover-fill-color);\n",
              "  }\n",
              "\n",
              "  .colab-df-quickchart-complete:disabled,\n",
              "  .colab-df-quickchart-complete:disabled:hover {\n",
              "    background-color: var(--disabled-bg-color);\n",
              "    fill: var(--disabled-fill-color);\n",
              "    box-shadow: none;\n",
              "  }\n",
              "\n",
              "  .colab-df-spinner {\n",
              "    border: 2px solid var(--fill-color);\n",
              "    border-color: transparent;\n",
              "    border-bottom-color: var(--fill-color);\n",
              "    animation:\n",
              "      spin 1s steps(1) infinite;\n",
              "  }\n",
              "\n",
              "  @keyframes spin {\n",
              "    0% {\n",
              "      border-color: transparent;\n",
              "      border-bottom-color: var(--fill-color);\n",
              "      border-left-color: var(--fill-color);\n",
              "    }\n",
              "    20% {\n",
              "      border-color: transparent;\n",
              "      border-left-color: var(--fill-color);\n",
              "      border-top-color: var(--fill-color);\n",
              "    }\n",
              "    30% {\n",
              "      border-color: transparent;\n",
              "      border-left-color: var(--fill-color);\n",
              "      border-top-color: var(--fill-color);\n",
              "      border-right-color: var(--fill-color);\n",
              "    }\n",
              "    40% {\n",
              "      border-color: transparent;\n",
              "      border-right-color: var(--fill-color);\n",
              "      border-top-color: var(--fill-color);\n",
              "    }\n",
              "    60% {\n",
              "      border-color: transparent;\n",
              "      border-right-color: var(--fill-color);\n",
              "    }\n",
              "    80% {\n",
              "      border-color: transparent;\n",
              "      border-right-color: var(--fill-color);\n",
              "      border-bottom-color: var(--fill-color);\n",
              "    }\n",
              "    90% {\n",
              "      border-color: transparent;\n",
              "      border-bottom-color: var(--fill-color);\n",
              "    }\n",
              "  }\n",
              "</style>\n",
              "\n",
              "      <script>\n",
              "        async function quickchart(key) {\n",
              "          const quickchartButtonEl =\n",
              "            document.querySelector('#' + key + ' button');\n",
              "          quickchartButtonEl.disabled = true;  // To prevent multiple clicks.\n",
              "          quickchartButtonEl.classList.add('colab-df-spinner');\n",
              "          try {\n",
              "            const charts = await google.colab.kernel.invokeFunction(\n",
              "                'suggestCharts', [key], {});\n",
              "          } catch (error) {\n",
              "            console.error('Error during call to suggestCharts:', error);\n",
              "          }\n",
              "          quickchartButtonEl.classList.remove('colab-df-spinner');\n",
              "          quickchartButtonEl.classList.add('colab-df-quickchart-complete');\n",
              "        }\n",
              "        (() => {\n",
              "          let quickchartButtonEl =\n",
              "            document.querySelector('#df-3f511d5b-eacb-4594-95e8-7b0409b9d3b9 button');\n",
              "          quickchartButtonEl.style.display =\n",
              "            google.colab.kernel.accessAllowed ? 'block' : 'none';\n",
              "        })();\n",
              "      </script>\n",
              "    </div>\n",
              "\n",
              "    </div>\n",
              "  </div>\n"
            ],
            "application/vnd.google.colaboratory.intrinsic+json": {
              "type": "dataframe"
            }
          },
          "metadata": {},
          "execution_count": 344
        }
      ]
    },
    {
      "cell_type": "markdown",
      "source": [
        "### 🪚 4.3. Validación por nulos y duplicados"
      ],
      "metadata": {
        "id": "M-esHm6D4LOT"
      }
    },
    {
      "cell_type": "code",
      "source": [
        "df.sample(5)"
      ],
      "metadata": {
        "colab": {
          "base_uri": "https://localhost:8080/",
          "height": 256
        },
        "id": "CORBX5WC9sbq",
        "outputId": "08bebafa-f57b-4b79-bb89-1c9324f124f1"
      },
      "execution_count": null,
      "outputs": [
        {
          "output_type": "execute_result",
          "data": {
            "text/plain": [
              "     tamanio  costo_prom  costo_moda  costo_var  costo_min  costo_max  \\\n",
              "652        7    1.530612         1.0   0.453145          0          3   \n",
              "42         6    1.305556         1.0   0.378858          0          3   \n",
              "484        9    1.407407         1.0   0.389575          0          3   \n",
              "247       10    1.500000         1.0   0.490000          0          3   \n",
              "899        3    1.555556         1.0   0.913580          0          3   \n",
              "\n",
              "     dens_celda_t2  dens_celda_t3  dens_total  entropia_costos  ...  \\\n",
              "652       0.387755       0.081633    0.469388         0.994649  ...   \n",
              "42        0.222222       0.055556    0.277778         0.847582  ...   \n",
              "484       0.296296       0.061728    0.358025         0.877862  ...   \n",
              "247       0.290000       0.110000    0.400000         0.959139  ...   \n",
              "899       0.222222       0.222222    0.444444         1.273028  ...   \n",
              "\n",
              "     a_star_costo  a_star_nodos  a_star_tiempo  ucs_costo  ucs_nodos  \\\n",
              "652            15            43       0.000160         15         48   \n",
              "42             10            25       0.000110         10         36   \n",
              "484            17            54       0.000233         17         81   \n",
              "247            18            31       0.000149         18         97   \n",
              "899             5             7       0.000047          5          8   \n",
              "\n",
              "     ucs_tiempo  greedy_costo  greedy_nodos  greedy_tiempo  mejor_alg  \n",
              "652    0.000162            18            13       0.000041         A*  \n",
              "42     0.000110            11            11       0.000032         A*  \n",
              "484    0.000282            22            17       0.000056         A*  \n",
              "247    0.000352            25            19       0.000062         A*  \n",
              "899    0.000036             8             5       0.000022         A*  \n",
              "\n",
              "[5 rows x 24 columns]"
            ],
            "text/html": [
              "\n",
              "  <div id=\"df-f3a3d93c-96f1-45bd-82db-3549ddcccd1e\" class=\"colab-df-container\">\n",
              "    <div>\n",
              "<style scoped>\n",
              "    .dataframe tbody tr th:only-of-type {\n",
              "        vertical-align: middle;\n",
              "    }\n",
              "\n",
              "    .dataframe tbody tr th {\n",
              "        vertical-align: top;\n",
              "    }\n",
              "\n",
              "    .dataframe thead th {\n",
              "        text-align: right;\n",
              "    }\n",
              "</style>\n",
              "<table border=\"1\" class=\"dataframe\">\n",
              "  <thead>\n",
              "    <tr style=\"text-align: right;\">\n",
              "      <th></th>\n",
              "      <th>tamanio</th>\n",
              "      <th>costo_prom</th>\n",
              "      <th>costo_moda</th>\n",
              "      <th>costo_var</th>\n",
              "      <th>costo_min</th>\n",
              "      <th>costo_max</th>\n",
              "      <th>dens_celda_t2</th>\n",
              "      <th>dens_celda_t3</th>\n",
              "      <th>dens_total</th>\n",
              "      <th>entropia_costos</th>\n",
              "      <th>...</th>\n",
              "      <th>a_star_costo</th>\n",
              "      <th>a_star_nodos</th>\n",
              "      <th>a_star_tiempo</th>\n",
              "      <th>ucs_costo</th>\n",
              "      <th>ucs_nodos</th>\n",
              "      <th>ucs_tiempo</th>\n",
              "      <th>greedy_costo</th>\n",
              "      <th>greedy_nodos</th>\n",
              "      <th>greedy_tiempo</th>\n",
              "      <th>mejor_alg</th>\n",
              "    </tr>\n",
              "  </thead>\n",
              "  <tbody>\n",
              "    <tr>\n",
              "      <th>652</th>\n",
              "      <td>7</td>\n",
              "      <td>1.530612</td>\n",
              "      <td>1.0</td>\n",
              "      <td>0.453145</td>\n",
              "      <td>0</td>\n",
              "      <td>3</td>\n",
              "      <td>0.387755</td>\n",
              "      <td>0.081633</td>\n",
              "      <td>0.469388</td>\n",
              "      <td>0.994649</td>\n",
              "      <td>...</td>\n",
              "      <td>15</td>\n",
              "      <td>43</td>\n",
              "      <td>0.000160</td>\n",
              "      <td>15</td>\n",
              "      <td>48</td>\n",
              "      <td>0.000162</td>\n",
              "      <td>18</td>\n",
              "      <td>13</td>\n",
              "      <td>0.000041</td>\n",
              "      <td>A*</td>\n",
              "    </tr>\n",
              "    <tr>\n",
              "      <th>42</th>\n",
              "      <td>6</td>\n",
              "      <td>1.305556</td>\n",
              "      <td>1.0</td>\n",
              "      <td>0.378858</td>\n",
              "      <td>0</td>\n",
              "      <td>3</td>\n",
              "      <td>0.222222</td>\n",
              "      <td>0.055556</td>\n",
              "      <td>0.277778</td>\n",
              "      <td>0.847582</td>\n",
              "      <td>...</td>\n",
              "      <td>10</td>\n",
              "      <td>25</td>\n",
              "      <td>0.000110</td>\n",
              "      <td>10</td>\n",
              "      <td>36</td>\n",
              "      <td>0.000110</td>\n",
              "      <td>11</td>\n",
              "      <td>11</td>\n",
              "      <td>0.000032</td>\n",
              "      <td>A*</td>\n",
              "    </tr>\n",
              "    <tr>\n",
              "      <th>484</th>\n",
              "      <td>9</td>\n",
              "      <td>1.407407</td>\n",
              "      <td>1.0</td>\n",
              "      <td>0.389575</td>\n",
              "      <td>0</td>\n",
              "      <td>3</td>\n",
              "      <td>0.296296</td>\n",
              "      <td>0.061728</td>\n",
              "      <td>0.358025</td>\n",
              "      <td>0.877862</td>\n",
              "      <td>...</td>\n",
              "      <td>17</td>\n",
              "      <td>54</td>\n",
              "      <td>0.000233</td>\n",
              "      <td>17</td>\n",
              "      <td>81</td>\n",
              "      <td>0.000282</td>\n",
              "      <td>22</td>\n",
              "      <td>17</td>\n",
              "      <td>0.000056</td>\n",
              "      <td>A*</td>\n",
              "    </tr>\n",
              "    <tr>\n",
              "      <th>247</th>\n",
              "      <td>10</td>\n",
              "      <td>1.500000</td>\n",
              "      <td>1.0</td>\n",
              "      <td>0.490000</td>\n",
              "      <td>0</td>\n",
              "      <td>3</td>\n",
              "      <td>0.290000</td>\n",
              "      <td>0.110000</td>\n",
              "      <td>0.400000</td>\n",
              "      <td>0.959139</td>\n",
              "      <td>...</td>\n",
              "      <td>18</td>\n",
              "      <td>31</td>\n",
              "      <td>0.000149</td>\n",
              "      <td>18</td>\n",
              "      <td>97</td>\n",
              "      <td>0.000352</td>\n",
              "      <td>25</td>\n",
              "      <td>19</td>\n",
              "      <td>0.000062</td>\n",
              "      <td>A*</td>\n",
              "    </tr>\n",
              "    <tr>\n",
              "      <th>899</th>\n",
              "      <td>3</td>\n",
              "      <td>1.555556</td>\n",
              "      <td>1.0</td>\n",
              "      <td>0.913580</td>\n",
              "      <td>0</td>\n",
              "      <td>3</td>\n",
              "      <td>0.222222</td>\n",
              "      <td>0.222222</td>\n",
              "      <td>0.444444</td>\n",
              "      <td>1.273028</td>\n",
              "      <td>...</td>\n",
              "      <td>5</td>\n",
              "      <td>7</td>\n",
              "      <td>0.000047</td>\n",
              "      <td>5</td>\n",
              "      <td>8</td>\n",
              "      <td>0.000036</td>\n",
              "      <td>8</td>\n",
              "      <td>5</td>\n",
              "      <td>0.000022</td>\n",
              "      <td>A*</td>\n",
              "    </tr>\n",
              "  </tbody>\n",
              "</table>\n",
              "<p>5 rows × 24 columns</p>\n",
              "</div>\n",
              "    <div class=\"colab-df-buttons\">\n",
              "\n",
              "  <div class=\"colab-df-container\">\n",
              "    <button class=\"colab-df-convert\" onclick=\"convertToInteractive('df-f3a3d93c-96f1-45bd-82db-3549ddcccd1e')\"\n",
              "            title=\"Convert this dataframe to an interactive table.\"\n",
              "            style=\"display:none;\">\n",
              "\n",
              "  <svg xmlns=\"http://www.w3.org/2000/svg\" height=\"24px\" viewBox=\"0 -960 960 960\">\n",
              "    <path d=\"M120-120v-720h720v720H120Zm60-500h600v-160H180v160Zm220 220h160v-160H400v160Zm0 220h160v-160H400v160ZM180-400h160v-160H180v160Zm440 0h160v-160H620v160ZM180-180h160v-160H180v160Zm440 0h160v-160H620v160Z\"/>\n",
              "  </svg>\n",
              "    </button>\n",
              "\n",
              "  <style>\n",
              "    .colab-df-container {\n",
              "      display:flex;\n",
              "      gap: 12px;\n",
              "    }\n",
              "\n",
              "    .colab-df-convert {\n",
              "      background-color: #E8F0FE;\n",
              "      border: none;\n",
              "      border-radius: 50%;\n",
              "      cursor: pointer;\n",
              "      display: none;\n",
              "      fill: #1967D2;\n",
              "      height: 32px;\n",
              "      padding: 0 0 0 0;\n",
              "      width: 32px;\n",
              "    }\n",
              "\n",
              "    .colab-df-convert:hover {\n",
              "      background-color: #E2EBFA;\n",
              "      box-shadow: 0px 1px 2px rgba(60, 64, 67, 0.3), 0px 1px 3px 1px rgba(60, 64, 67, 0.15);\n",
              "      fill: #174EA6;\n",
              "    }\n",
              "\n",
              "    .colab-df-buttons div {\n",
              "      margin-bottom: 4px;\n",
              "    }\n",
              "\n",
              "    [theme=dark] .colab-df-convert {\n",
              "      background-color: #3B4455;\n",
              "      fill: #D2E3FC;\n",
              "    }\n",
              "\n",
              "    [theme=dark] .colab-df-convert:hover {\n",
              "      background-color: #434B5C;\n",
              "      box-shadow: 0px 1px 3px 1px rgba(0, 0, 0, 0.15);\n",
              "      filter: drop-shadow(0px 1px 2px rgba(0, 0, 0, 0.3));\n",
              "      fill: #FFFFFF;\n",
              "    }\n",
              "  </style>\n",
              "\n",
              "    <script>\n",
              "      const buttonEl =\n",
              "        document.querySelector('#df-f3a3d93c-96f1-45bd-82db-3549ddcccd1e button.colab-df-convert');\n",
              "      buttonEl.style.display =\n",
              "        google.colab.kernel.accessAllowed ? 'block' : 'none';\n",
              "\n",
              "      async function convertToInteractive(key) {\n",
              "        const element = document.querySelector('#df-f3a3d93c-96f1-45bd-82db-3549ddcccd1e');\n",
              "        const dataTable =\n",
              "          await google.colab.kernel.invokeFunction('convertToInteractive',\n",
              "                                                    [key], {});\n",
              "        if (!dataTable) return;\n",
              "\n",
              "        const docLinkHtml = 'Like what you see? Visit the ' +\n",
              "          '<a target=\"_blank\" href=https://colab.research.google.com/notebooks/data_table.ipynb>data table notebook</a>'\n",
              "          + ' to learn more about interactive tables.';\n",
              "        element.innerHTML = '';\n",
              "        dataTable['output_type'] = 'display_data';\n",
              "        await google.colab.output.renderOutput(dataTable, element);\n",
              "        const docLink = document.createElement('div');\n",
              "        docLink.innerHTML = docLinkHtml;\n",
              "        element.appendChild(docLink);\n",
              "      }\n",
              "    </script>\n",
              "  </div>\n",
              "\n",
              "\n",
              "    <div id=\"df-05037feb-4ffe-4c3d-9ab3-7d76a28d182d\">\n",
              "      <button class=\"colab-df-quickchart\" onclick=\"quickchart('df-05037feb-4ffe-4c3d-9ab3-7d76a28d182d')\"\n",
              "                title=\"Suggest charts\"\n",
              "                style=\"display:none;\">\n",
              "\n",
              "<svg xmlns=\"http://www.w3.org/2000/svg\" height=\"24px\"viewBox=\"0 0 24 24\"\n",
              "     width=\"24px\">\n",
              "    <g>\n",
              "        <path d=\"M19 3H5c-1.1 0-2 .9-2 2v14c0 1.1.9 2 2 2h14c1.1 0 2-.9 2-2V5c0-1.1-.9-2-2-2zM9 17H7v-7h2v7zm4 0h-2V7h2v10zm4 0h-2v-4h2v4z\"/>\n",
              "    </g>\n",
              "</svg>\n",
              "      </button>\n",
              "\n",
              "<style>\n",
              "  .colab-df-quickchart {\n",
              "      --bg-color: #E8F0FE;\n",
              "      --fill-color: #1967D2;\n",
              "      --hover-bg-color: #E2EBFA;\n",
              "      --hover-fill-color: #174EA6;\n",
              "      --disabled-fill-color: #AAA;\n",
              "      --disabled-bg-color: #DDD;\n",
              "  }\n",
              "\n",
              "  [theme=dark] .colab-df-quickchart {\n",
              "      --bg-color: #3B4455;\n",
              "      --fill-color: #D2E3FC;\n",
              "      --hover-bg-color: #434B5C;\n",
              "      --hover-fill-color: #FFFFFF;\n",
              "      --disabled-bg-color: #3B4455;\n",
              "      --disabled-fill-color: #666;\n",
              "  }\n",
              "\n",
              "  .colab-df-quickchart {\n",
              "    background-color: var(--bg-color);\n",
              "    border: none;\n",
              "    border-radius: 50%;\n",
              "    cursor: pointer;\n",
              "    display: none;\n",
              "    fill: var(--fill-color);\n",
              "    height: 32px;\n",
              "    padding: 0;\n",
              "    width: 32px;\n",
              "  }\n",
              "\n",
              "  .colab-df-quickchart:hover {\n",
              "    background-color: var(--hover-bg-color);\n",
              "    box-shadow: 0 1px 2px rgba(60, 64, 67, 0.3), 0 1px 3px 1px rgba(60, 64, 67, 0.15);\n",
              "    fill: var(--button-hover-fill-color);\n",
              "  }\n",
              "\n",
              "  .colab-df-quickchart-complete:disabled,\n",
              "  .colab-df-quickchart-complete:disabled:hover {\n",
              "    background-color: var(--disabled-bg-color);\n",
              "    fill: var(--disabled-fill-color);\n",
              "    box-shadow: none;\n",
              "  }\n",
              "\n",
              "  .colab-df-spinner {\n",
              "    border: 2px solid var(--fill-color);\n",
              "    border-color: transparent;\n",
              "    border-bottom-color: var(--fill-color);\n",
              "    animation:\n",
              "      spin 1s steps(1) infinite;\n",
              "  }\n",
              "\n",
              "  @keyframes spin {\n",
              "    0% {\n",
              "      border-color: transparent;\n",
              "      border-bottom-color: var(--fill-color);\n",
              "      border-left-color: var(--fill-color);\n",
              "    }\n",
              "    20% {\n",
              "      border-color: transparent;\n",
              "      border-left-color: var(--fill-color);\n",
              "      border-top-color: var(--fill-color);\n",
              "    }\n",
              "    30% {\n",
              "      border-color: transparent;\n",
              "      border-left-color: var(--fill-color);\n",
              "      border-top-color: var(--fill-color);\n",
              "      border-right-color: var(--fill-color);\n",
              "    }\n",
              "    40% {\n",
              "      border-color: transparent;\n",
              "      border-right-color: var(--fill-color);\n",
              "      border-top-color: var(--fill-color);\n",
              "    }\n",
              "    60% {\n",
              "      border-color: transparent;\n",
              "      border-right-color: var(--fill-color);\n",
              "    }\n",
              "    80% {\n",
              "      border-color: transparent;\n",
              "      border-right-color: var(--fill-color);\n",
              "      border-bottom-color: var(--fill-color);\n",
              "    }\n",
              "    90% {\n",
              "      border-color: transparent;\n",
              "      border-bottom-color: var(--fill-color);\n",
              "    }\n",
              "  }\n",
              "</style>\n",
              "\n",
              "      <script>\n",
              "        async function quickchart(key) {\n",
              "          const quickchartButtonEl =\n",
              "            document.querySelector('#' + key + ' button');\n",
              "          quickchartButtonEl.disabled = true;  // To prevent multiple clicks.\n",
              "          quickchartButtonEl.classList.add('colab-df-spinner');\n",
              "          try {\n",
              "            const charts = await google.colab.kernel.invokeFunction(\n",
              "                'suggestCharts', [key], {});\n",
              "          } catch (error) {\n",
              "            console.error('Error during call to suggestCharts:', error);\n",
              "          }\n",
              "          quickchartButtonEl.classList.remove('colab-df-spinner');\n",
              "          quickchartButtonEl.classList.add('colab-df-quickchart-complete');\n",
              "        }\n",
              "        (() => {\n",
              "          let quickchartButtonEl =\n",
              "            document.querySelector('#df-05037feb-4ffe-4c3d-9ab3-7d76a28d182d button');\n",
              "          quickchartButtonEl.style.display =\n",
              "            google.colab.kernel.accessAllowed ? 'block' : 'none';\n",
              "        })();\n",
              "      </script>\n",
              "    </div>\n",
              "\n",
              "    </div>\n",
              "  </div>\n"
            ],
            "application/vnd.google.colaboratory.intrinsic+json": {
              "type": "dataframe"
            }
          },
          "metadata": {},
          "execution_count": 346
        }
      ]
    },
    {
      "cell_type": "code",
      "source": [
        "# eliminar posibles tableros duplicados\n",
        "print(\"Tamaño con duplicados:\", df.shape)\n",
        "df.drop_duplicates(inplace=True)\n",
        "print(\"Tamaño sin duplicados:\", df.shape)"
      ],
      "metadata": {
        "colab": {
          "base_uri": "https://localhost:8080/"
        },
        "id": "Xjl03A-G4RY5",
        "outputId": "931e5061-5676-4424-f8f2-664fe2d8975d"
      },
      "execution_count": null,
      "outputs": [
        {
          "output_type": "stream",
          "name": "stdout",
          "text": [
            "Tamaño con duplicados: (1000, 24)\n",
            "Tamaño sin duplicados: (1000, 24)\n"
          ]
        }
      ]
    },
    {
      "cell_type": "code",
      "source": [
        "# eliminar tableros con algún dato nulo\n",
        "# (no debería darse el caso, pero por lo agrego por las dudas)\n",
        "print(\"Tamaño con nulos:\", df.shape)\n",
        "df.dropna(inplace=True)\n",
        "print(\"Tamaño sin nulos:\", df.shape)"
      ],
      "metadata": {
        "colab": {
          "base_uri": "https://localhost:8080/"
        },
        "id": "ejFbIsx-77Fc",
        "outputId": "94fe8a8c-32a5-4c07-d21b-d13b77767caa"
      },
      "execution_count": null,
      "outputs": [
        {
          "output_type": "stream",
          "name": "stdout",
          "text": [
            "Tamaño con nulos: (1000, 24)\n",
            "Tamaño sin nulos: (1000, 24)\n"
          ]
        }
      ]
    },
    {
      "cell_type": "markdown",
      "source": [
        "### 📈 4.4. Visualización de distribuciones"
      ],
      "metadata": {
        "id": "FsMmiHl1JqNT"
      }
    },
    {
      "cell_type": "markdown",
      "source": [
        "➡️ Frecuencia del mejor algoritmo"
      ],
      "metadata": {
        "id": "50sowUaNi3on"
      }
    },
    {
      "cell_type": "code",
      "source": [
        "# el orden de mayor a menor frecuencia\n",
        "orden = df[\"mejor_alg\"].value_counts().index\n",
        "\n",
        "# graficar\n",
        "sns.countplot(data=df, x=\"mejor_alg\", order=orden, hue=\"mejor_alg\", palette=\"viridis\")\n",
        "plt.title(\"Frecuencia del mejor algoritmo\")\n",
        "plt.xlabel(\"Algoritmo\")\n",
        "plt.ylabel(\"Frecuencia\")\n",
        "plt.show()"
      ],
      "metadata": {
        "colab": {
          "base_uri": "https://localhost:8080/",
          "height": 472
        },
        "id": "S3Vr2esLJuPh",
        "outputId": "5620b800-5152-4bc1-ae31-d610594f10e0"
      },
      "execution_count": null,
      "outputs": [
        {
          "output_type": "display_data",
          "data": {
            "text/plain": [
              "<Figure size 640x480 with 1 Axes>"
            ],
            "image/png": "[encoded data removed]"
          },
          "metadata": {}
        }
      ]
    },
    {
      "cell_type": "markdown",
      "source": [
        "➡️ Mejor algoritmo según el tamaño del tablero"
      ],
      "metadata": {
        "id": "fS5Q93OVjFyS"
      }
    },
    {
      "cell_type": "code",
      "source": [
        "orden = df[\"tamanio\"].value_counts().index\n",
        "\n",
        "plt.figure(figsize=(8,4))\n",
        "sns.countplot(data=df, x=\"tamanio\", hue=\"mejor_alg\", palette=\"viridis\")\n",
        "plt.title(\"Mejor algoritmo según el tamaño del tablero\", fontsize=14)\n",
        "plt.xlabel(\"Tamaño del tablero\", fontsize=12)\n",
        "plt.ylabel(\"Frecuencia\", fontsize=12)\n",
        "plt.legend(title=\"Algoritmo\", loc=\"upper right\")\n",
        "#plt.tight_layout()\n",
        "plt.show()\n"
      ],
      "metadata": {
        "colab": {
          "base_uri": "https://localhost:8080/",
          "height": 416
        },
        "id": "Ull1wbCDeiWh",
        "outputId": "3bc4d0a8-3afb-4c5c-bae3-540fb0602cd2"
      },
      "execution_count": null,
      "outputs": [
        {
          "output_type": "display_data",
          "data": {
            "text/plain": [
              "<Figure size 800x400 with 1 Axes>"
            ],
            "image/png": "[encoded data removed]"
          },
          "metadata": {}
        }
      ]
    },
    {
      "cell_type": "markdown",
      "source": [
        "➡️ Mejor algoritmo según el tamaño del tablero (en porcentaje)"
      ],
      "metadata": {
        "id": "rLbRquqLjHfG"
      }
    },
    {
      "cell_type": "code",
      "source": [
        "pivot = pd.crosstab(df[\"tamanio\"], df[\"mejor_alg\"], normalize=\"index\") * 100\n",
        "\n",
        "plt.figure(figsize=(9,4))\n",
        "sns.heatmap(pivot, annot=True, fmt=\".1f\", cmap=\"Blues\")\n",
        "plt.title(\"Mejor algoritmo según tamaño del tablero\", fontsize=14)\n",
        "plt.xlabel(\"Algoritmo\")\n",
        "plt.ylabel(\"Tamaño del tablero\")\n",
        "plt.show()"
      ],
      "metadata": {
        "colab": {
          "base_uri": "https://localhost:8080/",
          "height": 412
        },
        "id": "44qkwnU-e6Cz",
        "outputId": "243ab8ce-c3c9-4f65-8d28-2f5c2cd63c26"
      },
      "execution_count": null,
      "outputs": [
        {
          "output_type": "display_data",
          "data": {
            "text/plain": [
              "<Figure size 900x400 with 2 Axes>"
            ],
            "image/png": "[encoded data removed]"
          },
          "metadata": {}
        }
      ]
    },
    {
      "cell_type": "markdown",
      "source": [
        "Claramente `A*` domina en tableros grandes (con `UCS` segundo marginalmente).  \n",
        "Por otro lado en tableros pequeños está más parejo entre `A*` y `Greedy`."
      ],
      "metadata": {
        "id": "JtnB2ZoKfJUn"
      }
    },
    {
      "cell_type": "markdown",
      "source": [
        "### 📈 4.5. Correlaciones"
      ],
      "metadata": {
        "id": "3vqQ2Gel8-WE"
      }
    },
    {
      "cell_type": "code",
      "source": [
        "df_numerico = df.copy()\n",
        "\n",
        "# eliminar columnas innecesarias\n",
        "columnas = [\"bfs_costo\", \"bfs_nodos\", \"bfs_tiempo\", \"a_star_costo\", \"a_star_nodos\", \"a_star_tiempo\", \"ucs_costo\", \"ucs_nodos\", \"ucs_tiempo\", \"greedy_costo\", \"greedy_nodos\", \"greedy_tiempo\", \"costo_min\"]\n",
        "df_numerico = df_numerico.drop(columns=columnas, errors='ignore')\n",
        "\n",
        "# convertir columnas categóricas a numéricas\n",
        "df_numerico[\"mejor_alg\"] = df_numerico[\"mejor_alg\"].astype(\"category\").cat.codes\n",
        "\n",
        "# calcular la matriz de correlación\n",
        "corr = df_numerico.corr(numeric_only=True)\n",
        "\n",
        "# crear el mapa de calor\n",
        "plt.figure(figsize=(8,6))\n",
        "sns.heatmap(corr, annot=True, cmap=\"coolwarm\", center=0, fmt=\".2f\", linewidths=0.5, square=True)\n",
        "plt.title(\"Correlaciones\", fontsize=14)\n",
        "plt.xticks(rotation=45, ha='right')\n",
        "\n",
        "plt.show()"
      ],
      "metadata": {
        "colab": {
          "base_uri": "https://localhost:8080/",
          "height": 620
        },
        "id": "slfmpCRD9AUH",
        "outputId": "a44bae14-8d9d-46ec-d143-613c3269ec94"
      },
      "execution_count": null,
      "outputs": [
        {
          "output_type": "display_data",
          "data": {
            "text/plain": [
              "<Figure size 800x600 with 2 Axes>"
            ],
            "image/png": "[encoded data removed]"
          },
          "metadata": {}
        }
      ]
    },
    {
      "cell_type": "markdown",
      "source": [
        "## 🧠 Parte 5 - Modelo con Red Neuronal (TensorFlow/Keras)"
      ],
      "metadata": {
        "id": "_5HJrj0sOhpJ"
      }
    },
    {
      "cell_type": "markdown",
      "source": [
        "### 📚 5.1. Bibliotecas necesarias"
      ],
      "metadata": {
        "id": "NoXSsTvwysL0"
      }
    },
    {
      "cell_type": "code",
      "source": [
        "!pip install tensorflow scikit-learn"
      ],
      "metadata": {
        "id": "MBdNBipzy9Pd",
        "colab": {
          "base_uri": "https://localhost:8080/"
        },
        "outputId": "d60add8e-485b-4113-9518-ec3254a94e0c",
        "collapsed": true
      },
      "execution_count": null,
      "outputs": [
        {
          "output_type": "stream",
          "name": "stdout",
          "text": [
            "Requirement already satisfied: tensorflow in /usr/local/lib/python3.12/dist-packages (2.19.0)\n",
            "Requirement already satisfied: scikit-learn in /usr/local/lib/python3.12/dist-packages (1.6.1)\n",
            "Requirement already satisfied: absl-py>=1.0.0 in /usr/local/lib/python3.12/dist-packages (from tensorflow) (1.4.0)\n",
            "Requirement already satisfied: astunparse>=1.6.0 in /usr/local/lib/python3.12/dist-packages (from tensorflow) (1.6.3)\n",
            "Requirement already satisfied: flatbuffers>=24.3.25 in /usr/local/lib/python3.12/dist-packages (from tensorflow) (25.9.23)\n",
            "Requirement already satisfied: gast!=0.5.0,!=0.5.1,!=0.5.2,>=0.2.1 in /usr/local/lib/python3.12/dist-packages (from tensorflow) (0.6.0)\n",
            "Requirement already satisfied: google-pasta>=0.1.1 in /usr/local/lib/python3.12/dist-packages (from tensorflow) (0.2.0)\n",
            "Requirement already satisfied: libclang>=13.0.0 in /usr/local/lib/python3.12/dist-packages (from tensorflow) (18.1.1)\n",
            "Requirement already satisfied: opt-einsum>=2.3.2 in /usr/local/lib/python3.12/dist-packages (from tensorflow) (3.4.0)\n",
            "Requirement already satisfied: packaging in /usr/local/lib/python3.12/dist-packages (from tensorflow) (25.0)\n",
            "Requirement already satisfied: protobuf!=4.21.0,!=4.21.1,!=4.21.2,!=4.21.3,!=4.21.4,!=4.21.5,<6.0.0dev,>=3.20.3 in /usr/local/lib/python3.12/dist-packages (from tensorflow) (5.29.5)\n",
            "Requirement already satisfied: requests<3,>=2.21.0 in /usr/local/lib/python3.12/dist-packages (from tensorflow) (2.32.4)\n",
            "Requirement already satisfied: setuptools in /usr/local/lib/python3.12/dist-packages (from tensorflow) (75.2.0)\n",
            "Requirement already satisfied: six>=1.12.0 in /usr/local/lib/python3.12/dist-packages (from tensorflow) (1.17.0)\n",
            "Requirement already satisfied: termcolor>=1.1.0 in /usr/local/lib/python3.12/dist-packages (from tensorflow) (3.2.0)\n",
            "Requirement already satisfied: typing-extensions>=3.6.6 in /usr/local/lib/python3.12/dist-packages (from tensorflow) (4.15.0)\n",
            "Requirement already satisfied: wrapt>=1.11.0 in /usr/local/lib/python3.12/dist-packages (from tensorflow) (2.0.0)\n",
            "Requirement already satisfied: grpcio<2.0,>=1.24.3 in /usr/local/lib/python3.12/dist-packages (from tensorflow) (1.76.0)\n",
            "Requirement already satisfied: tensorboard~=2.19.0 in /usr/local/lib/python3.12/dist-packages (from tensorflow) (2.19.0)\n",
            "Requirement already satisfied: keras>=3.5.0 in /usr/local/lib/python3.12/dist-packages (from tensorflow) (3.10.0)\n",
            "Requirement already satisfied: numpy<2.2.0,>=1.26.0 in /usr/local/lib/python3.12/dist-packages (from tensorflow) (2.0.2)\n",
            "Requirement already satisfied: h5py>=3.11.0 in /usr/local/lib/python3.12/dist-packages (from tensorflow) (3.15.1)\n",
            "Requirement already satisfied: ml-dtypes<1.0.0,>=0.5.1 in /usr/local/lib/python3.12/dist-packages (from tensorflow) (0.5.3)\n",
            "Requirement already satisfied: scipy>=1.6.0 in /usr/local/lib/python3.12/dist-packages (from scikit-learn) (1.16.3)\n",
            "Requirement already satisfied: joblib>=1.2.0 in /usr/local/lib/python3.12/dist-packages (from scikit-learn) (1.5.2)\n",
            "Requirement already satisfied: threadpoolctl>=3.1.0 in /usr/local/lib/python3.12/dist-packages (from scikit-learn) (3.6.0)\n",
            "Requirement already satisfied: wheel<1.0,>=0.23.0 in /usr/local/lib/python3.12/dist-packages (from astunparse>=1.6.0->tensorflow) (0.45.1)\n",
            "Requirement already satisfied: rich in /usr/local/lib/python3.12/dist-packages (from keras>=3.5.0->tensorflow) (13.9.4)\n",
            "Requirement already satisfied: namex in /usr/local/lib/python3.12/dist-packages (from keras>=3.5.0->tensorflow) (0.1.0)\n",
            "Requirement already satisfied: optree in /usr/local/lib/python3.12/dist-packages (from keras>=3.5.0->tensorflow) (0.17.0)\n",
            "Requirement already satisfied: charset_normalizer<4,>=2 in /usr/local/lib/python3.12/dist-packages (from requests<3,>=2.21.0->tensorflow) (3.4.4)\n",
            "Requirement already satisfied: idna<4,>=2.5 in /usr/local/lib/python3.12/dist-packages (from requests<3,>=2.21.0->tensorflow) (3.11)\n",
            "Requirement already satisfied: urllib3<3,>=1.21.1 in /usr/local/lib/python3.12/dist-packages (from requests<3,>=2.21.0->tensorflow) (2.5.0)\n",
            "Requirement already satisfied: certifi>=2017.4.17 in /usr/local/lib/python3.12/dist-packages (from requests<3,>=2.21.0->tensorflow) (2025.10.5)\n",
            "Requirement already satisfied: markdown>=2.6.8 in /usr/local/lib/python3.12/dist-packages (from tensorboard~=2.19.0->tensorflow) (3.9)\n",
            "Requirement already satisfied: tensorboard-data-server<0.8.0,>=0.7.0 in /usr/local/lib/python3.12/dist-packages (from tensorboard~=2.19.0->tensorflow) (0.7.2)\n",
            "Requirement already satisfied: werkzeug>=1.0.1 in /usr/local/lib/python3.12/dist-packages (from tensorboard~=2.19.0->tensorflow) (3.1.3)\n",
            "Requirement already satisfied: MarkupSafe>=2.1.1 in /usr/local/lib/python3.12/dist-packages (from werkzeug>=1.0.1->tensorboard~=2.19.0->tensorflow) (3.0.3)\n",
            "Requirement already satisfied: markdown-it-py>=2.2.0 in /usr/local/lib/python3.12/dist-packages (from rich->keras>=3.5.0->tensorflow) (4.0.0)\n",
            "Requirement already satisfied: pygments<3.0.0,>=2.13.0 in /usr/local/lib/python3.12/dist-packages (from rich->keras>=3.5.0->tensorflow) (2.19.2)\n",
            "Requirement already satisfied: mdurl~=0.1 in /usr/local/lib/python3.12/dist-packages (from markdown-it-py>=2.2.0->rich->keras>=3.5.0->tensorflow) (0.1.2)\n"
          ]
        }
      ]
    },
    {
      "cell_type": "markdown",
      "source": [
        "### 🧩 5.2. Importaciones y configuración inicial"
      ],
      "metadata": {
        "id": "ygBnUUr1zxHw"
      }
    },
    {
      "cell_type": "code",
      "source": [
        "import numpy as np\n",
        "import pickle\n",
        "\n",
        "from sklearn.preprocessing import LabelEncoder, StandardScaler\n",
        "from sklearn.model_selection import train_test_split\n",
        "from sklearn.metrics import confusion_matrix, classification_report\n",
        "\n",
        "import tensorflow as tf\n",
        "from tensorflow.keras import layers, models"
      ],
      "metadata": {
        "id": "qNGe1s-OzyUg"
      },
      "execution_count": null,
      "outputs": []
    },
    {
      "cell_type": "markdown",
      "source": [
        "### 📦 5.3 Cargar el dataset"
      ],
      "metadata": {
        "id": "uVm3h1xqB_tP"
      }
    },
    {
      "cell_type": "markdown",
      "source": [
        "Al cargar un dataset fijo, en lugar de simplemente tomar la variable **df** de memoria, garantizo la previsibilidad de los datos al momento del entrenamiento."
      ],
      "metadata": {
        "id": "6aCFiBBUCIEa"
      }
    },
    {
      "cell_type": "code",
      "source": [
        "ds_path = \"https://github.com/andres-garcia-alves/issd-dsia/raw/refs/heads/main/Proyecto-Final/miscelaneos/dataset_busquedas.csv\"\n",
        "# ds_path = \"dataset_busquedas.csv\"\n",
        "\n",
        "df = pd.read_csv(ds_path)"
      ],
      "metadata": {
        "id": "ePtvXxgnClGN"
      },
      "execution_count": null,
      "outputs": []
    },
    {
      "cell_type": "code",
      "source": [
        "df.sample(5)"
      ],
      "metadata": {
        "colab": {
          "base_uri": "https://localhost:8080/",
          "height": 256
        },
        "id": "k8xfKAI5JQUQ",
        "outputId": "14aa870b-68b5-4b05-d16e-7561c76c3afc"
      },
      "execution_count": null,
      "outputs": [
        {
          "output_type": "execute_result",
          "data": {
            "text/plain": [
              "     tamanio  costo_prom  costo_moda  costo_var  costo_min  costo_max  \\\n",
              "846        6    1.472222         1.0   0.582562          0          3   \n",
              "595       10    1.470000         1.0   0.429100          0          3   \n",
              "827        7    1.469388         1.0   0.534777          0          3   \n",
              "179       10    1.580000         1.0   0.643600          0          3   \n",
              "569        7    1.326531         1.0   0.383174          0          3   \n",
              "\n",
              "     dens_celda_t2  dens_celda_t3  dens_total  entropia_costos  ...  \\\n",
              "846       0.222222       0.138889    0.361111         1.008917  ...   \n",
              "595       0.320000       0.080000    0.400000         0.924032  ...   \n",
              "827       0.244898       0.122449    0.367347         0.981507  ...   \n",
              "179       0.210000       0.190000    0.400000         1.000630  ...   \n",
              "569       0.224490       0.061224    0.285714         0.839393  ...   \n",
              "\n",
              "     a_star_costo  a_star_nodos  a_star_tiempo  ucs_costo  ucs_nodos  \\\n",
              "846            11            27       0.000195         11         35   \n",
              "595            18            33       0.000151         18         99   \n",
              "827            14            45       0.000297         14         49   \n",
              "179            23           103       0.000417         23        100   \n",
              "569            13            35       0.000138         13         49   \n",
              "\n",
              "     ucs_tiempo  greedy_costo  greedy_nodos  greedy_tiempo  mejor_alg  \n",
              "846    0.000194            15            11       0.000057         A*  \n",
              "595    0.000341            24            19       0.000067         A*  \n",
              "827    0.000253            17            13       0.000069         A*  \n",
              "179    0.000352            31            19       0.000069        UCS  \n",
              "569    0.000163            14            13       0.000048         A*  \n",
              "\n",
              "[5 rows x 24 columns]"
            ],
            "text/html": [
              "\n",
              "  <div id=\"df-c83d6d8c-5da7-4b64-970c-1baa12a61d73\" class=\"colab-df-container\">\n",
              "    <div>\n",
              "<style scoped>\n",
              "    .dataframe tbody tr th:only-of-type {\n",
              "        vertical-align: middle;\n",
              "    }\n",
              "\n",
              "    .dataframe tbody tr th {\n",
              "        vertical-align: top;\n",
              "    }\n",
              "\n",
              "    .dataframe thead th {\n",
              "        text-align: right;\n",
              "    }\n",
              "</style>\n",
              "<table border=\"1\" class=\"dataframe\">\n",
              "  <thead>\n",
              "    <tr style=\"text-align: right;\">\n",
              "      <th></th>\n",
              "      <th>tamanio</th>\n",
              "      <th>costo_prom</th>\n",
              "      <th>costo_moda</th>\n",
              "      <th>costo_var</th>\n",
              "      <th>costo_min</th>\n",
              "      <th>costo_max</th>\n",
              "      <th>dens_celda_t2</th>\n",
              "      <th>dens_celda_t3</th>\n",
              "      <th>dens_total</th>\n",
              "      <th>entropia_costos</th>\n",
              "      <th>...</th>\n",
              "      <th>a_star_costo</th>\n",
              "      <th>a_star_nodos</th>\n",
              "      <th>a_star_tiempo</th>\n",
              "      <th>ucs_costo</th>\n",
              "      <th>ucs_nodos</th>\n",
              "      <th>ucs_tiempo</th>\n",
              "      <th>greedy_costo</th>\n",
              "      <th>greedy_nodos</th>\n",
              "      <th>greedy_tiempo</th>\n",
              "      <th>mejor_alg</th>\n",
              "    </tr>\n",
              "  </thead>\n",
              "  <tbody>\n",
              "    <tr>\n",
              "      <th>846</th>\n",
              "      <td>6</td>\n",
              "      <td>1.472222</td>\n",
              "      <td>1.0</td>\n",
              "      <td>0.582562</td>\n",
              "      <td>0</td>\n",
              "      <td>3</td>\n",
              "      <td>0.222222</td>\n",
              "      <td>0.138889</td>\n",
              "      <td>0.361111</td>\n",
              "      <td>1.008917</td>\n",
              "      <td>...</td>\n",
              "      <td>11</td>\n",
              "      <td>27</td>\n",
              "      <td>0.000195</td>\n",
              "      <td>11</td>\n",
              "      <td>35</td>\n",
              "      <td>0.000194</td>\n",
              "      <td>15</td>\n",
              "      <td>11</td>\n",
              "      <td>0.000057</td>\n",
              "      <td>A*</td>\n",
              "    </tr>\n",
              "    <tr>\n",
              "      <th>595</th>\n",
              "      <td>10</td>\n",
              "      <td>1.470000</td>\n",
              "      <td>1.0</td>\n",
              "      <td>0.429100</td>\n",
              "      <td>0</td>\n",
              "      <td>3</td>\n",
              "      <td>0.320000</td>\n",
              "      <td>0.080000</td>\n",
              "      <td>0.400000</td>\n",
              "      <td>0.924032</td>\n",
              "      <td>...</td>\n",
              "      <td>18</td>\n",
              "      <td>33</td>\n",
              "      <td>0.000151</td>\n",
              "      <td>18</td>\n",
              "      <td>99</td>\n",
              "      <td>0.000341</td>\n",
              "      <td>24</td>\n",
              "      <td>19</td>\n",
              "      <td>0.000067</td>\n",
              "      <td>A*</td>\n",
              "    </tr>\n",
              "    <tr>\n",
              "      <th>827</th>\n",
              "      <td>7</td>\n",
              "      <td>1.469388</td>\n",
              "      <td>1.0</td>\n",
              "      <td>0.534777</td>\n",
              "      <td>0</td>\n",
              "      <td>3</td>\n",
              "      <td>0.244898</td>\n",
              "      <td>0.122449</td>\n",
              "      <td>0.367347</td>\n",
              "      <td>0.981507</td>\n",
              "      <td>...</td>\n",
              "      <td>14</td>\n",
              "      <td>45</td>\n",
              "      <td>0.000297</td>\n",
              "      <td>14</td>\n",
              "      <td>49</td>\n",
              "      <td>0.000253</td>\n",
              "      <td>17</td>\n",
              "      <td>13</td>\n",
              "      <td>0.000069</td>\n",
              "      <td>A*</td>\n",
              "    </tr>\n",
              "    <tr>\n",
              "      <th>179</th>\n",
              "      <td>10</td>\n",
              "      <td>1.580000</td>\n",
              "      <td>1.0</td>\n",
              "      <td>0.643600</td>\n",
              "      <td>0</td>\n",
              "      <td>3</td>\n",
              "      <td>0.210000</td>\n",
              "      <td>0.190000</td>\n",
              "      <td>0.400000</td>\n",
              "      <td>1.000630</td>\n",
              "      <td>...</td>\n",
              "      <td>23</td>\n",
              "      <td>103</td>\n",
              "      <td>0.000417</td>\n",
              "      <td>23</td>\n",
              "      <td>100</td>\n",
              "      <td>0.000352</td>\n",
              "      <td>31</td>\n",
              "      <td>19</td>\n",
              "      <td>0.000069</td>\n",
              "      <td>UCS</td>\n",
              "    </tr>\n",
              "    <tr>\n",
              "      <th>569</th>\n",
              "      <td>7</td>\n",
              "      <td>1.326531</td>\n",
              "      <td>1.0</td>\n",
              "      <td>0.383174</td>\n",
              "      <td>0</td>\n",
              "      <td>3</td>\n",
              "      <td>0.224490</td>\n",
              "      <td>0.061224</td>\n",
              "      <td>0.285714</td>\n",
              "      <td>0.839393</td>\n",
              "      <td>...</td>\n",
              "      <td>13</td>\n",
              "      <td>35</td>\n",
              "      <td>0.000138</td>\n",
              "      <td>13</td>\n",
              "      <td>49</td>\n",
              "      <td>0.000163</td>\n",
              "      <td>14</td>\n",
              "      <td>13</td>\n",
              "      <td>0.000048</td>\n",
              "      <td>A*</td>\n",
              "    </tr>\n",
              "  </tbody>\n",
              "</table>\n",
              "<p>5 rows × 24 columns</p>\n",
              "</div>\n",
              "    <div class=\"colab-df-buttons\">\n",
              "\n",
              "  <div class=\"colab-df-container\">\n",
              "    <button class=\"colab-df-convert\" onclick=\"convertToInteractive('df-c83d6d8c-5da7-4b64-970c-1baa12a61d73')\"\n",
              "            title=\"Convert this dataframe to an interactive table.\"\n",
              "            style=\"display:none;\">\n",
              "\n",
              "  <svg xmlns=\"http://www.w3.org/2000/svg\" height=\"24px\" viewBox=\"0 -960 960 960\">\n",
              "    <path d=\"M120-120v-720h720v720H120Zm60-500h600v-160H180v160Zm220 220h160v-160H400v160Zm0 220h160v-160H400v160ZM180-400h160v-160H180v160Zm440 0h160v-160H620v160ZM180-180h160v-160H180v160Zm440 0h160v-160H620v160Z\"/>\n",
              "  </svg>\n",
              "    </button>\n",
              "\n",
              "  <style>\n",
              "    .colab-df-container {\n",
              "      display:flex;\n",
              "      gap: 12px;\n",
              "    }\n",
              "\n",
              "    .colab-df-convert {\n",
              "      background-color: #E8F0FE;\n",
              "      border: none;\n",
              "      border-radius: 50%;\n",
              "      cursor: pointer;\n",
              "      display: none;\n",
              "      fill: #1967D2;\n",
              "      height: 32px;\n",
              "      padding: 0 0 0 0;\n",
              "      width: 32px;\n",
              "    }\n",
              "\n",
              "    .colab-df-convert:hover {\n",
              "      background-color: #E2EBFA;\n",
              "      box-shadow: 0px 1px 2px rgba(60, 64, 67, 0.3), 0px 1px 3px 1px rgba(60, 64, 67, 0.15);\n",
              "      fill: #174EA6;\n",
              "    }\n",
              "\n",
              "    .colab-df-buttons div {\n",
              "      margin-bottom: 4px;\n",
              "    }\n",
              "\n",
              "    [theme=dark] .colab-df-convert {\n",
              "      background-color: #3B4455;\n",
              "      fill: #D2E3FC;\n",
              "    }\n",
              "\n",
              "    [theme=dark] .colab-df-convert:hover {\n",
              "      background-color: #434B5C;\n",
              "      box-shadow: 0px 1px 3px 1px rgba(0, 0, 0, 0.15);\n",
              "      filter: drop-shadow(0px 1px 2px rgba(0, 0, 0, 0.3));\n",
              "      fill: #FFFFFF;\n",
              "    }\n",
              "  </style>\n",
              "\n",
              "    <script>\n",
              "      const buttonEl =\n",
              "        document.querySelector('#df-c83d6d8c-5da7-4b64-970c-1baa12a61d73 button.colab-df-convert');\n",
              "      buttonEl.style.display =\n",
              "        google.colab.kernel.accessAllowed ? 'block' : 'none';\n",
              "\n",
              "      async function convertToInteractive(key) {\n",
              "        const element = document.querySelector('#df-c83d6d8c-5da7-4b64-970c-1baa12a61d73');\n",
              "        const dataTable =\n",
              "          await google.colab.kernel.invokeFunction('convertToInteractive',\n",
              "                                                    [key], {});\n",
              "        if (!dataTable) return;\n",
              "\n",
              "        const docLinkHtml = 'Like what you see? Visit the ' +\n",
              "          '<a target=\"_blank\" href=https://colab.research.google.com/notebooks/data_table.ipynb>data table notebook</a>'\n",
              "          + ' to learn more about interactive tables.';\n",
              "        element.innerHTML = '';\n",
              "        dataTable['output_type'] = 'display_data';\n",
              "        await google.colab.output.renderOutput(dataTable, element);\n",
              "        const docLink = document.createElement('div');\n",
              "        docLink.innerHTML = docLinkHtml;\n",
              "        element.appendChild(docLink);\n",
              "      }\n",
              "    </script>\n",
              "  </div>\n",
              "\n",
              "\n",
              "    <div id=\"df-30812eb4-498a-4ffa-8f34-9639497232d2\">\n",
              "      <button class=\"colab-df-quickchart\" onclick=\"quickchart('df-30812eb4-498a-4ffa-8f34-9639497232d2')\"\n",
              "                title=\"Suggest charts\"\n",
              "                style=\"display:none;\">\n",
              "\n",
              "<svg xmlns=\"http://www.w3.org/2000/svg\" height=\"24px\"viewBox=\"0 0 24 24\"\n",
              "     width=\"24px\">\n",
              "    <g>\n",
              "        <path d=\"M19 3H5c-1.1 0-2 .9-2 2v14c0 1.1.9 2 2 2h14c1.1 0 2-.9 2-2V5c0-1.1-.9-2-2-2zM9 17H7v-7h2v7zm4 0h-2V7h2v10zm4 0h-2v-4h2v4z\"/>\n",
              "    </g>\n",
              "</svg>\n",
              "      </button>\n",
              "\n",
              "<style>\n",
              "  .colab-df-quickchart {\n",
              "      --bg-color: #E8F0FE;\n",
              "      --fill-color: #1967D2;\n",
              "      --hover-bg-color: #E2EBFA;\n",
              "      --hover-fill-color: #174EA6;\n",
              "      --disabled-fill-color: #AAA;\n",
              "      --disabled-bg-color: #DDD;\n",
              "  }\n",
              "\n",
              "  [theme=dark] .colab-df-quickchart {\n",
              "      --bg-color: #3B4455;\n",
              "      --fill-color: #D2E3FC;\n",
              "      --hover-bg-color: #434B5C;\n",
              "      --hover-fill-color: #FFFFFF;\n",
              "      --disabled-bg-color: #3B4455;\n",
              "      --disabled-fill-color: #666;\n",
              "  }\n",
              "\n",
              "  .colab-df-quickchart {\n",
              "    background-color: var(--bg-color);\n",
              "    border: none;\n",
              "    border-radius: 50%;\n",
              "    cursor: pointer;\n",
              "    display: none;\n",
              "    fill: var(--fill-color);\n",
              "    height: 32px;\n",
              "    padding: 0;\n",
              "    width: 32px;\n",
              "  }\n",
              "\n",
              "  .colab-df-quickchart:hover {\n",
              "    background-color: var(--hover-bg-color);\n",
              "    box-shadow: 0 1px 2px rgba(60, 64, 67, 0.3), 0 1px 3px 1px rgba(60, 64, 67, 0.15);\n",
              "    fill: var(--button-hover-fill-color);\n",
              "  }\n",
              "\n",
              "  .colab-df-quickchart-complete:disabled,\n",
              "  .colab-df-quickchart-complete:disabled:hover {\n",
              "    background-color: var(--disabled-bg-color);\n",
              "    fill: var(--disabled-fill-color);\n",
              "    box-shadow: none;\n",
              "  }\n",
              "\n",
              "  .colab-df-spinner {\n",
              "    border: 2px solid var(--fill-color);\n",
              "    border-color: transparent;\n",
              "    border-bottom-color: var(--fill-color);\n",
              "    animation:\n",
              "      spin 1s steps(1) infinite;\n",
              "  }\n",
              "\n",
              "  @keyframes spin {\n",
              "    0% {\n",
              "      border-color: transparent;\n",
              "      border-bottom-color: var(--fill-color);\n",
              "      border-left-color: var(--fill-color);\n",
              "    }\n",
              "    20% {\n",
              "      border-color: transparent;\n",
              "      border-left-color: var(--fill-color);\n",
              "      border-top-color: var(--fill-color);\n",
              "    }\n",
              "    30% {\n",
              "      border-color: transparent;\n",
              "      border-left-color: var(--fill-color);\n",
              "      border-top-color: var(--fill-color);\n",
              "      border-right-color: var(--fill-color);\n",
              "    }\n",
              "    40% {\n",
              "      border-color: transparent;\n",
              "      border-right-color: var(--fill-color);\n",
              "      border-top-color: var(--fill-color);\n",
              "    }\n",
              "    60% {\n",
              "      border-color: transparent;\n",
              "      border-right-color: var(--fill-color);\n",
              "    }\n",
              "    80% {\n",
              "      border-color: transparent;\n",
              "      border-right-color: var(--fill-color);\n",
              "      border-bottom-color: var(--fill-color);\n",
              "    }\n",
              "    90% {\n",
              "      border-color: transparent;\n",
              "      border-bottom-color: var(--fill-color);\n",
              "    }\n",
              "  }\n",
              "</style>\n",
              "\n",
              "      <script>\n",
              "        async function quickchart(key) {\n",
              "          const quickchartButtonEl =\n",
              "            document.querySelector('#' + key + ' button');\n",
              "          quickchartButtonEl.disabled = true;  // To prevent multiple clicks.\n",
              "          quickchartButtonEl.classList.add('colab-df-spinner');\n",
              "          try {\n",
              "            const charts = await google.colab.kernel.invokeFunction(\n",
              "                'suggestCharts', [key], {});\n",
              "          } catch (error) {\n",
              "            console.error('Error during call to suggestCharts:', error);\n",
              "          }\n",
              "          quickchartButtonEl.classList.remove('colab-df-spinner');\n",
              "          quickchartButtonEl.classList.add('colab-df-quickchart-complete');\n",
              "        }\n",
              "        (() => {\n",
              "          let quickchartButtonEl =\n",
              "            document.querySelector('#df-30812eb4-498a-4ffa-8f34-9639497232d2 button');\n",
              "          quickchartButtonEl.style.display =\n",
              "            google.colab.kernel.accessAllowed ? 'block' : 'none';\n",
              "        })();\n",
              "      </script>\n",
              "    </div>\n",
              "\n",
              "    </div>\n",
              "  </div>\n"
            ],
            "application/vnd.google.colaboratory.intrinsic+json": {
              "type": "dataframe"
            }
          },
          "metadata": {},
          "execution_count": 369
        }
      ]
    },
    {
      "cell_type": "markdown",
      "source": [
        "### 🔹 5.4. Codificación y Normalización"
      ],
      "metadata": {
        "id": "1w8CEzZROFQ6"
      }
    },
    {
      "cell_type": "code",
      "source": [
        "# codificar la variable objetivo\n",
        "le = LabelEncoder()\n",
        "df['mejor_alg_enc'] = le.fit_transform(df['mejor_alg'])\n",
        "\n",
        "# features y etiquetas\n",
        "x = df[['tamanio', 'costo_prom', 'costo_moda', 'costo_var', 'costo_min', 'costo_max', 'dens_celda_t2', 'dens_celda_t3', 'dens_total', 'entropia_costos', 'gradiente_prom']]\n",
        "# x = df[['tamanio', 'costo_prom', 'costo_moda', 'costo_var', 'costo_min', 'costo_max', 'dens_celda_t2', 'dens_celda_t3', 'dens_total', 'entropia_costos', 'gradiente_prom', 'bfs_costo', 'bfs_nodos', 'bfs_tiempo', 'a_star_costo', 'a_star_nodos', 'a_star_tiempo', 'ucs_costo', 'ucs_nodos', 'ucs_tiempo', 'greedy_costo', 'greedy_nodos', 'greedy_tiempo']]\n",
        "y = df['mejor_alg_enc']\n",
        "\n",
        "# escalar las features\n",
        "scaler = StandardScaler()\n",
        "x_scaled = scaler.fit_transform(x)\n",
        "\n",
        "# separar de los datos en train/test\n",
        "x_train, x_test, y_train, y_test = train_test_split(x_scaled, y, test_size=0.2, stratify=y, random_state=1234)\n",
        "\n",
        "print(\"Shape 'x_train':\", x_train.shape)\n",
        "print(\"Clases codificadas:\", dict(zip(le.classes_, le.transform(le.classes_))))"
      ],
      "metadata": {
        "colab": {
          "base_uri": "https://localhost:8080/"
        },
        "id": "N1Kjz4eSOHAW",
        "outputId": "eb9689cf-71bc-4086-82db-4510854ae9fe"
      },
      "execution_count": null,
      "outputs": [
        {
          "output_type": "stream",
          "name": "stdout",
          "text": [
            "Shape 'x_train': (800, 11)\n",
            "Clases codificadas: {'A*': np.int64(0), 'BFS': np.int64(1), 'Greedy': np.int64(2), 'UCS': np.int64(3)}\n"
          ]
        }
      ]
    },
    {
      "cell_type": "markdown",
      "source": [
        "### 🧱 5.5. Definición de la Red Neuronal"
      ],
      "metadata": {
        "id": "1a-SgS_aOLUh"
      }
    },
    {
      "cell_type": "code",
      "source": [
        "n_clases = len(le.classes_)\n",
        "\n",
        "model = models.Sequential([\n",
        "    layers.Input(shape=(x_train.shape[1],)),\n",
        "    layers.Dense(16, activation='relu'),\n",
        "    layers.Dense(8, activation='relu'),\n",
        "    layers.Dense(n_clases, activation='softmax')\n",
        "])\n",
        "\n",
        "model.compile(optimizer='adam', loss='sparse_categorical_crossentropy', metrics=['accuracy'])\n",
        "model.summary()"
      ],
      "metadata": {
        "colab": {
          "base_uri": "https://localhost:8080/",
          "height": 238
        },
        "id": "tCK40lx1OND4",
        "outputId": "dfd88c2a-6fc7-4c7f-d8c4-40059522a2f7"
      },
      "execution_count": null,
      "outputs": [
        {
          "output_type": "display_data",
          "data": {
            "text/plain": [
              "\u001b[1mModel: \"sequential_4\"\u001b[0m\n"
            ],
            "text/html": [
              "<pre style=\"white-space:pre;overflow-x:auto;line-height:normal;font-family:Menlo,'DejaVu Sans Mono',consolas,'Courier New',monospace\"><span style=\"font-weight: bold\">Model: \"sequential_4\"</span>\n",
              "</pre>\n"
            ]
          },
          "metadata": {}
        },
        {
          "output_type": "display_data",
          "data": {
            "text/plain": [
              "┏━━━━━━━━━━━━━━━━━━━━━━━━━━━━━━━━━┳━━━━━━━━━━━━━━━━━━━━━━━━┳━━━━━━━━━━━━━━━┓\n",
              "┃\u001b[1m \u001b[0m\u001b[1mLayer (type)                   \u001b[0m\u001b[1m \u001b[0m┃\u001b[1m \u001b[0m\u001b[1mOutput Shape          \u001b[0m\u001b[1m \u001b[0m┃\u001b[1m \u001b[0m\u001b[1m      Param #\u001b[0m\u001b[1m \u001b[0m┃\n",
              "┡━━━━━━━━━━━━━━━━━━━━━━━━━━━━━━━━━╇━━━━━━━━━━━━━━━━━━━━━━━━╇━━━━━━━━━━━━━━━┩\n",
              "│ dense_12 (\u001b[38;5;33mDense\u001b[0m)                │ (\u001b[38;5;45mNone\u001b[0m, \u001b[38;5;34m16\u001b[0m)             │           \u001b[38;5;34m192\u001b[0m │\n",
              "├─────────────────────────────────┼────────────────────────┼───────────────┤\n",
              "│ dense_13 (\u001b[38;5;33mDense\u001b[0m)                │ (\u001b[38;5;45mNone\u001b[0m, \u001b[38;5;34m8\u001b[0m)              │           \u001b[38;5;34m136\u001b[0m │\n",
              "├─────────────────────────────────┼────────────────────────┼───────────────┤\n",
              "│ dense_14 (\u001b[38;5;33mDense\u001b[0m)                │ (\u001b[38;5;45mNone\u001b[0m, \u001b[38;5;34m4\u001b[0m)              │            \u001b[38;5;34m36\u001b[0m │\n",
              "└─────────────────────────────────┴────────────────────────┴───────────────┘\n"
            ],
            "text/html": [
              "<pre style=\"white-space:pre;overflow-x:auto;line-height:normal;font-family:Menlo,'DejaVu Sans Mono',consolas,'Courier New',monospace\">┏━━━━━━━━━━━━━━━━━━━━━━━━━━━━━━━━━┳━━━━━━━━━━━━━━━━━━━━━━━━┳━━━━━━━━━━━━━━━┓\n",
              "┃<span style=\"font-weight: bold\"> Layer (type)                    </span>┃<span style=\"font-weight: bold\"> Output Shape           </span>┃<span style=\"font-weight: bold\">       Param # </span>┃\n",
              "┡━━━━━━━━━━━━━━━━━━━━━━━━━━━━━━━━━╇━━━━━━━━━━━━━━━━━━━━━━━━╇━━━━━━━━━━━━━━━┩\n",
              "│ dense_12 (<span style=\"color: #0087ff; text-decoration-color: #0087ff\">Dense</span>)                │ (<span style=\"color: #00d7ff; text-decoration-color: #00d7ff\">None</span>, <span style=\"color: #00af00; text-decoration-color: #00af00\">16</span>)             │           <span style=\"color: #00af00; text-decoration-color: #00af00\">192</span> │\n",
              "├─────────────────────────────────┼────────────────────────┼───────────────┤\n",
              "│ dense_13 (<span style=\"color: #0087ff; text-decoration-color: #0087ff\">Dense</span>)                │ (<span style=\"color: #00d7ff; text-decoration-color: #00d7ff\">None</span>, <span style=\"color: #00af00; text-decoration-color: #00af00\">8</span>)              │           <span style=\"color: #00af00; text-decoration-color: #00af00\">136</span> │\n",
              "├─────────────────────────────────┼────────────────────────┼───────────────┤\n",
              "│ dense_14 (<span style=\"color: #0087ff; text-decoration-color: #0087ff\">Dense</span>)                │ (<span style=\"color: #00d7ff; text-decoration-color: #00d7ff\">None</span>, <span style=\"color: #00af00; text-decoration-color: #00af00\">4</span>)              │            <span style=\"color: #00af00; text-decoration-color: #00af00\">36</span> │\n",
              "└─────────────────────────────────┴────────────────────────┴───────────────┘\n",
              "</pre>\n"
            ]
          },
          "metadata": {}
        },
        {
          "output_type": "display_data",
          "data": {
            "text/plain": [
              "\u001b[1m Total params: \u001b[0m\u001b[38;5;34m364\u001b[0m (1.42 KB)\n"
            ],
            "text/html": [
              "<pre style=\"white-space:pre;overflow-x:auto;line-height:normal;font-family:Menlo,'DejaVu Sans Mono',consolas,'Courier New',monospace\"><span style=\"font-weight: bold\"> Total params: </span><span style=\"color: #00af00; text-decoration-color: #00af00\">364</span> (1.42 KB)\n",
              "</pre>\n"
            ]
          },
          "metadata": {}
        },
        {
          "output_type": "display_data",
          "data": {
            "text/plain": [
              "\u001b[1m Trainable params: \u001b[0m\u001b[38;5;34m364\u001b[0m (1.42 KB)\n"
            ],
            "text/html": [
              "<pre style=\"white-space:pre;overflow-x:auto;line-height:normal;font-family:Menlo,'DejaVu Sans Mono',consolas,'Courier New',monospace\"><span style=\"font-weight: bold\"> Trainable params: </span><span style=\"color: #00af00; text-decoration-color: #00af00\">364</span> (1.42 KB)\n",
              "</pre>\n"
            ]
          },
          "metadata": {}
        },
        {
          "output_type": "display_data",
          "data": {
            "text/plain": [
              "\u001b[1m Non-trainable params: \u001b[0m\u001b[38;5;34m0\u001b[0m (0.00 B)\n"
            ],
            "text/html": [
              "<pre style=\"white-space:pre;overflow-x:auto;line-height:normal;font-family:Menlo,'DejaVu Sans Mono',consolas,'Courier New',monospace\"><span style=\"font-weight: bold\"> Non-trainable params: </span><span style=\"color: #00af00; text-decoration-color: #00af00\">0</span> (0.00 B)\n",
              "</pre>\n"
            ]
          },
          "metadata": {}
        }
      ]
    },
    {
      "cell_type": "markdown",
      "source": [
        "### 🚀 5.6. Entrenamiento del modelo"
      ],
      "metadata": {
        "id": "Wfa0BVLmOWAy"
      }
    },
    {
      "cell_type": "code",
      "source": [
        "history = model.fit(x_train, y_train, epochs=50, batch_size=16, validation_split=0.2, verbose=1)"
      ],
      "metadata": {
        "colab": {
          "base_uri": "https://localhost:8080/"
        },
        "collapsed": true,
        "id": "m4x-y7uUOWiD",
        "outputId": "13e766c6-debd-4e41-9fad-97fc8efb1056"
      },
      "execution_count": null,
      "outputs": [
        {
          "output_type": "stream",
          "name": "stdout",
          "text": [
            "Epoch 1/50\n",
            "\u001b[1m40/40\u001b[0m \u001b[32m━━━━━━━━━━━━━━━━━━━━\u001b[0m\u001b[37m\u001b[0m \u001b[1m1s\u001b[0m 8ms/step - accuracy: 0.2084 - loss: 1.4336 - val_accuracy: 0.5063 - val_loss: 1.1880\n",
            "Epoch 2/50\n",
            "\u001b[1m40/40\u001b[0m \u001b[32m━━━━━━━━━━━━━━━━━━━━\u001b[0m\u001b[37m\u001b[0m \u001b[1m0s\u001b[0m 4ms/step - accuracy: 0.6066 - loss: 1.1202 - val_accuracy: 0.6562 - val_loss: 0.9568\n",
            "Epoch 3/50\n",
            "\u001b[1m40/40\u001b[0m \u001b[32m━━━━━━━━━━━━━━━━━━━━\u001b[0m\u001b[37m\u001b[0m \u001b[1m0s\u001b[0m 4ms/step - accuracy: 0.6878 - loss: 0.8947 - val_accuracy: 0.7500 - val_loss: 0.7974\n",
            "Epoch 4/50\n",
            "\u001b[1m40/40\u001b[0m \u001b[32m━━━━━━━━━━━━━━━━━━━━\u001b[0m\u001b[37m\u001b[0m \u001b[1m0s\u001b[0m 4ms/step - accuracy: 0.7629 - loss: 0.7356 - val_accuracy: 0.8188 - val_loss: 0.6699\n",
            "Epoch 5/50\n",
            "\u001b[1m40/40\u001b[0m \u001b[32m━━━━━━━━━━━━━━━━━━━━\u001b[0m\u001b[37m\u001b[0m \u001b[1m0s\u001b[0m 4ms/step - accuracy: 0.8301 - loss: 0.6228 - val_accuracy: 0.8500 - val_loss: 0.5823\n",
            "Epoch 6/50\n",
            "\u001b[1m40/40\u001b[0m \u001b[32m━━━━━━━━━━━━━━━━━━━━\u001b[0m\u001b[37m\u001b[0m \u001b[1m0s\u001b[0m 4ms/step - accuracy: 0.8339 - loss: 0.5393 - val_accuracy: 0.8562 - val_loss: 0.5356\n",
            "Epoch 7/50\n",
            "\u001b[1m40/40\u001b[0m \u001b[32m━━━━━━━━━━━━━━━━━━━━\u001b[0m\u001b[37m\u001b[0m \u001b[1m0s\u001b[0m 4ms/step - accuracy: 0.8440 - loss: 0.5097 - val_accuracy: 0.8438 - val_loss: 0.5128\n",
            "Epoch 8/50\n",
            "\u001b[1m40/40\u001b[0m \u001b[32m━━━━━━━━━━━━━━━━━━━━\u001b[0m\u001b[37m\u001b[0m \u001b[1m0s\u001b[0m 4ms/step - accuracy: 0.8524 - loss: 0.4733 - val_accuracy: 0.8438 - val_loss: 0.4984\n",
            "Epoch 9/50\n",
            "\u001b[1m40/40\u001b[0m \u001b[32m━━━━━━━━━━━━━━━━━━━━\u001b[0m\u001b[37m\u001b[0m \u001b[1m0s\u001b[0m 4ms/step - accuracy: 0.8470 - loss: 0.4972 - val_accuracy: 0.8438 - val_loss: 0.4914\n",
            "Epoch 10/50\n",
            "\u001b[1m40/40\u001b[0m \u001b[32m━━━━━━━━━━━━━━━━━━━━\u001b[0m\u001b[37m\u001b[0m \u001b[1m0s\u001b[0m 4ms/step - accuracy: 0.8493 - loss: 0.4614 - val_accuracy: 0.8438 - val_loss: 0.4888\n",
            "Epoch 11/50\n",
            "\u001b[1m40/40\u001b[0m \u001b[32m━━━━━━━━━━━━━━━━━━━━\u001b[0m\u001b[37m\u001b[0m \u001b[1m0s\u001b[0m 4ms/step - accuracy: 0.8675 - loss: 0.4184 - val_accuracy: 0.8438 - val_loss: 0.4881\n",
            "Epoch 12/50\n",
            "\u001b[1m40/40\u001b[0m \u001b[32m━━━━━━━━━━━━━━━━━━━━\u001b[0m\u001b[37m\u001b[0m \u001b[1m0s\u001b[0m 4ms/step - accuracy: 0.8486 - loss: 0.4482 - val_accuracy: 0.8500 - val_loss: 0.4851\n",
            "Epoch 13/50\n",
            "\u001b[1m40/40\u001b[0m \u001b[32m━━━━━━━━━━━━━━━━━━━━\u001b[0m\u001b[37m\u001b[0m \u001b[1m0s\u001b[0m 4ms/step - accuracy: 0.8489 - loss: 0.4536 - val_accuracy: 0.8438 - val_loss: 0.4841\n",
            "Epoch 14/50\n",
            "\u001b[1m40/40\u001b[0m \u001b[32m━━━━━━━━━━━━━━━━━━━━\u001b[0m\u001b[37m\u001b[0m \u001b[1m0s\u001b[0m 4ms/step - accuracy: 0.8599 - loss: 0.4236 - val_accuracy: 0.8438 - val_loss: 0.4835\n",
            "Epoch 15/50\n",
            "\u001b[1m40/40\u001b[0m \u001b[32m━━━━━━━━━━━━━━━━━━━━\u001b[0m\u001b[37m\u001b[0m \u001b[1m0s\u001b[0m 4ms/step - accuracy: 0.8484 - loss: 0.4578 - val_accuracy: 0.8438 - val_loss: 0.4822\n",
            "Epoch 16/50\n",
            "\u001b[1m40/40\u001b[0m \u001b[32m━━━━━━━━━━━━━━━━━━━━\u001b[0m\u001b[37m\u001b[0m \u001b[1m0s\u001b[0m 4ms/step - accuracy: 0.8699 - loss: 0.4076 - val_accuracy: 0.8438 - val_loss: 0.4820\n",
            "Epoch 17/50\n",
            "\u001b[1m40/40\u001b[0m \u001b[32m━━━━━━━━━━━━━━━━━━━━\u001b[0m\u001b[37m\u001b[0m \u001b[1m0s\u001b[0m 4ms/step - accuracy: 0.8601 - loss: 0.4133 - val_accuracy: 0.8438 - val_loss: 0.4820\n",
            "Epoch 18/50\n",
            "\u001b[1m40/40\u001b[0m \u001b[32m━━━━━━━━━━━━━━━━━━━━\u001b[0m\u001b[37m\u001b[0m \u001b[1m0s\u001b[0m 4ms/step - accuracy: 0.8566 - loss: 0.4407 - val_accuracy: 0.8438 - val_loss: 0.4807\n",
            "Epoch 19/50\n",
            "\u001b[1m40/40\u001b[0m \u001b[32m━━━━━━━━━━━━━━━━━━━━\u001b[0m\u001b[37m\u001b[0m \u001b[1m0s\u001b[0m 4ms/step - accuracy: 0.8544 - loss: 0.4464 - val_accuracy: 0.8438 - val_loss: 0.4825\n",
            "Epoch 20/50\n",
            "\u001b[1m40/40\u001b[0m \u001b[32m━━━━━━━━━━━━━━━━━━━━\u001b[0m\u001b[37m\u001b[0m \u001b[1m0s\u001b[0m 4ms/step - accuracy: 0.8419 - loss: 0.4602 - val_accuracy: 0.8438 - val_loss: 0.4821\n",
            "Epoch 21/50\n",
            "\u001b[1m40/40\u001b[0m \u001b[32m━━━━━━━━━━━━━━━━━━━━\u001b[0m\u001b[37m\u001b[0m \u001b[1m0s\u001b[0m 4ms/step - accuracy: 0.8572 - loss: 0.3889 - val_accuracy: 0.8438 - val_loss: 0.4817\n",
            "Epoch 22/50\n",
            "\u001b[1m40/40\u001b[0m \u001b[32m━━━━━━━━━━━━━━━━━━━━\u001b[0m\u001b[37m\u001b[0m \u001b[1m0s\u001b[0m 4ms/step - accuracy: 0.8591 - loss: 0.3862 - val_accuracy: 0.8438 - val_loss: 0.4808\n",
            "Epoch 23/50\n",
            "\u001b[1m40/40\u001b[0m \u001b[32m━━━━━━━━━━━━━━━━━━━━\u001b[0m\u001b[37m\u001b[0m \u001b[1m0s\u001b[0m 4ms/step - accuracy: 0.8655 - loss: 0.3721 - val_accuracy: 0.8438 - val_loss: 0.4793\n",
            "Epoch 24/50\n",
            "\u001b[1m40/40\u001b[0m \u001b[32m━━━━━━━━━━━━━━━━━━━━\u001b[0m\u001b[37m\u001b[0m \u001b[1m0s\u001b[0m 4ms/step - accuracy: 0.8388 - loss: 0.4132 - val_accuracy: 0.8438 - val_loss: 0.4786\n",
            "Epoch 25/50\n",
            "\u001b[1m40/40\u001b[0m \u001b[32m━━━━━━━━━━━━━━━━━━━━\u001b[0m\u001b[37m\u001b[0m \u001b[1m0s\u001b[0m 4ms/step - accuracy: 0.8527 - loss: 0.4169 - val_accuracy: 0.8438 - val_loss: 0.4794\n",
            "Epoch 26/50\n",
            "\u001b[1m40/40\u001b[0m \u001b[32m━━━━━━━━━━━━━━━━━━━━\u001b[0m\u001b[37m\u001b[0m \u001b[1m0s\u001b[0m 4ms/step - accuracy: 0.8686 - loss: 0.4121 - val_accuracy: 0.8438 - val_loss: 0.4795\n",
            "Epoch 27/50\n",
            "\u001b[1m40/40\u001b[0m \u001b[32m━━━━━━━━━━━━━━━━━━━━\u001b[0m\u001b[37m\u001b[0m \u001b[1m0s\u001b[0m 4ms/step - accuracy: 0.8755 - loss: 0.3970 - val_accuracy: 0.8375 - val_loss: 0.4814\n",
            "Epoch 28/50\n",
            "\u001b[1m40/40\u001b[0m \u001b[32m━━━━━━━━━━━━━━━━━━━━\u001b[0m\u001b[37m\u001b[0m \u001b[1m0s\u001b[0m 4ms/step - accuracy: 0.8528 - loss: 0.4202 - val_accuracy: 0.8438 - val_loss: 0.4792\n",
            "Epoch 29/50\n",
            "\u001b[1m40/40\u001b[0m \u001b[32m━━━━━━━━━━━━━━━━━━━━\u001b[0m\u001b[37m\u001b[0m \u001b[1m0s\u001b[0m 4ms/step - accuracy: 0.8777 - loss: 0.3858 - val_accuracy: 0.8500 - val_loss: 0.4804\n",
            "Epoch 30/50\n",
            "\u001b[1m40/40\u001b[0m \u001b[32m━━━━━━━━━━━━━━━━━━━━\u001b[0m\u001b[37m\u001b[0m \u001b[1m0s\u001b[0m 4ms/step - accuracy: 0.8634 - loss: 0.4103 - val_accuracy: 0.8375 - val_loss: 0.4789\n",
            "Epoch 31/50\n",
            "\u001b[1m40/40\u001b[0m \u001b[32m━━━━━━━━━━━━━━━━━━━━\u001b[0m\u001b[37m\u001b[0m \u001b[1m1s\u001b[0m 19ms/step - accuracy: 0.8458 - loss: 0.4329 - val_accuracy: 0.8438 - val_loss: 0.4790\n",
            "Epoch 32/50\n",
            "\u001b[1m40/40\u001b[0m \u001b[32m━━━━━━━━━━━━━━━━━━━━\u001b[0m\u001b[37m\u001b[0m \u001b[1m1s\u001b[0m 5ms/step - accuracy: 0.8689 - loss: 0.3803 - val_accuracy: 0.8375 - val_loss: 0.4799\n",
            "Epoch 33/50\n",
            "\u001b[1m40/40\u001b[0m \u001b[32m━━━━━━━━━━━━━━━━━━━━\u001b[0m\u001b[37m\u001b[0m \u001b[1m0s\u001b[0m 4ms/step - accuracy: 0.8552 - loss: 0.4100 - val_accuracy: 0.8375 - val_loss: 0.4804\n",
            "Epoch 34/50\n",
            "\u001b[1m40/40\u001b[0m \u001b[32m━━━━━━━━━━━━━━━━━━━━\u001b[0m\u001b[37m\u001b[0m \u001b[1m0s\u001b[0m 4ms/step - accuracy: 0.8511 - loss: 0.4119 - val_accuracy: 0.8438 - val_loss: 0.4790\n",
            "Epoch 35/50\n",
            "\u001b[1m40/40\u001b[0m \u001b[32m━━━━━━━━━━━━━━━━━━━━\u001b[0m\u001b[37m\u001b[0m \u001b[1m0s\u001b[0m 4ms/step - accuracy: 0.8730 - loss: 0.3948 - val_accuracy: 0.8500 - val_loss: 0.4777\n",
            "Epoch 36/50\n",
            "\u001b[1m40/40\u001b[0m \u001b[32m━━━━━━━━━━━━━━━━━━━━\u001b[0m\u001b[37m\u001b[0m \u001b[1m0s\u001b[0m 4ms/step - accuracy: 0.8428 - loss: 0.4227 - val_accuracy: 0.8375 - val_loss: 0.4787\n",
            "Epoch 37/50\n",
            "\u001b[1m40/40\u001b[0m \u001b[32m━━━━━━━━━━━━━━━━━━━━\u001b[0m\u001b[37m\u001b[0m \u001b[1m0s\u001b[0m 4ms/step - accuracy: 0.8431 - loss: 0.4146 - val_accuracy: 0.8375 - val_loss: 0.4785\n",
            "Epoch 38/50\n",
            "\u001b[1m40/40\u001b[0m \u001b[32m━━━━━━━━━━━━━━━━━━━━\u001b[0m\u001b[37m\u001b[0m \u001b[1m0s\u001b[0m 4ms/step - accuracy: 0.8568 - loss: 0.4104 - val_accuracy: 0.8438 - val_loss: 0.4807\n",
            "Epoch 39/50\n",
            "\u001b[1m40/40\u001b[0m \u001b[32m━━━━━━━━━━━━━━━━━━━━\u001b[0m\u001b[37m\u001b[0m \u001b[1m0s\u001b[0m 4ms/step - accuracy: 0.8393 - loss: 0.4465 - val_accuracy: 0.8375 - val_loss: 0.4806\n",
            "Epoch 40/50\n",
            "\u001b[1m40/40\u001b[0m \u001b[32m━━━━━━━━━━━━━━━━━━━━\u001b[0m\u001b[37m\u001b[0m \u001b[1m0s\u001b[0m 4ms/step - accuracy: 0.8591 - loss: 0.3877 - val_accuracy: 0.8375 - val_loss: 0.4793\n",
            "Epoch 41/50\n",
            "\u001b[1m40/40\u001b[0m \u001b[32m━━━━━━━━━━━━━━━━━━━━\u001b[0m\u001b[37m\u001b[0m \u001b[1m0s\u001b[0m 4ms/step - accuracy: 0.8744 - loss: 0.4058 - val_accuracy: 0.8438 - val_loss: 0.4792\n",
            "Epoch 42/50\n",
            "\u001b[1m40/40\u001b[0m \u001b[32m━━━━━━━━━━━━━━━━━━━━\u001b[0m\u001b[37m\u001b[0m \u001b[1m0s\u001b[0m 4ms/step - accuracy: 0.8687 - loss: 0.3721 - val_accuracy: 0.8375 - val_loss: 0.4798\n",
            "Epoch 43/50\n",
            "\u001b[1m40/40\u001b[0m \u001b[32m━━━━━━━━━━━━━━━━━━━━\u001b[0m\u001b[37m\u001b[0m \u001b[1m0s\u001b[0m 6ms/step - accuracy: 0.8754 - loss: 0.3883 - val_accuracy: 0.8375 - val_loss: 0.4797\n",
            "Epoch 44/50\n",
            "\u001b[1m40/40\u001b[0m \u001b[32m━━━━━━━━━━━━━━━━━━━━\u001b[0m\u001b[37m\u001b[0m \u001b[1m0s\u001b[0m 6ms/step - accuracy: 0.8781 - loss: 0.3440 - val_accuracy: 0.8375 - val_loss: 0.4807\n",
            "Epoch 45/50\n",
            "\u001b[1m40/40\u001b[0m \u001b[32m━━━━━━━━━━━━━━━━━━━━\u001b[0m\u001b[37m\u001b[0m \u001b[1m0s\u001b[0m 6ms/step - accuracy: 0.8573 - loss: 0.3982 - val_accuracy: 0.8375 - val_loss: 0.4791\n",
            "Epoch 46/50\n",
            "\u001b[1m40/40\u001b[0m \u001b[32m━━━━━━━━━━━━━━━━━━━━\u001b[0m\u001b[37m\u001b[0m \u001b[1m0s\u001b[0m 6ms/step - accuracy: 0.8502 - loss: 0.4201 - val_accuracy: 0.8438 - val_loss: 0.4793\n",
            "Epoch 47/50\n",
            "\u001b[1m40/40\u001b[0m \u001b[32m━━━━━━━━━━━━━━━━━━━━\u001b[0m\u001b[37m\u001b[0m \u001b[1m0s\u001b[0m 7ms/step - accuracy: 0.8623 - loss: 0.3899 - val_accuracy: 0.8438 - val_loss: 0.4787\n",
            "Epoch 48/50\n",
            "\u001b[1m40/40\u001b[0m \u001b[32m━━━━━━━━━━━━━━━━━━━━\u001b[0m\u001b[37m\u001b[0m \u001b[1m0s\u001b[0m 6ms/step - accuracy: 0.8831 - loss: 0.3491 - val_accuracy: 0.8438 - val_loss: 0.4802\n",
            "Epoch 49/50\n",
            "\u001b[1m40/40\u001b[0m \u001b[32m━━━━━━━━━━━━━━━━━━━━\u001b[0m\u001b[37m\u001b[0m \u001b[1m0s\u001b[0m 6ms/step - accuracy: 0.8868 - loss: 0.3481 - val_accuracy: 0.8438 - val_loss: 0.4792\n",
            "Epoch 50/50\n",
            "\u001b[1m40/40\u001b[0m \u001b[32m━━━━━━━━━━━━━━━━━━━━\u001b[0m\u001b[37m\u001b[0m \u001b[1m0s\u001b[0m 7ms/step - accuracy: 0.8530 - loss: 0.3717 - val_accuracy: 0.8438 - val_loss: 0.4820\n"
          ]
        }
      ]
    },
    {
      "cell_type": "markdown",
      "source": [
        "### 📈 5.7. Visualización del entrenamiento"
      ],
      "metadata": {
        "id": "NfrZYX_hOcKl"
      }
    },
    {
      "cell_type": "code",
      "source": [
        "plt.figure(figsize=(8,4))\n",
        "plt.plot(history.history['accuracy'], label='Entrenamiento')\n",
        "plt.plot(history.history['val_accuracy'], label='Validación')\n",
        "plt.title('Evolución de la accuracy')\n",
        "plt.legend()\n",
        "plt.xlabel('Epochs')\n",
        "plt.ylabel('Accuracy')\n",
        "plt.show()"
      ],
      "metadata": {
        "colab": {
          "base_uri": "https://localhost:8080/",
          "height": 411
        },
        "id": "LtGsLCJrOdm2",
        "outputId": "44756e70-9234-48a3-f90b-ea4e19dc5654"
      },
      "execution_count": null,
      "outputs": [
        {
          "output_type": "display_data",
          "data": {
            "text/plain": [
              "<Figure size 800x400 with 1 Axes>"
            ],
            "image/png": "[encoded data removed]"
          },
          "metadata": {}
        }
      ]
    },
    {
      "cell_type": "markdown",
      "source": [
        "### 🧪 5.8. Evaluación final"
      ],
      "metadata": {
        "id": "hhnZuh2WPFcb"
      }
    },
    {
      "cell_type": "code",
      "source": [
        "loss, acc = model.evaluate(x_test, y_test, verbose=0)\n",
        "print(f\"Exactitud en test: {acc*100:.1f}%\")"
      ],
      "metadata": {
        "colab": {
          "base_uri": "https://localhost:8080/"
        },
        "id": "TfOMTeIzPGWr",
        "outputId": "3811910b-9eff-49ff-9cc5-01882a6d4f9d"
      },
      "execution_count": null,
      "outputs": [
        {
          "output_type": "stream",
          "name": "stdout",
          "text": [
            "Exactitud en test: 82.0%\n"
          ]
        }
      ]
    },
    {
      "cell_type": "markdown",
      "source": [
        "### 🔍 5.9. Predicciones y Matriz de Confusión"
      ],
      "metadata": {
        "id": "uXQ7ZoP6PJ1w"
      }
    },
    {
      "cell_type": "code",
      "source": [
        "y_pred = np.argmax(model.predict(x_test), axis=1)\n",
        "\n",
        "print(\"\\nReporte de clasificación:\")\n",
        "print(classification_report(y_test, y_pred, target_names=le.classes_, zero_division=0))"
      ],
      "metadata": {
        "colab": {
          "base_uri": "https://localhost:8080/"
        },
        "id": "JLy79dC0PKXx",
        "outputId": "575d4b1b-670b-472d-a669-438a9dad3c8f"
      },
      "execution_count": null,
      "outputs": [
        {
          "output_type": "stream",
          "name": "stdout",
          "text": [
            "\u001b[1m7/7\u001b[0m \u001b[32m━━━━━━━━━━━━━━━━━━━━\u001b[0m\u001b[37m\u001b[0m \u001b[1m0s\u001b[0m 10ms/step\n",
            "\n",
            "Reporte de clasificación:\n",
            "              precision    recall  f1-score   support\n",
            "\n",
            "          A*       0.85      0.96      0.90       167\n",
            "         BFS       0.00      0.00      0.00         1\n",
            "      Greedy       0.36      0.15      0.22        26\n",
            "         UCS       0.00      0.00      0.00         6\n",
            "\n",
            "    accuracy                           0.82       200\n",
            "   macro avg       0.30      0.28      0.28       200\n",
            "weighted avg       0.75      0.82      0.78       200\n",
            "\n"
          ]
        }
      ]
    },
    {
      "cell_type": "code",
      "source": [
        "cm = confusion_matrix(y_test, y_pred)\n",
        "sns.heatmap(cm, annot=True, fmt=\"d\", cmap=\"Blues\", xticklabels=le.classes_, yticklabels=le.classes_)\n",
        "plt.title(\"Matriz de confusión\")\n",
        "plt.xlabel(\"Predicho\")\n",
        "plt.ylabel(\"Verdadero\")\n",
        "plt.show()"
      ],
      "metadata": {
        "colab": {
          "base_uri": "https://localhost:8080/",
          "height": 472
        },
        "id": "u93yI2u4PNxX",
        "outputId": "2f5c9cf4-69c5-4479-9d05-14303d58c443"
      },
      "execution_count": null,
      "outputs": [
        {
          "output_type": "display_data",
          "data": {
            "text/plain": [
              "<Figure size 640x480 with 2 Axes>"
            ],
            "image/png": "[encoded data removed]"
          },
          "metadata": {}
        }
      ]
    },
    {
      "cell_type": "markdown",
      "source": [
        "### 🧭 5.10. Exportar el modelo (para Streamlit)"
      ],
      "metadata": {
        "id": "zpzTEH2MaVUl"
      }
    },
    {
      "cell_type": "code",
      "source": [
        "model.save(\"./red_neuronal.keras\")\n",
        "pickle.dump((scaler, le), open(\"./objetos.pkl\", \"wb\"))"
      ],
      "metadata": {
        "id": "FdkUWfyAaUME"
      },
      "execution_count": null,
      "outputs": []
    },
    {
      "cell_type": "markdown",
      "source": [
        "## 🎮 Parte 6 - Visualización del Tablero y la Ruta"
      ],
      "metadata": {
        "id": "vrGflOjuPhx_"
      }
    },
    {
      "cell_type": "markdown",
      "source": [
        "La idea es:\n",
        "\n",
        "- Generar un nuevo tablero aleatorio.\n",
        "- Calcular sus características (features).\n",
        "- Hacer que la red neuronal prediga el algoritmo más conveniente.\n",
        "- Ejecutar ese algoritmo y mostrar la ruta sobre el tablero con colores."
      ],
      "metadata": {
        "id": "Scy9ae4dPsWv"
      }
    },
    {
      "cell_type": "markdown",
      "source": [
        "### 📚 6.1. Bibliotecas necesarias"
      ],
      "metadata": {
        "id": "5HD8yKY1I7-U"
      }
    },
    {
      "cell_type": "code",
      "source": [
        "import matplotlib.pyplot as plt\n",
        "import matplotlib.image as mpimg\n",
        "from matplotlib.offsetbox import OffsetImage, AnnotationBbox\n",
        "from matplotlib.animation import FuncAnimation\n",
        "\n",
        "import PIL.Image\n",
        "from IPython.display import HTML, Image\n",
        "import urllib.request"
      ],
      "metadata": {
        "id": "LqMOl65YJF6H"
      },
      "execution_count": null,
      "outputs": []
    },
    {
      "cell_type": "markdown",
      "source": [
        "### 📦 6.2. Función de predicción"
      ],
      "metadata": {
        "id": "OkiAP_UTPwdy"
      }
    },
    {
      "cell_type": "code",
      "source": [
        "# Predice el mejor algoritmo usando el modelo entrenado\n",
        "def predecir_algoritmo(tablero, verbose=1):\n",
        "\n",
        "    features = calcular_features(tablero)\n",
        "\n",
        "    # extraer las features\n",
        "    tamanio = features[\"tamanio\"]\n",
        "    costo_prom = features[\"costo_prom\"]\n",
        "    costo_moda = features[\"costo_moda\"]\n",
        "    costo_var = features[\"costo_var\"]\n",
        "    costo_min = features[\"costo_min\"]\n",
        "    costo_max = features[\"costo_max\"]\n",
        "    dens_celda_t2 = features[\"dens_celda_t2\"]\n",
        "    dens_celda_t3 = features[\"dens_celda_t3\"]\n",
        "    dens_total = features[\"dens_total\"]\n",
        "    entropia_costos = features[\"entropia_costos\"]\n",
        "    gradiente_prom = features[\"gradiente_prom\"]\n",
        "\n",
        "    # escalado de los features\n",
        "    datos = [tamanio, costo_prom, costo_moda, costo_var, costo_min, costo_max, dens_celda_t2, dens_celda_t3, dens_total, entropia_costos, gradiente_prom]\n",
        "    columnas = ['tamanio', 'costo_prom', 'costo_moda', 'costo_var', 'costo_min', 'costo_max', 'dens_celda_t2', 'dens_celda_t3', 'dens_total', 'entropia_costos', 'gradiente_prom']\n",
        "\n",
        "    features_df = pd.DataFrame([datos], columns=columnas)\n",
        "    features_scaled = scaler.transform(features_df)\n",
        "\n",
        "    # hacer la prediccion\n",
        "    predicciones = model.predict(features_scaled, verbose=verbose)\n",
        "    pred_alg = np.argmax(predicciones, axis=1)[0]   # tomar el elemento com mayor probabilidad\n",
        "    pred_alg = le.inverse_transform([pred_alg])[0]  # pasar codif. numérica a nombre del algoritmo\n",
        "\n",
        "    return pred_alg, predicciones"
      ],
      "metadata": {
        "id": "hGkqA72TPw7i"
      },
      "execution_count": null,
      "outputs": []
    },
    {
      "cell_type": "markdown",
      "source": [
        "### 🛠️ 6.3. Funciones auxiliares"
      ],
      "metadata": {
        "id": "ZD59wbQgLdEu"
      }
    },
    {
      "cell_type": "code",
      "source": [
        "# Ejecutar un algoritmo real sobre un tablero\n",
        "def ejecutar_algoritmo(tablero, algoritmo=\"A*\"):\n",
        "  costo, nodos, tiempo, camino = None, None, None, None\n",
        "\n",
        "  # Ejecutar el algoritmo elegido\n",
        "  if alg_pred == \"BFS\":\n",
        "      costo, nodos, tiempo, camino = busqueda_bfs(tablero_test)\n",
        "  elif alg_pred == \"UCS\":\n",
        "      costo, nodos, tiempo, camino = busqueda_generica(tablero_test, algoritmo=\"UCS\")\n",
        "  elif alg_pred == \"Greedy\":\n",
        "      costo, nodos, tiempo, camino = busqueda_generica(tablero_test, algoritmo=\"Greedy\")\n",
        "  elif alg_pred == \"A*\":\n",
        "      costo, nodos, tiempo, camino = busqueda_generica(tablero_test, algoritmo=\"A*\")\n",
        "\n",
        "  return costo, nodos, tiempo, camino"
      ],
      "metadata": {
        "id": "JD1vnLSKKNIH"
      },
      "execution_count": null,
      "outputs": []
    },
    {
      "cell_type": "markdown",
      "source": [
        "### 🗺️ 6.4. Visualizaciones del tablero"
      ],
      "metadata": {
        "id": "B1JuKc2xPzpX"
      }
    },
    {
      "cell_type": "code",
      "source": [
        "# Muestra el tablero, y opcionalmente el camino recorrido\n",
        "def generar_tablero_estatico(tablero, camino=None, titulo=\"Tablero\"):\n",
        "    n = tablero.shape[0]\n",
        "    fig, ax = plt.subplots(figsize=(6,6))\n",
        "    ax.imshow(tablero, cmap='Blues', origin='upper')\n",
        "\n",
        "    # mostrar los costos en las celdas\n",
        "    for i in range(n):\n",
        "        for j in range(n):\n",
        "            ax.text(j, i, str(tablero[i,j]), ha='center', va='center', color='black', fontsize=12)\n",
        "\n",
        "    # dibujar el camino\n",
        "    if camino:\n",
        "        xs, ys = zip(*camino)\n",
        "        ax.plot(ys, xs, color='red', linewidth=2)\n",
        "\n",
        "    # marcar con círculos el inicio y la meta\n",
        "    ax.scatter(0, 0, c='gold', s=120, label='Inicio')\n",
        "    ax.scatter(n-1, n-1, c='green', s=120, label='Meta')\n",
        "\n",
        "    # graficar\n",
        "    ax.set_title(titulo)\n",
        "    ax.legend(fontsize=8)\n",
        "    plt.show()"
      ],
      "metadata": {
        "id": "86P9j7doP0TG"
      },
      "execution_count": null,
      "outputs": []
    },
    {
      "cell_type": "code",
      "source": [
        "def generar_tablero_animado(tablero, camino, titulo=\"Tablero\", nombre_archivo=\"animacion.gif\"):\n",
        "    n = tablero.shape[0]\n",
        "    fig, ax = plt.subplots(figsize=(6,6))\n",
        "    ax.imshow(tablero, cmap='Blues', origin='upper')\n",
        "\n",
        "    # mostrar los costos en las celdas\n",
        "    for i in range(n):\n",
        "        for j in range(n):\n",
        "            ax.text(j, i, str(tablero[i,j]), ha='center', va='center', color='black', fontsize=12)\n",
        "\n",
        "    # dibujar camino y meta\n",
        "    xs, ys = zip(*camino)\n",
        "    ax.plot(ys, xs, color='red', linewidth=2, alpha=0.4)\n",
        "    ax.scatter(0, 0, c='gold', s=120, label='Inicio')\n",
        "    ax.scatter(n-1, n-1, c='green', s=120, label='Meta')\n",
        "\n",
        "    # cargar la imagen del auto\n",
        "    img_url = \"https://github.com/andres-garcia-alves/issd-dsia/raw/refs/heads/main/Proyecto-Final/miscelaneos/auto.png\"\n",
        "    with urllib.request.urlopen(img_url) as url:\n",
        "        img_data = np.array(PIL.Image.open(url))\n",
        "    imagebox = OffsetImage(img_data, zoom=0.70)\n",
        "    ab = AnnotationBbox(imagebox, camino[0][::-1], frameon=False)\n",
        "    ax.add_artist(ab)\n",
        "\n",
        "    ax.set_title(titulo)\n",
        "    ax.legend(fontsize=8)\n",
        "\n",
        "    # generar interpolaciones (para un movimiento fluido)\n",
        "    posiciones_interp = []\n",
        "    pasos_intermedios = 10\n",
        "    for (x1, y1), (x2, y2) in zip(camino[:-1], camino[1:]):\n",
        "        for t in np.linspace(0, 1, pasos_intermedios, endpoint=False):\n",
        "            xi = x1 + (x2 - x1) * t\n",
        "            yi = y1 + (y2 - y1) * t\n",
        "            posiciones_interp.append((xi, yi))\n",
        "    posiciones_interp.append(camino[-1])  # último punto exacto\n",
        "\n",
        "    # callback invocado por matplotlib por cada frame\n",
        "    def update(frame):\n",
        "        # borrar el auto anterior\n",
        "        for artist in ax.artists: artist.remove()\n",
        "\n",
        "        # dibujar el auto en la nueva posición\n",
        "        x, y = posiciones_interp[frame]\n",
        "        ab_new = AnnotationBbox(imagebox, (y, x), frameon=False)\n",
        "        ax.add_artist(ab_new)\n",
        "\n",
        "        return ab_new,\n",
        "\n",
        "    # crear y guardar el gif de la animación\n",
        "    fps = 25\n",
        "    anim = FuncAnimation(fig, update, frames=len(posiciones_interp), interval = 1000/fps, blit=True, repeat=False)\n",
        "    anim.save(nombre_archivo, writer='pillow', fps=fps)\n",
        "\n",
        "    plt.close(fig)"
      ],
      "metadata": {
        "id": "S3Bimf3BHgd7"
      },
      "execution_count": null,
      "outputs": []
    },
    {
      "cell_type": "markdown",
      "source": [
        "### 🧩 6.5. Ejemplo completo"
      ],
      "metadata": {
        "id": "16-bBJZEP4WS"
      }
    },
    {
      "cell_type": "code",
      "source": [
        "# Generar un tablero aleatorio\n",
        "tamanio = random.choice([3,4,5,6,7,8,9,10])\n",
        "tablero_test = generar_tablero(tamanio)\n",
        "print(\"Tablero generado:\")\n",
        "print(tablero_test, '\\n')"
      ],
      "metadata": {
        "colab": {
          "base_uri": "https://localhost:8080/"
        },
        "id": "8VwhZ_yALOmo",
        "outputId": "1b3751c1-ee24-4d89-edac-db4bbac1d371"
      },
      "execution_count": null,
      "outputs": [
        {
          "output_type": "stream",
          "name": "stdout",
          "text": [
            "Tablero generado:\n",
            "[[0 1 1 2 2 2]\n",
            " [1 1 3 2 1 2]\n",
            " [1 1 1 1 2 1]\n",
            " [2 2 2 1 1 3]\n",
            " [1 1 1 1 2 1]\n",
            " [2 1 3 1 1 1]] \n",
            "\n"
          ]
        }
      ]
    },
    {
      "cell_type": "code",
      "source": [
        "# Predicción del modelo\n",
        "alg_pred, preds = predecir_algoritmo(tablero_test)\n",
        "print(\"Clasificación:\", preds, '\\n')\n",
        "print(\"Predicción de mejor algoritmo:\", alg_pred)"
      ],
      "metadata": {
        "id": "EgfncC7c4G0C",
        "colab": {
          "base_uri": "https://localhost:8080/"
        },
        "outputId": "47f5f3ee-3891-4119-d1d0-4bdd00f60886"
      },
      "execution_count": null,
      "outputs": [
        {
          "output_type": "stream",
          "name": "stdout",
          "text": [
            "\u001b[1m1/1\u001b[0m \u001b[32m━━━━━━━━━━━━━━━━━━━━\u001b[0m\u001b[37m\u001b[0m \u001b[1m0s\u001b[0m 38ms/step\n",
            "Clasificación: [[0.90115386 0.00664226 0.07398559 0.01821823]] \n",
            "\n",
            "Predicción de mejor algoritmo: A*\n"
          ]
        }
      ]
    },
    {
      "cell_type": "code",
      "source": [
        "# Ejecutar el algoritmo de búsqueda\n",
        "costo, nodos, tiempo, camino = ejecutar_algoritmo(tablero_test, algoritmo=alg_pred)\n",
        "print(camino)"
      ],
      "metadata": {
        "colab": {
          "base_uri": "https://localhost:8080/"
        },
        "id": "c5HX57negnuR",
        "outputId": "93269db0-35d7-4471-fff4-e2755b72e22f"
      },
      "execution_count": null,
      "outputs": [
        {
          "output_type": "stream",
          "name": "stdout",
          "text": [
            "[(0, 0), (0, 1), (1, 1), (2, 1), (2, 2), (2, 3), (3, 3), (4, 3), (5, 3), (5, 4), (5, 5)]\n"
          ]
        }
      ]
    },
    {
      "cell_type": "code",
      "source": [
        "# Mostrar el tablero y la ruta de forma gráfica\n",
        "print(f\"\\nCosto total: {costo}, Nodos expandidos: {nodos}\")\n",
        "generar_tablero_estatico(tablero_test, camino, titulo=f\"Algoritmo sugerido: {alg_pred}\")"
      ],
      "metadata": {
        "colab": {
          "base_uri": "https://localhost:8080/",
          "height": 581
        },
        "id": "35yLmuJk-XVf",
        "outputId": "426cb8e8-ae8d-4ecb-d0ce-6fddd7321ed0"
      },
      "execution_count": null,
      "outputs": [
        {
          "output_type": "stream",
          "name": "stdout",
          "text": [
            "\n",
            "Costo total: 10, Nodos expandidos: 15\n"
          ]
        },
        {
          "output_type": "display_data",
          "data": {
            "text/plain": [
              "<Figure size 600x600 with 1 Axes>"
            ],
            "image/png": "[encoded data removed]"
          },
          "metadata": {}
        }
      ]
    },
    {
      "cell_type": "code",
      "source": [
        "# Generar una animación para el tablero y la ruta\n",
        "generar_tablero_animado(tablero=tablero_test, camino=camino, titulo=f\"Algoritmo sugerido: {alg_pred}\", nombre_archivo=\"tablero-animado.gif\")"
      ],
      "metadata": {
        "id": "EDJ3PjoGHoGe"
      },
      "execution_count": null,
      "outputs": []
    },
    {
      "cell_type": "code",
      "source": [
        "# Mostrar la animación para el tablero y la ruta\n",
        "print(f\"\\nCosto total: {costo}, Nodos expandidos: {nodos}\")\n",
        "Image(filename=\"tablero-animado.gif\")  # mostrar el tablero animado"
      ],
      "metadata": {
        "collapsed": true,
        "id": "eZ5ATLXybXwA"
      },
      "execution_count": null,
      "outputs": []
    },
    {
      "cell_type": "markdown",
      "source": [
        "Detalle del gráfico: 🖼️\n",
        "\n",
        "* El tablero con los valores de costo en cada celda.\n",
        "* Inicio (verde) y meta (amarillo).\n",
        "* Camino sugerido (en rojo).\n",
        "* Nombre del algoritmo elegido por la red neuronal."
      ],
      "metadata": {
        "id": "Iyk_eRFdQBqn"
      }
    },
    {
      "cell_type": "markdown",
      "source": [
        "## 📝 Parte 7 - Desempeño del Modelo"
      ],
      "metadata": {
        "id": "ti_hW_XEQhJk"
      }
    },
    {
      "cell_type": "markdown",
      "source": [
        "### 🧠 7.1. Introducción"
      ],
      "metadata": {
        "id": "XG_X58AKQmYW"
      }
    },
    {
      "cell_type": "markdown",
      "source": [
        "La idea es:\n",
        "\n",
        "- Generar varios tableros nuevos (datos que el modelo no vio durante el entrenamiento).\n",
        "- Calcular cuál algoritmo realmente tiene mejor desempeño (menor costo).\n",
        "- Ver si la red neuronal eligió el correcto.\n",
        "- Calcular la precisión global (accuracy)."
      ],
      "metadata": {
        "id": "uo0qgol55Hnc"
      }
    },
    {
      "cell_type": "markdown",
      "source": [
        "### ✅ 7.2. Evaluar Exactitud"
      ],
      "metadata": {
        "id": "zGVR3If6QwWN"
      }
    },
    {
      "cell_type": "code",
      "source": [
        "def evaluar_modelo(model, n_pruebas=100):\n",
        "    aciertos = 0\n",
        "    total = 0\n",
        "\n",
        "    for _ in range(n_pruebas):\n",
        "        tablero = generar_tablero(n=random.choice([5,6,7,8]))\n",
        "\n",
        "        mejor_alg, detalles = probar_algoritmos(tablero)          # resultados reales\n",
        "        pred_alg, preds = predecir_algoritmo(tablero, verbose=0)  # predicción del modelo\n",
        "\n",
        "        if pred_alg == mejor_alg: aciertos += 1\n",
        "        total += 1\n",
        "\n",
        "    acc = aciertos / total\n",
        "    return acc"
      ],
      "metadata": {
        "id": "vp4FB8IVQq-J"
      },
      "execution_count": null,
      "outputs": []
    },
    {
      "cell_type": "code",
      "source": [
        "acc = evaluar_modelo(model, n_pruebas=100)\n",
        "print(f\"✅ Exactitud al elegir el mejor algoritmo: {acc*100:.1f}%\")"
      ],
      "metadata": {
        "colab": {
          "base_uri": "https://localhost:8080/"
        },
        "collapsed": true,
        "id": "TapecnIKQtwQ",
        "outputId": "97432919-9323-47c9-ebd1-b4b922640e1b"
      },
      "execution_count": null,
      "outputs": [
        {
          "output_type": "stream",
          "name": "stdout",
          "text": [
            "✅ Exactitud al elegir el mejor algoritmo: 95.0%\n"
          ]
        }
      ]
    },
    {
      "cell_type": "markdown",
      "source": [
        "💬 Interpretación:\n",
        "\n",
        "* El modelo logra una precisión alrrededor del 90% al seleccionar el algoritmo que efectivamente produce el menor costo de búsqueda.\n",
        "\n",
        "* Esto implica que aprendió una relación entre las características del entorno (tamaño, variabilidad, obstáculos) y el desempeño de cada algoritmo.\n",
        "\n",
        "* En un sistema de GPS, donde el entorno cambia constantemente, este tipo de red podría servir como selector dinámico entre distintos métodos de planificación."
      ],
      "metadata": {
        "id": "1CGC6rEjRIEr"
      }
    },
    {
      "cell_type": "markdown",
      "source": [
        "### 🧩 7.3. Evaluar Precision, Sencibilidad y F1-Score"
      ],
      "metadata": {
        "id": "SRZzJeq0RbGv"
      }
    },
    {
      "cell_type": "code",
      "source": [
        "from collections import Counter\n",
        "\n",
        "def evaluar_detallado(model, n_pruebas=100):\n",
        "    resultados = []\n",
        "\n",
        "    for _ in range(n_pruebas):\n",
        "        tablero = generar_tablero(n=random.choice([5,6,7,8]))\n",
        "\n",
        "        mejor_alg, detalles = probar_algoritmos(tablero)          # resultados reales\n",
        "        pred_alg, preds = predecir_algoritmo(tablero, verbose=0)  # predicción del modelo\n",
        "\n",
        "        resultados.append((mejor_alg, pred_alg))\n",
        "\n",
        "    reales, preds = zip(*resultados)\n",
        "    acc = np.mean(np.array(reales) == np.array(preds))\n",
        "\n",
        "    conteo = Counter(resultados)\n",
        "    return conteo"
      ],
      "metadata": {
        "id": "G0TjzfNDReHN"
      },
      "execution_count": null,
      "outputs": []
    },
    {
      "cell_type": "code",
      "source": [
        "conteo = evaluar_detallado(model, n_pruebas=100)\n",
        "conteo"
      ],
      "metadata": {
        "collapsed": true,
        "id": "LXAn5ahTRjJe",
        "colab": {
          "base_uri": "https://localhost:8080/"
        },
        "outputId": "9f02aabc-3d4d-4a8a-ce46-0930e07db39a"
      },
      "execution_count": null,
      "outputs": [
        {
          "output_type": "execute_result",
          "data": {
            "text/plain": [
              "Counter({('A*', 'A*'): 92, ('Greedy', 'A*'): 6, ('UCS', 'A*'): 2})"
            ]
          },
          "metadata": {},
          "execution_count": 399
        }
      ]
    },
    {
      "cell_type": "code",
      "source": [
        "print(f\"✅ Exactitud: {acc*100:.2f}% \\n\\n\")\n",
        "\n",
        "print(\"📈 Matriz de confusión (real vs predicho):\")\n",
        "conf_matrix = pd.DataFrame({\n",
        "    \"Predijo A*\":     [conteo[('A*', 'A*')],     conteo[('A*', 'UCS')],     conteo[('A*', 'Greedy')],     conteo[('A*', 'BFS')]],\n",
        "    \"Predijo USC\":    [conteo[(\"UCS\", \"A*\")],    conteo[(\"UCS\", \"UCS\")],    conteo[(\"UCS\", \"Greedy\")],    conteo[('UCS', 'BFS')]],\n",
        "    \"Predijo Greedy\": [conteo[(\"Greedy\", \"A*\")], conteo[(\"Greedy\", \"UCS\")], conteo[(\"Greedy\", \"Greedy\")], conteo[('Greedy', 'BFS')]],\n",
        "    \"Predijo BFS\":    [conteo[(\"BFS\", \"A*\")],    conteo[(\"BFS\", \"UCS\")],    conteo[(\"BFS\", \"Greedy\")],    conteo[(\"BFS\", \"BFS\")]]\n",
        "}, index=[\"Real A*\", \"Real UCS\", \"Real Greedy\", \"BFS\"])\n",
        "print(conf_matrix, \"\\n\\n\")\n",
        "\n",
        "print(\"📈 Reporte de clasificación:\")\n",
        "print(classification_report(y_test, y_pred, target_names=le.classes_, zero_division=0))"
      ],
      "metadata": {
        "colab": {
          "base_uri": "https://localhost:8080/"
        },
        "id": "mwvcqw3CRulr",
        "outputId": "56110794-08c3-48ec-a606-b4031ffc9599"
      },
      "execution_count": null,
      "outputs": [
        {
          "output_type": "stream",
          "name": "stdout",
          "text": [
            "✅ Exactitud: 95.00% \n",
            "\n",
            "\n",
            "📈 Matriz de confusión (real vs predicho):\n",
            "             Predijo A*  Predijo USC  Predijo Greedy  Predijo BFS\n",
            "Real A*              92            2               6            0\n",
            "Real UCS              0            0               0            0\n",
            "Real Greedy           0            0               0            0\n",
            "BFS                   0            0               0            0 \n",
            "\n",
            "\n",
            "📈 Reporte de clasificación:\n",
            "              precision    recall  f1-score   support\n",
            "\n",
            "          A*       0.85      0.96      0.90       167\n",
            "         BFS       0.00      0.00      0.00         1\n",
            "      Greedy       0.36      0.15      0.22        26\n",
            "         UCS       0.00      0.00      0.00         6\n",
            "\n",
            "    accuracy                           0.82       200\n",
            "   macro avg       0.30      0.28      0.28       200\n",
            "weighted avg       0.75      0.82      0.78       200\n",
            "\n"
          ]
        }
      ]
    },
    {
      "cell_type": "markdown",
      "source": [
        "## ✒️ Parte 8 - Conclusiones\n"
      ],
      "metadata": {
        "id": "kaHhc5t4ccqC"
      }
    },
    {
      "cell_type": "markdown",
      "source": [
        "### 💬 8.1. Análisis conceptual"
      ],
      "metadata": {
        "id": "sVurSm1coBGS"
      }
    },
    {
      "cell_type": "markdown",
      "source": [
        "> El entrenamiento del modelo de red neuronal se puede entender como un proceso de búsqueda en el espacio de soluciones (pesos), donde el algoritmo de optimización (Adam) actúa como un agente que minimiza la función de pérdida (loss).  \n",
        "> Este proceso es análogo a los algoritmos de búsqueda informada (como A*) que exploran un espacio de soluciones guiados por una heurística (la función de pérdida, en este caso).  \n",
        "> Así, el modelo aprende a seleccionar el algoritmo de búsqueda más eficiente según las características del tablero, optimizando su desempeño en base a los datos con la experiencia previa (el dataset sintético con las simulaciones)."
      ],
      "metadata": {
        "id": "1pS9TBQkjY5E"
      }
    },
    {
      "cell_type": "markdown",
      "source": [
        "### 💎 8.2. Algunas posibles mejoras"
      ],
      "metadata": {
        "id": "9IwD-FwAq2WI"
      }
    },
    {
      "cell_type": "markdown",
      "source": [
        "- Dataset sintético:\n",
        "  - Aumentar el tamaño de los tableros, por ej. 50x50 o más.\n",
        "  - Tableros rectangulares.\n",
        "  - Posiciones de inicio y meta aleatorias.\n",
        "\n",
        "- Algoritmos:\n",
        "  - Incorporar más algoritmos, por ej. Deep-First Search (DFS).\n",
        "\n",
        "- Red Neuronal:\n",
        "  - Explorar más arquitecturas (nro de capas, funciones de activación, etc) que mejoren la precisión del clasificador.\n",
        "\n",
        "- Deploy (Streamlit):\n",
        "  - Permitir al usuario que 'dibuje' (construya) su propio tablero."
      ],
      "metadata": {
        "id": "WbrlG6Zcq66Z"
      }
    },
    {
      "cell_type": "markdown",
      "source": [
        "### 📌 8.3. Observaciones"
      ],
      "metadata": {
        "id": "JwSm5XjYoGP_"
      }
    },
    {
      "cell_type": "markdown",
      "source": [
        "> Se combinaron técnicas clásicas de búsqueda (BFS, A*, UCS, Greedy) con un modelo de red neuronal entrenado sobre tableros sintéticos.  \n",
        "La IA aprendió a predecir cuál algoritmo tendrá mejor desempeño según las características del entorno, funcionando como un meta-agente adaptativo."
      ],
      "metadata": {
        "id": "Xp9K_aJ8XMeo"
      }
    },
    {
      "cell_type": "markdown",
      "source": [
        "> El sistema no solo sugiere el algoritmo más eficiente según las condiciones del entorno, sino que también muestra visualmente la solución encontrada, permitiendo observar cómo varía la trayectoria óptima según el tipo de heurística y los costos del entorno."
      ],
      "metadata": {
        "id": "Zci93UWrcu1l"
      }
    },
    {
      "cell_type": "markdown",
      "source": [
        "> Adicionalmente, de la sección de Evaluación del Desempeño, demuestro que:\n",
        "> - Los algoritmos clásicos funcionaron correctamente.\n",
        "> - La red neuronal aprendió a decidir inteligentemente cuál usar según las condiciones del entorno.\n",
        "> - Se integran las dos ramas de la materia: algoritmos de búsqueda y aprendizaje automático (TensorFlow/Keras).\n"
      ],
      "metadata": {
        "id": "S5Y_UObxQQ29"
      }
    }
  ]
}