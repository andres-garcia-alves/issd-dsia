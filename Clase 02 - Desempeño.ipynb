{
  "cells": [
    {
      "cell_type": "markdown",
      "metadata": {
        "id": "hNtNpNg5Ebl6"
      },
      "source": [
        "## Consigna:\n",
        "\n",
        "Realiza un programa en Python que busque palabras en un texto de varias páginas de manera eficiente.  \n",
        "El programa debe permitir al usuario ingresar una o varias palabras y el programa debe devolver en qué páginas se encuentran y el número de ocurrencias.  \n",
        "El programa debe ser capaz de manejar un archivo de texto."
      ]
    },
    {
      "cell_type": "markdown",
      "metadata": {},
      "source": [
        "## Notas:\n",
        "\n",
        "Un archivo de texto no soporta el concepto de \"páginas\" como en un documento de Word o PDF.  \n",
        "Para simular \"páginas\", utilizo dobles saltos de línea como separador.  \n",
        "El archivo de texto debe estar en el mismo directorio que este script o proporcionar la ruta completa.  \n",
        "Si no se suministra una ruta, se usará \"Don Quijote de la Mancha.txt\" como archivo predeterminado.  "
      ]
    },
    {
      "cell_type": "code",
      "execution_count": 1,
      "metadata": {
        "id": "88alybLIErzh"
      },
      "outputs": [],
      "source": [
        "import re"
      ]
    },
    {
      "cell_type": "code",
      "execution_count": 2,
      "metadata": {
        "id": "xXgmcO1HEt38"
      },
      "outputs": [],
      "source": [
        "# Leer el archivo y dividirlo en \"páginas\"\n",
        "# Asumiendo que cada \"página\" esté separada por 2 saltos de línea\n",
        "def leer_archivo(archivo):\n",
        "  with open(archivo, 'r', encoding='utf-8') as file:\n",
        "    texto = file.read()\n",
        "    paginas = texto.split('\\n\\n')\n",
        "  return paginas"
      ]
    },
    {
      "cell_type": "code",
      "execution_count": null,
      "metadata": {
        "id": "ry2cdQxoGHqB"
      },
      "outputs": [],
      "source": [
        "# Buscar palabras y contar sus ocurrencias por página\n",
        "def buscar_palabras(paginas, palabras):\n",
        "  resultados = {}\n",
        "\n",
        "  for i, pagina in enumerate(paginas):\n",
        "    conteo = {}\n",
        "\n",
        "    for palabra in palabras:\n",
        "      # expresión regular para contar las ocurrencias de la palabra (sin distinguir entre mayúsculas/minúsculas)\n",
        "      ocurrencias = len(re.findall(r'\\b' + re.escape(palabra) + r'\\b', pagina, re.IGNORECASE))\n",
        "      if ocurrencias > 0:\n",
        "        conteo[palabra] = ocurrencias\n",
        "\n",
        "    if conteo:\n",
        "      resultados[f'Página {i + 1}'] = conteo\n",
        "\n",
        "  return resultados"
      ]
    },
    {
      "cell_type": "code",
      "execution_count": 4,
      "metadata": {
        "id": "30m5r1vOGKFk"
      },
      "outputs": [],
      "source": [
        "# Mostrar los resultados\n",
        "def mostrar_resultados(resultados):\n",
        "  if resultados:\n",
        "    for pagina, conteos in resultados.items():\n",
        "      print(f'\\n{pagina}:')\n",
        "      for palabra, conteo in conteos.items():\n",
        "        print(f'La palabra \"{ palabra }\" aparece { conteo } veces.')\n",
        "    else:\n",
        "      print(\"No se encontraron las palabras en el texto.\")"
      ]
    },
    {
      "cell_type": "code",
      "execution_count": 6,
      "metadata": {
        "id": "BiMXjZ3oEXcl"
      },
      "outputs": [],
      "source": [
        "# Bloque principal\n",
        "def main():\n",
        "  archivo = input(\"Ruta del archivo de texto: \").strip()\n",
        "  if not archivo:\n",
        "    archivo = \"Don Quijote de la Mancha.txt\"\n",
        "\n",
        "  paginas = leer_archivo(archivo)\n",
        "\n",
        "  palabras_a_buscar = input(\"Palabras a buscar (separadas por coma): \")\n",
        "  palabras = [palabra.strip() for palabra in palabras_a_buscar.split(',')]\n",
        "\n",
        "  resultados = buscar_palabras(paginas, palabras)\n",
        "  # print(\"resultados\", resultados)\n",
        "  mostrar_resultados(resultados)"
      ]
    },
    {
      "cell_type": "code",
      "execution_count": null,
      "metadata": {},
      "outputs": [],
      "source": [
        "main()"
      ]
    }
  ],
  "metadata": {
    "colab": {
      "provenance": []
    },
    "kernelspec": {
      "display_name": "Python 3",
      "name": "python3"
    },
    "language_info": {
      "codemirror_mode": {
        "name": "ipython",
        "version": 3
      },
      "file_extension": ".py",
      "mimetype": "text/x-python",
      "name": "python",
      "nbconvert_exporter": "python",
      "pygments_lexer": "ipython3",
      "version": "3.12.2"
    }
  },
  "nbformat": 4,
  "nbformat_minor": 0
}
